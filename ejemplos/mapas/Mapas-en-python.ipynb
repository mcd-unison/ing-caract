{
 "cells": [
  {
   "cell_type": "markdown",
   "metadata": {},
   "source": [
    "![](https://mcd.unison.mx/wp-content/themes/awaken/img/logo_mcd.png)\n",
    "\n",
    "# Curso Ingeniería de Características\n",
    "\n",
    "## Haciendo mapas en python\n",
    "\n",
    "### Julio Waissman\n",
    "\n",
    "En esta pequeña libreta vamos a ver como utilizar folium para realizar mapas, con énfasis en hacer mapas de Sonora (aunque a partir de aqui, hacer mapas de diferentes partes del mundo ya es trivial.\n",
    "\n",
    "Para los mapas, vamos a utilizar folium y plotly. [Folium](http://python-visualization.github.io/folium/index.html) es una interfase a la fabulosa biblioteca [leaflet](https://leafletjs.com) de Javascript.\n",
    "\n",
    "Para instalar folium se puede hacer (inclusive en colab\n",
    "\n",
    "```bash\n",
    "$ pip install folium\n",
    "```\n",
    "\n",
    "y si tienes tu propio entorno de `conda` pues el clásico\n",
    "\n",
    "```bash\n",
    "$ conda install folium -c conda-forge\n",
    "\n",
    "```\n"
   ]
  },
  {
   "cell_type": "code",
   "execution_count": null,
   "metadata": {},
   "outputs": [],
   "source": [
    "!conda install folium -c conda-forge -y"
   ]
  },
  {
   "cell_type": "markdown",
   "metadata": {},
   "source": [
    "## 1. Generacion de mapas y sus propiedades\n",
    "\n",
    "Hacer mapas es ir agregando capas y capas sobre el mismo mapa con nueva información. Pero la primera capa debe ser siempre el mapa en si, y luego ya agregaremos marcadores, grupos de marcadores, cloropetos, datos y demás.\n",
    "\n",
    "Para hacer mapas en *folium se utiliza la clase `Map`. El objeto generado es un mapa, el cual se puede visualizar, guardar o modificar. Veamos:"
   ]
  },
  {
   "cell_type": "code",
   "execution_count": null,
   "metadata": {},
   "outputs": [],
   "source": [
    "# Creando un mapa sólo para ver:\n",
    "\n",
    "import folium\n",
    "\n",
    "m = folium.Map(\n",
    "    location=(29.66667, -110.5),\n",
    "    tiles='OpenStreetMap',\n",
    "    zoom_start=7,\n",
    "    min_zoom=0,\n",
    "    max_zoom=18,\n",
    "    width='80%',\n",
    "    height='80'\n",
    ")\n",
    "m"
   ]
  },
  {
   "cell_type": "markdown",
   "metadata": {},
   "source": [
    "Como vemos, se puede controlar la posición inicial del mapa, el tamaño, el zoom máximo, mínimo e inicial, y el tipo de mapa que se muestra. Vamos a probar diferentes tipos de mapas. Los mapas que vienen por default en *folium* son los siguientes:\n",
    "\n",
    "- \"OpenStreetMap\"\n",
    "- \"CartoDB\" (positron and dark_matter)\n",
    "- \"Stamen\" (Terrain, Toner, and Watercolor)\n",
    "- \"Mapbox Bright\" (Niveles limitados de zoom gratuitos)\n",
    "- \"Mapbox Control Room\" (Niveles limitados de zoom gratuitos)\n",
    "- \"Cloudmade\" (con costo)\n",
    "- \"Mapbox\" (con costo)\n",
    " \n",
    "Además se pueden agregar mapas de elaboración propia que sean iguales a los que soporta `leaflet.js`. En la práctica, con los mapas gratuitos tenemos suficiente en la gran mayoría de los casos.\n",
    "\n",
    "Una capa muy útil para hacer más mapas es la que nos permite obtener las latitudes y longitudes de diferentes en diferentes puntos del mapa. Los que nos permite obtener valores puntuales donde poner marcadores, si es que lo queremos hacer a mano.\n",
    "\n"
   ]
  },
  {
   "cell_type": "code",
   "execution_count": null,
   "metadata": {},
   "outputs": [],
   "source": [
    "m.add_child(folium.LatLngPopup())\n",
    "m"
   ]
  },
  {
   "cell_type": "markdown",
   "metadata": {},
   "source": [
    "## 2. Punto específicos o Marcadores\n",
    "\n",
    "Para señalar lugares puntuales en un mapa se usan los marcadores, simplemente hay que agregar uno por uno, con la informacion necesaria en cada uno. Los marcadores tienen un string e texto para el `tooltip` y otro para el `popup`. Este texto puede estar formateado siempre y cuando se pase en formato html.\n",
    "\n",
    "A los marcadores se les puede cambiar el ícono que muestra y el color del marcador usando los iconos de [glyphicon](https://getbootstrap.com/docs/3.3/components/) (no hay que poner prefijo, son por default) o con [font-awesome](https://fontawesome.com/v5.15/icons?d=gallery&p=2&m=free) (es necesario poner en el ícono `prefix='fa'`)\n",
    "\n",
    "Para más información revisar la documentación de ambas clases.\n",
    "\n"
   ]
  },
  {
   "cell_type": "code",
   "execution_count": null,
   "metadata": {},
   "outputs": [],
   "source": [
    "#folium.Marker?\n",
    "#folium.Icon?"
   ]
  },
  {
   "cell_type": "code",
   "execution_count": null,
   "metadata": {},
   "outputs": [],
   "source": [
    "m = folium.Map(\n",
    "    location=(29.0809, -110.9605),\n",
    "    tiles='Openstreetmap',\n",
    "    zoom_start=13,\n",
    "    min_zoom=12,\n",
    ")\n",
    "\n",
    "folium.Marker(\n",
    "    location=[29.0809, -110.9605],\n",
    "    tooltip=\"<b>Maestría en Ciencia de Datos</b><br>Coordinación\",\n",
    "    popup='<b>Maestría en Ciencia de Datos</b><br>Visitanos en <a href=\"mcd.unison.mx\">nuestra página oficial</a>',\n",
    "    icon=folium.Icon(icon=\"info-sign\", color=\"red\")\n",
    ").add_to(m)\n",
    "\n",
    "folium.Marker(\n",
    "    location=[29.0836, -110.9581],\n",
    "    tooltip=\"Biblioteca\",\n",
    "    popup='Este edificio bien podía ser ruso, de la época estalinista (o español en la época de Franco)',\n",
    "    icon=folium.Icon(icon=\"book\")\n",
    ").add_to(m)\n",
    "\n",
    "folium.Marker(\n",
    "    location=[29.0932, -111.0220],\n",
    "    tooltip=\"Aquí vamos a llenarnos de gloria\"\n",
    ").add_to(m)\n",
    "\n",
    "m"
   ]
  },
  {
   "cell_type": "code",
   "execution_count": null,
   "metadata": {},
   "outputs": [],
   "source": [
    "import pandas as pd\n",
    "\n",
    "municipios = pd.read_csv(\"municipios_latlon.csv\")\n",
    "municipios_poblacion = pd.read_csv(\"POBLACION_SONORA2020.csv\")\n",
    "\n",
    "municipios = municipios.merge(municipios_poblacion, on=\"MUNICIPIO\") \n",
    "\n",
    "municipios.info()"
   ]
  },
  {
   "cell_type": "code",
   "execution_count": null,
   "metadata": {},
   "outputs": [],
   "source": [
    "m = folium.Map(\n",
    "    location=(29.66667, -110.5),\n",
    "    tiles='OpenStreetMap',\n",
    "    zoom_start=7\n",
    ")\n",
    "\n",
    "municipios['POBLA'] = municipios['POBLACION TOTAL']\n",
    "\n",
    "for row in municipios.itertuples():\n",
    "    folium.Marker(\n",
    "        location=[row.LATITUD, row.LONGITUD],\n",
    "        tooltip=f\"<b>{row.MUNICIPIO}</b><br>Población: {row.POBLA} habitantes\",\n",
    "    ).add_to(m)\n",
    "m"
   ]
  },
  {
   "cell_type": "markdown",
   "metadata": {},
   "source": [
    "Y tambien podemos hacerlo por grupos de marcadores (cuando son muchos los marcadores es práctico)"
   ]
  },
  {
   "cell_type": "code",
   "execution_count": null,
   "metadata": {},
   "outputs": [],
   "source": [
    "from folium.plugins import MarkerCluster\n",
    "\n",
    "m = folium.Map(\n",
    "    location=(29.66667, -110.5),\n",
    "    tiles='OpenStreetMap',\n",
    "    zoom_start=7\n",
    ")\n",
    "\n",
    "grupo = MarkerCluster().add_to(m)\n",
    "\n",
    "for row in municipios.itertuples():\n",
    "    folium.Marker(\n",
    "        location=[row.LATITUD, row.LONGITUD],\n",
    "        tooltip=f\"<b>{row.MUNICIPIO}</b><br>Población: {row.POBLA} habitantes\",\n",
    "    ).add_to(grupo)\n",
    "m"
   ]
  },
  {
   "cell_type": "markdown",
   "metadata": {},
   "source": [
    "## 3. Mapas coloropéticos\n",
    "\n",
    "Los mapas coloropéticos son polígonos con los cuales se pueden representar regiones en un mapa. Hay muchos cloropetos diferentes, y es importante tener cloropetos sobre diferentes formas de representar polígonos, sobre todo en México y en Sonora.\n",
    "\n",
    "Vamos a hacer uno en rápido y fusioso"
   ]
  },
  {
   "cell_type": "code",
   "execution_count": null,
   "metadata": {},
   "outputs": [],
   "source": [
    "import json\n",
    "\n",
    "with open(\"poligonos_sonora.geojson\") as fp:\n",
    "    municipios_geojson = json.load(fp)\n"
   ]
  },
  {
   "cell_type": "code",
   "execution_count": null,
   "metadata": {},
   "outputs": [],
   "source": [
    "municipios_geojson"
   ]
  },
  {
   "cell_type": "code",
   "execution_count": null,
   "metadata": {},
   "outputs": [],
   "source": [
    "municipios = []\n",
    "for index in range(len(municipios_geojson['features'])):\n",
    "    municipios.append(municipios_geojson['features'][index]['properties']['Municipio'])\n",
    "municipios\n"
   ]
  }
 ],
 "metadata": {
  "kernelspec": {
   "display_name": "Python 3 (ipykernel)",
   "language": "python",
   "name": "python3"
  },
  "language_info": {
   "codemirror_mode": {
    "name": "ipython",
    "version": 3
   },
   "file_extension": ".py",
   "mimetype": "text/x-python",
   "name": "python",
   "nbconvert_exporter": "python",
   "pygments_lexer": "ipython3",
   "version": "3.9.6"
  }
 },
 "nbformat": 4,
 "nbformat_minor": 4
}
