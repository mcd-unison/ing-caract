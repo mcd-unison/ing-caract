{
 "cells": [
  {
   "cell_type": "markdown",
   "metadata": {},
   "source": [
    "<center>\n",
    "<p><img src=\"https://mcd.unison.mx/wp-content/themes/awaken/img/logo_mcd.png\" width=\"150\">\n",
    "</p>\n",
    "\n",
    "\n",
    "\n",
    "<h1>Curso Ingeniería de Características</h1>\n",
    "\n",
    "<h3>Uso de Geopandas</h3>\n",
    "\n",
    "\n",
    "<p> Julio Waissman Vilanova </p>\n",
    "<p>\n",
    "<img src=\"https://identidadbuho.unison.mx/wp-content/uploads/2019/06/letragrama-cmyk-72.jpg\" width=\"150\">\n",
    "</p>\n",
    "\n",
    "\n",
    "<a target=\"_blank\" href=\"https://colab.research.google.com/github/mcd-unison/ing-caract/blob/main/ejemplos/mapas/python/geopandas.ipynb\"><img src=\"https://i.ibb.co/2P3SLwK/colab.png\"  style=\"padding-bottom:5px;\"  width=\"30\" /> Ejecuta en Colab</a>\n",
    "\n",
    "</center>"
   ]
  },
  {
   "cell_type": "markdown",
   "metadata": {},
   "source": [
    "**Esta libreta es una copia textual de [esta libreta en html](https://centrogeo.github.io/curso-geoinformatica-2/02_geovisualizacion/02_geovisualizacion.html) de un [muy buen material de curso de geoinformática](https://centrogeo.github.io/curso-geoinformatica-2/) del [Centro Geo](https://github.com/CentroGeo).**"
   ]
  },
  {
   "cell_type": "markdown",
   "metadata": {},
   "source": [
    "# Geovisualización\n",
    "\n",
    "## Manejando objetos geográficos con GeoPandas\n",
    "\n",
    "Nota: Para instalar las dependencias en Colab, copien las siguientes líneas en una celda y ejecútenla."
   ]
  },
  {
   "cell_type": "code",
   "execution_count": null,
   "metadata": {},
   "outputs": [],
   "source": [
    "# Important library for many geopython libraries\n",
    "!apt install gdal-bin python-gdal python3-gdal \n",
    "# Install rtree - Geopandas requirment\n",
    "!apt install python3-rtree \n",
    "# Install descartes - Geopandas requirment\n",
    "!pip install descartes \n",
    "# Install Geopandas\n",
    "!pip install git+git://github.com/geopandas/geopandas.git\n",
    "\n",
    "# Install tools to use in notebook\n",
    "!pip install mapclassify\n",
    "!pip install palettable\n",
    "!pip install contextily"
   ]
  },
  {
   "cell_type": "code",
   "execution_count": null,
   "metadata": {},
   "outputs": [],
   "source": [
    "import matplotlib.pyplot as plt\n",
    "import geopandas as gpd\n",
    "import palettable as pltt\n",
    "from seaborn import palplot\n",
    "import requests"
   ]
  },
  {
   "cell_type": "markdown",
   "metadata": {},
   "source": [
    "En esta práctica, aprenderemos a importar, manipular y visualizar datos espaciales. Hasta cierto punto, los datos espaciales han sido tan propagados que existen casos en los que únicamente se consideran como \"una columna más\" dentro de una tabla; sin embargo, existen múltiples características que distinguen enormemente a los datos geográficos de las tablas numéricas comúnes.\n",
    "\n",
    "En esta sesión, vamos a construir a partir de las habilidades desarolladas en la práctica de Transformación de Datos, para combinarlas y, en el proceso, descubrir que, salvo algunas particularidades, tratar con datos espaciales en Python se asemeja mucho al manejo de datos no espaciales.\n",
    "\n",
    "Para esto, se utilizarán los datos derivados del Censo de Población y Vivienda 2010 de INEGI, así como la geografía utilizada para su construcción, lo cual puede ser consultado a través de [este link](http://gaia.inegi.org.mx/scince2/viewer.html), y descargado por [este otro](https://www.inegi.org.mx/app/descarga/?ti=13&ag=00).\n",
    "\n",
    "Para trabajar este taller en Colab, podemos bajar los datos de la siguiente forma:"
   ]
  },
  {
   "cell_type": "code",
   "execution_count": null,
   "metadata": {},
   "outputs": [],
   "source": [
    "url = \"https://www.dropbox.com/s/fkyz9a36dlxgaoa/agebs_cdmx.geojson?dl=1\"\n",
    "r = requests.get(url, allow_redirects=True)\n",
    "open('/content/agebs_cdmx.geojson', 'wb').write(r.content)\n",
    "\n",
    "url = \"https://www.dropbox.com/s/fs1n5um80n2gtme/vias_cuauhtemoc.geojson?dl=1\"\n",
    "r = requests.get(url, allow_redirects=True)\n",
    "open('/content/vias_cuauhtemoc.geojson', 'wb').write(r.content)\n",
    "\n",
    "url = \"https://www.dropbox.com/s/fs1n5um80n2gtme/cuauhtemoc.geojson?dl=1\"\n",
    "r = requests.get(url, allow_redirects=True)\n",
    "open('/content/cuauhtemoc.geojson', 'wb').write(r.content)\n",
    "\n",
    "url = \"https://www.dropbox.com/s/fs1n5um80n2gtme/agebs_cuauhtemoc.geojson?dl=1\"\n",
    "r = requests.get(url, allow_redirects=True)\n",
    "open('/content/agebs_cuauhtemoc.geojson', 'wb').write(r.content)\n",
    "\n",
    "url = \"https://www.dropbox.com/s/h82435z8lcn97g3/estaciones_metro.zip?dl=1\"\n",
    "r = requests.get(url, allow_redirects=True)\n",
    "open('/content/estaciones_metro.zip', 'wb').write(r.content)\n",
    "\n",
    "url = \"https://www.dropbox.com/s/rfx4t2989y834lm/poblacion_cdmx.csv?dl=1\"\n",
    "r = requests.get(url, allow_redirects=True)\n",
    "open('/content/poblacion_cdmx.csv', 'wb').write(r.content)\n",
    "\n",
    "# Carpeta de datos\n",
    "f = \"/content/\""
   ]
  },
  {
   "cell_type": "markdown",
   "metadata": {},
   "source": [
    "## Importando Datos Espaciales\n",
    "\n",
    "La forma más fácil y rápida de importar datos espaciales es a través de un objeto del tipo `GeoDataFrame`, que tiene la capacidad de interpretar cuáles son las columnas donde se almacena la componente espacial, ausente en un DataFrame convencional; además, se puede visualizar rápidamente a través del comando `.plot()`.\n",
    "\n",
    "La librería principal utilizada para el manejo de datos espaciales recibe el nombre de geopandas, la cual es una extensión geoespacial de la librería pandas con la que se ha trabajado hasta ahora. geopandas ofrece exactamente la misma funcionalidad de pandas, debido a que la primera fue construída a partir de la segunda, añadiendo un conjunto de funciones de caracter espacial que permiten que la manipulación y transformación de los datos espaciales sea tan sencilla como con los datos no espaciales.\n",
    "\n",
    "En sólo dos líneas de código es posible obtener una representación gráfica de los datos espaciales contenidos en un archivo, siendo posible manejar una gran variedad de formatos; de hecho, debido a que ambos manejan el mismo tipo de drivers, la gran mayoría de los archivos vectoriales que son aceptados en QGIS pueden ser aceptados por geopandas. Comenzaremos por graficar una capa a la vez de forma tosca pero veloz, para poco a poco agregar estilo y sofisticación.\n",
    "\n",
    "### Polígonos\n",
    "\n",
    "Comenzando por uno de los tipos de datos espaciales más comunes, Polígonos, se importará la geografía de todas las AGEB's que conforman la Ciudad de México, a través de la funcion .read_file() de geopandas; asimismo, se utilizará el método .set_index() para determinar su Clave Geográfica (CVEGEO) como el índice de cada fila:"
   ]
  },
  {
   "cell_type": "code",
   "execution_count": null,
   "metadata": {},
   "outputs": [],
   "source": [
    "# Importar los datos espaciales\n",
    "agebs = gpd.read_file(f + 'agebs_cdmx.geojson')  \n",
    "\n",
    "# Seleccionar su Clave Geográfica como el índice de las filas\n",
    "agebs = agebs.set_index('ageb_urbana_cvegeo')    "
   ]
  },
  {
   "cell_type": "markdown",
   "metadata": {},
   "source": [
    "La variable agebs contiene un objeto del tipo `GeoDataFrame`, el cual es muy similar a los `DataFrame`, pero con una nueva columna llamada `geometry`:"
   ]
  },
  {
   "cell_type": "code",
   "execution_count": null,
   "metadata": {},
   "outputs": [],
   "source": [
    "agebs.head()"
   ]
  },
  {
   "cell_type": "markdown",
   "metadata": {},
   "source": [
    "Como tal, es posible graficar rápidamente este GeoDataFrame a través de la instrucción `.plot()`:"
   ]
  },
  {
   "cell_type": "code",
   "execution_count": null,
   "metadata": {},
   "outputs": [],
   "source": [
    "agebs.plot(figsize = (10,10))"
   ]
  },
  {
   "cell_type": "markdown",
   "metadata": {},
   "source": [
    "Aunque no se trata de la visualización estética de las AGEB's, si permite visualizar rápidamente la apariencia de éstas; más adelante se aprenderá cómo mejorar la apariencia visual y personalizar estas representaciones.\n",
    "\n",
    "¡Importante Si se utiliza la función `.loc()` de pandas para llamar una sola fila y su columna `geometry`, de forma automática se obtendrá una pequeña gráfica del shape en cuestión; debido a que el índice es la Clave Geográfica, éste puede ser utilizado para encontrar el AGEB deseado:"
   ]
  },
  {
   "cell_type": "code",
   "execution_count": null,
   "metadata": {},
   "outputs": [],
   "source": [
    "agebs.loc['0901200010337', 'geometry']"
   ]
  },
  {
   "cell_type": "markdown",
   "metadata": {},
   "source": [
    "### Líneas\n",
    "\n",
    "Visualizar líneas es tan sencillo y directo como lo es con los polígonos. En este caso, se importarán todas las vialidades de la Alcaldía Cuauhtémoc:"
   ]
  },
  {
   "cell_type": "code",
   "execution_count": null,
   "metadata": {},
   "outputs": [],
   "source": [
    "# Se importan los datos espaciales\n",
    "vias = gpd.read_file(f + 'vias_cuauhtemoc.geojson') \n",
    "\n",
    "# Se establece una columna como índice\n",
    "vias = vias.set_index('id')      \n",
    "\n",
    "# Visualizar los primeros registros de la fila                   \n",
    "vias.head()                                         "
   ]
  },
  {
   "cell_type": "markdown",
   "metadata": {},
   "source": [
    "Al igual que con los polígonos, es posible utilizar la función `.plot()` para graficar las líneas rápidamente:"
   ]
  },
  {
   "cell_type": "code",
   "execution_count": null,
   "metadata": {},
   "outputs": [],
   "source": [
    "vias.plot(figsize=(10,10))"
   ]
  },
  {
   "cell_type": "markdown",
   "metadata": {},
   "source": [
    "Y de igual forma, puede obtenerse una sola línea a través la función `.loc()`, su índice y la columna `geometry`:"
   ]
  },
  {
   "cell_type": "code",
   "execution_count": null,
   "metadata": {},
   "outputs": [],
   "source": [
    "vias.loc[9079, 'geometry']"
   ]
  },
  {
   "cell_type": "markdown",
   "metadata": {},
   "source": [
    "Al igual que con los polígonos, ésta no es la mejor visualización de las líneas, y probablemente se buscará cambiar algunos parámetros como colores, ancho, entre otros; sin embargo, es la forma más veloz en la que puede visualizarse la apariencia de los datos espaciales.\n",
    "\n",
    "### Puntos\n",
    "\n",
    "Nuevamente, los puntos siguen una estructura similar; en este caso, se trabajarán con las Estaciones del Metro de la Ciudad de México:"
   ]
  },
  {
   "cell_type": "code",
   "execution_count": null,
   "metadata": {},
   "outputs": [],
   "source": [
    "estaciones = gpd.read_file(f + 'estaciones_metro.zip')\n",
    "estaciones.head()"
   ]
  },
  {
   "cell_type": "markdown",
   "metadata": {},
   "source": [
    "Y la visualización se produce de forma idéntica a los casos anteriores:"
   ]
  },
  {
   "cell_type": "code",
   "execution_count": null,
   "metadata": {},
   "outputs": [],
   "source": [
    "estaciones.plot(figsize=(10,10))"
   ]
  },
  {
   "cell_type": "markdown",
   "metadata": {},
   "source": [
    "## Estilizando Gráficas\n",
    "\n",
    "Es posible trabajar con múltiples características de una gráfica para personalizarla y que cumpla con necesidades específicas. En esta sección, se explorarán algunos de estos elementos básicos que permiten obtener mapas mejor representados y más fáciles de comprender.\n",
    "\n",
    "### Cambio de Transpariencia\n",
    "\n",
    "La intensidad del color de un polígono puede ser cambiado sencillamente a través del argumento alpha de la función `.plot()`; éste se especifica a través de un valor entre cero y uno, donde el 0 representa transparencia completa y el 1 completa opacidad (máxima intensidad):"
   ]
  },
  {
   "cell_type": "code",
   "execution_count": null,
   "metadata": {},
   "outputs": [],
   "source": [
    "agebs.plot(alpha=0.5 , figsize = (10,10))"
   ]
  },
  {
   "cell_type": "markdown",
   "metadata": {},
   "source": [
    "### Eliminar Ejes\n",
    "\n",
    "En algunos casos, los ejes pueden ser de utilidad para entender el contexto de los datos, aunque en algunos otros los mapas se perciben mejor sin ellos. Elimiar los ejes implica envolver a la gráfica en una figura, lo cual conlleva utilizar más líneas de código que, por si mismas, permitirán crear diseños más flexibles y trabajados; éstas requieren el uso directo de la librería `matplotlib.pyplot`, que fue importada en esta práctica bajo el nombre `plt`:"
   ]
  },
  {
   "cell_type": "code",
   "execution_count": null,
   "metadata": {},
   "outputs": [],
   "source": [
    "# Preparación de la Figura y sus Ejes, así como el tamaño\n",
    "fig , fila = plt.subplots(1, figsize=(10,10))  \n",
    "\n",
    "# Grafica la capa de polígonos sobre la fila\n",
    "agebs.plot(ax = fila)     \n",
    "\n",
    "# A través de la función '.suptitle()' aplicada a la figura se coloca el título.\n",
    "fig.suptitle(\"AGEB's de la CDMX\") \n",
    "\n",
    "# Eliminar las ventanas de los ejes                     \n",
    "fila.set_axis_off()                            \n",
    "\n",
    "plt.show()                 "
   ]
  },
  {
   "cell_type": "markdown",
   "metadata": {},
   "source": [
    "### Cambiar el Tamaño del Mapa\n",
    "\n",
    "Al igual que con ejemplos anteriores, el argumento figsize sigue siendo utilizado para controlar el tamaño de la figura, radicando la diferencia en que el argumento se coloca dentro de la función `.subplots()`. Como se ha hecho hasta ahora, el primer número indica el ancho (Eje X), mientras que el segundo la altura (Eje Y), ambos medidos en pulgadas."
   ]
  },
  {
   "cell_type": "code",
   "execution_count": null,
   "metadata": {},
   "outputs": [],
   "source": [
    "fig , fila = plt.subplots(1, figsize=(4,4))\n",
    "agebs.plot(ax = fila)\n",
    "fig.suptitle(\"AGEB's de la CDMX\")\n",
    "plt.show()"
   ]
  },
  {
   "cell_type": "markdown",
   "metadata": {},
   "source": [
    "### Modificar Bordes del Polígono\n",
    "\n",
    "Los bordes de los polígonos pueden dificultar la interpretación de un mapa, por lo que resulta útil el saber cómo pueden ser modificados. Aunque no resulta muy complicado, la forma en la que geopandas accede a los bordes no es muy directa como con otras características del mapa, tales como su tamaño o el marco.\n",
    "\n",
    "De modo que se entienda con facilidad los pasos a seguir, primero se mostrará el código que permite modificar los bordes de un polígono, para después analizarlo:"
   ]
  },
  {
   "cell_type": "code",
   "execution_count": null,
   "metadata": {},
   "outputs": [],
   "source": [
    "fig , fila = plt.subplots(1, figsize=(10,10))\n",
    "\n",
    "# En la siguiente línea se modifica el color de los polígonos ('facecolor'), \n",
    "# del borde ('edgecolor') y su ancho ('linewidth')\n",
    "agebs.plot(\n",
    "    linewidth=0.1, \n",
    "    facecolor='#50C879', \n",
    "    edgecolor='#000702', \n",
    "    ax=fila\n",
    ")\n",
    "plt.show()"
   ]
  },
  {
   "cell_type": "markdown",
   "metadata": {},
   "source": [
    "Este método funciona de forma muy similar con otras geometrías, como las líneas; por ejemplo, si se buscara mostrar las vialidades de la práctica de forma distinta, simplemente se modifican los argumentos correspondientes:"
   ]
  },
  {
   "cell_type": "code",
   "execution_count": null,
   "metadata": {},
   "outputs": [],
   "source": [
    "fig , fila = plt.subplots(1, figsize=(10,10))\n",
    "vias.plot(\n",
    "    linewidth=0.5, \n",
    "    color='red',\n",
    "    ax=fila\n",
    ")\n",
    "plt.show()"
   ]
  },
  {
   "cell_type": "markdown",
   "metadata": {},
   "source": [
    "Es importante destacar que, en el caso de las líneas, únicamente se necesitó modificar el argumento color de la función .plot() ya que, dado el hecho de que las líneas no poseen un área, no existe la necesidad de diferenciar entre el relleno (facecolor) y el contorno (edgecolor).\n",
    "\n",
    "### Transformar el Sistema de Coordenadas (CRS)\n",
    "\n",
    "El Sistema de Coordenadas de Referencia (CRS, por sus siglas en inglés), es la forma en que los especialistas en la información espacial pueden representar un objeto tridimensional, como la forma semi-esférica de la Tierra, en un plano bidimensional, como un pedazo de papel o una pantalla.\n",
    "\n",
    "Si los datos, desde su fuente, poseen información sobre el Sistema de Coordenadas, resulta bastante sencillo modificar éste en un `GeoDataFrame`. Primero, vale la pena verificar que los datos se encuentren proyectados:"
   ]
  },
  {
   "cell_type": "code",
   "execution_count": null,
   "metadata": {},
   "outputs": [],
   "source": [
    "agebs.crs"
   ]
  },
  {
   "cell_type": "markdown",
   "metadata": {},
   "source": [
    "Como puede observarse, la componente `.crs` de un `GeoDataFrame` es la que almacena la información sobre su proyección; en este caso, nos muestra que nuestros datos se encuentran en proyección WGS84, ya que ésta es la que posee el código EPSG 4326, y permite inferir que la unidad de medida son los grados (Latitud y Longitud).\n",
    "\n",
    "Para reproyectar nuestros datos a un sistema diferente, se requiere conocer el código EPSG del nuevo sistema (el cual puede ser encontrado fácilmente en [buscadores en línea como éste](http://epsg.io/)) para después recurrir a la función `.to_crs()` de geopandas. En nuestro caso, se llevarán los datos a una proyección métrica, WGS84 / UTM Zona 14N (EPSG: 32614):"
   ]
  },
  {
   "cell_type": "code",
   "execution_count": null,
   "metadata": {},
   "outputs": [],
   "source": [
    "agebs.to_crs(epsg = 32614).plot(figsize = (10,10))"
   ]
  },
  {
   "cell_type": "markdown",
   "metadata": {},
   "source": [
    "Debido a que el área de trabajo es relativamente pequeña, la forma de los polígonos observados es casi idéntica a la observada en los ejemplos anteriores; sin embargo, la escala utilizada para la gráfica es ahora diferente pues, cuando antes en el Eje Y se tenían valores de entre 19.2° y 19.8°, ahora se tienen de entre 2,120,000m y 2,160,000m, gracias al cambio del Sistema de Coordenadas."
   ]
  },
  {
   "cell_type": "markdown",
   "metadata": {},
   "source": [
    "**Ejercicio 1**\n",
    "\n",
    "Genera un mapa de las AGEB's de la Ciudad de Hermosillo que posea las siguientes características:\n",
    "\n",
    "- Posea un título\n",
    "- No muestre los ejes\n",
    "- Posea un tamaño de 10in x 11in\n",
    "- Todos los polígonos tengan un relleno del color \"#525252\" y sean completamente opacos\n",
    "- Los bordes del polígono tengan un ancho de 0.3 y sean del color \"#B9EBE3\""
   ]
  },
  {
   "cell_type": "markdown",
   "metadata": {},
   "source": [
    "### Mapas con Múltiples Capas\n",
    "\n",
    "Hasta ahora, se han estudiado muchas características relacionadas con graficar sólo una capa de información; sin embargo, en muchos casos, un mapa que busque ser lo más comunicativo y eficiente posible buscará combinar múltiples capas. Una de las características más importantes de los Sistemas de Información Geográfica es su capacidad para combinar información espacial proveniente de múltiples fuentes, y sobreponerlos entre sí, lo cual es completamente permitido en Python.\n",
    "\n",
    "En esencia, combinar diferentes capas de información en un solo mapa implica añadir cada uno en la misma fila de una figura, de forma secuencial, como si se estuviesen solapando una sobre la otra. Por ejemplo, combinando las vialidades de la Alcaldía Cuauhtémoc con el polígono de ésta misma, se tendría:"
   ]
  },
  {
   "cell_type": "code",
   "execution_count": null,
   "metadata": {},
   "outputs": [],
   "source": [
    "# Primero se necesita importar el polígono de la alcaldía, \n",
    "# pues no se ha utilizado en ejemplos anteriores\n",
    "cuauhtemoc = gpd.read_file(f + 'cuauhtemoc.geojson')\n",
    "\n",
    "# Se establece la figura y su fila con '.subplots()'\n",
    "fig , filas = plt.subplots(1, figsize = (10,10))\n",
    "\n",
    "# Se añade primero el polígono base en la fila\n",
    "cuauhtemoc.plot(ax = filas)\n",
    "\n",
    "# Y después se colocan las vialidades en la misma fila\n",
    "vias.plot(ax = filas)\n",
    "\n",
    "# Por último, y como se ha hecho en ejemplos anteriores, el comando para mostrar el resultado\n",
    "plt.show()"
   ]
  },
  {
   "cell_type": "markdown",
   "metadata": {},
   "source": [
    "Debido a que los colores base no fueron diseñados para visualizar múltiples capas en un sólo mapa, resulta imposible diferenciar ambas; sin embargo, los trucos aprendidos durante el manejo de capas individuales resultan de utilidad en este caso, pues pueden ser aplicados de la misma forma:"
   ]
  },
  {
   "cell_type": "code",
   "execution_count": null,
   "metadata": {},
   "outputs": [],
   "source": [
    "fig , filas = plt.subplots(1, figsize = (10,10))\n",
    "\n",
    "# Para el polígono, se utilizan los argumentos aplicables al polígono\n",
    "cuauhtemoc.plot(ax=filas, facecolor='grey', alpha=0.8)\n",
    "\n",
    "# Y pra las líneas, se utilizan los argumentos usados para las líneas\n",
    "vias.plot(ax=filas, color = 'white', linewidth =0.5)\n",
    "\n",
    "plt.show()"
   ]
  },
  {
   "cell_type": "markdown",
   "metadata": {},
   "source": [
    "### Paletas de Colores\n",
    "\n",
    "La elección de colores en un mapa puede influir severamente en su apariencia y, a la larga, en su efectividad para comunicar. Aunque en algunos casos elegir estos colores a mano sea suficiente, en algunos otros donde el fin comunicativo se encuentre claramente definido, resulta útil recurrir a paletas de colores predefinidas.\n",
    "\n",
    "Existen muchas fuentes a través de las cuales es posible obtener paletas de colores, en función del objetivo buscado con el mapa. Para el caso de Python, se tiene a la mano la librería palettable que posee múltiples paletas ya empaquetadas y listas para utilizar dentro del código; asímismo, resulta de utilidad la función palplot(), de la librería seaborn, para examinar los colores rápidamente.\n",
    "\n",
    "En esta práctica, se utilizará un conjunto de paletas contenidas dentro de la librería palettable provenientes de las películas de Wes Anderson; específicamente, se utilizará una proveniente de la película Viaje a Darjeeling:\n",
    "\n",
    "![](http://66.media.tumblr.com/2815b755b493555dd4a74fc9f7c84bdb/tumblr_nj7cclt9qb1tvvqeko1_500.jpg)\n",
    "\n",
    "Primero, es necesario guardar esta paleta dentro de una variable; cabe recordar que palettable se importó bajo el nombre `pltt`:"
   ]
  },
  {
   "cell_type": "code",
   "execution_count": null,
   "metadata": {},
   "outputs": [],
   "source": [
    "paleta = pltt.wesanderson.Darjeeling2_5.hex_colors"
   ]
  },
  {
   "cell_type": "markdown",
   "metadata": {},
   "source": [
    "Para visualizar la apariencia de esta paleta, se recurre a la función palplot() de seaborn:"
   ]
  },
  {
   "cell_type": "code",
   "execution_count": null,
   "metadata": {},
   "outputs": [],
   "source": [
    "palplot(paleta)"
   ]
  },
  {
   "cell_type": "markdown",
   "metadata": {},
   "source": [
    "Si se ve la variable por sí misma, podrá notarse que no se trata más que de una lista de colores bajo su Código Hexadecimal:"
   ]
  },
  {
   "cell_type": "code",
   "execution_count": null,
   "metadata": {},
   "outputs": [],
   "source": [
    "paleta"
   ]
  },
  {
   "cell_type": "markdown",
   "metadata": {},
   "source": [
    "Esta paleta será la que le dará color a nuestro mapa. Como elemento adicional, se colocarán las colonias en las que se subdivide la alcaldía y en donde se han registrado 10 o más homicidios entre los años 2016 a 2018, por lo que primero es necesario importarlas:"
   ]
  },
  {
   "cell_type": "code",
   "execution_count": null,
   "metadata": {},
   "outputs": [],
   "source": [
    "agebs_cuau = gpd.read_file(f + 'agebs_cuauhtemoc.geojson')"
   ]
  },
  {
   "cell_type": "markdown",
   "metadata": {},
   "source": [
    "Para esto, no se utilizará nada más que lo aprendido en secciones anteriores de la práctica, siendo la única diferencia que dentro de los argumentos de color correspondientes se colocará el Código Hexadecimal del color que se pretenda utilizar para esa capa:"
   ]
  },
  {
   "cell_type": "code",
   "execution_count": null,
   "metadata": {},
   "outputs": [],
   "source": [
    "# Se define la figura con sus respectivas filas\n",
    "fig , filas = plt.subplots(1, figsize=(10,10))\n",
    "\n",
    "# Se añade el polígono base de la alcaldía\n",
    "cuauhtemoc.plot(\n",
    "    ax=filas, \n",
    "    facecolor='#F9DA95', \n",
    "    edgecolor='#787064', \n",
    "    linewidth = 3\n",
    ")\n",
    "\n",
    "# Se añaden las vías\n",
    "vias.plot(\n",
    "    ax=filas, \n",
    "    color='#AE4B16', \n",
    "    linewidth = 0.5\n",
    ")\n",
    "\n",
    "# Se aladen las AGEB's con el mayor número de homicidios\n",
    "agebs_cuau.plot(\n",
    "    ax=filas, \n",
    "    facecolor='#D5E3D8', \n",
    "    edgecolor='#618A98', \n",
    "    linewidth=2, \n",
    "    alpha=0.8\n",
    ")\n",
    "\n",
    "# Se remueve el marco con los ejes de la fila\n",
    "filas.set_axis_off()\n",
    "\n",
    "plt.show()"
   ]
  },
  {
   "cell_type": "markdown",
   "metadata": {},
   "source": [
    "## Exportar Mapas\n",
    "\n",
    "Una vez producido el mapa final, puede que se busque el exportar la imagen de modo que pueda ser colocada en un reporte, artículo, sitio web, etc. Para exportar mapas en Python, basta con sustituir la función `plt.show()` por `plt.savefig()` al final de las líneas de código para especificar el dónde y cómo guardarla. Por ejemplo, para guardar el mapa anterior en un archivo de tipo `.png` en la carpeta data, donde se encuentra toda la información con la que se ha trabajado hasta ahora, simplemente basta con:"
   ]
  },
  {
   "cell_type": "code",
   "execution_count": null,
   "metadata": {},
   "outputs": [],
   "source": [
    "# Se define la figura con sus respectivas filas\n",
    "fig , filas = plt.subplots(1, figsize=(10,10))\n",
    "\n",
    "# Se añade el polígono base de la alcaldía\n",
    "cuauhtemoc.plot(\n",
    "    ax=filas, facecolor='#F9DA95', edgecolor='#787064', linewidth=3\n",
    ")\n",
    "# Se añaden las vías\n",
    "vias.plot(\n",
    "    ax=filas, color='#AE4B16', linewidth=0.5\n",
    ")\n",
    "# Se aladen las AGEB's con el mayor número de homicidios\n",
    "agebs_cuau.plot(\n",
    "    ax=filas, facecolor='#D5E3D8', edgecolor='#618A98', linewidth=2, alpha=0.8\n",
    ")\n",
    "# Se remueve el marco con los ejes de la fila\n",
    "filas.set_axis_off()\n",
    "\n",
    "# Se guarda el mapa como un archivo PNG en la carpeta 'data/'\n",
    "plt.savefig('mapa_final.png')"
   ]
  },
  {
   "cell_type": "markdown",
   "metadata": {},
   "source": [
    "Si se revisa la carpeta, se encontrará la imagen `.png` con el mapa.\n",
    "\n",
    "La función `plt.savefig()`, de la librería `matplotlib.pyplot` contiene un gran número de parámetros y opciones para trabajar. Dado que el tamaño del mapa generado no es muy grande, es posible incrementar la calidad de éste a través del argumento dpi, o Puntos Por Pulgada (dpi), el cual es una medida estándar de la resolución de las imágenes. Por ejemplo, para obtener una imagen de Alta Definición (HD), se puede cambiar el argumento a 1,080:\n",
    "\n",
    "Importante - Si el proceso tarda demasiado, cambiar el argumento por 500 también funciona, pues también arrojará una imagen de buena calidad y más fácil de generar."
   ]
  },
  {
   "cell_type": "code",
   "execution_count": null,
   "metadata": {},
   "outputs": [],
   "source": [
    "# Se guarda el mapa como un archivo PNG en la carpeta 'data/'\n",
    "plt.savefig('mapa_final.png', dpi=1080)"
   ]
  },
  {
   "cell_type": "markdown",
   "metadata": {},
   "source": [
    "## Manipulación de Datos Espaciales (`GeoDataFrames`)\n",
    "\n",
    "Una vez teniendo el conocimiento de cómo visualizar la información espacial, es posible estudiar cómo puede ser combinada con las operaciones aprendidas en sesiones pasadas sobre la manipulación de datos tabulares no espaciales. En esencia, la clave es entender que un `GeoDataFrame` contiene la mayoría de su información espacial en una sola columna llamada geometry, teniendo el resto de la tabla la misma apariencia y comportamiento que un DataFrame no espacial, lo que les concede toda la flexibilidad y conveniencia estudiada en la manipulación, segmentación y transformación de datos tabulares; además de ello, la naturaleza de un `GeoDataFrame` también incorpora un conjunto de operaciones explícitamente espaciales para combinar y transformar los datos. En esta sección, ambos tipos de operaciones serán consideradas.\n",
    "\n",
    "Primero, vale la pena repasar algunas de las técnicas aprendidas en sesiones pasadas sobre datos no espaciales, y entender cómo pueden ser combinados con el mapeo de sus contrapartes espaciales. Para esto, se utilizarán los datos de población de la CDMX:"
   ]
  },
  {
   "cell_type": "code",
   "execution_count": null,
   "metadata": {},
   "outputs": [],
   "source": [
    "import pandas as pd\n",
    "\n",
    "# Importar la tabla\n",
    "poblacion = pd.read_csv(f + 'poblacion_cdmx.csv' , index_col = 'ageb_urbana_cvegeo')\n",
    "\n",
    "# Visualizar la tabla\n",
    "poblacion.head()"
   ]
  },
  {
   "cell_type": "markdown",
   "metadata": {},
   "source": [
    "### Unión de Tablas\n",
    "\n",
    "En la práctica se han importado dos tablas importantes: por una parte, toda la información espacial está contenida en la tabla `agebs`, mientras que los datos tabulares se encuentran contenidos en `poblacion`. Para trabajar con ambos, es necesario conectar las tablas; en idioma de pandas, esto recibe el nombre de `join` (Unión), siendo los elementos claves para la unión los índices de cada tabla, esto es, los nombres asignados a cada fila; esto es lo que se determina utilizando el argumento `index_col` al momento de importar un `.csv`.\n",
    "\n",
    "Tanto en el caso de `agebs` como de `poblacion`, el índice corresponde a la Clave Geográfica (CVEGEO) de cada una de las AGEB's, lo cual permite ejecutar el join de la siguiente manera:"
   ]
  },
  {
   "cell_type": "code",
   "execution_count": null,
   "metadata": {},
   "outputs": [],
   "source": [
    "ageb_pob = agebs.join(poblacion , on = 'ageb_urbana_cvegeo')\n",
    "ageb_pob.head()"
   ]
  },
  {
   "cell_type": "markdown",
   "metadata": {},
   "source": [
    "### Manipulaciones No Espaciales\n",
    "\n",
    "Una vez unidos los datos espaciales con los no espaciales, pueden utilizarse las técnicas aprendidas en la manipulación y segmentación de tablas no espaciales para crear mapas más complejos. En particular, se utilizarán las funciones requeridas para seleccionar filas basándose en las características de su población, añadiendo la posibilidad de visualizarlas en un mapa.\n",
    "\n",
    "En primer lugar, puede generarse nuevamente la columna que contiene la Población Total de cada AGEB replicando los comandos ya aprendidos:"
   ]
  },
  {
   "cell_type": "code",
   "execution_count": null,
   "metadata": {},
   "outputs": [],
   "source": [
    "ageb_pob['pob_total'] = poblacion.sum(axis = 1)\n",
    "ageb_pob.head()"
   ]
  },
  {
   "cell_type": "markdown",
   "metadata": {},
   "source": [
    "Posteriormente, se seleccionan las 10 AGEB's con la mayor cantidad de población, a través de la función `.sort_values()` y añadiendo el valor de la selección deseado a `.head()`:"
   ]
  },
  {
   "cell_type": "code",
   "execution_count": null,
   "metadata": {},
   "outputs": [],
   "source": [
    "agebs_mas_pobladas = (ageb_pob\n",
    "    .sort_values('pob_total', ascending = False)\n",
    "    .head(10)\n",
    ")"
   ]
  },
  {
   "cell_type": "markdown",
   "metadata": {},
   "source": [
    "Ahora, puede crearse un mapa de la Ciuda de México y sobreponer como una nueva capa estas áreas:"
   ]
  },
  {
   "cell_type": "code",
   "execution_count": null,
   "metadata": {},
   "outputs": [],
   "source": [
    "fig, fila = plt.subplots(1, figsize=(10, 10))\n",
    "\n",
    "# Capa Base de AGEB's\n",
    "ageb_pob.plot(\n",
    "    facecolor='black', linewidth=0.025, ax=fila\n",
    ")\n",
    "\n",
    "# Capa AGEB's más pobladas            \n",
    "agebs_mas_pobladas.plot(\n",
    "    alpha=1, facecolor='red', linewidth=0, ax=fila\n",
    ") \n",
    "\n",
    "fila.set_axis_off()\n",
    "fig.suptitle(\"AGEB's de la CDMX con Mayor Población\")\n",
    "\n",
    "plt.show()"
   ]
  },
  {
   "cell_type": "markdown",
   "metadata": {},
   "source": [
    "### Manipulaciones Espaciales\n",
    "\n",
    "Además de las operaciones basadas únicamente en valores, como las realizadas anteriormente, es posible realizar sobre un `GeoDataFrame` una gran variedad de operaciones encontradas en los SIG. A continuación se detallarán algunas de las más comunes\n",
    "\n",
    "#### Cálculo de Centroides\n",
    "\n",
    "En algunos casos, resulta útil simplificar un polígono en un sólo punto y, para ello, se calculan los Centroides (siendo algo como el análogo espacial de la media estadística). El siguiente comando dará como resultado un objeto del tipo GeoSeries (una sola columna con datos espaciales) con los Centroides de los polígonos contenidos en un GeoDataFrame:"
   ]
  },
  {
   "cell_type": "code",
   "execution_count": null,
   "metadata": {},
   "outputs": [],
   "source": [
    "centroides = ageb_pob.centroid\n",
    "centroides.head()"
   ]
  },
  {
   "cell_type": "markdown",
   "metadata": {},
   "source": [
    "Es importante destacar que `centroides` no es una tabla completa, sino una sola columna, esto es, un objeto del tipo `GeoSeries`; esto brinda la posibilidad de graficarlo de forma similar a como se ha hecho anteriormente:"
   ]
  },
  {
   "cell_type": "code",
   "execution_count": null,
   "metadata": {},
   "outputs": [],
   "source": [
    "centroides.plot(figsize = (10,10))"
   ]
  },
  {
   "cell_type": "markdown",
   "metadata": {},
   "source": [
    "En el caso de un objeto del tipo `GeoSeries`, ya no es necesario hacer referencia a la columna `geometry` para inspeccionar su contenido, ya que, al tratarse de una columna de datos espaciales, el objetivo es en sí la geometría.\n",
    "\n",
    "#### Point-In-Polygon (PiP)\n",
    "\n",
    "El saber si un punto se encuentra dentro de un polígono es un ejercicio simple desde el punto de vista conceptual; sin embargo, al momento de trasladarlo a la programación, puede tratarse de una acción difícil de completar. La forma más sencilla de realizar esto en GeoPandas es a través del método `.contains()`, disponible para todo polígono."
   ]
  },
  {
   "cell_type": "code",
   "execution_count": null,
   "metadata": {},
   "outputs": [],
   "source": [
    "poligono = ageb_pob['geometry'][0]  # Se aisla el primer polígono dela tabla\n",
    "punto1 = centroides[0]              # Se aisla el primer punto de la serie\n",
    "punto2 = centroides[1]              # Se aisla el segundo punto de la serie"
   ]
  },
  {
   "cell_type": "code",
   "execution_count": null,
   "metadata": {},
   "outputs": [],
   "source": [
    "poligono.contains(punto1)"
   ]
  },
  {
   "cell_type": "code",
   "execution_count": null,
   "metadata": {},
   "outputs": [],
   "source": [
    "poligono.contains(punto2)"
   ]
  },
  {
   "cell_type": "markdown",
   "metadata": {},
   "source": [
    "El método anterior permite realizar una verificación rápida y cualitativa de si un punto se encuentra dentro de un polígono; sin embargo, en muchos otros casos esto no resulta ser muy eficiente, por lo que se recurre a una operación conocida como *Spatial Join*; éstos serán estudiados más a fondo en futuras prácticas.\n",
    "\n",
    "#### Buffers\n",
    "\n",
    "Los Buffers son parte de las operaciones clásicas de un SIG, y consisten en trazar un área alrededor de una geometría en particular, dado un radio específico. Éstos resultan bastate útiles al momento de combinarlos, por ejemplo, con operaciones de *Point-In-Polygon* para calcular valores de accesibilidad, áreas de influencia, entre otros.\n",
    "\n",
    "Para crear un Buffer a través de GeoPandas, puede utilizarse el método `.buffer()`, al cual se le coloca como argumento el radio deseado. Es importante tomar en cuenta que el radio especificado necesita encontrarse en las mismas unidades que el Sistema de Coordenadas de Referencia (CRS) de la geometría con la que se esté trabajando. Por ejemplo, revisando la capa importada anteriormente de Estaciones del Metro:"
   ]
  },
  {
   "cell_type": "code",
   "execution_count": null,
   "metadata": {},
   "outputs": [],
   "source": [
    "estaciones.crs"
   ]
  },
  {
   "cell_type": "markdown",
   "metadata": {},
   "source": [
    "La propiedad crs indica que se trata de la proyección con Código EPSG 32614, de la cual, [al investigar sobre ella](http://epsg.io/32614), se tiene que se trata de una proyección que trabaja en metros. Como tal, si se buscara generar un Buffer de 500m alrededor de cada estación, simplemente se tendría que:"
   ]
  },
  {
   "cell_type": "code",
   "execution_count": null,
   "metadata": {},
   "outputs": [],
   "source": [
    "buff = estaciones.buffer(500)\n",
    "buff.head()"
   ]
  },
  {
   "cell_type": "markdown",
   "metadata": {},
   "source": [
    "Para representar éstos en un mapa, se recurre a los métodos estudiados anteriormente:"
   ]
  },
  {
   "cell_type": "code",
   "execution_count": null,
   "metadata": {},
   "outputs": [],
   "source": [
    "fig, fila = plt.subplots(1, figsize=(10, 10))\n",
    "\n",
    "# Graficar los Buffers\n",
    "buff.plot(ax=fila , alpha=0.5 , facecolor='red', linewidth=0)\n",
    "\n",
    "# Graficar las Estaciones de Metro sobre las referencias\n",
    "estaciones.plot(ax=fila , color='green')\n",
    "\n",
    "plt.show()"
   ]
  },
  {
   "cell_type": "markdown",
   "metadata": {},
   "source": [
    "**Ejercicio 2**\n",
    "\n",
    "Genera un mapa de la Ciudad de Hermosillo donde los polígonos de las AGEB's sean de color negro, y sobre ellos y de color amarillo los Buffers a 250m de cada uno de sus centroides."
   ]
  },
  {
   "cell_type": "markdown",
   "metadata": {},
   "source": [
    "### Coropletas\n",
    "\n",
    "Para terminar la práctica de geovisualización vamos a hacer mapas de coropletas usando dos métodos diferentes. Primero vamos a usar directamente GeoPandas para generar los mapas y después vamos a usar `ipyLeaflet` para hacer una visualización interactiva.\n",
    "\n",
    "Primero, recordemos que ya tenemos los datos de población unidos a las geometrías de las AGEBS"
   ]
  },
  {
   "cell_type": "code",
   "execution_count": null,
   "metadata": {},
   "outputs": [],
   "source": [
    "ageb_pob"
   ]
  },
  {
   "cell_type": "markdown",
   "metadata": {},
   "source": [
    "Hacer un primer mapa sencillo usando GeoPandas es tan sencillo como pasarle el nombre de la columna que queremos usar para colorear el mapa"
   ]
  },
  {
   "cell_type": "code",
   "execution_count": null,
   "metadata": {},
   "outputs": [],
   "source": [
    "ageb_pob.plot('pob_total', figsize=(10,10), legend=True)"
   ]
  },
  {
   "cell_type": "markdown",
   "metadata": {},
   "source": [
    "Y cambiar la paleta de colores"
   ]
  },
  {
   "cell_type": "code",
   "execution_count": null,
   "metadata": {},
   "outputs": [],
   "source": [
    "ageb_pob.plot('pob_total', figsize=(10,10), legend=True, cmap='OrRd')"
   ]
  },
  {
   "cell_type": "markdown",
   "metadata": {},
   "source": [
    "En la documentación de `GeoDataFrame.plot()` pueden ver la lista completa de opciones.\n",
    "\n",
    "En estos primeros mapas que hemos hecho usamos una escala continua para representar la variable de interés. Otra forma de representar la variación espacial es utilizando un esquema de clasificación discreto sobre nuestra variable de interés, por ejemplo cuantiles, intervalos iguales, etcétera. Para esto, `GeoDtaFrame.plot()` admite pasarle el parámetro `scheme` que toma cualquier esquema de clasificación admitido por [`mapclassify`](https://github.com/pysal/mapclassify)."
   ]
  },
  {
   "cell_type": "code",
   "execution_count": null,
   "metadata": {},
   "outputs": [],
   "source": [
    "ageb_pob.plot(\n",
    "    'pob_total', \n",
    "    figsize=(10,10), \n",
    "    legend=True, \n",
    "    cmap='OrRd', \n",
    "    scheme='quantiles'\n",
    ")"
   ]
  },
  {
   "cell_type": "markdown",
   "metadata": {},
   "source": [
    "**Ejercicio 3**\n",
    "\n",
    "Prueben diferentes esquemas de clasificación ([aquí](https://geopandas.org/en/stable/docs/user_guide/mapping.html) pueden encontrar la lista de esquemas disponibles) y discutan sobre qué esquema representa mejor la variación espacial de los datos."
   ]
  },
  {
   "cell_type": "markdown",
   "metadata": {},
   "source": [
    "### Mejorando el estilo\n",
    "\n",
    "Los mapas que hemos hecho son relativamente sencillos, para darles una mejor presentación podemos tomar algunas cosas que ya hemos aprendido, por ejemplo eliminar los ejes y ponerles un título:"
   ]
  },
  {
   "cell_type": "code",
   "execution_count": null,
   "metadata": {},
   "outputs": [],
   "source": [
    "fig , fila = plt.subplots(1, figsize=(10,10))\n",
    "ageb_pob.plot(\n",
    "    'pob_total', \n",
    "    figsize=(10,10), \n",
    "    legend=True, \n",
    "    cmap='OrRd', \n",
    "    scheme='quantiles', \n",
    "    ax=fila\n",
    ")\n",
    "fig.suptitle(\"Población por AGEB\")\n",
    "fila.set_axis_off()  \n",
    "plt.show()"
   ]
  },
  {
   "cell_type": "markdown",
   "metadata": {},
   "source": [
    "También es posible agregar un mapa base utilizando la librería [contextily](https://contextily.readthedocs.io/en/latest/)"
   ]
  },
  {
   "cell_type": "code",
   "execution_count": null,
   "metadata": {},
   "outputs": [],
   "source": [
    "import contextily as ctx"
   ]
  },
  {
   "cell_type": "code",
   "execution_count": null,
   "metadata": {},
   "outputs": [],
   "source": [
    "fig , fila = plt.subplots(1, figsize=(10,10))\n",
    "\n",
    "ageb_pob.plot(\n",
    "    'pob_total', \n",
    "    figsize=(10,10), \n",
    "    legend=True, \n",
    "    cmap='OrRd', \n",
    "    scheme='quantiles', \n",
    "    ax=fila, \n",
    "    alpha=0.8\n",
    ")\n",
    "fig.suptitle(\"Población por AGEB\")\n",
    "fila.set_axis_off()\n",
    "ctx.add_basemap(\n",
    "    fila, \n",
    "    source=ctx.providers.OpenStreetMap.Mapnik, \n",
    "    crs=ageb_pob.crs.to_string()\n",
    ")\n",
    "plt.show()"
   ]
  },
  {
   "cell_type": "markdown",
   "metadata": {},
   "source": [
    "**Ejercicio 4**\n",
    "\n",
    "Prueben usando diferentes mapas base, y cambiando el fondo de la imágen."
   ]
  },
  {
   "cell_type": "markdown",
   "metadata": {},
   "source": [
    "### Varios mapas en la misma figura\n",
    "\n",
    "A veces queremos hacer una imagen que nos permita comparar rápidamente una variable, para eso es conveniente poner juntos dos mapas. Pensemos en este momento en comparar la población por AGEB con la densidad de población por AGEB. Obviamente el primer paso es calcular la densidad de población, para esto vamos a usar la propiedad área de los `GeoDataFrames`. Fíjense como reproyectamos antes de calcular el area para obtener un valor en metros cuadrados"
   ]
  },
  {
   "cell_type": "markdown",
   "metadata": {},
   "source": [
    "ageb_pob.to_crs(32614).area"
   ]
  },
  {
   "cell_type": "code",
   "execution_count": null,
   "metadata": {},
   "outputs": [],
   "source": [
    "ageb_pob['densidad_pob'] = ageb_pob['pob_total'] / ageb_pob.to_crs(32614).area\n",
    "ageb_pob.head()"
   ]
  },
  {
   "cell_type": "markdown",
   "metadata": {},
   "source": [
    "Ahora sí podemos hacer una figura que incluya dos mapas. Hasta ahora siempre hemos usado `fig` , `fila = plt.subplots(1, figsize=(10,10))` para hacer un subplot con una sóla gráfica, lo que vamos a hacer es usarlo ahora para obtener dos ejes en los que graficar."
   ]
  },
  {
   "cell_type": "code",
   "execution_count": null,
   "metadata": {},
   "outputs": [],
   "source": [
    "# Pedimos subfiguras con un renglón y dos columnas\n",
    "fig, (ax1, ax2) = plt.subplots(1, 2, figsize=(24,12))\n",
    "\n",
    "# Graficamos en el primer ax\n",
    "ageb_pob.plot(\n",
    "    'pob_total', \n",
    "    legend=True, \n",
    "    cmap='OrRd', \n",
    "    scheme='quantiles', \n",
    "    ax=ax1, \n",
    "    alpha=0.8\n",
    ")\n",
    "# Este título está en el nivel ax, no en el figure\n",
    "ax1.set_title(\"Población por AGEB\") \n",
    "ax1.set_axis_off()\n",
    "ctx.add_basemap(\n",
    "    ax1, \n",
    "    source=ctx.providers.OpenStreetMap.Mapnik, \n",
    "    crs=ageb_pob.crs.to_string()\n",
    ")\n",
    "\n",
    "\n",
    "# Graficamos en el segndo ax\n",
    "ageb_pob.plot(\n",
    "    'densidad_pob', \n",
    "    legend=True, \n",
    "    cmap='OrRd', \n",
    "    scheme='quantiles', \n",
    "    ax=ax2, \n",
    "    alpha=0.8\n",
    ")\n",
    "# Este título está en el nivel ax, no en el figure\n",
    "ax2.set_title(\"Densidad de Población por AGEB\") \n",
    "ax2.set_axis_off()\n",
    "ctx.add_basemap(\n",
    "    ax2, \n",
    "    source=ctx.providers.OpenStreetMap.Mapnik, \n",
    "    crs=ageb_pob.crs.to_string()\n",
    ")\n",
    "plt.tight_layout() # Para disminuir el espacio entre gráficas"
   ]
  },
  {
   "cell_type": "markdown",
   "metadata": {},
   "source": [
    "Como pueden ver es relatívamente fácil poner dos gráficas, sólo hay que especificar cómo las queremos organizar y entender que subplots nos va a regresar un array de ejes. Para que quede aún más claro, vamos a hacer ahora cuatro mapas, comparando los porcentajes de poblaión para distintos grupos de edad. Primero vamos a calcular las variables que vamos a mapear:"
   ]
  },
  {
   "cell_type": "code",
   "execution_count": null,
   "metadata": {},
   "outputs": [],
   "source": [
    "ageb_pob['prop_0a2'] = ageb_pob['pob_0a2'] / ageb_pob['pob_total']\n",
    "ageb_pob['prop_12a14'] = ageb_pob['pob_12a14'] / ageb_pob['pob_total']\n",
    "ageb_pob['prop_18a24'] = ageb_pob['pob_18a24'] / ageb_pob['pob_total']\n",
    "ageb_pob['prop_60ymas'] = ageb_pob['pob_60ymas'] / ageb_pob['pob_total']\n",
    "ageb_pob.head()"
   ]
  },
  {
   "cell_type": "markdown",
   "metadata": {},
   "source": [
    "Ahora vamos a hacer un layout con cuatro subplots en dos renglones y dos columnas"
   ]
  },
  {
   "cell_type": "code",
   "execution_count": null,
   "metadata": {},
   "outputs": [],
   "source": [
    "# Pedimos subfiguras con un renglón y dos columnas\n",
    "fig, axes = plt.subplots(2,2, figsize=(24,12))\n",
    "\n",
    "# aplanamos el array\n",
    "axes = axes.ravel() \n",
    "\n",
    "# Graficamos en el primer ax\n",
    "ageb_pob.plot(\n",
    "    'prop_0a2', \n",
    "    legend=True, \n",
    "    cmap='OrRd', \n",
    "    scheme='quantiles', \n",
    "    ax=axes[0], \n",
    "    alpha=0.8\n",
    ")\n",
    "axes[0].set_title(\"Proporción de 0 a 2\") \n",
    "axes[0].set_axis_off()\n",
    "ctx.add_basemap(\n",
    "    axes[0], \n",
    "    source=ctx.providers.OpenStreetMap.Mapnik, \n",
    "    crs=ageb_pob.crs.to_string()\n",
    ")\n",
    "\n",
    "# Graficamos en el segndo ax\n",
    "ageb_pob.plot(\n",
    "    'prop_12a14', \n",
    "    legend=True, \n",
    "    cmap='OrRd', \n",
    "    scheme='quantiles', \n",
    "    ax=axes[1], \n",
    "    alpha=0.8\n",
    ")\n",
    "axes[1].set_title(\"Proporción de 12 a 14\") \n",
    "axes[1].set_axis_off()\n",
    "ctx.add_basemap(\n",
    "    axes[1], \n",
    "    source=ctx.providers.OpenStreetMap.Mapnik, \n",
    "    crs=ageb_pob.crs.to_string()\n",
    ")\n",
    "\n",
    "# Graficamos en el tercer ax\n",
    "ageb_pob.plot(\n",
    "    'prop_18a24', \n",
    "    legend=True, \n",
    "    cmap='OrRd', \n",
    "    scheme='quantiles', \n",
    "    ax=axes[2], \n",
    "    alpha=0.8\n",
    ")\n",
    "axes[2].set_title(\"Proporción de 18 a 24\") \n",
    "axes[2].set_axis_off()\n",
    "ctx.add_basemap(\n",
    "    axes[2], \n",
    "    source=ctx.providers.OpenStreetMap.Mapnik, \n",
    "    crs=ageb_pob.crs.to_string()\n",
    ")\n",
    "\n",
    "# Graficamos en el cuarto ax\n",
    "ageb_pob.plot(\n",
    "    'prop_60ymas', \n",
    "    legend=True, \n",
    "    cmap='OrRd', \n",
    "    scheme='quantiles', \n",
    "    ax=axes[3], \n",
    "    alpha=0.8\n",
    ")\n",
    "axes[3].set_title(\"Proporción de 60 y más\") \n",
    "axes[3].set_axis_off()\n",
    "ctx.add_basemap(\n",
    "    axes[3], \n",
    "    source=ctx.providers.OpenStreetMap.Mapnik, \n",
    "    crs=ageb_pob.crs.to_string()\n",
    ")\n",
    "plt.tight_layout() # Para disminuir el espacio entre gráficas\n",
    "\n",
    "plt.show()"
   ]
  }
 ],
 "metadata": {
  "language_info": {
   "name": "python"
  }
 },
 "nbformat": 4,
 "nbformat_minor": 2
}
