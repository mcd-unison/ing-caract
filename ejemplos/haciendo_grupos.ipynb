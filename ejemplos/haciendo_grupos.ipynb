{
 "cells": [
  {
   "cell_type": "code",
   "execution_count": 12,
   "id": "40a6189c",
   "metadata": {},
   "outputs": [
    {
     "data": {
      "application/vnd.microsoft.datawrangler.viewer.v0+json": {
       "columns": [
        {
         "name": "index",
         "rawType": "int64",
         "type": "integer"
        },
        {
         "name": "Nombre",
         "rawType": "object",
         "type": "string"
        },
        {
         "name": "Carrera",
         "rawType": "object",
         "type": "string"
        }
       ],
       "ref": "36965e23-c6f1-4603-8fe5-4f7606a8aa87",
       "rows": [
        [
         "0",
         "Oscar Daniel Senday Bejarano",
         "Ing. Química"
        ],
        [
         "1",
         "Juan Antonio Moreno Esparza",
         "Ing. Mecánica"
        ],
        [
         "2",
         "Isaúl Tirado López",
         "Físico"
        ],
        [
         "3",
         "Jesus Antonio Flores Briones",
         "LCC"
        ],
        [
         "4",
         "Gabriel Santiago Robles Robles",
         "LCC"
        ],
        [
         "5",
         "José Diego Cazares Minjares",
         "Finanzas"
        ],
        [
         "6",
         "Jehu Jonathan Ramirez Ramirez",
         "LCC"
        ],
        [
         "7",
         "Miguel Ángel Guerrero Espinoza",
         "Físico"
        ],
        [
         "8",
         "Mario Alejandro Castro Lerma",
         "LCC"
        ],
        [
         "9",
         "Joel Alfonso Perez Diaz",
         "Físico"
        ],
        [
         "10",
         "Francisco Manuel Ortega Soto",
         "Ing. Química"
        ],
        [
         "11",
         "Esthefania Ortega Tanori",
         "Ing. Mecatrónica"
        ],
        [
         "12",
         "Brayan Alexis Ramirez Camacho",
         "Físico"
        ],
        [
         "13",
         "Marcel Herrera Rendón",
         "Físico"
        ],
        [
         "14",
         "LUIS ANGEL NORIEGA OCHOA",
         "Ing. Mecatrónica"
        ],
        [
         "15",
         "Kevin Manuel Galvan Lara",
         "Biólogo"
        ],
        [
         "16",
         "Javier Alejandro Alonso Mosquera",
         "Ing. Química"
        ]
       ],
       "shape": {
        "columns": 2,
        "rows": 17
       }
      },
      "text/html": [
       "<div>\n",
       "<style scoped>\n",
       "    .dataframe tbody tr th:only-of-type {\n",
       "        vertical-align: middle;\n",
       "    }\n",
       "\n",
       "    .dataframe tbody tr th {\n",
       "        vertical-align: top;\n",
       "    }\n",
       "\n",
       "    .dataframe thead th {\n",
       "        text-align: right;\n",
       "    }\n",
       "</style>\n",
       "<table border=\"1\" class=\"dataframe\">\n",
       "  <thead>\n",
       "    <tr style=\"text-align: right;\">\n",
       "      <th></th>\n",
       "      <th>Nombre</th>\n",
       "      <th>Carrera</th>\n",
       "    </tr>\n",
       "  </thead>\n",
       "  <tbody>\n",
       "    <tr>\n",
       "      <th>0</th>\n",
       "      <td>Oscar Daniel Senday Bejarano</td>\n",
       "      <td>Ing. Química</td>\n",
       "    </tr>\n",
       "    <tr>\n",
       "      <th>1</th>\n",
       "      <td>Juan Antonio Moreno Esparza</td>\n",
       "      <td>Ing. Mecánica</td>\n",
       "    </tr>\n",
       "    <tr>\n",
       "      <th>2</th>\n",
       "      <td>Isaúl Tirado López</td>\n",
       "      <td>Físico</td>\n",
       "    </tr>\n",
       "    <tr>\n",
       "      <th>3</th>\n",
       "      <td>Jesus Antonio Flores Briones</td>\n",
       "      <td>LCC</td>\n",
       "    </tr>\n",
       "    <tr>\n",
       "      <th>4</th>\n",
       "      <td>Gabriel Santiago Robles Robles</td>\n",
       "      <td>LCC</td>\n",
       "    </tr>\n",
       "    <tr>\n",
       "      <th>5</th>\n",
       "      <td>José Diego Cazares Minjares</td>\n",
       "      <td>Finanzas</td>\n",
       "    </tr>\n",
       "    <tr>\n",
       "      <th>6</th>\n",
       "      <td>Jehu Jonathan Ramirez Ramirez</td>\n",
       "      <td>LCC</td>\n",
       "    </tr>\n",
       "    <tr>\n",
       "      <th>7</th>\n",
       "      <td>Miguel Ángel Guerrero Espinoza</td>\n",
       "      <td>Físico</td>\n",
       "    </tr>\n",
       "    <tr>\n",
       "      <th>8</th>\n",
       "      <td>Mario Alejandro Castro Lerma</td>\n",
       "      <td>LCC</td>\n",
       "    </tr>\n",
       "    <tr>\n",
       "      <th>9</th>\n",
       "      <td>Joel Alfonso Perez Diaz</td>\n",
       "      <td>Físico</td>\n",
       "    </tr>\n",
       "    <tr>\n",
       "      <th>10</th>\n",
       "      <td>Francisco Manuel Ortega Soto</td>\n",
       "      <td>Ing. Química</td>\n",
       "    </tr>\n",
       "    <tr>\n",
       "      <th>11</th>\n",
       "      <td>Esthefania Ortega Tanori</td>\n",
       "      <td>Ing. Mecatrónica</td>\n",
       "    </tr>\n",
       "    <tr>\n",
       "      <th>12</th>\n",
       "      <td>Brayan Alexis Ramirez Camacho</td>\n",
       "      <td>Físico</td>\n",
       "    </tr>\n",
       "    <tr>\n",
       "      <th>13</th>\n",
       "      <td>Marcel Herrera Rendón</td>\n",
       "      <td>Físico</td>\n",
       "    </tr>\n",
       "    <tr>\n",
       "      <th>14</th>\n",
       "      <td>LUIS ANGEL NORIEGA OCHOA</td>\n",
       "      <td>Ing. Mecatrónica</td>\n",
       "    </tr>\n",
       "    <tr>\n",
       "      <th>15</th>\n",
       "      <td>Kevin Manuel Galvan Lara</td>\n",
       "      <td>Biólogo</td>\n",
       "    </tr>\n",
       "    <tr>\n",
       "      <th>16</th>\n",
       "      <td>Javier Alejandro Alonso Mosquera</td>\n",
       "      <td>Ing. Química</td>\n",
       "    </tr>\n",
       "  </tbody>\n",
       "</table>\n",
       "</div>"
      ],
      "text/plain": [
       "                              Nombre           Carrera\n",
       "0       Oscar Daniel Senday Bejarano      Ing. Química\n",
       "1        Juan Antonio Moreno Esparza     Ing. Mecánica\n",
       "2                 Isaúl Tirado López            Físico\n",
       "3       Jesus Antonio Flores Briones               LCC\n",
       "4     Gabriel Santiago Robles Robles               LCC\n",
       "5        José Diego Cazares Minjares          Finanzas\n",
       "6      Jehu Jonathan Ramirez Ramirez               LCC\n",
       "7     Miguel Ángel Guerrero Espinoza            Físico\n",
       "8       Mario Alejandro Castro Lerma               LCC\n",
       "9            Joel Alfonso Perez Diaz            Físico\n",
       "10      Francisco Manuel Ortega Soto      Ing. Química\n",
       "11          Esthefania Ortega Tanori  Ing. Mecatrónica\n",
       "12     Brayan Alexis Ramirez Camacho            Físico\n",
       "13             Marcel Herrera Rendón            Físico\n",
       "14          LUIS ANGEL NORIEGA OCHOA  Ing. Mecatrónica\n",
       "15          Kevin Manuel Galvan Lara           Biólogo\n",
       "16  Javier Alejandro Alonso Mosquera      Ing. Química"
      ]
     },
     "execution_count": 12,
     "metadata": {},
     "output_type": "execute_result"
    }
   ],
   "source": [
    "import pandas as pd\n",
    "\n",
    "df = pd.read_csv('equipos.csv')\n",
    "\n",
    "df"
   ]
  },
  {
   "cell_type": "code",
   "execution_count": 11,
   "id": "cf18a96a",
   "metadata": {},
   "outputs": [
    {
     "data": {
      "application/vnd.microsoft.datawrangler.viewer.v0+json": {
       "columns": [
        {
         "name": "Carrera",
         "rawType": "object",
         "type": "string"
        },
        {
         "name": "count",
         "rawType": "int64",
         "type": "integer"
        }
       ],
       "ref": "d9c4b952-150c-4e29-9e06-05209b9d42a8",
       "rows": [
        [
         "Físico",
         "5"
        ],
        [
         "LCC",
         "4"
        ],
        [
         "Ing. Química",
         "3"
        ],
        [
         "Ing. Mecatrónica",
         "2"
        ],
        [
         "Ing. Mecánica",
         "1"
        ],
        [
         "Finanzas",
         "1"
        ],
        [
         "Biólogo",
         "1"
        ]
       ],
       "shape": {
        "columns": 1,
        "rows": 7
       }
      },
      "text/plain": [
       "Carrera\n",
       "Físico              5\n",
       "LCC                 4\n",
       "Ing. Química        3\n",
       "Ing. Mecatrónica    2\n",
       "Ing. Mecánica       1\n",
       "Finanzas            1\n",
       "Biólogo             1\n",
       "Name: count, dtype: int64"
      ]
     },
     "execution_count": 11,
     "metadata": {},
     "output_type": "execute_result"
    }
   ],
   "source": [
    "df['Carrera'].value_counts()"
   ]
  },
  {
   "cell_type": "markdown",
   "id": "417e8dc1",
   "metadata": {},
   "source": [
    "La propuesta es 5 equipo, 3 equipos con 3 personas y 2 equipos con 4 personas.\n",
    "\n",
    "Tres equipos con:\n",
    "- 1 Física, 1 LCC, 1 Ing. Química \n",
    "\n",
    "Un equipo con \n",
    "- 1 Física, 1 LCC, 1 Ing. Mecatrónica, 1 Biólogía\n",
    "\n",
    "Un equipo con:\n",
    "- 1 Física, 1 Ing. Mecatrónica, 1 Ing. Mecánica y 1 Finanzas"
   ]
  },
  {
   "cell_type": "code",
   "execution_count": 19,
   "id": "06aeb535",
   "metadata": {},
   "outputs": [
    {
     "data": {
      "application/vnd.microsoft.datawrangler.viewer.v0+json": {
       "columns": [
        {
         "name": "index",
         "rawType": "int64",
         "type": "integer"
        },
        {
         "name": "Nombre",
         "rawType": "object",
         "type": "string"
        }
       ],
       "ref": "288f306c-6cee-4721-895d-10e188e8adeb",
       "rows": [
        [
         "12",
         "Brayan Alexis Ramirez Camacho"
        ],
        [
         "2",
         "Isaúl Tirado López"
        ],
        [
         "7",
         "Miguel Ángel Guerrero Espinoza"
        ],
        [
         "9",
         "Joel Alfonso Perez Diaz"
        ],
        [
         "13",
         "Marcel Herrera Rendón"
        ]
       ],
       "shape": {
        "columns": 1,
        "rows": 5
       }
      },
      "text/plain": [
       "12     Brayan Alexis Ramirez Camacho\n",
       "2                 Isaúl Tirado López\n",
       "7     Miguel Ángel Guerrero Espinoza\n",
       "9            Joel Alfonso Perez Diaz\n",
       "13             Marcel Herrera Rendón\n",
       "Name: Nombre, dtype: object"
      ]
     },
     "execution_count": 19,
     "metadata": {},
     "output_type": "execute_result"
    }
   ],
   "source": [
    "LF = df.loc[df['Carrera'] == 'Físico', 'Nombre']\n",
    "\n",
    "LF.sample(5)"
   ]
  },
  {
   "cell_type": "code",
   "execution_count": 25,
   "id": "f54c7afa",
   "metadata": {},
   "outputs": [
    {
     "data": {
      "application/vnd.microsoft.datawrangler.viewer.v0+json": {
       "columns": [
        {
         "name": "index",
         "rawType": "int64",
         "type": "integer"
        },
        {
         "name": "Nombre",
         "rawType": "object",
         "type": "string"
        }
       ],
       "ref": "a05a5ad1-0b8d-45d9-8eda-3d39a6319391",
       "rows": [
        [
         "3",
         "Jesus Antonio Flores Briones"
        ],
        [
         "6",
         "Jehu Jonathan Ramirez Ramirez"
        ],
        [
         "8",
         "Mario Alejandro Castro Lerma"
        ],
        [
         "4",
         "Gabriel Santiago Robles Robles"
        ]
       ],
       "shape": {
        "columns": 1,
        "rows": 4
       }
      },
      "text/plain": [
       "3      Jesus Antonio Flores Briones\n",
       "6     Jehu Jonathan Ramirez Ramirez\n",
       "8      Mario Alejandro Castro Lerma\n",
       "4    Gabriel Santiago Robles Robles\n",
       "Name: Nombre, dtype: object"
      ]
     },
     "execution_count": 25,
     "metadata": {},
     "output_type": "execute_result"
    }
   ],
   "source": [
    "LCC = df.loc[df['Carrera'] == 'LCC', 'Nombre']\n",
    "LCC.sample(4)"
   ]
  },
  {
   "cell_type": "code",
   "execution_count": 29,
   "id": "193f26f9",
   "metadata": {},
   "outputs": [
    {
     "data": {
      "application/vnd.microsoft.datawrangler.viewer.v0+json": {
       "columns": [
        {
         "name": "index",
         "rawType": "int64",
         "type": "integer"
        },
        {
         "name": "Nombre",
         "rawType": "object",
         "type": "string"
        }
       ],
       "ref": "2c57ca01-11ba-4aa3-8160-3c3d604b170d",
       "rows": [
        [
         "16",
         "Javier Alejandro Alonso Mosquera"
        ],
        [
         "10",
         "Francisco Manuel Ortega Soto"
        ],
        [
         "0",
         "Oscar Daniel Senday Bejarano"
        ]
       ],
       "shape": {
        "columns": 1,
        "rows": 3
       }
      },
      "text/plain": [
       "16    Javier Alejandro Alonso Mosquera\n",
       "10        Francisco Manuel Ortega Soto\n",
       "0         Oscar Daniel Senday Bejarano\n",
       "Name: Nombre, dtype: object"
      ]
     },
     "execution_count": 29,
     "metadata": {},
     "output_type": "execute_result"
    }
   ],
   "source": [
    "IQ = df.loc[df['Carrera'] == 'Ing. Química', 'Nombre']\n",
    "IQ.sample(3)"
   ]
  },
  {
   "cell_type": "code",
   "execution_count": 32,
   "id": "bd19261a",
   "metadata": {},
   "outputs": [
    {
     "data": {
      "application/vnd.microsoft.datawrangler.viewer.v0+json": {
       "columns": [
        {
         "name": "index",
         "rawType": "int64",
         "type": "integer"
        },
        {
         "name": "Nombre",
         "rawType": "object",
         "type": "string"
        }
       ],
       "ref": "25f25caf-257b-4c23-81d6-ea11da441c24",
       "rows": [
        [
         "14",
         "LUIS ANGEL NORIEGA OCHOA"
        ],
        [
         "11",
         "Esthefania Ortega Tanori"
        ]
       ],
       "shape": {
        "columns": 1,
        "rows": 2
       }
      },
      "text/plain": [
       "14    LUIS ANGEL NORIEGA OCHOA\n",
       "11    Esthefania Ortega Tanori\n",
       "Name: Nombre, dtype: object"
      ]
     },
     "execution_count": 32,
     "metadata": {},
     "output_type": "execute_result"
    }
   ],
   "source": [
    "IM = df.loc[df['Carrera'] == 'Ing. Mecatrónica', 'Nombre']\n",
    "IM.sample(2)"
   ]
  }
 ],
 "metadata": {
  "kernelspec": {
   "display_name": "pandas",
   "language": "python",
   "name": "python3"
  },
  "language_info": {
   "codemirror_mode": {
    "name": "ipython",
    "version": 3
   },
   "file_extension": ".py",
   "mimetype": "text/x-python",
   "name": "python",
   "nbconvert_exporter": "python",
   "pygments_lexer": "ipython3",
   "version": "3.12.5"
  }
 },
 "nbformat": 4,
 "nbformat_minor": 5
}
