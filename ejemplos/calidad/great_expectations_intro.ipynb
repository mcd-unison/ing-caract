{
  "cells": [
    {
      "cell_type": "markdown",
      "metadata": {},
      "source": [
        "<center>\n",
        "<p><img src=\"https://mcd.unison.mx/wp-content/themes/awaken/img/logo_mcd.png\" width=\"100\">\n",
        "</p>\n",
        "\n",
        "<h1>Curso Ingeniería de Características</h1>\n",
        "\n",
        "<h3>Introducción a GX Core</h3>\n",
        "\n",
        "<p> Julio Waissman Vilanova </p>\n",
        "\n",
        "<a target=\"_blank\" href=\"https://colab.research.google.com/github/mcd-unison/ing-caract/blob/main/ejemplos/calidad/great_expectations_intro.ipynb\"><img src=\"https://i.ibb.co/2P3SLwK/colab.png\"  style=\"padding-bottom:5px;\"  width=\"30\" /> Ejecuta en Colab</a>\n",
        "\n",
        "</center>\n",
        "\n",
        "En esta libreta hago una mezcla de la explicación genñerica de la estructura de [*GX Core Overview*](https://docs.greatexpectations.io/docs/core/introduction/gx_overview) con [*Try GX Core*](https://docs.greatexpectations.io/docs/core/introduction/try_gx) con mñinios ajustes para que se puedan ejecutar en *Colaboratory*. "
      ]
    },
    {
      "cell_type": "markdown",
      "metadata": {
        "id": "vGRTm2ICkdzh"
      },
      "source": [
        "# GX Core overview\n",
        "\n",
        "This overview is for new users of GX Core and those looking for an improved understanding of GX Core components and primary workflows. It is an ideal place to start before exploring more advanced topics found in the GX Core documentation.\n",
        "\n",
        "## GX Core components and workflows\n",
        "\n",
        "**Great Expectations** (GX) is a framework for describing data using expressive tests and then validating that the data meets test criteria. **GX Core** is a Python library that provides a programmatic interface to building and running data validation workflows using GX.\n",
        "\n",
        "**GX Core** is versatile and supports a variety of workflows. It can be used for interactive, exploratory data validation as well as data validation within production deployments.\n",
        "\n",
        "**GX components** are Python classes that represent your data and data validation entities.\n",
        "\n",
        "**GX workflows** are programmatically defined data validation processes. GX workflows are built using GX components.\n",
        "\n",
        "## The pattern of a GX workflow\n",
        "\n",
        "All GX workflows share a common pattern:\n",
        "\n",
        "1. Set up a GX environment\n",
        "2. Connect to data\n",
        "3. Define Expectations\n",
        "4. Run Validations\n",
        "\n",
        "At each workflow step, different GX components are defined and used. This section introduces the key GX Core components required to create a data validation workflow.\n",
        "\n",
        "![](https://docs.greatexpectations.io/assets/images/gx_workflow_steps_and_components-a1511e31cccadb7158f1e8665cc90628.png)"
      ]
    },
    {
      "cell_type": "code",
      "execution_count": null,
      "metadata": {
        "colab": {
          "base_uri": "https://localhost:8080/"
        },
        "id": "YlGkr1bEkbmX",
        "outputId": "c779bccd-9f74-49bb-e511-1b1ba5a0b267"
      },
      "outputs": [],
      "source": [
        "!pip install great_expectations"
      ]
    },
    {
      "cell_type": "code",
      "execution_count": null,
      "metadata": {
        "colab": {
          "base_uri": "https://localhost:8080/"
        },
        "id": "mJRe_DCSl0Qo",
        "outputId": "523f70d7-ae9b-4a11-c023-cd7737928f01"
      },
      "outputs": [],
      "source": [
        "import great_expectations as gx\n",
        "\n",
        "print(gx.__version__)"
      ]
    },
    {
      "cell_type": "markdown",
      "metadata": {
        "id": "ibr9Klp9lD9Q"
      },
      "source": [
        "## Set up a GX environment\n",
        "\n",
        "A **Data Context** manages the settings and metadata for a GX workflow. In GX Core, the Data Context is a Python object that serves as the entrypoint for the GX Python API. You use the Data Context to define and run a GX workflow; the Data Context provides access to the configurations, metadata, and actions of your GX workflow components and the results of data validations.\n",
        "\n",
        "All GX workflows start with the creation of a Data Context. For more information on the types of Data Context, see [Create a Data Context](https://docs.greatexpectations.io/docs/core/set_up_a_gx_environment/create_a_data_context).\n"
      ]
    },
    {
      "cell_type": "code",
      "execution_count": null,
      "metadata": {
        "colab": {
          "base_uri": "https://localhost:8080/"
        },
        "id": "JiC2y0wPlesU",
        "outputId": "42dad64f-aeda-4f67-c22e-6ac34a8abc25"
      },
      "outputs": [],
      "source": [
        "context = gx.get_context()\n"
      ]
    },
    {
      "cell_type": "markdown",
      "metadata": {
        "id": "RGsZT5cklfXO"
      },
      "source": [
        "## Connect to data\n",
        "\n",
        "A **Data Source** is the GX representation of a data store. The Data Source tells GX how to connect to your data, and supports connection to different types of data stores, including databases, schemas, and data files in cloud object storage.\n",
        "\n",
        "A **Data Asset** is a collection of records within a Data Source. A useful analogy is: if a Data Source is a relational database, then a Data Asset is a table within that database, or the results of a select query on a table within that database.\n",
        "\n",
        "A **Batch Definition** tells GX how to organize the records within a **Data Asset**. The Batch Definition Python object enables you to retrieve a **Batch**, or collection of records from a Data Asset, for validation at runtime. A Data Asset can be validated as a single Batch, or partitioned into multiple Batches for separate validations.\n",
        "\n",
        "For more information on connecting to data, see [Connect to data](https://docs.greatexpectations.io/docs/core/connect_to_data/).\n",
        "\n"
      ]
    },
    {
      "cell_type": "code",
      "execution_count": null,
      "metadata": {
        "colab": {
          "base_uri": "https://localhost:8080/",
          "height": 652
        },
        "id": "QNhQPhQZnXU8",
        "outputId": "cc590733-c203-4700-f30a-7f9a9c03a07d"
      },
      "outputs": [],
      "source": [
        "# Import sample data into Pandas DataFrame.\n",
        "import pandas as pd\n",
        "df = pd.read_csv(\n",
        "    \"https://raw.githubusercontent.com/great-expectations/gx_tutorials/main/data/yellow_tripdata_sample_2019-01.csv\"\n",
        ")\n",
        "df"
      ]
    },
    {
      "cell_type": "code",
      "execution_count": null,
      "metadata": {
        "id": "rnrVNPwDnsuU"
      },
      "outputs": [],
      "source": [
        "# Connect to data.\n",
        "# Create Data Source, Data Asset, Batch Definition, and Batch.\n",
        "\n",
        "data_source = context.data_sources.add_pandas(\"pandas\")\n",
        "\n",
        "data_asset = data_source.add_dataframe_asset(name=\"pd dataframe asset\")\n",
        "\n",
        "batch_definition = data_asset.add_batch_definition_whole_dataframe(\"batch definition\")\n",
        "\n",
        "batch = batch_definition.get_batch(batch_parameters={\"dataframe\": df})"
      ]
    },
    {
      "cell_type": "markdown",
      "metadata": {
        "id": "kDdY7TeRn83T"
      },
      "source": [
        "## Define Expectations\n",
        "\n",
        "An **Expectation** is a verifiable assertion about data. Similar to assertions in traditional Python unit tests, Expectations provide a flexible, declarative language for describing expected data qualities. An Expectation can be used to validate a Batch of data.\n",
        "\n",
        "For a full list of available Expectations, see the [Expectation Gallery](https://greatexpectations.io/expectations/).\n",
        "\n",
        "An **Expectation Suite** is a collection of Expectations. Expectation Suites can be used to validate a Batch of data using multiple Expectations, streamlining the validation process. You can define multiple Expectation Suites for the same data to cover different use cases, and you can apply the same Expectation Suite to different Batches.\n",
        "\n",
        "For more information defining Expectations and creating Expectation Suites, see [Define Expectations](https://docs.greatexpectations.io/docs/core/define_expectations/).\n",
        "\n"
      ]
    },
    {
      "cell_type": "code",
      "execution_count": null,
      "metadata": {
        "id": "DT3Rk05noZxZ"
      },
      "outputs": [],
      "source": [
        "# Create Expectation Suite\n",
        "suite = context.suites.add(\n",
        "    gx.core.expectation_suite.ExpectationSuite(name=\"expectations\")\n",
        ")"
      ]
    },
    {
      "cell_type": "code",
      "execution_count": null,
      "metadata": {
        "colab": {
          "base_uri": "https://localhost:8080/"
        },
        "id": "_fIh68NyouYW",
        "outputId": "b407abda-fda9-422c-9866-1a672dbf0d7f"
      },
      "outputs": [],
      "source": [
        "# Add two Expectations to the Suite\n",
        "suite.add_expectation(\n",
        "    gx.expectations.ExpectColumnValuesToBeBetween(\n",
        "        column=\"passenger_count\",\n",
        "        min_value=1,\n",
        "        max_value=6\n",
        "    )\n",
        ")\n",
        "\n",
        "suite.add_expectation(\n",
        "    gx.expectations.ExpectColumnValuesToBeBetween(\n",
        "        column=\"fare_amount\",\n",
        "        min_value=0\n",
        "    )\n",
        ")\n",
        "\n",
        "suite"
      ]
    },
    {
      "cell_type": "markdown",
      "metadata": {
        "id": "cihEzJH2pJ3X"
      },
      "source": [
        "## Run Validations\n",
        "\n",
        "A **Validation Definition** explicitly associates a Batch Definition to an Expectation Suite, defining what data should be validated against which Expectations.\n",
        "\n",
        "A **Validation Result** is returned by GX after data validation. The Validation Results tell you how your data corresponds to what you expected of it.\n",
        "\n",
        "A **Checkpoint** is the primary means for validating data in a production deployment of GX. Checkpoints enable you to run a list of Validation Definitions with shared parameters. Checkpoints can be configured to run **Actions**, and can pass Validation Results to a list of predefined Actions for processing.\n",
        "\n",
        "**Actions** provide a mechanism to integrate Checkpoints into your data pipeline infrastructure by automatically processing Validation Results. Typical use cases include sending email alerts, Slack messages, or custom notifications based on the result of data validation.\n",
        "\n",
        "**Data Docs** are human-readable documentation generated by GX that host your Expectation Suite definitions and Validation Results. Using Checkpoints and Actions, you can configure your GX workflow to automatically write Validation Results to a chosen Data Docs site.\n",
        "\n",
        "For more information on defining and running Validations, see [Run Validations](https://docs.greatexpectations.io/docs/core/run_validations/)."
      ]
    },
    {
      "cell_type": "code",
      "execution_count": null,
      "metadata": {
        "id": "PMEa-Flnptqf"
      },
      "outputs": [],
      "source": [
        "# Create Validation Definition.\n",
        "validation_definition = context.validation_definitions.add(\n",
        "    gx.core.validation_definition.ValidationDefinition(\n",
        "        name=\"validation definition\",\n",
        "        data=batch_definition,\n",
        "        suite=suite,\n",
        "    )\n",
        ")"
      ]
    },
    {
      "cell_type": "code",
      "execution_count": null,
      "metadata": {
        "id": "-mLIiUEfp55f"
      },
      "outputs": [],
      "source": [
        "# Create Checkpoint\n",
        "checkpoint = context.checkpoints.add(\n",
        "    gx.checkpoint.checkpoint.Checkpoint(\n",
        "        name=\"checkpoint\", validation_definitions=[validation_definition]\n",
        "    )\n",
        ")"
      ]
    },
    {
      "cell_type": "code",
      "execution_count": null,
      "metadata": {
        "colab": {
          "base_uri": "https://localhost:8080/",
          "height": 1000,
          "referenced_widgets": [
            "4cba7b8d60324cf9b82c086b78f5f0c4",
            "881d1d8af19b4591b06c56ef3daf468e",
            "e04a69be9a8348649504828a0fdaabb6",
            "957ccc665aab48ebbd0fa1037213fdd7",
            "1968445703624e36b6d369f21aa89a81",
            "679bf1e243134df2be868fc26577282c",
            "2ae3ee91dd5e43dfad85fcd1b0b67635",
            "964c1d169e7041e2aa746de7361205bd",
            "8b16d497a0c041d5afa6d10ab536589e",
            "96f910a592584ab89115d4bebaa38e1c",
            "7b59a80a6cf645ebb02f88cb07a3f9a0"
          ]
        },
        "id": "jG4PMPmZqBeT",
        "outputId": "a04bffc8-8123-4331-836f-2f0d852945e6"
      },
      "outputs": [],
      "source": [
        "# Run Checkpoint, and capture result.\n",
        "\n",
        "checkpoint_result = checkpoint.run(batch_parameters={\"dataframe\": df})\n",
        "print(checkpoint_result.describe())"
      ]
    },
    {
      "cell_type": "markdown",
      "metadata": {
        "id": "DfWPBcaps2lE"
      },
      "source": [
        "## Customize GX Core workflows\n",
        "\n",
        "While all GX Core workflows follow a shared pattern, the outcome and operation of a workflow can be customized based on how you create Batches, define Expectations, and run Validations. GX Core components are building blocks that can be applied in a variety of ways to satisfy your data validation use case.\n",
        "\n",
        "For instance, a GX Core workflow might:\n",
        "\n",
        "- Create a Batch using data from a Spark DataFrame and allow you to interactively validate the Batch with Expectations and immediately review the Validation Results. This workflow could serve to inform your exploration of which Expectations you want to use in a production deployment of GX.\n",
        "\n",
        "- Connect to data in a SQL table, define multiple Expectation Suites that each test for a desired data quality characteristic, and use a Checkpoint to run all Expectation Suites. This workflow, when integrated with and triggered by an orchestrator, could enable automated, scheduled data quality testing on an essential data table.\n",
        "\n",
        "- Connect to a group of SQL tables and define a collection of Data Assets, each batched on a time-based column, and validate the data within each Data Asset using the same Expectation Suite. This workflow could provide a way to implement consistent data quality testing across a sharded data infrastructure.\n",
        "\n",
        "Equipped with an understanding of the GX Core components, you can design data validation workflows that logically and effectively validate your data across a variety of data store types, environments, and business use cases.\n",
        "\n"
      ]
    },
    {
      "cell_type": "markdown",
      "metadata": {
        "id": "J7uLeccStUil"
      },
      "source": [
        "## Next steps\n",
        "\n",
        "Go to the [Expectations Gallery](https://greatexpectations.io/expectations) and experiment with other Expectations.\n",
        "\n",
        "If you're ready to start using GX Core with your own data, the [Set up a GX environment documentation](https://docs.greatexpectations.io/docs/core/installation_and_setup/install_gx) provides a more comprehensive guide to setting up GX to work with specific data formats and environments.\n",
        "\n",
        "Check out [GX Cloud](https://greatexpectations.io/cloud). Sign up here and you could be validating your data in minutes. We also offer regular GX Cloud workshops: [click here to get more information and register](https://pages.greatexpectations.io/gx-cloud-workshops)."
      ]
    }
  ],
  "metadata": {
    "colab": {
      "provenance": []
    },
    "kernelspec": {
      "display_name": "Python 3",
      "name": "python3"
    },
    "language_info": {
      "name": "python"
    },
    "widgets": {
      "application/vnd.jupyter.widget-state+json": {
        "1968445703624e36b6d369f21aa89a81": {
          "model_module": "@jupyter-widgets/base",
          "model_module_version": "1.2.0",
          "model_name": "LayoutModel",
          "state": {
            "_model_module": "@jupyter-widgets/base",
            "_model_module_version": "1.2.0",
            "_model_name": "LayoutModel",
            "_view_count": null,
            "_view_module": "@jupyter-widgets/base",
            "_view_module_version": "1.2.0",
            "_view_name": "LayoutView",
            "align_content": null,
            "align_items": null,
            "align_self": null,
            "border": null,
            "bottom": null,
            "display": null,
            "flex": null,
            "flex_flow": null,
            "grid_area": null,
            "grid_auto_columns": null,
            "grid_auto_flow": null,
            "grid_auto_rows": null,
            "grid_column": null,
            "grid_gap": null,
            "grid_row": null,
            "grid_template_areas": null,
            "grid_template_columns": null,
            "grid_template_rows": null,
            "height": null,
            "justify_content": null,
            "justify_items": null,
            "left": null,
            "margin": null,
            "max_height": null,
            "max_width": null,
            "min_height": null,
            "min_width": null,
            "object_fit": null,
            "object_position": null,
            "order": null,
            "overflow": null,
            "overflow_x": null,
            "overflow_y": null,
            "padding": null,
            "right": null,
            "top": null,
            "visibility": null,
            "width": null
          }
        },
        "2ae3ee91dd5e43dfad85fcd1b0b67635": {
          "model_module": "@jupyter-widgets/controls",
          "model_module_version": "1.5.0",
          "model_name": "DescriptionStyleModel",
          "state": {
            "_model_module": "@jupyter-widgets/controls",
            "_model_module_version": "1.5.0",
            "_model_name": "DescriptionStyleModel",
            "_view_count": null,
            "_view_module": "@jupyter-widgets/base",
            "_view_module_version": "1.2.0",
            "_view_name": "StyleView",
            "description_width": ""
          }
        },
        "4cba7b8d60324cf9b82c086b78f5f0c4": {
          "model_module": "@jupyter-widgets/controls",
          "model_module_version": "1.5.0",
          "model_name": "HBoxModel",
          "state": {
            "_dom_classes": [],
            "_model_module": "@jupyter-widgets/controls",
            "_model_module_version": "1.5.0",
            "_model_name": "HBoxModel",
            "_view_count": null,
            "_view_module": "@jupyter-widgets/controls",
            "_view_module_version": "1.5.0",
            "_view_name": "HBoxView",
            "box_style": "",
            "children": [
              "IPY_MODEL_881d1d8af19b4591b06c56ef3daf468e",
              "IPY_MODEL_e04a69be9a8348649504828a0fdaabb6",
              "IPY_MODEL_957ccc665aab48ebbd0fa1037213fdd7"
            ],
            "layout": "IPY_MODEL_1968445703624e36b6d369f21aa89a81"
          }
        },
        "679bf1e243134df2be868fc26577282c": {
          "model_module": "@jupyter-widgets/base",
          "model_module_version": "1.2.0",
          "model_name": "LayoutModel",
          "state": {
            "_model_module": "@jupyter-widgets/base",
            "_model_module_version": "1.2.0",
            "_model_name": "LayoutModel",
            "_view_count": null,
            "_view_module": "@jupyter-widgets/base",
            "_view_module_version": "1.2.0",
            "_view_name": "LayoutView",
            "align_content": null,
            "align_items": null,
            "align_self": null,
            "border": null,
            "bottom": null,
            "display": null,
            "flex": null,
            "flex_flow": null,
            "grid_area": null,
            "grid_auto_columns": null,
            "grid_auto_flow": null,
            "grid_auto_rows": null,
            "grid_column": null,
            "grid_gap": null,
            "grid_row": null,
            "grid_template_areas": null,
            "grid_template_columns": null,
            "grid_template_rows": null,
            "height": null,
            "justify_content": null,
            "justify_items": null,
            "left": null,
            "margin": null,
            "max_height": null,
            "max_width": null,
            "min_height": null,
            "min_width": null,
            "object_fit": null,
            "object_position": null,
            "order": null,
            "overflow": null,
            "overflow_x": null,
            "overflow_y": null,
            "padding": null,
            "right": null,
            "top": null,
            "visibility": null,
            "width": null
          }
        },
        "7b59a80a6cf645ebb02f88cb07a3f9a0": {
          "model_module": "@jupyter-widgets/controls",
          "model_module_version": "1.5.0",
          "model_name": "DescriptionStyleModel",
          "state": {
            "_model_module": "@jupyter-widgets/controls",
            "_model_module_version": "1.5.0",
            "_model_name": "DescriptionStyleModel",
            "_view_count": null,
            "_view_module": "@jupyter-widgets/base",
            "_view_module_version": "1.2.0",
            "_view_name": "StyleView",
            "description_width": ""
          }
        },
        "881d1d8af19b4591b06c56ef3daf468e": {
          "model_module": "@jupyter-widgets/controls",
          "model_module_version": "1.5.0",
          "model_name": "HTMLModel",
          "state": {
            "_dom_classes": [],
            "_model_module": "@jupyter-widgets/controls",
            "_model_module_version": "1.5.0",
            "_model_name": "HTMLModel",
            "_view_count": null,
            "_view_module": "@jupyter-widgets/controls",
            "_view_module_version": "1.5.0",
            "_view_name": "HTMLView",
            "description": "",
            "description_tooltip": null,
            "layout": "IPY_MODEL_679bf1e243134df2be868fc26577282c",
            "placeholder": "​",
            "style": "IPY_MODEL_2ae3ee91dd5e43dfad85fcd1b0b67635",
            "value": "Calculating Metrics: 100%"
          }
        },
        "8b16d497a0c041d5afa6d10ab536589e": {
          "model_module": "@jupyter-widgets/controls",
          "model_module_version": "1.5.0",
          "model_name": "ProgressStyleModel",
          "state": {
            "_model_module": "@jupyter-widgets/controls",
            "_model_module_version": "1.5.0",
            "_model_name": "ProgressStyleModel",
            "_view_count": null,
            "_view_module": "@jupyter-widgets/base",
            "_view_module_version": "1.2.0",
            "_view_name": "StyleView",
            "bar_color": null,
            "description_width": ""
          }
        },
        "957ccc665aab48ebbd0fa1037213fdd7": {
          "model_module": "@jupyter-widgets/controls",
          "model_module_version": "1.5.0",
          "model_name": "HTMLModel",
          "state": {
            "_dom_classes": [],
            "_model_module": "@jupyter-widgets/controls",
            "_model_module_version": "1.5.0",
            "_model_name": "HTMLModel",
            "_view_count": null,
            "_view_module": "@jupyter-widgets/controls",
            "_view_module_version": "1.5.0",
            "_view_name": "HTMLView",
            "description": "",
            "description_tooltip": null,
            "layout": "IPY_MODEL_96f910a592584ab89115d4bebaa38e1c",
            "placeholder": "​",
            "style": "IPY_MODEL_7b59a80a6cf645ebb02f88cb07a3f9a0",
            "value": " 17/17 [00:00&lt;00:00, 149.21it/s]"
          }
        },
        "964c1d169e7041e2aa746de7361205bd": {
          "model_module": "@jupyter-widgets/base",
          "model_module_version": "1.2.0",
          "model_name": "LayoutModel",
          "state": {
            "_model_module": "@jupyter-widgets/base",
            "_model_module_version": "1.2.0",
            "_model_name": "LayoutModel",
            "_view_count": null,
            "_view_module": "@jupyter-widgets/base",
            "_view_module_version": "1.2.0",
            "_view_name": "LayoutView",
            "align_content": null,
            "align_items": null,
            "align_self": null,
            "border": null,
            "bottom": null,
            "display": null,
            "flex": null,
            "flex_flow": null,
            "grid_area": null,
            "grid_auto_columns": null,
            "grid_auto_flow": null,
            "grid_auto_rows": null,
            "grid_column": null,
            "grid_gap": null,
            "grid_row": null,
            "grid_template_areas": null,
            "grid_template_columns": null,
            "grid_template_rows": null,
            "height": null,
            "justify_content": null,
            "justify_items": null,
            "left": null,
            "margin": null,
            "max_height": null,
            "max_width": null,
            "min_height": null,
            "min_width": null,
            "object_fit": null,
            "object_position": null,
            "order": null,
            "overflow": null,
            "overflow_x": null,
            "overflow_y": null,
            "padding": null,
            "right": null,
            "top": null,
            "visibility": null,
            "width": null
          }
        },
        "96f910a592584ab89115d4bebaa38e1c": {
          "model_module": "@jupyter-widgets/base",
          "model_module_version": "1.2.0",
          "model_name": "LayoutModel",
          "state": {
            "_model_module": "@jupyter-widgets/base",
            "_model_module_version": "1.2.0",
            "_model_name": "LayoutModel",
            "_view_count": null,
            "_view_module": "@jupyter-widgets/base",
            "_view_module_version": "1.2.0",
            "_view_name": "LayoutView",
            "align_content": null,
            "align_items": null,
            "align_self": null,
            "border": null,
            "bottom": null,
            "display": null,
            "flex": null,
            "flex_flow": null,
            "grid_area": null,
            "grid_auto_columns": null,
            "grid_auto_flow": null,
            "grid_auto_rows": null,
            "grid_column": null,
            "grid_gap": null,
            "grid_row": null,
            "grid_template_areas": null,
            "grid_template_columns": null,
            "grid_template_rows": null,
            "height": null,
            "justify_content": null,
            "justify_items": null,
            "left": null,
            "margin": null,
            "max_height": null,
            "max_width": null,
            "min_height": null,
            "min_width": null,
            "object_fit": null,
            "object_position": null,
            "order": null,
            "overflow": null,
            "overflow_x": null,
            "overflow_y": null,
            "padding": null,
            "right": null,
            "top": null,
            "visibility": null,
            "width": null
          }
        },
        "e04a69be9a8348649504828a0fdaabb6": {
          "model_module": "@jupyter-widgets/controls",
          "model_module_version": "1.5.0",
          "model_name": "FloatProgressModel",
          "state": {
            "_dom_classes": [],
            "_model_module": "@jupyter-widgets/controls",
            "_model_module_version": "1.5.0",
            "_model_name": "FloatProgressModel",
            "_view_count": null,
            "_view_module": "@jupyter-widgets/controls",
            "_view_module_version": "1.5.0",
            "_view_name": "ProgressView",
            "bar_style": "success",
            "description": "",
            "description_tooltip": null,
            "layout": "IPY_MODEL_964c1d169e7041e2aa746de7361205bd",
            "max": 17,
            "min": 0,
            "orientation": "horizontal",
            "style": "IPY_MODEL_8b16d497a0c041d5afa6d10ab536589e",
            "value": 17
          }
        }
      }
    }
  },
  "nbformat": 4,
  "nbformat_minor": 0
}
