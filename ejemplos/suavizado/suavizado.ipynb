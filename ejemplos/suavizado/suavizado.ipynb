{
 "cells": [
  {
   "cell_type": "markdown",
   "metadata": {},
   "source": [
    "![](https://mcd.unison.mx/wp-content/themes/awaken/img/logo_mcd.png)\n",
    "\n",
    "# Ingeniería de características\n",
    "\n",
    "## Suavizado de series de tiempo\n",
    "\n",
    "#### [Julio Waissman Vilanova](julio.waissman@unison.mx)\n",
    "\n",
    "Vamos a ver diferentes tipos y formas de suavisar curvas. Para esto, vamos a utilizar como serie de tiempo la serie de casos confirmados por COVID-19 recabados y mantenidos por [Luis Armando Moreno](http://www.luisarmandomoreno.com), los cuales se pueden descargar [aquí](https://onedrive.live.com/download.aspx?resid=5ADDF6870413EAC9!40221&authkey=!AHWUE_EQfhvGRm4).\n"
   ]
  },
  {
   "cell_type": "code",
   "execution_count": null,
   "metadata": {},
   "outputs": [],
   "source": [
    "!conda install plotly -y\n",
    "!conda install statsmodels -y"
   ]
  },
  {
   "cell_type": "code",
   "execution_count": null,
   "metadata": {},
   "outputs": [],
   "source": [
    "import pandas as pd\n",
    "import statsmodels.api as sm\n",
    "import plotly.graph_objects as go\n",
    "import plotly.express as px\n",
    "\n",
    "\n",
    "confirmados = pd.read_csv(\n",
    "    \"Casosdiarios.csv\", \n",
    "    encoding='latin1',\n",
    "    parse_dates=['Fecha']\n",
    ")[['Fecha', 'CASOS']] \\\n",
    "    .groupby(\"Fecha\") \\\n",
    "    .sum() \\\n",
    "    .diff() + 1\n",
    "\n",
    "\n",
    "fig = px.scatter(\n",
    "    confirmados,\n",
    "    y=\"CASOS\"\n",
    ").update_layout(\n",
    "    title='Casos confirmados de COVID-10 en Sonora',\n",
    "    hovermode=\"x\"\n",
    ").show()"
   ]
  },
  {
   "cell_type": "markdown",
   "metadata": {},
   "source": [
    "### Suavizado por medias moviles\n",
    "\n",
    "El suavizado por media movil utiliza una ventana de tiempo en los datos para suavizar. La ventana de tiempo debe de tener sentido para los datos, pero se puede jugar con ella. \n",
    "\n",
    "Para esto se usa el método `rolling` el cual se puede usar con otros tipos de funciones.\n"
   ]
  },
  {
   "cell_type": "code",
   "execution_count": null,
   "metadata": {},
   "outputs": [],
   "source": [
    "confirmados[\"ma 3\"] = confirmados.CASOS.rolling(window=3, center=True).mean()\n",
    "confirmados[\"ma 7\"] = confirmados.CASOS.rolling(window=7, center=True).mean()\n",
    "confirmados[\"ma 14\"] = confirmados.CASOS.rolling(window=14, center=True).mean()\n",
    "\n",
    "fig = go.Figure(\n",
    ").add_scatter(\n",
    "    x=confirmados.index,\n",
    "    y=confirmados[\"CASOS\"],\n",
    "    mode='markers',\n",
    "    name=\"Real\"\n",
    ").add_scatter(\n",
    "    x=confirmados.index,\n",
    "    y=confirmados[\"ma 3\"],\n",
    "    hovertemplate=\"%{y:.1f}\",\n",
    "    name=\"MA 3 días\"\n",
    ").add_scatter(\n",
    "    x=confirmados.index,    \n",
    "    y=confirmados[\"ma 7\"],\n",
    "    hovertemplate=\"%{y:.1f}\",\n",
    "    name=\"MA 7 días\"\n",
    ").add_scatter(\n",
    "    x=confirmados.index,\n",
    "    y=confirmados[\"ma 14\"],\n",
    "    hovertemplate=\"%{y:.1f}\",\n",
    "    name=\"MA 14 días\"\n",
    ").update_layout(\n",
    "    title='Casos confirmados de COVID-10 en Sonora',\n",
    "    hovermode=\"x unified\"\n",
    ").show()"
   ]
  },
  {
   "cell_type": "markdown",
   "metadata": {},
   "source": [
    "### Medianas moviles\n"
   ]
  },
  {
   "cell_type": "code",
   "execution_count": null,
   "metadata": {},
   "outputs": [],
   "source": [
    "confirmados[\"mm 3\"] = confirmados.CASOS.rolling(window=3, center=True).median()\n",
    "confirmados[\"mm 7\"] = confirmados.CASOS.rolling(window=7, center=True).median()\n",
    "confirmados[\"mm 14\"] = confirmados.CASOS.rolling(window=14, center=True).median()\n",
    "\n",
    "fig = go.Figure(\n",
    ").add_scatter(\n",
    "    x=confirmados.index,\n",
    "    y=confirmados[\"CASOS\"],\n",
    "    mode='markers',\n",
    "    name=\"Real\"\n",
    ").add_scatter(\n",
    "    x=confirmados.index,\n",
    "    y=confirmados[\"mm 3\"],\n",
    "    hovertemplate=\"%{y:.1f}\",\n",
    "    name=\"MM 3 días\"\n",
    ").add_scatter(\n",
    "    x=confirmados.index,    \n",
    "    y=confirmados[\"mm 7\"],\n",
    "    hovertemplate=\"%{y:.1f}\",\n",
    "    name=\"MM 7 días\"\n",
    ").add_scatter(\n",
    "    x=confirmados.index,\n",
    "    y=confirmados[\"mm 14\"],\n",
    "    hovertemplate=\"%{y:.1f}\",\n",
    "    name=\"MM 14 días\"\n",
    ").update_layout(\n",
    "    title='Casos confirmados de COVID-10 en Sonora',\n",
    "    hovermode=\"x\"\n",
    ").show()"
   ]
  },
  {
   "cell_type": "markdown",
   "metadata": {},
   "source": [
    "### Medias moviles exponenciales"
   ]
  },
  {
   "cell_type": "code",
   "execution_count": null,
   "metadata": {
    "scrolled": false
   },
   "outputs": [],
   "source": [
    "confirmados[\"ewm span = 3\"] = confirmados.CASOS.ewm(span=3).mean()\n",
    "confirmados[\"ewm span = 7\"] = confirmados.CASOS.ewm(span=7).mean()\n",
    "confirmados[\"ewm span = 14\"] = confirmados.CASOS.ewm(span=14).mean()\n",
    "\n",
    "fig = go.Figure(\n",
    ").add_scatter(\n",
    "    x=confirmados.index,\n",
    "    y=confirmados[\"CASOS\"],\n",
    "    mode='markers',\n",
    "    name=\"Real\"\n",
    ").add_scatter(\n",
    "    x=confirmados.index,\n",
    "    y=confirmados[\"ewm 3\"],\n",
    "    hovertemplate=\"%{y:.1f}\",\n",
    "    name=\"EWM 3 días\"\n",
    ").add_scatter(\n",
    "    x=confirmados.index,    \n",
    "    y=confirmados[\"ewm 7\"],\n",
    "    hovertemplate=\"%{y:.1f}\",\n",
    "    name=\"EWM 7 días\"\n",
    ").add_scatter(\n",
    "    x=confirmados.index,\n",
    "    y=confirmados[\"ewm 14\"],\n",
    "    hovertemplate=\"%{y:.1f}\",\n",
    "    name=\"EWM 14 días\"\n",
    ").update_layout(\n",
    "    title='Casos confirmados de COVID-10 en Sonora'\n",
    ").show()"
   ]
  },
  {
   "cell_type": "markdown",
   "metadata": {},
   "source": [
    "### LOWESS\n"
   ]
  },
  {
   "cell_type": "code",
   "execution_count": null,
   "metadata": {},
   "outputs": [],
   "source": [
    "lowess = sm.nonparametric.lowess\n",
    "\n",
    "l1 = lowess(confirmados.CASOS, confirmados.index, frac=1/5)\n",
    "l2 = lowess(confirmados.CASOS, confirmados.index, frac=1/10)\n",
    "l3 = lowess(confirmados.CASOS, confirmados.index, frac=1/20)\n",
    "\n",
    "fig = go.Figure(\n",
    ").add_scatter(\n",
    "    x=confirmados.index,\n",
    "    y=confirmados[\"CASOS\"],\n",
    "    mode='markers',\n",
    "    name=\"Real\"\n",
    ").add_scatter(\n",
    "    x=confirmados.index[1:],\n",
    "    y=l1[:,1],\n",
    "    hovertemplate=\"%{y:.1f}\",\n",
    "    name=\"LOWESS 1/5\"\n",
    ").add_scatter(\n",
    "    x=confirmados.index[1:],    \n",
    "    y=l2[:,1],\n",
    "    hovertemplate=\"%{y:.1f}\",\n",
    "    name=\"LOWESS 1/10\"\n",
    ").add_scatter(\n",
    "    x=confirmados.index[1:],\n",
    "    y=l3[:,1],\n",
    "    hovertemplate=\"%{y:.1f}\",\n",
    "    name=\"LOWESS 1/20\"\n",
    ").update_layout(\n",
    "    title='Casos confirmados de COVID-10 en Sonora',\n",
    "    hovermode=\"x\"\n",
    ").show()\n",
    "\n"
   ]
  },
  {
   "cell_type": "code",
   "execution_count": null,
   "metadata": {},
   "outputs": [],
   "source": [
    "fig = go.Figure(\n",
    ").add_scatter(\n",
    "    x=confirmados.index,\n",
    "    y=confirmados[\"CASOS\"],\n",
    "    mode='markers',\n",
    "    name=\"Real\"\n",
    ").add_scatter(\n",
    "    x=confirmados.index[1:],\n",
    "    y=l2[:,0],\n",
    "    hovertemplate=\"%{y:.1f}\",\n",
    "    name=\"LOWESS 1/5\"\n",
    ").add_scatter(\n",
    "    x=confirmados.index[1:],    \n",
    "    y=l2[:,1],\n",
    "    hovertemplate=\"%{y:.1f}\",\n",
    "    name=\"LOWESS 1/10\"\n",
    ").update_layout(\n",
    "    title='Casos confirmados de COVID-10 en Sonora',\n",
    "    hovermode=\"x\"\n",
    ").show()\n",
    "\n",
    "\n"
   ]
  },
  {
   "cell_type": "code",
   "execution_count": null,
   "metadata": {},
   "outputs": [],
   "source": [
    "fig = go.Figure(\n",
    ").add_scatter(\n",
    "    x=confirmados.index,\n",
    "    y=confirmados[\"CASOS\"],\n",
    "    mode='markers',\n",
    "    name=\"Real\"\n",
    ").add_scatter(\n",
    "    x=confirmados.index,\n",
    "    y=confirmados[\"ma 7\"],\n",
    "    hovertemplate=\"%{y:.1f}\",\n",
    "    name=\"MA 7 días\"\n",
    ").add_scatter(\n",
    "    x=confirmados.index,    \n",
    "    y=confirmados[\"mm 7\"],\n",
    "    hovertemplate=\"%{y:.1f}\",\n",
    "    name=\"MM 7 días\"\n",
    ").add_scatter(\n",
    "    x=confirmados.index,\n",
    "    y=confirmados[\"ewm 7\"],\n",
    "    hovertemplate=\"%{y:.1f}\",\n",
    "    name=\"EWM 7 días\"\n",
    ").add_scatter(\n",
    "    x=confirmados.index[1:],\n",
    "    y=l2[:,1],\n",
    "    hovertemplate=\"%{y:.1f}\",\n",
    "    name=\"LOWESS 1/10\"\n",
    ").update_layout(\n",
    "    title='Casos confirmados de COVID-10 en Sonora',\n",
    "    hovermode=\"x\"\n",
    ").show()\n",
    "\n",
    "\n"
   ]
  },
  {
   "cell_type": "code",
   "execution_count": null,
   "metadata": {},
   "outputs": [],
   "source": []
  }
 ],
 "metadata": {
  "kernelspec": {
   "display_name": "Python 3 (ipykernel)",
   "language": "python",
   "name": "python3"
  },
  "language_info": {
   "codemirror_mode": {
    "name": "ipython",
    "version": 3
   },
   "file_extension": ".py",
   "mimetype": "text/x-python",
   "name": "python",
   "nbconvert_exporter": "python",
   "pygments_lexer": "ipython3",
   "version": "3.9.6"
  }
 },
 "nbformat": 4,
 "nbformat_minor": 4
}
