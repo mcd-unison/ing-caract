{
  "cells": [
    {
      "cell_type": "markdown",
      "metadata": {
        "id": "QI62-AEPQ-e5"
      },
      "source": [
        "<center>\n",
        "<p><img src=\"https://mcd.unison.mx/wp-content/themes/awaken/img/logo_mcd.png\" width=\"150\">\n",
        "</p>\n",
        "\n",
        "\n",
        "\n",
        "# Curso *Ingeniería de Características*\n",
        "\n",
        "### Usando la API para obtener datos sobre personas desaparecidas del RNPDNO\n",
        "\n",
        "\n",
        "<p> Julio Waissman Vilanova </p>\n",
        "\n",
        "\n",
        "\n",
        "<a target=\"_blank\" href=\"https://colab.research.google.com/github/mcd-unison/ing-caract/blob/main/ejemplos/integracion/python/RNPDNO-API.ipynb\"><img src=\"https://i.ibb.co/2P3SLwK/colab.png\"  style=\"padding-bottom:5px;\" />Ejecuta en Google Colab</a>\n",
        "\n",
        "</center>"
      ]
    },
    {
      "cell_type": "code",
      "execution_count": null,
      "metadata": {
        "id": "VB7dI9gOQ9ss"
      },
      "outputs": [],
      "source": [
        "import os\n",
        "import sys  \n",
        "import requests\n",
        "import datetime \n",
        "\n",
        "import pandas as pd\n",
        "import json \n"
      ]
    },
    {
      "cell_type": "markdown",
      "metadata": {
        "id": "0PXnDPo4SXvR"
      },
      "source": [
        "## Calentando motores\n",
        "\n",
        "Para descargar los datos, vamos a consultar directamente la base de datos pública del [Registro Nacional de Personas Desaparecidas y No Localizadas (RNPDNO)](https://versionpublicarnpdno.segob.gob.mx/Dashboard/Index).\n",
        "\n",
        "El RNPDNO no tiene una API tal cual, sin embargo, [Pablo Reyes Moctezuma](https://github.com/pablorm296) encontró una manera de extraer la información usando la librería `request` de python. La API que, me imagino, el extrajo a punta de prueba y error la documento en [este archivo en markdown](https://github.com/pablorm296/ScrapperRNPDNO/blob/master/Test/API.md). Un chambón.\n",
        "\n",
        "Vamos air la usando poco a poco, empecemos por tratar de encontrar en el catálogo los indices de estados, municipios y colonias."
      ]
    },
    {
      "cell_type": "code",
      "execution_count": null,
      "metadata": {
        "id": "4_ADCASuSgJO"
      },
      "outputs": [],
      "source": [
        "API_HOST = \"https://versionpublicarnpdno.segob.gob.mx/\"\n",
        "API_SOCIODEOGRAFICOS_ROOT = \"Sociodemografico/\"\n",
        "API_CATALAGO_ROOT = \"Catalogo/\"\n",
        "\n",
        "ENDPOINT_CATALOGO_EDO = \"Estados/\"\n",
        "ENDPOINT_CATALOGO_MUN = \"Municipios/\"\n",
        "ENDPOINT_CATALOGO_COL = \"Colonias/\"\n",
        "\n",
        "# Before doing anything, we must make a dummy request to the index in order to get the propper cookies\n",
        "main_session = requests.Session()\n",
        "main_session.get(\"https://versionpublicarnpdno.segob.gob.mx/Dashboard/Index\")\n",
        "main_session.get(\"https://versionpublicarnpdno.segob.gob.mx/Dashboard/ContextoGeneral\")"
      ]
    },
    {
      "cell_type": "markdown",
      "metadata": {
        "id": "OcQPW4k5fY2Z"
      },
      "source": [
        "Los identificadores de los estados:"
      ]
    },
    {
      "cell_type": "code",
      "execution_count": null,
      "metadata": {
        "id": "BoqsVt9bfeJ8"
      },
      "outputs": [],
      "source": [
        "TARGET_URL = API_HOST + API_CATALAGO_ROOT + ENDPOINT_CATALOGO_EDO\n",
        "\n",
        "r = main_session.post(TARGET_URL)\n",
        "estados_id = pd.json_normalize(r.json(),)\n",
        "estados_id.columns = ['Valor', 'Estado']\n",
        "estados_id"
      ]
    },
    {
      "cell_type": "markdown",
      "metadata": {
        "id": "2RGJzzSIfkHb"
      },
      "source": [
        "y ahora los municipios de Sonora"
      ]
    },
    {
      "cell_type": "code",
      "execution_count": null,
      "metadata": {
        "id": "1vLWvSHufn-C"
      },
      "outputs": [],
      "source": [
        "TARGET_URL = API_HOST + API_CATALAGO_ROOT + ENDPOINT_CATALOGO_MUN\n",
        "DATA = {\"idEstado\": \"26\"}\n",
        "\n",
        "r = main_session.post(TARGET_URL, data = DATA)\n",
        "mun_son_id = pd.json_normalize(r.json())\n",
        "mun_son_id.columns = ['Valor', 'Municipio']\n",
        "mun_son_id"
      ]
    },
    {
      "cell_type": "markdown",
      "metadata": {
        "id": "vmDB1cLgf2Is"
      },
      "source": [
        "y por último los identificadores de las colonias del municipio de Hermosillo"
      ]
    },
    {
      "cell_type": "code",
      "execution_count": null,
      "metadata": {
        "colab": {
          "base_uri": "https://localhost:8080/",
          "height": 354
        },
        "id": "28p6F5mhfusd",
        "outputId": "411df456-b83a-4f24-b0cf-7b40750720d5"
      },
      "outputs": [],
      "source": [
        "TARGET_URL = API_HOST + API_CATALAGO_ROOT + ENDPOINT_CATALOGO_COL\n",
        "DATA = {\"idEstado\": \"26\", \"idMunicipio\": \"30\"}\n",
        "\n",
        "r = main_session.post(TARGET_URL, data = DATA)\n",
        "col_hmo_id = pd.json_normalize(r.json())\n",
        "col_hmo_id.columns = ['Valor', 'Municipio']\n",
        "col_hmo_id"
      ]
    },
    {
      "cell_type": "markdown",
      "metadata": {
        "id": "6RuUglYUgEIM"
      },
      "source": [
        "## Sociodemográficos totales\n",
        "\n",
        "`Con este `endpoint` se pueden consultar resúmenes generales de la información que se pide. recuerda de revisar los catálogos.\n",
        "\n",
        "Hay dos variables cuyos valores posibles son los siguientes:\n",
        "\n",
        "**idEstatusVictima**: \n",
        "- \"0\" PERSONAS DESAPARECIDAS, NO LOCALIZADAS Y LOCALIZADAS\n",
        "- \"2\" PERSONAS LOCALIZADAS CON VIDA\n",
        "- \"3\" PERSONAS LOCALIZADAS SIN VIDA- \"4\" PERSONAS DESAPARECIDAS\n",
        "- \"5\" PERSONAS NO LOCALIZADAS\n",
        "- \"6\" PERSONAS LOCALIZADAS\n",
        "- \"7\" PERSONAS DESAPARECIDAS Y NO LOCALIZADAS\n",
        "\n",
        "**idHipotesisNoLocalizacion**:\n",
        "- \"0\" --TODAS--\n",
        "- \"1\" ACCIDENTE\n",
        "- \"2\" CATÁSTROFE\n",
        "- \"3\" NO LOCALIZACIÓN VOLUNTARIA\n",
        "- \"4\" NO LOCALIZACIÓN INVOLUNTARIA\n",
        "- \"5\" SE DESCONOCE\n",
        "\n",
        "Veamos como funciona pidiendo información de Sonora y de Hermosillo. Empecemos por Sonora"
      ]
    },
    {
      "cell_type": "code",
      "execution_count": null,
      "metadata": {
        "colab": {
          "base_uri": "https://localhost:8080/",
          "height": 480
        },
        "id": "wGrSez2lijbf",
        "outputId": "891456f3-2940-4f6b-aa66-0f67dc62d339"
      },
      "outputs": [],
      "source": [
        "TARGET_URL = API_HOST + API_SOCIODEOGRAFICOS_ROOT + \"Totales\"\n",
        "\n",
        "DATA = {\n",
        "  \"titulo\":\"\", \n",
        "  \"subtitulo\": \"\", \n",
        "  \"idEstatusVictima\":\"0\",\n",
        "  \"idHipotesisNoLocalizacion\":\"0\",\n",
        "  \"idEstado\":\"26\",\n",
        "  \"idMunicipio\":\"0\",\n",
        "  \"idColonia\":\"0\",\n",
        "  \"fechaInicio\":\"\",\n",
        "  \"fechaFin\":\"\",\n",
        "  \"mostrarFechaNula\":\"0\",\n",
        "  \"edadInicio\":\"\",\n",
        "  \"edadFin\":\"\",\n",
        "  \"mostrarEdadNula\":\"0\",\n",
        "  \"idNacionalidad\":\"0\",\n",
        "  \"idHipotesis\":\"\",\n",
        "  \"idMedioConocimiento\":\"\",\n",
        "  \"idCircunstancia\":\"\",\n",
        "  \"tieneDiscapacidad\":\"\",\n",
        "  \"idTipoDiscapacidad\":\"0\",\n",
        "  \"idEtnia\":\"0\",\n",
        "  \"idLengua\":\"0\",\n",
        "  \"idReligion\":\"\",\n",
        "  \"esMigrante\":\"\",\n",
        "  \"idEstatusMigratorio\":\"0\",\n",
        "  \"esLgbttti\":\"\",\n",
        "  \"esServidorPublico\":\"\",\n",
        "  \"esDefensorDH\":\"\",\n",
        "  \"esPeriodista\":\"\",\n",
        "  \"esSindicalista\":\"\",\n",
        "  \"esONG\":\"\",\n",
        "  \"idDelito\":\"0\"\n",
        "}\n",
        "r = main_session.post(TARGET_URL, json = DATA)\n",
        "\n",
        "resumen_sonora = pd.json_normalize(r.json()).T\n",
        "resumen_sonora.columns = ['Valor']\n",
        "\n",
        "resumen_sonora\n"
      ]
    },
    {
      "cell_type": "markdown",
      "metadata": {
        "id": "ruPOf-qto1yH"
      },
      "source": [
        "### Ejercicio \n",
        "\n",
        "Probar con diferentes consultas y tratar de inferir los valores que pueden tomar (o buscarlas en la documentación de la API) las diferentes variables que pueden servir para encontrar búsquedas más específicas.\n",
        "\n",
        "Por ejemplo, ¿Como podríamos consultar las estadísticas sobre mujeres desaparecidas en el municipio de Cajeme? "
      ]
    },
    {
      "cell_type": "markdown",
      "metadata": {
        "id": "42E_2vlqp6Vx"
      },
      "source": [
        "## Personas desaparecidas por sexo y colonia\n",
        "\n",
        "El `endpoint` **BarChartSexoColonia** está diseñado para generar gráficas, pero nos permite extraer información, si la sabemos formatear.\n",
        "\n",
        "Vamos viendo un ejemplo:\n"
      ]
    },
    {
      "cell_type": "code",
      "execution_count": null,
      "metadata": {
        "id": "Ap6bIvcrqtLs"
      },
      "outputs": [],
      "source": [
        "TARGET_URL = API_HOST + API_SOCIODEOGRAFICOS_ROOT + \"BarChartSexoColonia\"\n",
        "\n",
        "DATA = {\n",
        "  \"titulo\":\"PERSONAS DESAPARECIDAS, NO LOCALIZADAS Y LOCALIZADAS\",\n",
        "  \"subtitulo\":\"POR COLONIAS - HERMOSILLO\",\n",
        "  \"idEstado\":\"26\",\n",
        "  \"idMunicipio\":\"30\",\n",
        "  \"idColonia\":\"0\",\n",
        "  \"idEstatusVictima\":\"0\",\n",
        "  \"idHipotesisNoLocalizacion\":\"0\",\n",
        "  \"idDelito\":\"0\",\n",
        "  \"fechaInicio\":\"\",\n",
        "  \"fechaFin\":\"\",\n",
        "  \"mostrarFechaNula\":\"0\",\n",
        "  \"idNacionalidad\":\"0\",\n",
        "  \"edadInicio\":\"\",\n",
        "  \"edadFin\":\"\",\n",
        "  \"mostrarEdadNula\":\"0\",\n",
        "  \"idHipotesis\":\"\",\n",
        "  \"idMedioConocimiento\":\"\",\n",
        "  \"idCircunstancia\":\"\",\n",
        "  \"tieneDiscapacidad\":\"\",\n",
        "  \"idTipoDiscapacidad\":\"0\",\n",
        "  \"idEtnia\":\"0\",\n",
        "  \"idLengua\":\"0\",\n",
        "  \"idReligion\":\"\",\n",
        "  \"esMigrante\":\"\",\n",
        "  \"idEstatusMigratorio\":\"0\",\n",
        "  \"esLgbttti\":\"\",\n",
        "  \"esServidorPublico\":\"\",\n",
        "  \"esDefensorDH\":\"\",\n",
        "  \"esPeriodista\":\"\",\n",
        "  \"esSindicalista\":\"\",\n",
        "  \"esONG\":\"\",\n",
        "}\n",
        "r = main_session.post(TARGET_URL, json = DATA)\n",
        "\n",
        "res = r.json()\n",
        "datos = {serie['name']: serie['data'] for serie in res['Series']}\n",
        "datos['Colonia'] = res['XAxisCategories']\n",
        "por_colonia = pd.DataFrame(datos)\n",
        "por_colonia.index = por_colonia.Colonia\n",
        "\n",
        "por_colonia\n"
      ]
    },
    {
      "cell_type": "markdown",
      "metadata": {
        "id": "2aB2gKRVu8jD"
      },
      "source": [
        "### Ejercicio \n",
        "\n",
        "¿Como podemos sacar lo que pasa en todo el estado, por municipios y por colonias? Intentalo."
      ]
    },
    {
      "cell_type": "markdown",
      "metadata": {
        "id": "uqlX023EvZTp"
      },
      "source": [
        "## Información por sexo y por año\n",
        "\n",
        "Tambien se puede encontrar información por sexo y por año utilizando otro `endpoint`: **AreaChartSexoAnio**\n",
        "\n",
        "Sin mas choro, vamos a ver como se usa, otra vez con el estado de Sonora:"
      ]
    },
    {
      "cell_type": "code",
      "execution_count": null,
      "metadata": {
        "id": "_vA3UoX8wQtD"
      },
      "outputs": [],
      "source": [
        "TARGET_URL = API_HOST + API_SOCIODEOGRAFICOS_ROOT + \"AreaChartSexoAnio\"\n",
        "\n",
        "DATA = {\n",
        "  \"titulo\":\"PERSONAS DESAPARECIDAS, NO LOCALIZADAS Y LOCALIZADAS\",\n",
        "  \"subtitulo\":\"POR AÑO EN EL ESTADO DE SONORA\",\n",
        "  \"idEstado\":\"26\",\n",
        "  \"idMunicipio\":\"0\",\n",
        "  \"idColonia\":\"0\",\n",
        "  \"edadInicio\":\"\",\n",
        "  \"edadFin\":\"\",\n",
        "  \"mostrarEdadNula\":\"0\",\n",
        "  \"idHipotesisNoLocalizacion\":\"0\",\n",
        "  \"idDelito\":\"0\",\n",
        "  \"idEstatusVictima\":\"0\",\n",
        "  \"fechaInicio\":\"\",\n",
        "  \"fechaFin\":\"\",\n",
        "  \"mostrarFechaNula\":\"0\",\n",
        "  \"idNacionalidad\":\"0\",\n",
        "  \"idHipotesis\":\"\",\n",
        "  \"idMedioConocimiento\":\"\",\n",
        "  \"idCircunstancia\":\"\",\n",
        "  \"idEtnia\":\"0\",\n",
        "  \"idLengua\":\"0\",\n",
        "  \"idReligion\":\"\",\n",
        "  \"tieneDiscapacidad\":\"\",\n",
        "  \"idTipoDiscapacidad\":\"0\",\n",
        "  \"esMigrante\":\"\",\n",
        "  \"idEstatusMigratorio\":\"0\",\n",
        "  \"esLgbttti\":\"\",\n",
        "  \"esServidorPublico\":\"\",\n",
        "  \"esDefensorDH\":\"\",\n",
        "  \"esPeriodista\":\"\",\n",
        "  \"esSindicalista\":\"\",\n",
        "  \"esONG\":\"\",\n",
        "}\n",
        "\n",
        "r = main_session.post(TARGET_URL, json = DATA)\n",
        "\n",
        "res = r.json()\n",
        "\n",
        "datos = {serie['name']: serie['data'] for serie in res['Series']}\n",
        "datos['Fecha'] = res['XAxisCategories']\n",
        "\n",
        "por_fecha = pd.DataFrame(datos)\n",
        "por_fecha['Fecha'] = pd.to_numeric(por_fecha.Fecha, errors='coerce')\n",
        "por_fecha.index = por_fecha.Fecha\n",
        "\n",
        "por_fecha\n"
      ]
    },
    {
      "cell_type": "markdown",
      "metadata": {
        "id": "cuvGMmtU24b8"
      },
      "source": [
        "### Ejercicio\n",
        "\n",
        "¿Se puede hacer por municipio? ¿En forma programática? ¿Para algun caso especial? Intentalo"
      ]
    },
    {
      "cell_type": "markdown",
      "metadata": {},
      "source": [
        "### Ejercicio\n",
        "\n",
        "Extrae alguna información del conjunto de tados que pienses que es relevante, y explica porqué."
      ]
    },
    {
      "cell_type": "markdown",
      "metadata": {
        "id": "bIXc3mK63FrR"
      },
      "source": [
        "## Practicando a ser investigador de APIs\n",
        "\n",
        "Ahora te pido que revises si puedes encontrar otros endpoints para recuperar mas información de las bases que no se encuentran liberadas. Puede ser en la misma página, o en blogs o revisando código. Agrega en esta libreta la documentación (o enlaces a dicha documentación) y un ejemplo de uso de una API pobremente documentada."
      ]
    }
  ],
  "metadata": {
    "colab": {
      "collapsed_sections": [],
      "name": "Untitled7.ipynb",
      "provenance": []
    },
    "kernelspec": {
      "display_name": "Python 3",
      "name": "python3"
    },
    "language_info": {
      "name": "python"
    }
  },
  "nbformat": 4,
  "nbformat_minor": 0
}
