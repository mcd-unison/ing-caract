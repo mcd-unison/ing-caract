{
 "cells": [
  {
   "cell_type": "markdown",
   "metadata": {},
   "source": [
    "<center>\n",
    "<p><img src=\"https://mcd.unison.mx/wp-content/themes/awaken/img/logo_mcd.png\" width=\"150\">\n",
    "</p>\n",
    "\n",
    "\n",
    "\n",
    "<h1>Curso Ingeniería de Características</h1>\n",
    "\n",
    "<h3>Herramientas de EDA automático en python</h3>\n",
    "\n",
    "\n",
    "\n",
    "<p> Julio Waissman Vilanova </p>\n",
    "\n",
    "\n",
    "<a target=\"_blank\" href=\"https://colab.research.google.com/github/mcd-unison/ing-caract/blob/main/ejemplos/eda/auto-eda.ipynb\"><img src=\"https://i.ibb.co/2P3SLwK/colab.png\"  style=\"padding-bottom:5px;\"  width=\"30\" /> Ejecuta en Colab</a>\n",
    "\n",
    "</center>"
   ]
  },
  {
   "cell_type": "markdown",
   "metadata": {},
   "source": [
    "## Conjuntos de datos\n",
    "\n",
    "Para ejemplificar el uso de las herramientas de EDA automñatico, vamos a usar dos conjuntos de datos muy sobados, pero que son interesantes para ver diferentes cualisdades y características de las herramientas disponibles.\n",
    "\n",
    "Los conjuntos son:\n",
    "\n",
    "- `titanic`: La base de datos del Titanic es un conjunto de datos clásico utilizado en el campo del aprendizaje automático y análisis de datos. Contiene información sobre los pasajeros a bordo del famoso transatlántico RMS Titanic, que se hundió trágicamente en su viaje inaugural en abril de 1912 después de chocar contra un iceberg. Este conjunto de datos a menudo se utiliza como una introducción al aprendizaje automático y la ciencia de datos para practicar técnicas de manipulación de datos, análisis exploratorio y modelado predictivo.\n",
    "\n",
    "- `insurance`: Este conjunto de datos es interesante para los analistas de datos y científicos de datos porque permite explorar cómo diferentes factores, como la edad, el género, el hábito de fumar y la ubicación geográfica, afectan los costos de los seguros médicos.  "
   ]
  },
  {
   "cell_type": "code",
   "execution_count": null,
   "metadata": {},
   "outputs": [],
   "source": [
    "import numpy as np # Solo para no sentirme desamparado\n",
    "import pandas as pd"
   ]
  },
  {
   "cell_type": "code",
   "execution_count": null,
   "metadata": {},
   "outputs": [],
   "source": [
    "titanic_url = \"https://raw.githubusercontent.com/mcd-unison/ing-caract/main/ejemplos/eda/titanic.csv\"\n",
    "\n",
    "insurance_url = \"https://raw.githubusercontent.com/mcd-unison/ing-caract/main/ejemplos/eda/insurance.csv\"\n",
    "\n",
    "titanic = pd.read_csv(titanic_url)\n",
    "insurance = pd.read_csv(insurance_url)\n",
    "\n",
    "print(titanic.info())\n",
    "\n",
    "print(insurance.info())\n"
   ]
  },
  {
   "cell_type": "markdown",
   "metadata": {},
   "source": [
    "## YData profiler\n",
    "\n",
    "YData-profiling es una herramienta que extiende las funcionalidades de la biblioteca pandas al proporcionar análisis y visualizaciones detalladas y automatizadas de un conjunto de datos de pandas. Esta librería genera informes interactivos en formato HTML que contienen información sobre:\n",
    "\n",
    "- Visión General del Conjunto de Datos\n",
    "\n",
    "- Estadísticas Básicas\n",
    "\n",
    "- Visualizaciones:\n",
    "  - Histogramas para variables numéricas.\n",
    "  - Gráficos de barras para variables categóricas.\n",
    "  - Gráficos de dispersión para visualizar relaciones entre pares de variables.\n",
    "\n",
    "- Correlaciones\n",
    "\n",
    "- Variables Duplicadas\n",
    "\n",
    "- Variables Altamente Correlacionadas\n",
    "\n",
    "- Análisis de Valores Faltantes\n",
    "\n",
    "\n",
    "Puedes instalarlo usando pip:"
   ]
  },
  {
   "cell_type": "code",
   "execution_count": null,
   "metadata": {},
   "outputs": [],
   "source": [
    "!pip install -U ydata-profiling"
   ]
  },
  {
   "cell_type": "markdown",
   "metadata": {},
   "source": [
    "Y para generar un reporte de profiling de una base de datos simplemente tenemos que hacer:"
   ]
  },
  {
   "cell_type": "code",
   "execution_count": null,
   "metadata": {},
   "outputs": [],
   "source": [
    "from ydata_profiling import ProfileReport\n",
    "\n",
    "titanic_profile = ProfileReport(titanic, title=\"Reporte de la base de Titanic\")\n",
    "insurance_profile = ProfileReport(insurance, title=\"Reporte de la base de Insurance\")"
   ]
  },
  {
   "cell_type": "markdown",
   "metadata": {},
   "source": [
    "y para ver el reporte dentro de una libreta de jupyter, hay que hacer (sobre todo si es de colab):"
   ]
  },
  {
   "cell_type": "code",
   "execution_count": null,
   "metadata": {},
   "outputs": [],
   "source": [
    "titanic_profile.to_notebook_iframe()"
   ]
  },
  {
   "cell_type": "markdown",
   "metadata": {},
   "source": [
    "Y para guardarlo en archivo tipo html:"
   ]
  },
  {
   "cell_type": "code",
   "execution_count": null,
   "metadata": {},
   "outputs": [],
   "source": [
    "insurance_profile.to_file(\"insurance_profilling_report.html\")"
   ]
  },
  {
   "cell_type": "markdown",
   "metadata": {},
   "source": [
    "Y este archivo se descarga en la computadora para visualizarlo (si es que se encuentra en colab, por ejemplo)."
   ]
  },
  {
   "cell_type": "markdown",
   "metadata": {},
   "source": [
    "## Sweetviz\n",
    "\n",
    "`Sweetviz` es una biblioteca de Python que se utiliza para realizar análisis exploratorio de datos de manera rápida y visualmente informativa. A través de gráficos y tablas intuitivas, Sweetviz proporciona una comparación detallada entre dos conjuntos de datos (como un conjunto de datos de entrenamiento y un conjunto de datos de prueba) o entre un conjunto de datos y un objetivo (variable que se está tratando de predecir). Esta herramienta es especialmente útil para comprender la relación entre las variables y cómo influyen en el resultado de un modelo de machine learning.\n",
    "\n",
    "Para instalarla hay que hacer lo siguiente:"
   ]
  },
  {
   "cell_type": "code",
   "execution_count": null,
   "metadata": {},
   "outputs": [],
   "source": [
    "!pip install sweetviz"
   ]
  },
  {
   "cell_type": "markdown",
   "metadata": {},
   "source": [
    "Y para utilizarlo para enerar visualizaciones, simplemente:"
   ]
  },
  {
   "cell_type": "code",
   "execution_count": null,
   "metadata": {},
   "outputs": [],
   "source": [
    "import sweetviz as sv\n",
    "\n",
    "titanic_sv = sv.analyze(titanic)\n",
    "insurance_sv = sv.analyze(insurance)"
   ]
  },
  {
   "cell_type": "markdown",
   "metadata": {},
   "source": [
    "Para verlo dentro de un notebook:"
   ]
  },
  {
   "cell_type": "code",
   "execution_count": null,
   "metadata": {},
   "outputs": [],
   "source": [
    "titanic_sv.show_notebook()"
   ]
  },
  {
   "cell_type": "markdown",
   "metadata": {},
   "source": [
    "Para guardarlo en html"
   ]
  },
  {
   "cell_type": "code",
   "execution_count": null,
   "metadata": {},
   "outputs": [],
   "source": [
    "insurance_sv.show_html(\n",
    "    filepath='SWEETVIZ_REPORT.html', \n",
    "    open_browser=True, \n",
    "    layout='widescreen' \n",
    ")"
   ]
  },
  {
   "cell_type": "markdown",
   "metadata": {},
   "source": [
    "## SummaryTools\n"
   ]
  },
  {
   "cell_type": "code",
   "execution_count": null,
   "metadata": {},
   "outputs": [],
   "source": [
    "!pip install summarytools"
   ]
  },
  {
   "cell_type": "code",
   "execution_count": null,
   "metadata": {},
   "outputs": [],
   "source": [
    "from summarytools import dfSummary\n",
    "dfSummary(titanic)\n",
    "# dfSummary(titanic, is_collapsible = True)"
   ]
  },
  {
   "cell_type": "markdown",
   "metadata": {},
   "source": [
    "## AutoViz"
   ]
  },
  {
   "cell_type": "code",
   "execution_count": null,
   "metadata": {},
   "outputs": [],
   "source": [
    "!pip install autoviz"
   ]
  },
  {
   "cell_type": "code",
   "execution_count": null,
   "metadata": {},
   "outputs": [],
   "source": [
    "%matplotlib inline\n",
    "\n",
    "from autoviz import AutoViz_Class\n",
    "AV = AutoViz_Class()\n",
    "dft = AV.AutoViz(titanic, chart_format ='png')"
   ]
  },
  {
   "cell_type": "markdown",
   "metadata": {},
   "source": [
    "## D-Tale"
   ]
  },
  {
   "cell_type": "code",
   "execution_count": null,
   "metadata": {},
   "outputs": [],
   "source": [
    "!pip install dtale"
   ]
  },
  {
   "cell_type": "code",
   "execution_count": null,
   "metadata": {},
   "outputs": [],
   "source": [
    "import dtale.app as dtale_app\n",
    "\n",
    "#dtale_app.USE_NGROK = True\n",
    "dtale_app.USE_COLAB = True"
   ]
  },
  {
   "cell_type": "code",
   "execution_count": null,
   "metadata": {},
   "outputs": [],
   "source": [
    "import dtale\n",
    "dtale.show(titanic)"
   ]
  }
 ],
 "metadata": {
  "language_info": {
   "name": "python"
  }
 },
 "nbformat": 4,
 "nbformat_minor": 2
}
