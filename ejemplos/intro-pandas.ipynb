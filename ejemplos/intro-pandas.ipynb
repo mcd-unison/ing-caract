{
 "cells": [
  {
   "attachments": {},
   "cell_type": "markdown",
   "id": "2afa4105",
   "metadata": {},
   "source": [
    "<a href=\"https://colab.research.google.com/github/ml-unison/ml-unison.github.io/blob/main/ejemplos/intro-pandas.ipynb\" target=\"_parent\"><img src=\"https://colab.research.google.com/assets/colab-badge.svg\" alt=\"Open In Colab\"/></a>"
   ]
  },
  {
   "attachments": {},
   "cell_type": "markdown",
   "id": "338eae7f-a37d-48d9-9e81-a1d1e8c0892c",
   "metadata": {},
   "source": [
    "<center>\n",
    "<p><img src=\"https://mcd.unison.mx/wp-content/themes/awaken/img/logo_mcd.png\" width=\"150\">\n",
    "</p>\n",
    "\n",
    "\n",
    "\n",
    "# Curso *Ingeniería de Características*\n",
    "\n",
    "### Introducción muy breve a `pandas`\n",
    "\n",
    "\n",
    "<p> Julio Waissman Vilanova </p>\n",
    "\n",
    "\n",
    "<a target=\"_blank\" href=\"https://colab.research.google.com/github/mcd-unison/ing-caract/blob/main/ejemplos/intro-pandas.ipynb\"><img src=\"https://i.ibb.co/2P3SLwK/colab.png\"  style=\"padding-bottom:5px;\" />Ejecuta en Google Colab</a>\n",
    "\n",
    "</center>"
   ]
  },
  {
   "cell_type": "code",
   "execution_count": null,
   "id": "38110519-1749-445e-bcb0-0a9483baffed",
   "metadata": {},
   "outputs": [],
   "source": [
    "import pandas as pd"
   ]
  },
  {
   "attachments": {},
   "cell_type": "markdown",
   "id": "0a6b9c46-c671-4d3b-8016-4b051ea4a29a",
   "metadata": {},
   "source": [
    "## Creando un dataframe\n",
    "\n",
    "Pandas es un marco de desarrollo para la manipulación de datos, creado originalmente para ofrecer en python las facilidades de manejo de tablas de datos que tiene en forma nativa el lenguaje `R`. \n",
    "\n",
    "Pandas se basa en dos clases: `Serie` y `DataFrame`, ambas heredadas de la clase `ndarray`de numpy. Un objeto de la clase `Serie`(que llamaremos serie) es un arreglo de datos de un solo tipo, los cuales se encuentran indexados. Un objeto tipo `DataFrame`es una colección de series, en la que se comparte el índice (o renglón), pero cada serie (o columna) tiene su propio tipo. En la figura se muestra como es un DataFrame\n",
    "\n",
    "![](https://pandas.pydata.org/docs/_images/01_table_dataframe.svg)\n",
    "\n",
    "Vamos a crear un `Dataframe`:"
   ]
  },
  {
   "cell_type": "code",
   "execution_count": null,
   "id": "10f1400c-94e9-4b0a-a764-687cea1c2b5b",
   "metadata": {},
   "outputs": [],
   "source": [
    "df = pd.DataFrame(\n",
    "    {\n",
    "        \"Name\": [\n",
    "            \"Braund, Mr. Owen Harris\",\n",
    "            \"Allen, Mr. William Henry\",\n",
    "            \"Bonnell, Miss. Elizabeth\",\n",
    "        ],\n",
    "        \"Age\": [22, 35, 58],\n",
    "        \"Sex\": [\"male\", \"male\", \"female\"]\n",
    "    }\n",
    ")"
   ]
  },
  {
   "attachments": {},
   "cell_type": "markdown",
   "id": "7554a1e9-eaa7-4708-b1a1-7e3256054389",
   "metadata": {},
   "source": [
    "Y vamos a ver los primeros 2 elementos y los últimos 3"
   ]
  },
  {
   "cell_type": "code",
   "execution_count": null,
   "id": "8d7c357d-7c9a-4fbb-b5e2-af73e10578f8",
   "metadata": {},
   "outputs": [],
   "source": [
    "display(df.head(2))"
   ]
  },
  {
   "cell_type": "code",
   "execution_count": null,
   "id": "3ca2c4d0-bd71-4906-ab94-3daed3a50106",
   "metadata": {},
   "outputs": [],
   "source": [
    "display(df.tail(2))"
   ]
  },
  {
   "attachments": {},
   "cell_type": "markdown",
   "id": "5d5388f0-6310-4d82-897a-abf03deb8232",
   "metadata": {},
   "source": [
    "Ahora vamos a investigar la información de la tabla y cada una de las series que la componen:"
   ]
  },
  {
   "cell_type": "code",
   "execution_count": null,
   "id": "970649e0-5ab4-4825-a876-a2b502650727",
   "metadata": {},
   "outputs": [],
   "source": [
    "df['Name']"
   ]
  },
  {
   "cell_type": "code",
   "execution_count": null,
   "id": "90a1dffa-cda0-41ae-b0c8-b4682cfc32a8",
   "metadata": {},
   "outputs": [],
   "source": [
    "df['Age']"
   ]
  },
  {
   "cell_type": "code",
   "execution_count": null,
   "id": "4e1be519-2a74-45c8-a30e-bc15652eb631",
   "metadata": {},
   "outputs": [],
   "source": [
    "df.index"
   ]
  },
  {
   "cell_type": "code",
   "execution_count": null,
   "id": "286c0478-237f-4622-8e33-c581c8965a3a",
   "metadata": {},
   "outputs": [],
   "source": [
    "df.index = ['tata', 'tete', 'toto']\n",
    "df"
   ]
  },
  {
   "cell_type": "code",
   "execution_count": null,
   "id": "f4dd9b58-f97b-4281-9bc1-a6682d3ffa7d",
   "metadata": {},
   "outputs": [],
   "source": [
    "df.dtypes"
   ]
  },
  {
   "cell_type": "code",
   "execution_count": null,
   "id": "9ae56324-8492-4c61-96aa-b2a536deb423",
   "metadata": {},
   "outputs": [],
   "source": [
    "df.describe(include='all')"
   ]
  },
  {
   "cell_type": "code",
   "execution_count": null,
   "id": "eec44216-5e28-46f2-ae38-8455b8bcaeec",
   "metadata": {},
   "outputs": [],
   "source": [
    "df.describe(include=object)"
   ]
  },
  {
   "attachments": {},
   "cell_type": "markdown",
   "id": "6b23896d-8c10-417c-8a1f-c1dc7fd314d3",
   "metadata": {},
   "source": [
    "## Leyendo un dataframe\n",
    "\n",
    "En pandas, es posible leer y escribir los dataframes en diferentes formatos. Para esto en pandas hay una serie de funciones `read_*` y `to_*` dependiendo el formato en que estén los datos o en que queramos leerlos. \n",
    "\n",
    "Todos los formatos tienen sus cositas y es prudente leer con calma la documentación (inclusive si se trata de abrir un archivo `csv`y es muy grande o está guardado en una codificación extraña o antigua).\n",
    "\n",
    "En la figura vemos algunos de los formatos de lectura y escritura existentes.\n",
    "\n",
    "![](https://pandas.pydata.org/docs/_images/02_io_readwrite.svg)\n",
    "\n",
    "En pandas, por ejemplo es posible abrir un archivo local, remoto o inclusive comprimido, sin necesidad de pasar por otros pasos. Esto hace que sea fácil utilizar datos en colab (datos públicos) leyendolos de un repositorio de github.\n",
    "\n",
    "Vamos pues a leer los sobadisimos e interesantes datos del titanic:"
   ]
  },
  {
   "cell_type": "code",
   "execution_count": null,
   "id": "ba232695-544e-47c8-b645-e274c80c20f0",
   "metadata": {},
   "outputs": [],
   "source": [
    "%pwd"
   ]
  },
  {
   "cell_type": "code",
   "execution_count": null,
   "id": "d55f77df-f8ca-45e9-a67b-3fea4b158e03",
   "metadata": {},
   "outputs": [],
   "source": [
    "csv_titanic_url = \"https://raw.githubusercontent.com/pandas-dev/pandas/master/doc/data/titanic.csv\"\n",
    "local_titanic_filename = \"datos/titanic.csv\"\n",
    "\n",
    "df_titanic = pd.read_csv(csv_titanic_url, engine='python')\n",
    "df_titanic.head(5)"
   ]
  },
  {
   "attachments": {},
   "cell_type": "markdown",
   "id": "ac1dfeb3-e099-4edb-bbf0-66a205eb760c",
   "metadata": {},
   "source": [
    "Y por buena costumbre vamos a ver de que se tratan estos datos"
   ]
  },
  {
   "cell_type": "code",
   "execution_count": null,
   "id": "3c70ef22-43d1-4fd9-aba2-650e815ed17b",
   "metadata": {},
   "outputs": [],
   "source": [
    "df_titanic.info()"
   ]
  },
  {
   "cell_type": "code",
   "execution_count": null,
   "id": "8e436c72-bf4f-4360-85db-ea0331254121",
   "metadata": {},
   "outputs": [],
   "source": [
    "df_titanic.describe()"
   ]
  },
  {
   "cell_type": "code",
   "execution_count": null,
   "id": "1168e032-2450-44e8-91dc-e2dae9e7f324",
   "metadata": {},
   "outputs": [],
   "source": [
    "df_titanic.describe(include=object)"
   ]
  },
  {
   "attachments": {},
   "cell_type": "markdown",
   "id": "c69c3e61-7297-4662-9081-a761c0c56f08",
   "metadata": {},
   "source": [
    "Y ahora vamos a guardar los datos en un archivo excel para mandarselos a alguien (recuerda que colab mantiene los archivo en el entorno virtual, pero si no los guardas despues, se pierden)."
   ]
  },
  {
   "cell_type": "code",
   "execution_count": null,
   "id": "8f34345f-9dcd-4265-8c18-08122b0ae665",
   "metadata": {},
   "outputs": [],
   "source": [
    "df_titanic.to_excel(\"datos/titanic.xlsx\", sheet_name=\"passengers\", index=False)"
   ]
  },
  {
   "attachments": {},
   "cell_type": "markdown",
   "id": "b3d62c67-a546-475d-b817-9573856afcae",
   "metadata": {},
   "source": [
    "## Seleccionando partes de un dataframe\n",
    "\n",
    "### Seleccionando columnas\n",
    "\n",
    "Seleccionar columnas es muy fácil, solo hay que tener presente que si se selecciona una sola columna, lo que se obtiene es una serie, mientras que si se selecciona un subconjunto de columnas, lo que se obtiene es otro dataframe. Quedarse con un subconjunto de columnas se conoce tambien como seleccionar.\n",
    "\n",
    "![](https://pandas.pydata.org/docs/_images/03_subset_columns.svg)\n",
    "\n",
    "Vamos a ver que pasa:"
   ]
  },
  {
   "cell_type": "code",
   "execution_count": null,
   "id": "9582a6cd-ac16-4086-8795-694d756ec164",
   "metadata": {},
   "outputs": [],
   "source": [
    "edad = df_titanic['Age']\n",
    "edad_bis = df_titanic.Age   # Es lo mismo que el anterior\n",
    "\n",
    "df_edad = df_titanic[['Age']] # Un subconjunto de columnas con una sola columna\n",
    "\n",
    "df_ejemplo = df_titanic[['Age', 'Sex']]"
   ]
  },
  {
   "cell_type": "code",
   "execution_count": null,
   "id": "d9dcb73a-58d7-4903-aa15-09032bfb7437",
   "metadata": {},
   "outputs": [],
   "source": [
    "edad"
   ]
  },
  {
   "cell_type": "code",
   "execution_count": null,
   "id": "fadb7729-a3d0-43dd-b77e-0083fdb3c295",
   "metadata": {},
   "outputs": [],
   "source": [
    "type(edad)"
   ]
  },
  {
   "cell_type": "code",
   "execution_count": null,
   "id": "0807fd2c",
   "metadata": {},
   "outputs": [],
   "source": [
    "edad_bis"
   ]
  },
  {
   "cell_type": "code",
   "execution_count": null,
   "id": "891a923a-b6dd-4ee3-afe0-8520d45935bf",
   "metadata": {},
   "outputs": [],
   "source": [
    "type(edad_bis)"
   ]
  },
  {
   "cell_type": "code",
   "execution_count": null,
   "id": "f96595c6-e606-4ce3-9805-2ea1b263f377",
   "metadata": {},
   "outputs": [],
   "source": [
    "df_edad"
   ]
  },
  {
   "cell_type": "code",
   "execution_count": null,
   "id": "b3a4868d-c283-471e-8915-13714a9d370c",
   "metadata": {},
   "outputs": [],
   "source": [
    "type(df_edad)"
   ]
  },
  {
   "cell_type": "code",
   "execution_count": null,
   "id": "c26d119b-31f7-4719-ad68-c1a9111b3e17",
   "metadata": {},
   "outputs": [],
   "source": [
    "df_ejemplo"
   ]
  },
  {
   "attachments": {},
   "cell_type": "markdown",
   "id": "f11ed9f7-5d76-4c62-9d08-0204ccca32f1",
   "metadata": {},
   "source": [
    "### Seleccionando renglones\n",
    "\n",
    "Los renglones tienen mas detallitos a tomar en cuenta que las columnas. \n",
    "Este proceso se conoce en general como filtrado, y lo que se busca es seleccionar solo los \n",
    "renglones que cumplan ciertos criterios. Veamos.\n",
    "\n",
    "Vamos empezando por buscar un dataframe de la información de los pasageros con 35 años o mas:"
   ]
  },
  {
   "cell_type": "code",
   "execution_count": null,
   "id": "5f191f8f-9329-45bd-9539-db0678b8beb7",
   "metadata": {},
   "outputs": [],
   "source": [
    "df_35mas = df_titanic[df_titanic['Age'] > 35]   #equivalente df_titanic.Age[df_titanic.Age > 35]\n",
    "\n",
    "df_35mas.describe()"
   ]
  },
  {
   "attachments": {},
   "cell_type": "markdown",
   "id": "7c5a9da2-746a-4cda-9a99-c4cfd0bc4f62",
   "metadata": {},
   "source": [
    "Ahora vamos a buscar los pasajeros que se viajaron en 1ra o 2da clase:"
   ]
  },
  {
   "cell_type": "code",
   "execution_count": null,
   "id": "be3bcce3-f808-465e-93fa-4e6d2eb52eec",
   "metadata": {},
   "outputs": [],
   "source": [
    "df_12 = df_titanic[df_titanic.Pclass.isin([1, 2])]\n",
    "\n",
    "df_12.describe()"
   ]
  },
  {
   "attachments": {},
   "cell_type": "markdown",
   "id": "b87e68b7-8469-478a-9799-c7e0891b0b57",
   "metadata": {},
   "source": [
    "Se pueden usar combinadores lógicos entre diferentes columnas, pero las condiciones debe estar \n",
    "clara con el uso de paréntesis y se deben utilizar `|` para la disyunción y `&` para la conjunción.\n",
    "\n",
    "Vamos a ver los pasajeros de más de 35 años y que viajen en 1ra o 2da:"
   ]
  },
  {
   "cell_type": "code",
   "execution_count": null,
   "id": "868c5958-989d-4504-966e-d9eef5a6cbcd",
   "metadata": {},
   "outputs": [],
   "source": [
    "df_titanic[(df_titanic.Age > 35) & (df_titanic.Pclass.isin([1, 2]))].describe()"
   ]
  },
  {
   "attachments": {},
   "cell_type": "markdown",
   "id": "f8b724bc-ccbc-4d6b-8987-128123e3fbb0",
   "metadata": {},
   "source": [
    "Por últomo vamos a ver los pasajeron que no registraron su edad:"
   ]
  },
  {
   "cell_type": "code",
   "execution_count": null,
   "id": "41a487db-9b75-4ff4-850b-5ca63079b202",
   "metadata": {},
   "outputs": [],
   "source": [
    "df_sin_edad = df_titanic[df_titanic.Age.isna()]\n",
    "\n",
    "df_sin_edad"
   ]
  },
  {
   "attachments": {},
   "cell_type": "markdown",
   "id": "8a17e845-e89c-4aa5-adeb-9ce8a313b6f9",
   "metadata": {},
   "source": [
    "### Seleccionando renglones y columnas\n",
    "\n",
    "![](https://pandas.pydata.org/docs/_images/03_subset_columns_rows.svg)\n",
    "\n",
    "Este paso es un poco extraño, ya que no se pueden seleccionar renglones y columnas directamente, sino que hay que usar los métodos `.loc`y `.iloc`. Vamos a ejemplificarlos.\n",
    "\n",
    "Supongamos que queremos los nombres de todos los mayores de 35 años, como serie y como dataframe. La manera de seleccionar y filtrar es la siguiente:"
   ]
  },
  {
   "cell_type": "code",
   "execution_count": null,
   "id": "1a353e18-1b66-4f02-a774-57844d6463d6",
   "metadata": {},
   "outputs": [],
   "source": [
    "como_serie = df_titanic.loc[df_titanic.Age > 35, 'Name']  # Como serie de tiempo\n",
    "\n",
    "como_df = df_titanic.loc[df_titanic.Age > 35, ['Name']]  # Como dataframe"
   ]
  },
  {
   "cell_type": "code",
   "execution_count": null,
   "id": "47c91a45-3a30-4496-b200-2447c8e64f56",
   "metadata": {},
   "outputs": [],
   "source": [
    "como_serie"
   ]
  },
  {
   "cell_type": "code",
   "execution_count": null,
   "id": "c7baaf23-6956-435c-b932-e9f9745d6b34",
   "metadata": {},
   "outputs": [],
   "source": [
    "como_df"
   ]
  },
  {
   "attachments": {},
   "cell_type": "markdown",
   "id": "3777f2d9-7091-48b9-8d6c-2889b40b6c46",
   "metadata": {},
   "source": [
    "Si quieres no solo el nombre, pero tambien el género se puede obtener como:"
   ]
  },
  {
   "cell_type": "code",
   "execution_count": null,
   "id": "875b3a8c-bebc-41f7-ba55-f9a4452ca519",
   "metadata": {},
   "outputs": [],
   "source": [
    "df_nueva = df_titanic.loc[df_titanic.Age > 35, ['Name', 'Sex']]\n",
    "df_nueva"
   ]
  },
  {
   "attachments": {},
   "cell_type": "markdown",
   "id": "97a57ac7-a498-47f1-800f-307bba10187f",
   "metadata": {},
   "source": [
    "Este tipo de indexación tambien puede servir para modificar valores, por ejemplo:"
   ]
  },
  {
   "cell_type": "code",
   "execution_count": null,
   "id": "98e8e9e0-af6d-4f7b-b87f-68acbfa36b80",
   "metadata": {},
   "outputs": [],
   "source": [
    "df_nueva.loc[df_nueva.Sex == 'female', 'Sex'] = 'mujer'\n",
    "df_nueva"
   ]
  },
  {
   "attachments": {},
   "cell_type": "markdown",
   "id": "2ee5cb0c-2179-4de6-8b86-7b14f093f62d",
   "metadata": {},
   "source": [
    "## Extrayendo estadísticas\n",
    "\n",
    "### Por columna\n",
    "\n",
    "Para encontrar estadísticas podemos seleccionar una columna y aplicarle cualquier oeración de agregación incluida en las operaciones en series. Por ejemplo, para encontrar la edad promedio de los pasajeros del titanic:"
   ]
  },
  {
   "cell_type": "code",
   "execution_count": null,
   "id": "713ab937-498d-4796-a5cc-d17f7d41b5e3",
   "metadata": {},
   "outputs": [],
   "source": [
    "df_titanic['Age'].mean()"
   ]
  },
  {
   "attachments": {},
   "cell_type": "markdown",
   "id": "5f4bfe00-5b61-4247-8f63-ca3ceb020283",
   "metadata": {},
   "source": [
    "Las operaciones de agregación tambien se pueden aplicar en dataframes, aplicandose en cada serie en forma independiente. Por ejemplo:"
   ]
  },
  {
   "cell_type": "code",
   "execution_count": null,
   "id": "12a66086-d85b-4700-942d-a674d5688ca1",
   "metadata": {},
   "outputs": [],
   "source": [
    "df_titanic[['Age', 'Fare']].median()"
   ]
  },
  {
   "attachments": {},
   "cell_type": "markdown",
   "id": "e3e36ab7-40aa-4fb3-ac36-5d7498cda9a5",
   "metadata": {},
   "source": [
    "Y si se quiere aplicar una serie de agregaciones diferentes a varias variables, lo mejor es usar el método `.agg`como se muestra a continuación: "
   ]
  },
  {
   "cell_type": "code",
   "execution_count": null,
   "id": "5606b2c4-627c-40ca-8de9-2bdf56c5dea1",
   "metadata": {},
   "outputs": [],
   "source": [
    "df_titanic.agg(\n",
    "    {\n",
    "        \"Age\": [\"min\", \"max\", \"median\", \"mad\"],\n",
    "        \"Fare\": [\"min\", \"max\", \"mean\", \"std\"],\n",
    "    }\n",
    ")"
   ]
  },
  {
   "attachments": {},
   "cell_type": "markdown",
   "id": "aedf01c5-8cef-438c-ab68-07ab45cd98da",
   "metadata": {},
   "source": [
    "### Regrupando por variables\n",
    "\n",
    "Para esto se usa el método `.group` que si bien de inicio parece bastante obvio, luego se le ven algunos detallitos.\n",
    "\n",
    "Por ejemplo, supongamos que quiero saber la edad pronedio de los pasajeros por género. Hay dos maneras de hacerlo. La primera es seleccionar `Age` y `Sex`, regrupar por `Sex`y sacarle la media a Àge`.\n",
    "\n",
    "![](https://pandas.pydata.org/docs/_images/06_groupby.svg)\n",
    "\n",
    "La otra es regrupar por `Sex`, luego seleccionar `Age`, y aplicarle la media.\n",
    "\n",
    "![](https://pandas.pydata.org/docs/_images/06_groupby_select_detail.svg)\n",
    "\n",
    "Vamos a ver que sale en cada caso:"
   ]
  },
  {
   "cell_type": "code",
   "execution_count": null,
   "id": "82432c32-ef0a-41e6-b71f-2d12f5ad4558",
   "metadata": {},
   "outputs": [],
   "source": [
    "df_titanic[['Age', 'Sex']].groupby('Sex').mean()"
   ]
  },
  {
   "cell_type": "code",
   "execution_count": null,
   "id": "8c0cbd22-d5be-469d-88a7-b3be8477e444",
   "metadata": {},
   "outputs": [],
   "source": [
    "df_titanic.groupby('Sex')[['Age']].mean()"
   ]
  },
  {
   "attachments": {},
   "cell_type": "markdown",
   "id": "8c69f41e-908f-4b41-8315-6c645497095f",
   "metadata": {},
   "source": [
    "Se pueden hacer regrupaciones en mútiples niveles. Por ejemplo si queremos saber la edad promedio, por género y por clase en la que viajaban, se puede regrupar en dos variables:"
   ]
  },
  {
   "cell_type": "code",
   "execution_count": null,
   "id": "8a664400-e20b-4de5-84bd-220ef64bb53c",
   "metadata": {},
   "outputs": [],
   "source": [
    "df_titanic.groupby([\"Sex\", \"Pclass\"])[[\"Age\"]].mean()"
   ]
  },
  {
   "cell_type": "markdown",
   "id": "5c2f35cf",
   "metadata": {},
   "source": [
    "## Datos numéricos\n",
    "\n",
    "Para ejemplificar el uso de columnas numéricas, horas y fechas vamos a utilizar un conjunto de datos que puso generosamente a nuestra disposición [Hector Alberto Gutierrez Ibarra](hector.gutierrez@cenace.gob.mx) de la gerencia noroeste del *Centro Nacional de Control de Energía (CENACE)*.\n",
    "\n",
    "Vamos primero pegandole un ojo a los datos:"
   ]
  },
  {
   "cell_type": "code",
   "execution_count": null,
   "id": "b585f3d8",
   "metadata": {},
   "outputs": [],
   "source": [
    "path_datos = \"https://github.com/juliowaissman/curso-python-cd/raw/main/datos/caso_zc_hmo.csv.zip\"\n",
    "df = pd.read_csv(path_datos)\n",
    "print(df.info())\n",
    "df"
   ]
  },
  {
   "cell_type": "markdown",
   "id": "cd3c2b1c",
   "metadata": {},
   "source": [
    "Lo primero que tenemos que hacer es convertir la variable `Date`en un formato de fechas. En este caso es muy fácil porque la tabla está muy bien formateada, pero suele no ser tan sencillo."
   ]
  },
  {
   "cell_type": "markdown",
   "id": "5a789874",
   "metadata": {},
   "source": [
    "df['Date'] = pd.to_datetime(\n",
    "    df.Date, \n",
    "    format=\"%d/%m/%Y %H:%M\"\n",
    ")\n",
    "print(df.info())\n",
    "df"
   ]
  },
  {
   "cell_type": "markdown",
   "id": "52f82fd1",
   "metadata": {},
   "source": [
    "¿Cuantos días tenemos en esta base? ¿Cual es el primer día y el último?"
   ]
  },
  {
   "cell_type": "code",
   "execution_count": null,
   "id": "7a11904d",
   "metadata": {},
   "outputs": [],
   "source": [
    "print(f\"Inicia el {df.Date.min()} y termina el {df.Date.max()}\")\n",
    "print(f\"Con una duración de {df.Date.max() - df.Date.min()}\")"
   ]
  },
  {
   "cell_type": "markdown",
   "id": "74362883",
   "metadata": {},
   "source": [
    "Hay que tener cuidado porque hay dos tipos fundamentales de formatos de tiempo, y suelen no mesclarse bien en algunas operaciones."
   ]
  },
  {
   "cell_type": "code",
   "execution_count": null,
   "id": "42ddddea",
   "metadata": {},
   "outputs": [],
   "source": [
    "type(df.Date.min()), type(df.Date.max() - df.Date.min())"
   ]
  },
  {
   "cell_type": "markdown",
   "id": "aa9aec86",
   "metadata": {},
   "source": [
    "Para facilitar el uso de pandas, vamos a pasar la fecha como el indice del dataframe"
   ]
  },
  {
   "cell_type": "code",
   "execution_count": null,
   "id": "7ca00483",
   "metadata": {},
   "outputs": [],
   "source": [
    "df.set_index('Date', inplace=True)\n",
    "df"
   ]
  },
  {
   "cell_type": "markdown",
   "id": "6761668c",
   "metadata": {},
   "source": [
    "## Gráficas rápidas y furiosas desde pandas\n",
    "\n",
    "Pandas trae incluidas facilidades para la graficación con el fin de hacer análisis rápidos de nuestras variables, así que vamos aprovechando y haciendo una inspección visual"
   ]
  },
  {
   "cell_type": "code",
   "execution_count": null,
   "id": "8c3491cf",
   "metadata": {},
   "outputs": [],
   "source": [
    "ax = df.Demand.plot()"
   ]
  },
  {
   "cell_type": "code",
   "execution_count": null,
   "id": "d521100d",
   "metadata": {},
   "outputs": [],
   "source": [
    "ax = df.plot(figsize=(12, 20), subplots=True)"
   ]
  },
  {
   "cell_type": "code",
   "execution_count": null,
   "id": "c6468b97",
   "metadata": {},
   "outputs": [],
   "source": [
    "ax = df.Temperature.plot.box()"
   ]
  },
  {
   "cell_type": "code",
   "execution_count": null,
   "id": "1d7fbb4f",
   "metadata": {},
   "outputs": [],
   "source": [
    "ax = df.plot.scatter(\n",
    "    x='Humidity',\n",
    "    y='Temperature',\n",
    "    c='Demand',\n",
    "    s =40,\n",
    "    figsize=(12,8)\n",
    ")"
   ]
  },
  {
   "cell_type": "markdown",
   "id": "8044d1ef",
   "metadata": {},
   "source": [
    "## Generando nuevas variables a partir de las variables conocidas\n",
    "\n",
    "Generar nuevas variables es relativamente simple, pero hay algunas cosas que son diferentes con numpy y por las cuales hay que tener cuidado."
   ]
  },
  {
   "cell_type": "markdown",
   "id": "3601e71c",
   "metadata": {},
   "source": [
    "df['farenheit'] = (df.Temperature * 9/5) + 32\n",
    "\n",
    "df['refri'] = 0\n",
    "df['refri'] = df.refri.where(df.Temperature < 30, 1)\n",
    "\n",
    "df['DiaSemana'] = df.index.weekday"
   ]
  },
  {
   "cell_type": "markdown",
   "id": "ebe86b34",
   "metadata": {},
   "source": [
    "df.rename(\n",
    "    columns={\n",
    "        'Demand': 'Demanda',\n",
    "        'Temperature': 'Temperatura',\n",
    "        'PrecipIntensity': 'Precipitación',\n",
    "        'Humidity': 'Humedad',\n",
    "        'WinSpeed': 'VelocidadViento',\n",
    "    },\n",
    "    inplace=True\n",
    ")\n",
    "df"
   ]
  },
  {
   "cell_type": "markdown",
   "id": "1533b87b",
   "metadata": {},
   "source": [
    "## Analizando con regrupamientos\n",
    "\n",
    "En particular, es interesante poder hacer algun análisis exploratorio utilizando las facilidades que da el uso del manejo de la información temporal que ofrece pandas. En espacial cuando se combina con `groupby` y diferentes funciones de agregación.\n",
    "\n",
    "Vamos a empezar por ver la demanda promedio por día de la semana:"
   ]
  },
  {
   "cell_type": "code",
   "execution_count": null,
   "id": "0571af87",
   "metadata": {},
   "outputs": [],
   "source": [
    "ax = df.groupby(df.index.month)[['Demanda']].boxplot(subplots=False, rot=90)"
   ]
  },
  {
   "cell_type": "code",
   "execution_count": null,
   "id": "6d7c05aa",
   "metadata": {},
   "outputs": [],
   "source": [
    "df.boxplot(column=['Demanda'], by=df.index.month)"
   ]
  },
  {
   "cell_type": "code",
   "execution_count": null,
   "id": "2f97f77b",
   "metadata": {},
   "outputs": [],
   "source": [
    "df_semana = df.groupby('DiaSemana').agg(\n",
    "    {\n",
    "        'Demanda': ['min', 'max', 'mean', 'median', 'std'],\n",
    "        'Precipitación': ['min', 'max']\n",
    "    }\n",
    ")\n",
    "df_semana"
   ]
  },
  {
   "cell_type": "markdown",
   "id": "83f2b3cd",
   "metadata": {},
   "source": [
    "Ahora vamos a ver que pasa en forma mensual"
   ]
  },
  {
   "cell_type": "code",
   "execution_count": null,
   "id": "30310f4e",
   "metadata": {},
   "outputs": [],
   "source": [
    "ax = (\n",
    "    df[['Demanda']]\n",
    "    .groupby(df.index.month)\n",
    "    .boxplot(subplots=False, rot=90, figsize=(12, 7))\n",
    ")"
   ]
  },
  {
   "cell_type": "code",
   "execution_count": null,
   "id": "54a93812",
   "metadata": {
    "vscode": {
     "languageId": "plaintext"
    }
   },
   "outputs": [],
   "source": [
    "ax = (\n",
    "    df[['Temperatura']]\n",
    "    .groupby(df.index.month)\n",
    "    .boxplot(\n",
    "        subplots=False, \n",
    "        rot=90, \n",
    "        figsize=(12, 7)\n",
    "    )\n",
    ")"
   ]
  },
  {
   "cell_type": "markdown",
   "id": "44e8a914",
   "metadata": {},
   "source": [
    "O inclusive por hora del día"
   ]
  },
  {
   "cell_type": "code",
   "execution_count": null,
   "id": "9a69462f",
   "metadata": {
    "vscode": {
     "languageId": "plaintext"
    }
   },
   "outputs": [],
   "source": [
    "ax = (\n",
    "    df[['Demanda']]\n",
    "    .groupby(df.index.hour)\n",
    "    .boxplot(subplots=False, rot=90, figsize=(12, 7)\n",
    ")"
   ]
  },
  {
   "cell_type": "code",
   "execution_count": null,
   "id": "cf6f87fb",
   "metadata": {
    "vscode": {
     "languageId": "plaintext"
    }
   },
   "outputs": [],
   "source": [
    "df_hora = (\n",
    "    df[['Demanda', 'Temperatura']]\n",
    "    .groupby([df.index.hour, df.index.month_name()])\n",
    "    .mean()\n",
    "    .unstack()\n",
    ")\n",
    "df_hora"
   ]
  },
  {
   "cell_type": "code",
   "execution_count": null,
   "id": "702d4e32",
   "metadata": {
    "vscode": {
     "languageId": "plaintext"
    }
   },
   "outputs": [],
   "source": [
    "ax = df_hora.Demanda.plot(\n",
    "    style='o', \n",
    "    figsize=(15,7),\n",
    "    title='Demanda por hora y por mes',\n",
    "    xlabel='Hora',\n",
    "    ylabel='Demanda'\n",
    ")"
   ]
  },
  {
   "cell_type": "code",
   "execution_count": null,
   "id": "c5dd68bb",
   "metadata": {
    "vscode": {
     "languageId": "plaintext"
    }
   },
   "outputs": [],
   "source": [
    "ax = df_hora.Temperatura.plot(\n",
    "    style='o', \n",
    "    figsize=(15,7))"
   ]
  },
  {
   "cell_type": "markdown",
   "id": "9b54c3d2",
   "metadata": {},
   "source": [
    "## Generando nuevas variables a partir de las variables conocidas\n",
    "\n",
    "Generar nuevas variables es relativamente simple, pero hay algunas cosas que son diferentes con numpy y por las cuales hay que tener cuidado."
   ]
  },
  {
   "attachments": {},
   "cell_type": "markdown",
   "id": "45a34a6a-ae8a-4b2c-825e-95d5e96e61f6",
   "metadata": {},
   "source": [
    "### Vamos a practicar\n",
    "\n",
    "Para esta practica vamos a usar un conjunto de datos de la revista *wine magazine*, \n",
    "donde revisan una cantidad bastante sorprendente de vinos. \n",
    "\n",
    "Una descripción de la base de datos la encuentras [aquí](https://www.kaggle.com/zynicide/wine-reviews). \n",
    "Para no tener que descargar los datos a mano, se anexa la dirección `url` de donde se pueden descargar.\n",
    "\n",
    "Es importante notr que la primer columna del archivo `csv` es el índice (usar `index_col=0` cuando se descargue el archivo con `pd.read_csv`). \n",
    "\n",
    "Una vez descargado, usar pandas para las siguientes tareas:\n",
    "\n",
    "1. ¿Cuantas variables tiene el dataframe? ¿Qué variables tienen valores perdidos? ¿Qué variables son numéricas? ¿Qué variables son cualitativas?\n",
    "2. Hacer un dataframe con únicamente vinos europeos.\n",
    "3. ¿Cuál es el menor, el mayor y el precio promedio de la botella por país? ¿De que país es la botella de menor precio?\n",
    "4. ¿Cuantos vinos hay con *aroma a fresa* entre otras consideraciones snobs que vienen en la descripción?\n",
    "5. ¿Cuantas designaciones diferentes hay? ¿Cuál es la más repetida? ¿Cuantas veces se repite?\n",
    "6. Hacer un dataframe con la variedad, el país y el precio para vinos con un costo menor a los $20 dolares.\n",
    "7. ¿Cuantos vinos diferentes de la variedad *Pinot Noir* hay por cada país?\n"
   ]
  },
  {
   "cell_type": "code",
   "execution_count": null,
   "id": "494f6524-c998-4621-bb39-2e87893af244",
   "metadata": {},
   "outputs": [],
   "source": [
    "winmag_url = 'https://gist.githubusercontent.com/clairehq/79acab35be50eaf1c383948ed3fd1129/raw/407a02139ae1e134992b90b4b2b8c329b3d73a6a/winemag-data-130k-v2.csv'"
   ]
  },
  {
   "cell_type": "code",
   "execution_count": null,
   "id": "6a6db7cb-cf1a-466d-bad3-9231609ecf2b",
   "metadata": {},
   "outputs": [],
   "source": [
    "# ¿Cuantas variables tiene el dataframe? \n",
    "# ¿Qué variables tienen valores perdidos? \n",
    "# ¿Qué variables son numéricas? \n",
    "# ¿Qué variables son cualitativas?\n"
   ]
  },
  {
   "cell_type": "code",
   "execution_count": null,
   "id": "e76c10d7-5a10-45dc-a11f-c414043ad6b8",
   "metadata": {},
   "outputs": [],
   "source": [
    "# Hacer un dataframe con únicamente vinos europeos.\n"
   ]
  },
  {
   "cell_type": "code",
   "execution_count": null,
   "id": "da4b68b2-42ba-4f62-b937-8bc6214c12cc",
   "metadata": {},
   "outputs": [],
   "source": [
    "# ¿Cuál es el menor, el mayor y el precio promedio de la botella por país? \n",
    "# ¿De que país es la botella de menor precio?\n"
   ]
  },
  {
   "cell_type": "code",
   "execution_count": null,
   "id": "41b1e672-4df1-436f-b8df-a616c9297986",
   "metadata": {},
   "outputs": [],
   "source": [
    "# ¿Cuantos vinos hay con *aroma a fresa* entre otras consideraciones snobs que vienen en la descripción?\n"
   ]
  },
  {
   "cell_type": "code",
   "execution_count": null,
   "id": "ad7c7b0a-9c9c-4975-865f-9d02c90c9002",
   "metadata": {},
   "outputs": [],
   "source": [
    "# ¿Cuantas designaciones diferentes hay? ¿Cuál es la más repetida? ¿Cuantas veces se repite?\n"
   ]
  },
  {
   "cell_type": "code",
   "execution_count": null,
   "id": "a2c0a822-b184-426e-b6b7-22b9dba74c7c",
   "metadata": {},
   "outputs": [],
   "source": [
    "# Hacer un dataframe con la variedad, el país y el precio para vinos con un costo menor a los $20 dolares\n"
   ]
  },
  {
   "cell_type": "code",
   "execution_count": null,
   "id": "10937ee8-a0a6-4164-8964-ead7b97acfd0",
   "metadata": {},
   "outputs": [],
   "source": [
    "# ¿Cuantos vinos diferentes de la variedad *Pinot Noir* hay por cada país?\n"
   ]
  }
 ],
 "metadata": {
  "kernelspec": {
   "display_name": "Python 3 (ipykernel)",
   "language": "python",
   "name": "python3"
  },
  "language_info": {
   "codemirror_mode": {
    "name": "ipython",
    "version": 3
   },
   "file_extension": ".py",
   "mimetype": "text/x-python",
   "name": "python",
   "nbconvert_exporter": "python",
   "pygments_lexer": "ipython3",
   "version": "3.8.13"
  }
 },
 "nbformat": 4,
 "nbformat_minor": 5
}
