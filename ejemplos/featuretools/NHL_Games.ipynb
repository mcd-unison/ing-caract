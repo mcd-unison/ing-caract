{
 "cells": [
  {
   "cell_type": "markdown",
   "metadata": {},
   "source": [
    "# Predicting NHL Playoff Games from Event Data\n"
   ]
  },
  {
   "cell_type": "code",
   "execution_count": null,
   "metadata": {},
   "outputs": [],
   "source": [
    "!conda install featuretools -c conda-forge -y"
   ]
  },
  {
   "cell_type": "code",
   "execution_count": null,
   "metadata": {},
   "outputs": [],
   "source": [
    "# Manejo de dataframes\n",
    "import pandas as pd\n",
    "\n",
    "# Manejo de datos en forma de strings\n",
    "import hashlib\n",
    "\n",
    "# FeatureTools\n",
    "import featuretools as ft\n",
    "from featuretools import Feature \n",
    "\n",
    "# Aprendizaje máquina\n",
    "from sklearn.linear_model import LogisticRegression\n",
    "from sklearn.metrics import roc_auc_score"
   ]
  },
  {
   "cell_type": "code",
   "execution_count": null,
   "metadata": {},
   "outputs": [],
   "source": [
    "# Carga el dataframe de games\n",
    "\n",
    "game_df = pd.read_csv(\"game.csv.zip\")\n",
    "game_df.head()"
   ]
  },
  {
   "cell_type": "code",
   "execution_count": null,
   "metadata": {},
   "outputs": [],
   "source": [
    "# Carga el dataframe de game_plays\n",
    "\n",
    "plays_df = pd.read_csv(\"game_plays.csv.zip\")\n",
    "\n",
    "plays_df"
   ]
  },
  {
   "cell_type": "code",
   "execution_count": null,
   "metadata": {},
   "outputs": [],
   "source": [
    "# select a ~10% sample of the games\n",
    "plays_df = plays_df \\\n",
    "    .sample(frac=0.1, random_state=1) \\\n",
    "    .drop(\n",
    "        ['secondaryType', 'periodType', 'dateTime', 'rink_side'], \n",
    "        axis=1\n",
    "    ) \\\n",
    "    .fillna(0)\n",
    "\n",
    "\n",
    "# convert the remaining strings to integer types via hashing\n",
    "plays_df.event = plays_df.event.apply(hash)\n",
    "plays_df.description = plays_df.description.apply(hash)\n",
    "\n",
    "plays_df.head()"
   ]
  },
  {
   "cell_type": "code",
   "execution_count": null,
   "metadata": {},
   "outputs": [],
   "source": [
    "# create feature encodings for the event and description fields\n",
    "es = ft.EntitySet(id=\"plays\")\n",
    "\n",
    "es = es.entity_from_dataframe(\n",
    "    entity_id=\"plays\", \n",
    "    dataframe=plays_df, \n",
    "    index=\"play_id\",\n",
    "    variable_types = { \n",
    "        \"event\": ft.variable_types.Categorical, \n",
    "        \"description\": ft.variable_types.Categorical \n",
    "    }\n",
    ")       \n",
    "         \n",
    "f1 = Feature(es[\"plays\"][\"event\"])\n",
    "f2 = Feature(es[\"plays\"][\"description\"])\n",
    "\n",
    "encoded, _= ft.encode_features(plays_df, [f1, f2], top_n=10)\n",
    "encoded.reset_index(inplace=True)\n",
    "\n",
    "# create an entry set of the encoded play data and games\n",
    "es = ft.EntitySet(id=\"plays\")\n",
    "es = es.entity_from_dataframe(\n",
    "    entity_id=\"plays\", \n",
    "    dataframe=encoded, \n",
    "    index=\"play_id\"\n",
    ")\n",
    "es = es.normalize_entity(\n",
    "    base_entity_id=\"plays\",\n",
    "    new_entity_id=\"games\", \n",
    "    index=\"game_id\"\n",
    ")"
   ]
  },
  {
   "cell_type": "code",
   "execution_count": null,
   "metadata": {},
   "outputs": [],
   "source": [
    "es"
   ]
  },
  {
   "cell_type": "code",
   "execution_count": null,
   "metadata": {},
   "outputs": [],
   "source": [
    "es['games']"
   ]
  },
  {
   "cell_type": "code",
   "execution_count": null,
   "metadata": {},
   "outputs": [],
   "source": [
    "features, defs = ft.dfs(\n",
    "    entityset=es, \n",
    "    target_entity=\"games\", \n",
    "    max_depth = 2\n",
    ")\n",
    "features.reset_index(inplace=True)\n",
    "features.shape"
   ]
  },
  {
   "cell_type": "code",
   "execution_count": null,
   "metadata": {},
   "outputs": [],
   "source": [
    "ft.describe_feature(defs[51])"
   ]
  },
  {
   "cell_type": "code",
   "execution_count": null,
   "metadata": {},
   "outputs": [],
   "source": [
    "# assign labels to the generated features\n",
    "train_data = features.merge(game_df[['game_id', 'type']], on=\"game_id\")\n",
    "train_data.groupby('type').type.count()"
   ]
  },
  {
   "cell_type": "code",
   "execution_count": null,
   "metadata": {},
   "outputs": [],
   "source": [
    "train_data"
   ]
  },
  {
   "cell_type": "code",
   "execution_count": null,
   "metadata": {},
   "outputs": [],
   "source": [
    "y = train_data['type']\n",
    "X = train_data.drop(['type', 'game_id'], axis=1)"
   ]
  },
  {
   "cell_type": "code",
   "execution_count": null,
   "metadata": {
    "scrolled": true
   },
   "outputs": [],
   "source": [
    "lr = LogisticRegression()\n",
    "\n",
    "model = lr.fit(X, y)\n",
    "model.score(X, y)"
   ]
  },
  {
   "cell_type": "code",
   "execution_count": null,
   "metadata": {},
   "outputs": [],
   "source": [
    "roc_auc_score(y, model.predict_proba(X)[:, 1] )\n",
    "    "
   ]
  }
 ],
 "metadata": {
  "kernelspec": {
   "display_name": "Python 3 (ipykernel)",
   "language": "python",
   "name": "python3"
  },
  "language_info": {
   "codemirror_mode": {
    "name": "ipython",
    "version": 3
   },
   "file_extension": ".py",
   "mimetype": "text/x-python",
   "name": "python",
   "nbconvert_exporter": "python",
   "pygments_lexer": "ipython3",
   "version": "3.9.6"
  }
 },
 "nbformat": 4,
 "nbformat_minor": 2
}
