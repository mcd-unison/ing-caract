{
 "cells": [
  {
   "cell_type": "markdown",
   "metadata": {},
   "source": [
    "<center>\n",
    "<p><img src=\"https://mcd.unison.mx/wp-content/themes/awaken/img/logo_mcd.png\" width=\"150\">\n",
    "</p>\n",
    "\n",
    "\n",
    "\n",
    "<h1>Curso Ingeniería de Características</h1>\n",
    "\n",
    "<h3>Predicting NHL Playoff Games from Event Data</h3>\n",
    "\n",
    "\n",
    "<p> Julio Waissman Vilanova </p>\n",
    "<p>\n",
    "<img src=\"https://identidadbuho.unison.mx/wp-content/uploads/2019/06/letragrama-cmyk-72.jpg\" width=\"150\">\n",
    "</p>\n",
    "\n",
    "\n",
    "<a target=\"_blank\" href=\"https://colab.research.google.com/github/mcd-unison/ing-caract/blob/main/ejemplos/featuretools/NHL_Games.ipynb\"><img src=\"https://i.ibb.co/2P3SLwK/colab.png\"  style=\"padding-bottom:5px;\"  width=\"30\" /> Ejecuta en Colab</a>\n",
    "\n",
    "</center>\n"
   ]
  },
  {
   "cell_type": "markdown",
   "metadata": {},
   "source": [
    "**Ejemplo tomado de la librería [Featuretools](https://www.featuretools.com)**"
   ]
  },
  {
   "cell_type": "code",
   "execution_count": null,
   "metadata": {},
   "outputs": [],
   "source": [
    "#!conda install featuretools=0.24.0  -c conda-forge -y \n",
    "!pip install featuretools=0.24.0"
   ]
  },
  {
   "cell_type": "code",
   "execution_count": null,
   "metadata": {},
   "outputs": [],
   "source": [
    "# Manejo de dataframes\n",
    "import pandas as pd\n",
    "\n",
    "# Manejo de datos en forma de strings\n",
    "import hashlib\n",
    "\n",
    "# FeatureTools\n",
    "import featuretools as ft\n",
    "from featuretools import Feature \n",
    "\n",
    "# Aprendizaje máquina\n",
    "from sklearn.linear_model import LogisticRegression\n",
    "from sklearn.metrics import roc_auc_score"
   ]
  },
  {
   "cell_type": "code",
   "execution_count": null,
   "metadata": {},
   "outputs": [],
   "source": [
    "# Carga el dataframe de games\n",
    "\n",
    "url = \"https://github.com/mcd-unison/ing-caract/raw/main/ejemplos/featuretools/game.csv.zip\"\n",
    "game_df = pd.read_csv(url)\n",
    "game_df.head()"
   ]
  },
  {
   "cell_type": "code",
   "execution_count": null,
   "metadata": {},
   "outputs": [],
   "source": [
    "# Carga el dataframe de game_plays\n",
    "\n",
    "plays_df = pd.read_csv(\"https://github.com/mcd-unison/ing-caract/raw/main/ejemplos/featuretools/game_plays.csv.zip\")\n",
    "\n",
    "plays_df"
   ]
  },
  {
   "cell_type": "code",
   "execution_count": null,
   "metadata": {},
   "outputs": [],
   "source": [
    "#pd.np.random.seed(3)\n",
    "print(pd.np.random.random())\n",
    "print(pd.np.random.randn())"
   ]
  },
  {
   "cell_type": "code",
   "execution_count": null,
   "metadata": {},
   "outputs": [],
   "source": [
    "# select a ~10% sample of the games\n",
    "plays_df = plays_df \\\n",
    "    .sample(frac=0.1, random_state=1) \\\n",
    "    .drop(\n",
    "        ['secondaryType', 'periodType', 'dateTime', 'rink_side'], \n",
    "        axis=1\n",
    "    ) \\\n",
    "    .fillna(0)\n",
    "\n",
    "\n",
    "# convert the remaining strings to integer types via hashing\n",
    "plays_df['event'] = plays_df.event.apply(hash)\n",
    "plays_df['description'] = plays_df.description.apply(hash)\n",
    "\n",
    "plays_df.head()"
   ]
  },
  {
   "cell_type": "code",
   "execution_count": null,
   "metadata": {},
   "outputs": [],
   "source": [
    "# create feature encodings for the event and description fields\n",
    "es = ft.EntitySet(id=\"plays\")\n",
    "\n",
    "es = es.entity_from_dataframe(\n",
    "    entity_id=\"plays\", \n",
    "    dataframe=plays_df, \n",
    "    index=\"play_id\",\n",
    "    variable_types = { \n",
    "        \"event\": ft.variable_types.Categorical, \n",
    "        \"description\": ft.variable_types.Categorical \n",
    "    }\n",
    ")       \n",
    "         \n",
    "f1 = Feature(es[\"plays\"][\"event\"])\n",
    "f2 = Feature(es[\"plays\"][\"description\"])\n",
    "\n",
    "encoded, _= ft.encode_features(plays_df, [f1, f2], top_n=10)\n",
    "encoded.reset_index(inplace=True)\n",
    "\n",
    "# create an entry set of the encoded play data and games\n",
    "es = ft.EntitySet(id=\"plays\")\n",
    "es = es.entity_from_dataframe(\n",
    "    entity_id=\"plays\", \n",
    "    dataframe=encoded, \n",
    "    index=\"play_id\"\n",
    ")\n",
    "es = es.normalize_entity(\n",
    "    base_entity_id=\"plays\",\n",
    "    new_entity_id=\"games\", \n",
    "    index=\"game_id\"\n",
    ")"
   ]
  },
  {
   "cell_type": "code",
   "execution_count": null,
   "metadata": {},
   "outputs": [],
   "source": [
    "encoded.columns"
   ]
  },
  {
   "cell_type": "code",
   "execution_count": null,
   "metadata": {},
   "outputs": [],
   "source": [
    "es.add_dataframe?"
   ]
  },
  {
   "cell_type": "code",
   "execution_count": null,
   "metadata": {},
   "outputs": [],
   "source": [
    "es['games']"
   ]
  },
  {
   "cell_type": "code",
   "execution_count": null,
   "metadata": {},
   "outputs": [],
   "source": [
    "features, defs = ft.dfs(\n",
    "    entityset=es, \n",
    "    target_entity=\"games\", \n",
    "    max_depth = 2\n",
    ")\n",
    "features.reset_index(inplace=True)\n",
    "features.shape"
   ]
  },
  {
   "cell_type": "code",
   "execution_count": null,
   "metadata": {},
   "outputs": [],
   "source": [
    "features"
   ]
  },
  {
   "cell_type": "code",
   "execution_count": null,
   "metadata": {},
   "outputs": [],
   "source": [
    "ft.describe_feature(defs[2])"
   ]
  },
  {
   "cell_type": "code",
   "execution_count": null,
   "metadata": {},
   "outputs": [],
   "source": [
    "# assign labels to the generated features\n",
    "train_data = features.merge(game_df[['game_id', 'type']], on=\"game_id\")\n",
    "train_data.groupby('type').type.count()"
   ]
  },
  {
   "cell_type": "code",
   "execution_count": null,
   "metadata": {},
   "outputs": [],
   "source": [
    "train_data"
   ]
  },
  {
   "cell_type": "code",
   "execution_count": null,
   "metadata": {},
   "outputs": [],
   "source": [
    "y = train_data['type']\n",
    "X = train_data.drop(['type', 'game_id'], axis=1)"
   ]
  },
  {
   "cell_type": "code",
   "execution_count": null,
   "metadata": {
    "scrolled": true
   },
   "outputs": [],
   "source": [
    "lr = LogisticRegression()\n",
    "\n",
    "model = lr.fit(X, y)\n",
    "model.score(X, y)"
   ]
  },
  {
   "cell_type": "code",
   "execution_count": null,
   "metadata": {},
   "outputs": [],
   "source": [
    "roc_auc_score(y, model.predict_proba(X)[:, 1] )"
   ]
  }
 ],
 "metadata": {
  "kernelspec": {
   "display_name": "Python 3.8.13 ('base')",
   "language": "python",
   "name": "python3"
  },
  "language_info": {
   "codemirror_mode": {
    "name": "ipython",
    "version": 3
   },
   "file_extension": ".py",
   "mimetype": "text/x-python",
   "name": "python",
   "nbconvert_exporter": "python",
   "pygments_lexer": "ipython3",
   "version": "3.8.13"
  },
  "vscode": {
   "interpreter": {
    "hash": "40d3a090f54c6569ab1632332b64b2c03c39dcf918b08424e98f38b5ae0af88f"
   }
  }
 },
 "nbformat": 4,
 "nbformat_minor": 2
}
