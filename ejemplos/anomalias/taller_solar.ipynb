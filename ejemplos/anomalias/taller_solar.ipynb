{
  "nbformat": 4,
  "nbformat_minor": 2,
  "metadata": {
    "colab": {
      "name": "taller_solar.ipynb",
      "provenance": [],
      "collapsed_sections": []
    },
    "kernelspec": {
      "name": "python3",
      "display_name": "Python 3.9.6 64-bit ('ing-caract': conda)"
    },
    "language_info": {
      "name": "python",
      "version": "3.9.6",
      "mimetype": "text/x-python",
      "codemirror_mode": {
        "name": "ipython",
        "version": 3
      },
      "pygments_lexer": "ipython3",
      "nbconvert_exporter": "python",
      "file_extension": ".py"
    },
    "interpreter": {
      "hash": "ea66e8bc5cf06772dcc9e9960ffc0c49ce27516e2788edf5d7dc9f12289926eb"
    }
  },
  "cells": [
    {
      "cell_type": "markdown",
      "source": [
        "\n",
        "# Curso *Ingeniería de características*\n",
        "\n",
        "# Detección de anomalías \n",
        "\n",
        "\n",
        "<p> Julio Waissman Vilanova </p>\n",
        "<p>\n",
        "<img src=\"https://identidadbuho.unison.mx/wp-content/uploads/2019/06/letragrama-cmyk-72.jpg\" width=\"150\">\n",
        "</p>\n",
        "</center>\n",
        "\n"
      ],
      "metadata": {
        "id": "V-v7J49QY5ur"
      }
    },
    {
      "cell_type": "code",
      "execution_count": null,
      "source": [
        "!pip install openpyxl\n",
        "!pip install scikit-learn"
      ],
      "outputs": [],
      "metadata": {}
    },
    {
      "cell_type": "code",
      "execution_count": null,
      "source": [
        "import numpy as np\n",
        "import pandas as pd\n",
        "import matplotlib.pyplot as plt\n",
        "\n",
        "plt.style.use('ggplot')\n",
        "plt.rcParams['figure.figsize'] = [15, 7]"
      ],
      "outputs": [],
      "metadata": {
        "id": "b2PI0UqLZqTD"
      }
    },
    {
      "cell_type": "markdown",
      "source": [
        "## Cargando los datos"
      ],
      "metadata": {
        "id": "xSGuY41Ib6p2"
      }
    },
    {
      "cell_type": "code",
      "execution_count": null,
      "source": [
        "df = pd.read_excel(\"Dataset_GeneracionFV.xlsx\", sheet_name=1)\n",
        "df.info()"
      ],
      "outputs": [],
      "metadata": {
        "id": "MZowTt93Y27d"
      }
    },
    {
      "cell_type": "code",
      "execution_count": null,
      "source": [
        "df.index = df.Fecha\n",
        "df['Hora'] = df.index.hour\n",
        "df['Dia'] = df.index.dayofweek\n",
        "df['Mes'] = df.index.month\n",
        "df"
      ],
      "outputs": [],
      "metadata": {
        "id": "XEYOsGPiaDRI"
      }
    },
    {
      "cell_type": "markdown",
      "source": [
        "## Análisis exploratorio de datos\n",
        "\n",
        "\n",
        "1. ¿Cual es la radiación y generación promedio por hora?\n",
        "2. ¿Cual es la radiación y generación promedio por mes?\n",
        "3. ¿Existe una correlación entre radiación y generación? ¿Es lineal?\n",
        "4. ¿A que horas inicia la generación por mes?"
      ],
      "metadata": {
        "id": "pyKLNF2pb2B-"
      }
    },
    {
      "cell_type": "code",
      "execution_count": null,
      "source": [
        "df[df.Mes == 2].plot.scatter(\n",
        "    x='Radiacion_FV_W/m2',\n",
        "    y='Generacion_FV_MW',\n",
        "    #s='Hora',\n",
        "    #c='Hora',\n",
        "    colormap='jet',\n",
        "    figsize=(15,7)\n",
        ")"
      ],
      "outputs": [],
      "metadata": {
        "id": "07mJ53APcVRI"
      }
    },
    {
      "cell_type": "markdown",
      "source": [
        "¿Como se comporta la generación respecto a la hora del día? ¿Y respecto al mes? ¿Cómo se ve a lo largo de un día? ¿El día de la semana (o del més) tendría algo que ver? Agrega las celdas de código acomañadas de las celdas de comentarios que sean necesarios para un análisis preliminar de datos."
      ],
      "metadata": {}
    },
    {
      "cell_type": "code",
      "execution_count": null,
      "source": [
        "# Agrega cuantas celdas y comentarios consideres necesarios"
      ],
      "outputs": [],
      "metadata": {
        "id": "Y31tPtdgcPPa"
      }
    },
    {
      "cell_type": "code",
      "execution_count": null,
      "source": [
        "# Agrega cuantas celdas creas necesarias"
      ],
      "outputs": [],
      "metadata": {
        "id": "Dr9r7NJOgpRA"
      }
    },
    {
      "cell_type": "markdown",
      "source": [
        "## Detección de anomalías\n",
        "\n",
        "Vamos a probar varios métodos de detección de anomalías para compararlos entre ellos. Para esto vamos a utilizar los métodos clásicos que vienen en `sci-kit learn` los cuales son:\n",
        "\n",
        "- Ajuste de una distribución (elíptica)\n",
        "- Detección de *outliers* por bosques de aislamiento\n",
        "- Detección de *outliers* por *Local Outlier Factor* (LOF)\n",
        "\n",
        "Vamos a usar un caso muy simple de ejemplo (solo Radiación versis Generación) y se deja a los participantes que prueben un proceso multivariado."
      ],
      "metadata": {}
    },
    {
      "cell_type": "code",
      "execution_count": null,
      "source": [
        "from sklearn.covariance import EmpiricalCovariance, MinCovDet\n",
        "from sklearn.ensemble import IsolationForest\n",
        "from sklearn.neighbors import LocalOutlierFactor\n",
        "\n",
        "X = df[[\"Radiacion_FV_W/m2\", \"Generacion_FV_MW\"]].to_numpy()\n",
        "X.shape"
      ],
      "outputs": [],
      "metadata": {}
    },
    {
      "cell_type": "markdown",
      "source": [
        "#### Empezamos con las envolventes elípticas"
      ],
      "metadata": {}
    },
    {
      "cell_type": "code",
      "execution_count": null,
      "source": [
        "# Estimador robusto (MCD)\n",
        "robust_cov = MinCovDet().fit(X)\n",
        "estimado_MCD = robust_cov.mahalanobis(X)\n",
        "\n",
        "# Estimador empírico (MLE)\n",
        "emp_cov = EmpiricalCovariance().fit(X)\n",
        "estimado_MLE = emp_cov.mahalanobis(X)\n",
        "\n",
        "print('Matrices de covarianza estimadas:\\n' +\n",
        "      f'MCD:\\n{robust_cov.covariance_}\\n' +\n",
        "      f'MLE:\\n{emp_cov.covariance_}')"
      ],
      "outputs": [],
      "metadata": {}
    },
    {
      "cell_type": "code",
      "execution_count": null,
      "source": [
        "plt.scatter(x=X[:,0], y=X[:,1], c=estimado_MCD, cmap='jet')\n",
        "plt.colorbar()\n",
        "plt.show()"
      ],
      "outputs": [],
      "metadata": {}
    },
    {
      "cell_type": "code",
      "execution_count": null,
      "source": [
        "plt.scatter(x=X[:,0], y=X[:,1], c=np.where(estimado_MCD < 20000, 0, 10), cmap='jet')\n",
        "plt.show()"
      ],
      "outputs": [],
      "metadata": {}
    },
    {
      "cell_type": "code",
      "execution_count": null,
      "source": [
        "plt.scatter(x=X[:,0], y=X[:,1], c=estimado_MLE, cmap='jet')\n",
        "plt.colorbar()\n",
        "plt.show()"
      ],
      "outputs": [],
      "metadata": {}
    },
    {
      "cell_type": "code",
      "execution_count": null,
      "source": [
        "plt.scatter(x=X[:,0], y=X[:,1], c=np.where(estimado_MLE < 5, 0, 10), cmap='jet')\n",
        "plt.show()"
      ],
      "outputs": [],
      "metadata": {}
    },
    {
      "cell_type": "markdown",
      "source": [
        "#### Bosques de aislamiento"
      ],
      "metadata": {}
    },
    {
      "cell_type": "code",
      "execution_count": null,
      "source": [
        "clf = IsolationForest(n_estimators=100, warm_start=True)\n",
        "clf.fit(X)\n",
        "\n",
        "# Si warm_start es True, se le puede ir agregando estimadores poco a poco\n",
        "#clf.set_params(n_estimators=20) \n",
        "#clf.fit(X)\n",
        "\n",
        "estimado_IF = clf.decision_function(X)\n",
        "\n",
        "plt.scatter(x=X[:,0], y=X[:,1], c=estimado_IF, cmap='jet')\n",
        "plt.colorbar()\n",
        "plt.show()"
      ],
      "outputs": [],
      "metadata": {}
    },
    {
      "cell_type": "code",
      "execution_count": null,
      "source": [
        "plt.scatter(x=X[:,0], y=X[:,1], c=np.where(estimado_IF > -0.1, 1, 0), cmap='jet')\n",
        "plt.show()"
      ],
      "outputs": [],
      "metadata": {}
    }
  ]
}