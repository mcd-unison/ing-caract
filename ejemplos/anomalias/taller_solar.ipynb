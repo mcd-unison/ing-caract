{
  "cells": [
    {
      "cell_type": "markdown",
      "metadata": {
        "id": "V-v7J49QY5ur"
      },
      "source": [
        "\n",
        "## Curso *Ingeniería de características*\n",
        "\n",
        "# Detección de anomalías \n",
        "\n",
        "**Julio Waissman Vilanova**"
      ]
    },
    {
      "cell_type": "markdown",
      "metadata": {},
      "source": [
        "<table align=\"center\">\n",
        "      <td align=\"center\"><a target=\"_blank\" href=\"https://www.unison.mx\">\n",
        "            <img src=\"https://www.unison.mx/wp-content/themes/awaken/images/logo.png\"  height=\"70px\" style=\"padding-bottom:5px;\"  /></a></td>  \n",
        "      <td align=\"center\"><a target=\"_blank\" href=\"https://www.gob.mx/cenace\">\n",
        "            <img src=\"https://mcd.unison.mx/wp-content/themes/awaken/img/logo_mcd.png\" height=\"70px\" style=\"padding-bottom:5px;\" /></a></td>\n",
        "      <td align=\"center\"><a target=\"_blank\" href=\"https://colab.research.google.com/github/mcd-unison/ing-caract/blob/main/ejemplos/anomalias/taller_solar.ipynb\">\n",
        "            <img src=\"https://i.ibb.co/2P3SLwK/colab.png\"  height=\"70px\" style=\"padding-bottom:5px;\" /></a></td>\n",
        "\n",
        "</table>\n"
      ]
    },
    {
      "cell_type": "code",
      "execution_count": null,
      "metadata": {},
      "outputs": [],
      "source": [
        "!pip install openpyxl\n",
        "!pip install scikit-learn\n",
        "!pip install hvplot\n",
        "!pip install -U bokeh"
      ]
    },
    {
      "cell_type": "code",
      "execution_count": null,
      "metadata": {
        "id": "b2PI0UqLZqTD"
      },
      "outputs": [],
      "source": [
        "import numpy as np\n",
        "\n",
        "import holoviews as hv\n",
        "import hvplot\n",
        "import hvplot.pandas \n",
        "\n",
        "import pandas as pd\n",
        "import matplotlib.pyplot as plt\n",
        "\n",
        "plt.style.use('ggplot')\n",
        "plt.rcParams['figure.figsize'] = [15, 7]"
      ]
    },
    {
      "cell_type": "markdown",
      "metadata": {
        "id": "xSGuY41Ib6p2"
      },
      "source": [
        "## Cargando los datos"
      ]
    },
    {
      "cell_type": "code",
      "execution_count": null,
      "metadata": {
        "id": "MZowTt93Y27d"
      },
      "outputs": [],
      "source": [
        "url = \"https://github.com/mcd-unison/ing-caract/raw/main/ejemplos/anomalias/Dataset_GeneracionFV.xlsx\"\n",
        "df = pd.read_excel(url, sheet_name=1)\n",
        "df.info()"
      ]
    },
    {
      "cell_type": "code",
      "execution_count": null,
      "metadata": {
        "id": "XEYOsGPiaDRI"
      },
      "outputs": [],
      "source": [
        "df.rename(\n",
        "    columns={\"Generacion_FV_MW\": \"Generacion\", \"Radiacion_FV_W/m2\": \"Radiacion\"}, \n",
        "    inplace=True\n",
        ")\n",
        "df.index = df.Fecha\n",
        "df['Hora'] = df.index.hour\n",
        "df['Dia'] = df.index.dayofweek\n",
        "df['Mes'] = df.index.month\n",
        "df"
      ]
    },
    {
      "cell_type": "markdown",
      "metadata": {
        "id": "pyKLNF2pb2B-"
      },
      "source": [
        "## Análisis exploratorio de datos\n",
        "\n",
        "\n",
        "1. ¿Cual es la radiación y generación promedio por hora?\n",
        "2. ¿Cual es la radiación y generación promedio por mes?\n",
        "3. ¿Existe una correlación entre radiación y generación? ¿Es lineal?\n",
        "4. ¿A que horas inicia la generación por mes?"
      ]
    },
    {
      "cell_type": "code",
      "execution_count": null,
      "metadata": {
        "id": "07mJ53APcVRI"
      },
      "outputs": [],
      "source": [
        "%env HV_DOC_HTML=true\n",
        "hv.extension('bokeh')\n",
        "\n",
        "df.hvplot.scatter(\n",
        "    x='Radiacion',\n",
        "    y='Generacion',\n",
        "    #by='Dia',\n",
        "    #groupby='Mes',\n",
        "    title=\"Radiación vs generación de energía\"\n",
        ")"
      ]
    },
    {
      "cell_type": "markdown",
      "metadata": {},
      "source": [
        "¿Como se comporta la generación respecto a la hora del día? ¿Y respecto al mes? ¿Cómo se ve a lo largo de un día? ¿El día de la semana (o del més) tendría algo que ver? Agrega las celdas de código acomañadas de las celdas de comentarios que sean necesarios para un análisis preliminar de datos."
      ]
    },
    {
      "cell_type": "code",
      "execution_count": null,
      "metadata": {
        "id": "Y31tPtdgcPPa"
      },
      "outputs": [],
      "source": [
        "%env HV_DOC_HTML=true\n",
        "hv.extension('bokeh')\n",
        "\n",
        "# Agrega cuantas celdas y comentarios consideres necesarios\n",
        "df.hvplot.box(\n",
        "    y=\"Generacion\", \n",
        "    by=\"Hora\", \n",
        "    #groupby='Mes',\n",
        "    title=\"Distribución de la generación por hora del día\"\n",
        ")"
      ]
    },
    {
      "cell_type": "code",
      "execution_count": null,
      "metadata": {},
      "outputs": [],
      "source": [
        "%env HV_DOC_HTML=true\n",
        "import hvplot\n",
        "hv.extension('bokeh')\n",
        "\n",
        "df2 = df.copy()\n",
        "#df2.reset_index(drop=True, inplace=True)\n",
        "df2.drop(columns=['Fecha'], inplace=True)\n",
        "\n",
        "explorer = hvplot.explorer(df2)\n",
        "explorer"
      ]
    },
    {
      "cell_type": "code",
      "execution_count": null,
      "metadata": {
        "id": "Dr9r7NJOgpRA"
      },
      "outputs": [],
      "source": [
        "# Agrega cuantas celdas creas necesarias"
      ]
    },
    {
      "cell_type": "markdown",
      "metadata": {},
      "source": [
        "¿Cres que existen outiers que se pueden analizar por variables en forma independiente? ¿Cuales? ¿Hay algun caso que revisar con los propietarios del proceso?"
      ]
    },
    {
      "cell_type": "markdown",
      "metadata": {},
      "source": [
        "## Detección de anomalías\n",
        "\n",
        "Vamos a probar varios métodos de detección de anomalías para compararlos entre ellos. Para esto vamos a utilizar los métodos clásicos que vienen en `sci-kit learn` los cuales son:\n",
        "\n",
        "- Ajuste de una distribución (elíptica)\n",
        "- Detección de *outliers* por bosques de aislamiento\n",
        "- Detección de *outliers* por *Local Outlier Factor* (LOF)\n",
        "\n",
        "Vamos a usar un caso muy simple de ejemplo (solo Radiación versis Generación) y se deja a los participantes que prueben un proceso multivariado."
      ]
    },
    {
      "cell_type": "code",
      "execution_count": null,
      "metadata": {},
      "outputs": [],
      "source": [
        "from sklearn.covariance import EmpiricalCovariance, MinCovDet\n",
        "from sklearn.ensemble import IsolationForest\n",
        "from sklearn.neighbors import LocalOutlierFactor\n",
        "\n",
        "X = df[[\"Radiacion\", \"Generacion\"]].to_numpy()\n",
        "X.shape"
      ]
    },
    {
      "cell_type": "markdown",
      "metadata": {},
      "source": [
        "#### Empezamos con las envolventes elípticas"
      ]
    },
    {
      "cell_type": "code",
      "execution_count": null,
      "metadata": {},
      "outputs": [],
      "source": [
        "# Estimador robusto (MCD)\n",
        "robust_cov = MinCovDet().fit(X)\n",
        "estimado_MCD = robust_cov.mahalanobis(X)\n",
        "\n",
        "# Estimador empírico (MLE)\n",
        "emp_cov = EmpiricalCovariance().fit(X)\n",
        "estimado_MLE = emp_cov.mahalanobis(X)\n",
        "\n",
        "print('Matrices de covarianza estimadas:\\n' +\n",
        "      f'MCD:\\n{robust_cov.covariance_}\\n' +\n",
        "      f'MLE:\\n{emp_cov.covariance_}')"
      ]
    },
    {
      "cell_type": "code",
      "execution_count": null,
      "metadata": {},
      "outputs": [],
      "source": [
        "plt.scatter(x=X[:,0], y=X[:,1], c=estimado_MCD, cmap='jet')\n",
        "plt.colorbar()\n",
        "plt.show()"
      ]
    },
    {
      "cell_type": "code",
      "execution_count": null,
      "metadata": {},
      "outputs": [],
      "source": [
        "plt.scatter(x=X[:,0], y=X[:,1], c=np.where(estimado_MCD < 20000, 0, 10), cmap='jet')\n",
        "plt.show()"
      ]
    },
    {
      "cell_type": "code",
      "execution_count": null,
      "metadata": {},
      "outputs": [],
      "source": [
        "plt.scatter(x=X[:,0], y=X[:,1], c=estimado_MLE, cmap='jet')\n",
        "plt.colorbar()\n",
        "plt.show()"
      ]
    },
    {
      "cell_type": "code",
      "execution_count": null,
      "metadata": {},
      "outputs": [],
      "source": [
        "plt.scatter(x=X[:,0], y=X[:,1], c=np.where(estimado_MLE < 5, 0, 10), cmap='jet')\n",
        "plt.show()"
      ]
    },
    {
      "cell_type": "markdown",
      "metadata": {},
      "source": [
        "#### Bosques de aislamiento"
      ]
    },
    {
      "cell_type": "code",
      "execution_count": null,
      "metadata": {},
      "outputs": [],
      "source": [
        "clf = IsolationForest(n_estimators=100, warm_start=True)\n",
        "clf.fit(X)\n",
        "\n",
        "# Si warm_start es True, se le puede ir agregando estimadores poco a poco\n",
        "#clf.set_params(n_estimators=20) \n",
        "#clf.fit(X)\n",
        "\n",
        "estimado_IF = clf.decision_function(X)\n",
        "\n",
        "plt.scatter(x=X[:,0], y=X[:,1], c=estimado_IF, cmap='jet')\n",
        "plt.colorbar()\n",
        "plt.show()"
      ]
    },
    {
      "cell_type": "code",
      "execution_count": null,
      "metadata": {},
      "outputs": [],
      "source": [
        "plt.scatter(x=X[:,0], y=X[:,1], c=np.where(estimado_IF > -0.1, 1, 0), cmap='jet')\n",
        "plt.show()"
      ]
    },
    {
      "cell_type": "markdown",
      "metadata": {},
      "source": [
        "#### Local Outlier Factor"
      ]
    },
    {
      "cell_type": "code",
      "execution_count": null,
      "metadata": {},
      "outputs": [],
      "source": [
        "LocalOutlierFactor?"
      ]
    },
    {
      "cell_type": "code",
      "execution_count": null,
      "metadata": {},
      "outputs": [],
      "source": [
        "clf = LocalOutlierFactor(n_neighbors=100)\n",
        "estimado_LOF = clf.fit_predict(X)\n",
        "\n",
        "plt.scatter(x=X[:,0], y=X[:,1], c=estimado_LOF, cmap='jet')\n",
        "plt.colorbar()\n",
        "plt.show()"
      ]
    },
    {
      "cell_type": "code",
      "execution_count": null,
      "metadata": {},
      "outputs": [],
      "source": [
        "plt.scatter(x=X[:,0], y=X[:,1], c=np.where(estimado_LOF > 0.0, 1, 0), cmap='jet')\n",
        "plt.show()"
      ]
    },
    {
      "cell_type": "markdown",
      "metadata": {},
      "source": [
        "¿Qué variables habría que integrar en el estudio? ¿Que pasaría si agregamos la hora para la detección de *outliers*? ¿Cambiaría mucho los puntos considerados como outliers? "
      ]
    }
  ],
  "metadata": {
    "colab": {
      "collapsed_sections": [],
      "name": "taller_solar.ipynb",
      "provenance": []
    },
    "interpreter": {
      "hash": "df66168c05601359b7a18d86a592119f5db8fb3a1787607b00a26812b2b93761"
    },
    "kernelspec": {
      "display_name": "Python 3.9.6 64-bit ('ing-caract': conda)",
      "name": "python3"
    },
    "language_info": {
      "codemirror_mode": {
        "name": "ipython",
        "version": 3
      },
      "file_extension": ".py",
      "mimetype": "text/x-python",
      "name": "python",
      "nbconvert_exporter": "python",
      "pygments_lexer": "ipython3",
      "version": "3.9.6"
    }
  },
  "nbformat": 4,
  "nbformat_minor": 2
}
