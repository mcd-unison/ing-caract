{
 "cells": [
  {
   "cell_type": "markdown",
   "metadata": {},
   "source": [
    "![](https://mcd.unison.mx/wp-content/themes/awaken/img/logo_mcd.png)\n",
    "\n",
    "# Curso Ingeniería de Características\n",
    "\n",
    "## Análisis en Componentes Principales\n",
    "\n",
    "### Julio Waissman\n",
    "\n",
    "\n",
    "En esta libreta vamos a hacer una pequeña aplicación del Análisis en Componentes Principales (PCA) aplicado a los datos de marginación del estado de Sonora, los cuales los vamos a consultar [desde la página del gobierno federal para el año 2020](https://www.gob.mx/conapo/documentos/indices-de-marginacion-2020-284372).\n",
    "\n",
    "No vamos a utilizar los indices normalizados de marginación por municipio desarrollados por la CONAPO ya que lo que queremos es hacer un análisis exploratorio de datos multivariados utilizndo componentes principales.\n",
    "\n",
    "### 1. Cargando y seleccionando los datos de marginación\n",
    "\n",
    "Empecemos por cargar los datos y ver como son:"
   ]
  },
  {
   "cell_type": "code",
   "execution_count": null,
   "metadata": {},
   "outputs": [],
   "source": [
    "import pandas as pd\n",
    "\n",
    "url = \"http://www.conapo.gob.mx/work/models/CONAPO/Marginacion/Datos_Abiertos/Municipio/IMM_2020.xls\"\n",
    "\n",
    "dic_df = pd.read_excel(url, None)\n",
    "\n",
    "dic_df.keys()"
   ]
  },
  {
   "cell_type": "markdown",
   "metadata": {},
   "source": [
    "Nos vamos a quedar con sólo los municipios de sonora. En `IMM_2020` se encuentran los datos para fácil consumo de un programa, y en 'Diccionario' se encuentra la descripción de cada variable."
   ]
  },
  {
   "cell_type": "markdown",
   "metadata": {},
   "source": [
    "Vamos a ver en el diccionario de datos cuales son los datos que nos interesan."
   ]
  },
  {
   "cell_type": "code",
   "execution_count": null,
   "metadata": {},
   "outputs": [],
   "source": [
    "dic_df['Diccionario']"
   ]
  },
  {
   "cell_type": "markdown",
   "metadata": {},
   "source": [
    "Vamos primero a separar los datos de sonora y revisar si se encuentran todos losmunicipios del estado:"
   ]
  },
  {
   "cell_type": "code",
   "execution_count": null,
   "metadata": {},
   "outputs": [],
   "source": [
    "sonora = dic_df['IMM_2020'][dic_df['IMM_2020'].NOM_ENT.str.contains('Sonora')]\n",
    "print(f\"Los municipios de Sonora son: \\n {sonora.NOM_MUN.unique()}\")\n",
    "sonora"
   ]
  },
  {
   "cell_type": "markdown",
   "metadata": {},
   "source": [
    "Como podemos ver tenemos los 72 municipio. Nos vamos entonces a quedar con los datos de las columnas 7 a 15 (porcentajes) sin tomar en cuenta el tamaño de la población (en forma conciente)"
   ]
  },
  {
   "cell_type": "code",
   "execution_count": null,
   "metadata": {},
   "outputs": [],
   "source": [
    "dic_datos = dic_df['Diccionario'].iloc[7:15,:].copy().rename(columns={\n",
    "    \"Indicadores sociodemográficos e índice de marginación a nivel municipal, 2020\": \"Indicador\",\n",
    "    \"Unnamed: 1\": \"Descripcion\" \n",
    "})\n",
    "\n",
    "datos = sonora[dic_datos.Indicador.values].to_numpy()\n",
    "\n",
    "# Vamos a ver, deberíamos tener 72 municipios, cada uno representado por 8 indicadores\n",
    "datos.shape\n",
    "\n",
    "# Y los indicadores que vamos a usar\n",
    "print(f\"Las variables a usar son: \\n{dic_datos}\")"
   ]
  },
  {
   "cell_type": "markdown",
   "metadata": {},
   "source": [
    "### 2. Aplicando el Análisis en componentes principales\n",
    "\n",
    "Vamos a ver si podemos utilizar PCA para revisar estos datos que se encuentran en 8 dimensiones y ver si los datos de marginación tendrían un significado diferente si se analizan a nivel estatal. Así no se tendrían los sesgos de municipios con menor marginación como Garza García o San Nicolás de los Garza en Nuevo León, Cuauthemoc o Benito Juárez en la Ciudad de México, pero tampoco de los municipios con mayor marginación como Batopilas en Chihuahua, Mezquital en Durango, Del Nayar en Nayarit o Mezquitic en Jalisco.  "
   ]
  },
  {
   "cell_type": "code",
   "execution_count": null,
   "metadata": {},
   "outputs": [],
   "source": [
    "from sklearn.decomposition import PCA\n",
    "\n",
    "n_components = 4\n",
    "\n",
    "pca = PCA(n_components=n_components)\n",
    "pca.fit(datos)\n",
    "\n",
    "pd.DataFrame(\n",
    "    np.transpose(pca.components_), \n",
    "    columns=[f'PC {x}' for x in range(1,n_components+1)],\n",
    "    index = dic_datos.Indicador\n",
    ")"
   ]
  },
  {
   "cell_type": "markdown",
   "metadata": {},
   "source": [
    "¿Y cuanto explica sobre la varianza total cada una de las componentes? "
   ]
  },
  {
   "cell_type": "code",
   "execution_count": null,
   "metadata": {},
   "outputs": [],
   "source": [
    "import numpy as np\n",
    "import plotly.express as px\n",
    "\n",
    "print(pca.explained_variance_)\n",
    "\n",
    "df_ev = pd.DataFrame({\n",
    "    \"acc\": np.cumsum(pca.explained_variance_ratio_),\n",
    "    \"label\": [f'PC {x}' for x in range(1,n_components+1)]\n",
    "})\n",
    "fig = px.scatter(df_ev, x='label', y='acc')\n",
    "fig.show()\n",
    "\n",
    "\n"
   ]
  },
  {
   "cell_type": "markdown",
   "metadata": {},
   "source": [
    "Como vemos, más del 0.93 % de la varianza se explica con la componente principal, la cual se compone principalmente de la variable `PL.5000`, que es el porcentaje de la población que vive en poblaciones menores a 5000 habitantes. Veamos como se comporta estavariable:"
   ]
  },
  {
   "cell_type": "code",
   "execution_count": null,
   "metadata": {},
   "outputs": [],
   "source": [
    "sonora.columns"
   ]
  },
  {
   "cell_type": "code",
   "execution_count": null,
   "metadata": {},
   "outputs": [],
   "source": [
    "fig = px.bar(sonora, x='CVE_MUN', y='PL.5000', text='NOM_MUN', color=\"PL.5000\")\n",
    "fig.show()"
   ]
  },
  {
   "cell_type": "markdown",
   "metadata": {},
   "source": [
    "Y como lo vemos, pues la mayoría de los municipios son principalmente rurales. Separemos ahora los municipios con un `PL.5000` menor a 40 y revisemos:"
   ]
  },
  {
   "cell_type": "code",
   "execution_count": null,
   "metadata": {},
   "outputs": [],
   "source": [
    "sonora_urbano = sonora[sonora['PL.5000'] < 40]\n",
    "datos_urbano = sonora_urbano[dic_datos.Indicador.values].to_numpy()\n",
    "\n",
    "pca_urbano = PCA(n_components=n_components)\n",
    "pca_urbano.fit(datos_urbano)\n",
    "\n",
    "df_ev = pd.DataFrame({\n",
    "    \"acc\": np.cumsum(pca_urbano.explained_variance_ratio_),\n",
    "    \"label\": [f'PC {x}' for x in range(1,n_components+1)]\n",
    "})\n",
    "fig = px.scatter(df_ev, x='label', y='acc')\n",
    "fig.show()\n",
    "\n",
    "pd.DataFrame(\n",
    "    np.transpose(pca_urbano.components_), \n",
    "    columns=[f'PC {x}' for x in range(1,n_components+1)],\n",
    "    index = dic_datos.Indicador\n",
    ")"
   ]
  },
  {
   "cell_type": "markdown",
   "metadata": {},
   "source": [
    "Y ahora veamos los municipios que llamaremos *rurales*"
   ]
  },
  {
   "cell_type": "code",
   "execution_count": null,
   "metadata": {},
   "outputs": [],
   "source": [
    "sonora_rural = sonora[sonora['PL.5000'] > 40]\n",
    "datos_rural = sonora_rural[dic_datos.Indicador.values].to_numpy()\n",
    "\n",
    "pca_rural = PCA(n_components=n_components)\n",
    "pca_rural.fit(datos_rural)\n",
    "\n",
    "df_ev = pd.DataFrame({\n",
    "    \"acc\": np.cumsum(pca_rural.explained_variance_ratio_),\n",
    "    \"label\": [f'PC {x}' for x in range(1,n_components+1)]\n",
    "})\n",
    "fig = px.scatter(df_ev, x='label', y='acc')\n",
    "fig.show()\n",
    "\n",
    "pd.DataFrame(\n",
    "    np.transpose(pca_rural.components_), \n",
    "    columns=[f'PC {x}' for x in range(1,n_components+1)],\n",
    "    index = dic_datos.Indicador\n",
    ")"
   ]
  },
  {
   "cell_type": "markdown",
   "metadata": {},
   "source": [
    "### 3. Visualización de los componentes principales\n",
    "\n",
    "Vamos a ver si hay similaridades entre municipios utilizando los 4 componentes principales. Para esto vamos a utilizar las gráficas de `scatter` que nos permite visualizar la relación de hasta 4 variables diferentes.\n",
    "\n",
    "Vamos a hacer el ejercicio con los datos de `sonora_urbano` y dejamos el análisis de los municipios rurales como ejercicio."
   ]
  },
  {
   "cell_type": "code",
   "execution_count": null,
   "metadata": {},
   "outputs": [],
   "source": [
    "df_urbano = pd.DataFrame(\n",
    "    pca_urbano.transform(datos_urbano),\n",
    "    columns= [f'PC {x}' for x in range(1,n_components+1)],\n",
    "    index= sonora_urbano.NOM_MUN    \n",
    ")\n",
    "\n",
    "fig = px.scatter(df_urbano, x='PC 1', y='PC 2', color='PC 3', text=df_urbano.index)\n",
    "fig.show()"
   ]
  }
 ],
 "metadata": {
  "kernelspec": {
   "display_name": "Python 3",
   "language": "python",
   "name": "python3"
  },
  "language_info": {
   "codemirror_mode": {
    "name": "ipython",
    "version": 3
   },
   "file_extension": ".py",
   "mimetype": "text/x-python",
   "name": "python",
   "nbconvert_exporter": "python",
   "pygments_lexer": "ipython3",
   "version": "3.8.5"
  }
 },
 "nbformat": 4,
 "nbformat_minor": 4
}
