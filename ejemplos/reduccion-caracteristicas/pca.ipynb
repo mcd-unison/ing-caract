{
 "cells": [
  {
   "cell_type": "markdown",
   "metadata": {},
   "source": [
    "<center>\n",
    "<p><img src=\"https://mcd.unison.mx/wp-content/themes/awaken/img/logo_mcd.png\" width=\"150\">\n",
    "</p>\n",
    "\n",
    "\n",
    "\n",
    "<h1>Curso Ingeniería de Características</h1>\n",
    "\n",
    "<h3>Visualización con componentes principales</h3>\n",
    "\n",
    "\n",
    "\n",
    "<p> Julio Waissman Vilanova </p>\n",
    "<p>\n",
    "<img src=\"https://identidadbuho.unison.mx/wp-content/uploads/2019/06/letragrama-cmyk-72.jpg\" width=\"150\">\n",
    "</p>\n",
    "\n",
    "\n",
    "<a target=\"_blank\" href=\"https://colab.research.google.com/github/mcd-unison/ing-caract/blob/main/ejemplos/reduccion-caracteristicas/pca.ipynb\"><img src=\"https://i.ibb.co/2P3SLwK/colab.png\"  style=\"padding-bottom:5px;\"  width=\"30\" /> Ejecuta en Colab</a>\n",
    "\n",
    "</center>"
   ]
  },
  {
   "cell_type": "markdown",
   "metadata": {},
   "source": [
    "En esta libreta vamos a hacer una pequeña aplicación del Análisis en Componentes Principales (PCA) aplicado a los datos de marginación del estado de Sonora, los cuales los vamos a consultar [desde la página del gobierno federal para el año 2020](https://www.gob.mx/conapo/documentos/indices-de-marginacion-2020-284372).\n",
    "\n",
    "No vamos a utilizar los indices normalizados de marginación por municipio desarrollados por la CONAPO ya que lo que queremos es hacer un análisis exploratorio de datos multivariados utilizndo componentes principales.\n",
    "\n",
    "### 1. Cargando y seleccionando los datos de marginación\n",
    "\n",
    "Empecemos por cargar los datos y ver como son:"
   ]
  },
  {
   "cell_type": "code",
   "execution_count": null,
   "metadata": {},
   "outputs": [],
   "source": [
    "import pandas as pd\n",
    "\n",
    "url = \"http://www.conapo.gob.mx/work/models/CONAPO/Marginacion/Datos_Abiertos/Municipio/IMM_2020.xls\"\n",
    "\n",
    "dic_df = pd.read_excel(url, None)\n",
    "\n",
    "dic_df.keys()"
   ]
  },
  {
   "cell_type": "markdown",
   "metadata": {},
   "source": [
    "Nos vamos a quedar con sólo los municipios de sonora. En `IMM_2020` se encuentran los datos para fácil consumo de un programa, y en 'Diccionario' se encuentra la descripción de cada variable."
   ]
  },
  {
   "cell_type": "markdown",
   "metadata": {},
   "source": [
    "Vamos a ver en el diccionario de datos cuales son los datos que nos interesan."
   ]
  },
  {
   "cell_type": "code",
   "execution_count": null,
   "metadata": {},
   "outputs": [],
   "source": [
    "dic_df['Diccionario']"
   ]
  },
  {
   "cell_type": "markdown",
   "metadata": {},
   "source": [
    "Vamos primero a separar los datos de sonora y revisar si se encuentran todos losmunicipios del estado:"
   ]
  },
  {
   "cell_type": "code",
   "execution_count": null,
   "metadata": {},
   "outputs": [],
   "source": [
    "sonora = dic_df['IMM_2020'][dic_df['IMM_2020'].NOM_ENT.str.contains('Sonora')]\n",
    "print(f\"Los municipios de Sonora son: \\n {sonora.NOM_MUN.unique()}\")\n",
    "sonora"
   ]
  },
  {
   "cell_type": "markdown",
   "metadata": {},
   "source": [
    "Como podemos ver tenemos los 72 municipio. Nos vamos entonces a quedar con los datos de las columnas 5 a 14 (porcentajes) sin tomar en cuenta el tamaño de la población (en forma conciente)"
   ]
  },
  {
   "cell_type": "code",
   "execution_count": null,
   "metadata": {},
   "outputs": [],
   "source": [
    "datos_municipio = sonora.iloc[:, 5:14]\n",
    "\n",
    "# Vamos a ver, deberíamos tener 72 municipios, cada uno representado por 8 indicadores\n",
    "print(\"Dimensión de los datos: \", datos_municipio.shape)\n",
    "\n",
    "# Y los indicadores que vamos a usar\n",
    "print(f\"Las variables a usar son: \\n{datos_municipio.head()}\")"
   ]
  },
  {
   "cell_type": "markdown",
   "metadata": {},
   "source": [
    "### 2. Aplicando el Análisis en componentes principales\n",
    "\n",
    "Vamos a ver si podemos utilizar PCA para revisar estos datos que se encuentran en 9 dimensiones y ver si los datos de marginación tendrían un significado diferente si se analizan a nivel estatal. "
   ]
  },
  {
   "cell_type": "code",
   "execution_count": null,
   "metadata": {},
   "outputs": [],
   "source": [
    "from sklearn.decomposition import PCA\n",
    "from sklearn.preprocessing import StandardScaler\n",
    "from sklearn.pipeline import Pipeline\n",
    "\n",
    "datos = datos_municipio.values\n",
    "\n",
    "n_components = 4\n",
    "pipe = Pipeline(\n",
    "    [('scaler', StandardScaler()), \n",
    "     ('pca', PCA(n_components=n_components))]\n",
    ")\n",
    "\n",
    "pipe.fit(datos)\n",
    "\n",
    "pca = pipe.get_params()['pca']\n",
    "\n",
    "pd.DataFrame(\n",
    "    pca.components_.T, \n",
    "    columns=[f'PC {x}' for x in range(1,n_components+1)],\n",
    "    index = datos_municipio.columns\n",
    ")"
   ]
  },
  {
   "cell_type": "markdown",
   "metadata": {},
   "source": [
    "¿Y cuanto explica sobre la varianza total cada una de las componentes? "
   ]
  },
  {
   "cell_type": "code",
   "execution_count": null,
   "metadata": {},
   "outputs": [],
   "source": [
    "import numpy as np\n",
    "import plotly.express as px\n",
    "\n",
    "print(\"Varianza por componente: \", pca.explained_variance_)\n",
    "print(\"Porcentaje de varianza explicada por componente: \", \n",
    "      pca.explained_variance_ratio_)\n",
    "\n",
    "df_ev = pd.DataFrame({\n",
    "    \"Varianza explicada\": np.cumsum(pca.explained_variance_ratio_),\n",
    "    \"Componente\": [f'PC {x}' for x in range(1,n_components+1)]\n",
    "})\n",
    "fig = px.line(df_ev, x='Componente', y='Varianza explicada', markers=True,\n",
    "              title=\"Varianza explicada por componente\")\n",
    "fig.show()"
   ]
  },
  {
   "cell_type": "markdown",
   "metadata": {},
   "source": [
    "Como vemos, menos del 47% de la varianza se explica por la componente principal, y menos del 69% con las dos primeras componentes. Por esta razón podemos decir que en Sonora, la marginación es un problema multidimensional.\n",
    "\n",
    "Esto implica que atacar a una de las variables, no va a reducir a las otras variables, si no que es necesario desarrollar polñíticas mñas integrales. \n",
    "\n",
    "A nivel país esto no es el caso, donde la primer componente explica la mayor parte de la variación. ¿Porqué crees que eso pase?"
   ]
  },
  {
   "cell_type": "code",
   "execution_count": null,
   "metadata": {},
   "outputs": [],
   "source": [
    "fig = px.bar(sonora.sort_values(by='PL.5000'), \n",
    "             x='NOM_MUN', y='PL.5000', \n",
    "             color=\"PL.5000\",\n",
    "             color_continuous_scale='bluered')\n",
    "fig.show()"
   ]
  },
  {
   "cell_type": "markdown",
   "metadata": {},
   "source": [
    "Y como lo vemos, pues la mayoría de los municipios son principalmente rurales. Separemos ahora los municipios con un `PL.5000` menor a 90 y revisemos:"
   ]
  },
  {
   "cell_type": "code",
   "execution_count": null,
   "metadata": {},
   "outputs": [],
   "source": [
    "sonora_urbano = sonora[sonora['PL.5000'] < 90]\n",
    "datos_urbano = sonora_urbano.iloc[:, 5:14]\n",
    "\n",
    "datos = datos_urbano.values\n",
    "\n",
    "n_components = 4\n",
    "pipe_urbano = Pipeline(\n",
    "    [('scaler', StandardScaler()), \n",
    "     ('pca', PCA(n_components=n_components))]\n",
    ")\n",
    "\n",
    "pipe_urbano.fit(datos)\n",
    "\n",
    "pca_urbano = pipe_urbano.get_params()['pca']\n",
    "\n",
    "pd.DataFrame(\n",
    "    pca_urbano.components_.T, \n",
    "    columns=[f'PC {x}' for x in range(1,n_components+1)],\n",
    "    index = datos_urbano.columns\n",
    ")"
   ]
  },
  {
   "cell_type": "code",
   "execution_count": null,
   "metadata": {},
   "outputs": [],
   "source": [
    "print(\"Varianza por componente: \", pca_urbano.explained_variance_)\n",
    "print(\"Porcentaje de varianza explicada por componente: \", \n",
    "      pca_urbano.explained_variance_ratio_)\n",
    "\n",
    "df_ev = pd.DataFrame({\n",
    "    \"Varianza explicada\": np.cumsum(pca_urbano.explained_variance_ratio_),\n",
    "    \"Componente\": [f'PC {x}' for x in range(1,n_components+1)]\n",
    "})\n",
    "fig = px.line(df_ev, x='Componente', y='Varianza explicada', markers=True,\n",
    "              title=\"Varianza explicada por componente\")\n",
    "fig.show()"
   ]
  },
  {
   "cell_type": "markdown",
   "metadata": {},
   "source": [
    "Y ahora veamos los municipios que llamaremos *rurales*"
   ]
  },
  {
   "cell_type": "code",
   "execution_count": null,
   "metadata": {},
   "outputs": [],
   "source": [
    "sonora_rural = sonora[sonora['PL.5000'] > 90]\n",
    "datos_rural = sonora_rural.iloc[:, 5:14]\n",
    "\n",
    "datos = datos_rural.values\n",
    "\n",
    "n_components = 4\n",
    "pipe_rural = Pipeline(\n",
    "    [('scaler', StandardScaler()), \n",
    "     ('pca', PCA(n_components=n_components))]\n",
    ")\n",
    "\n",
    "pipe_rural.fit(datos)\n",
    "\n",
    "pca_rural = pipe_rural.get_params()['pca']\n",
    "\n",
    "pd.DataFrame(\n",
    "    pca_rural.components_.T, \n",
    "    columns=[f'PC {x}' for x in range(1,n_components+1)],\n",
    "    index = datos_rural.columns\n",
    ")"
   ]
  },
  {
   "cell_type": "code",
   "execution_count": null,
   "metadata": {},
   "outputs": [],
   "source": [
    "print(\"Varianza por componente: \", pca_rural.explained_variance_)\n",
    "print(\"Porcentaje de varianza explicada por componente: \", \n",
    "      pca_rural.explained_variance_ratio_)\n",
    "\n",
    "df_ev = pd.DataFrame({\n",
    "    \"Varianza explicada\": np.cumsum(pca_rural.explained_variance_ratio_),\n",
    "    \"Componente\": [f'PC {x}' for x in range(1,n_components+1)]\n",
    "})\n",
    "fig = px.line(df_ev, x='Componente', y='Varianza explicada', markers=True,\n",
    "              title=\"Varianza explicada por componente\")\n",
    "fig.show()"
   ]
  },
  {
   "cell_type": "markdown",
   "metadata": {},
   "source": [
    "### 3. Visualización de los componentes principales\n",
    "\n",
    "Vamos a ver si hay similaridades entre municipios utilizando los 4 componentes principales. Para esto vamos a utilizar las gráficas de `scatter` que nos permite visualizar la relación de hasta 4 variables diferentes.\n",
    "\n",
    "Vamos a hacer el ejercicio con los datos de `sonora_urbano` y dejamos el análisis de los municipios rurales como ejercicio."
   ]
  },
  {
   "cell_type": "code",
   "execution_count": null,
   "metadata": {},
   "outputs": [],
   "source": [
    "df_urbano = pd.DataFrame(\n",
    "    pipe_urbano.transform(datos_urbano.values),\n",
    "    columns= [f'PC {x}' for x in range(1,n_components+1)],\n",
    "    index= sonora_urbano.NOM_MUN    \n",
    ")\n",
    "\n",
    "fig = px.scatter(\n",
    "    df_urbano, \n",
    "    x='PC 1', y='PC 2', color='PC 4', \n",
    "    text=df_urbano.index,\n",
    "    title=\"Componentes principales de datos de marginación para municipios rurales de Sonora\"\n",
    ")\n",
    "fig.show()"
   ]
  }
 ],
 "metadata": {
  "kernelspec": {
   "display_name": "Python 3",
   "language": "python",
   "name": "python3"
  },
  "language_info": {
   "codemirror_mode": {
    "name": "ipython",
    "version": 3
   },
   "file_extension": ".py",
   "mimetype": "text/x-python",
   "name": "python",
   "nbconvert_exporter": "python",
   "pygments_lexer": "ipython3",
   "version": "3.8.13"
  }
 },
 "nbformat": 4,
 "nbformat_minor": 4
}
