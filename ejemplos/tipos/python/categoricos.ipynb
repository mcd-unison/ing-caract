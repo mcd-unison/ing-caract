{
  "cells": [
    {
      "cell_type": "markdown",
      "metadata": {
        "id": "lTY-OM4ppC1i"
      },
      "source": [
        "<center>\n",
        "<p><img src=\"https://mcd.unison.mx/wp-content/themes/awaken/img/logo_mcd.png\" width=\"150\">\n",
        "</p>\n",
        "\n",
        "\n",
        "\n",
        "<h1>Curso Ingeniería de Características</h1>\n",
        "\n",
        "<h3>Datos numéricos</h3>\n",
        "\n",
        "\n",
        "\n",
        "<p> Julio Waissman Vilanova </p>\n",
        "\n",
        "\n",
        "<a target=\"_blank\" href=\"https://colab.research.google.com/github/mcd-unison/ing-caract/blob/main/ejemplos/tipos/python/categoricos.ipynb\"><img src=\"https://i.ibb.co/2P3SLwK/colab.png\"  style=\"padding-bottom:5px;\"  width=\"30\" /> Ejecuta en Colab</a>\n",
        "\n",
        "</center>"
      ]
    },
    {
      "cell_type": "markdown",
      "metadata": {
        "id": "-sZcHF07pM0u"
      },
      "source": [
        "Esta libreta es la transcripción del tutorial:\n",
        "\n",
        "# [Handling Categorical Data in Python Tutorial](https://www.datacamp.com/tutorial/categorical-data)\n",
        "\n",
        "de DataCamp. \n",
        "\n",
        "En el tutorial dicen que:\n",
        "\n",
        "> This tutorial covers the operations you have perform on categorical data before it can be used in an ML algorithm. But there is more to it. You will also have to clean your data. If you would like to know more about this process, be sure to take a look at DataCamp's Cleaning Data in Python course.\n",
        "\n",
        "A partir de aqui, todo el resto de la libreta es simplemente un copiar pegar, que nos va a servir para poder ejecutar cada uno de los códigos durante la clase."
      ]
    },
    {
      "cell_type": "markdown",
      "metadata": {
        "id": "3g-i6zlWp6w9"
      },
      "source": [
        "## Identifying Categorical Data: Nominal, Ordinal and Continuous\n",
        "\n",
        "Categorical features can only take on a limited, and usually fixed, number of possible values. For example, if a dataset is about information related to users, then you will typically find features like country, gender, age group, etc. \n",
        "\n",
        "Alternatively, if the data you're working with is related to products, you will find features like product type, manufacturer, seller and so on. These are all categorical features in your dataset. \n",
        "\n",
        "These features are typically stored as text values which represent various traits of the observations. For example, gender is described as Male (M) or Female (F), product type could be described as electronics, apparels, food etc. \n",
        "\n",
        "**Note** that these type of features where the categories are only labeled without any order of precedence are called nominal features. \n",
        "\n",
        "Features which have some order associated with them are called ordinal features. For example, a feature like economic status, with three categories: low, medium and high, which have an order associated with them. \n",
        "\n",
        "There are also continuous features. These are numeric variables that have an infinite number of values between any two values. A continuous variable can be numeric or a date/time. \n",
        "\n",
        "Regardless of what the value is used for, the challenge is determining how to use this data in the analysis because of the following constraints:\n",
        "\n",
        "1. Categorical features may have a very large number of levels, known as high cardinality, (for example, cities or URLs), where most of the levels appear in a relatively small number of instances.\n",
        "\n",
        "2. Many machine learning models, such as regression or SVM, are algebraic. This means that their input must be numerical. To use these models, categories must be transformed into numbers first, before you can apply the learning algorithm on them.\n",
        "\n",
        "3. While some ML packages or libraries might transform categorical data to numeric automatically based on some default embedding method, many other ML packages don’t support such inputs.\n",
        "\n",
        "4. For the machine, categorical data doesn’t contain the same context or information that humans can easily associate and understand. For example, when looking at a feature called City with three cities New York, New Jersey and New Delhi, humans can infer that New York is closely related to New Jersey as they are from same country, while New York and New Delhi are much different. But for the model, New York, New Jersey and New Delhi, are just three different levels (possible values) of the same feature City. If you don’t specify the additional contextual information, it will be impossible for the model to differentiate between highly different levels.\n",
        "\n",
        "You therefore are faced with the challenge of figuring out how to turn these text values into numerical values for further processing and unmask lots of interesting information which these features might hide. Typically, any standard work-flow in feature engineering involves some form of transformation of these categorical values into numeric labels and then applying some encoding scheme on these values."
      ]
    },
    {
      "cell_type": "markdown",
      "metadata": {
        "id": "NkBHqYa1qub6"
      },
      "source": [
        "## General Exploration Steps for Categorical Data\n",
        "\n",
        "In this section, you'll focus on dealing with categorical features in the `pnwflights14` dataset, but you can apply the same procedure to all kinds of datasets. \n",
        "\n",
        "`pnwflights14` is a modified version of Hadley Wickham's `nycflights13` dataset and contains information about all flights that departed from the two major airports of the Pacific Northwest (PNW), SEA in Seattle and PDX in Portland, in 2014: 162,049 flights in total. \n",
        "\n",
        "To help understand what causes delays, it also includes a number of other useful datasets:\n",
        "\n",
        "- `weather`: the hourly meterological data for each airport\n",
        "\n",
        "- `planes`: constructor information about each plan`\n",
        "\n",
        "- `airports`: airport names and locations\n",
        "\n",
        "- `airlines`: translation between two letter carrier codes and names\n",
        "\n",
        "The datasets can be found [here](https://github.com/ismayc/pnwflights14). Since it's always a good idea to understand before starting working on it, you'll briefly explore the data! "
      ]
    },
    {
      "cell_type": "code",
      "execution_count": null,
      "metadata": {
        "colab": {
          "base_uri": "https://localhost:8080/",
          "height": 272
        },
        "id": "jToP-br9pATQ",
        "outputId": "bc111bd4-a638-41f4-f1ea-6d23cd88925e"
      },
      "outputs": [],
      "source": [
        "import pandas as pd\n",
        "import numpy as np\n",
        "import copy\n",
        "\n",
        "df_flights = pd.read_csv('https://raw.githubusercontent.com/ismayc/pnwflights14/master/data/flights.csv')\n",
        "df_flights.head()"
      ]
    },
    {
      "cell_type": "code",
      "execution_count": null,
      "metadata": {
        "colab": {
          "base_uri": "https://localhost:8080/"
        },
        "id": "Ngo9X_L0sV-s",
        "outputId": "ed2312ed-930d-4b5e-d2dd-fe9c9496393f"
      },
      "outputs": [],
      "source": [
        "df_flights.info()"
      ]
    },
    {
      "cell_type": "markdown",
      "metadata": {
        "id": "jQEfmuzer7Ig"
      },
      "source": [
        "As you can see, columns like `year`, `month` and `day` are read as integers, and `dep_time`, `dep_delay` etc. are read as floats.`\n",
        "\n",
        "The columns with `object dtype` are the possible categorical features in your dataset. The reason why you would say that these categorical features are  *possible* is because you shouldn't not completely rely on `.info()` to get the real data type of the values of a feature, as some missing values that are represented as strings in a continuous feature can coerce it to read them as object dtypes. \n",
        "\n",
        "That's why it's always a good idea to investigate your raw dataset thoroughly and then think about cleaning it. \n",
        "\n",
        "One of the most common ways to analyze the relationship between a categorical feature and a continuous feature is to plot a boxplot. \n",
        "\n",
        "The boxplot is a simple way of representing statistical data on a plot in which a rectangle is drawn to represent the second and third quartiles, usually with a vertical line inside to indicate the median value. The lower and upper quartiles are shown as horizontal lines at either side of the rectangle."
      ]
    },
    {
      "cell_type": "code",
      "execution_count": null,
      "metadata": {
        "colab": {
          "base_uri": "https://localhost:8080/",
          "height": 562
        },
        "id": "lkA7eCxOtORH",
        "outputId": "2487ced2-9117-483d-8d06-5cd0fba4ac75"
      },
      "outputs": [],
      "source": [
        "df_flights.boxplot('dep_time','origin', rot = 30, figsize=(10,7))\n",
        "print(\"Boxplot\")"
      ]
    },
    {
      "cell_type": "markdown",
      "metadata": {
        "id": "jHwjtFB8t8G6"
      },
      "source": [
        "As you will only be dealing with categorical features in this tutorial, it's better to filter them out. You can create a separate DataFrame consisting of only these features by running the following command. \n",
        "\n",
        "The method `.copy() is used here so that any changes made in new DataFrame don't get reflected in the original one."
      ]
    },
    {
      "cell_type": "code",
      "execution_count": null,
      "metadata": {
        "colab": {
          "base_uri": "https://localhost:8080/",
          "height": 228
        },
        "id": "u2p-TkBFuCBG",
        "outputId": "00678b87-e428-4d26-e94a-aa1c7ac6b4e7"
      },
      "outputs": [],
      "source": [
        "cat_df_flights = df_flights.select_dtypes(include=['object']).copy()\n",
        "cat_df_flights.head()"
      ]
    },
    {
      "cell_type": "markdown",
      "metadata": {
        "id": "ABOORI51uZkL"
      },
      "source": [
        "One of the most common data pre-processing steps is to check for null values in the dataset. "
      ]
    },
    {
      "cell_type": "code",
      "execution_count": null,
      "metadata": {
        "colab": {
          "base_uri": "https://localhost:8080/",
          "height": 196
        },
        "id": "zlkVcifNuiQ4",
        "outputId": "ef51f06b-c7bb-4ff7-f416-6e5a6b620efc"
      },
      "outputs": [],
      "source": [
        "cat_df_flights.describe()"
      ]
    },
    {
      "cell_type": "markdown",
      "metadata": {
        "id": "VUIk79sGvK3n"
      },
      "source": [
        "Let's also check the column-wise distribution of null values:"
      ]
    },
    {
      "cell_type": "code",
      "execution_count": null,
      "metadata": {
        "colab": {
          "base_uri": "https://localhost:8080/"
        },
        "id": "0FBdlIU4vLsK",
        "outputId": "3e1fd5cb-7a24-46e0-c251-d4dd16b333fc"
      },
      "outputs": [],
      "source": [
        "print(cat_df_flights.isna().sum())"
      ]
    },
    {
      "cell_type": "markdown",
      "metadata": {
        "id": "ccDhmyu2vPXL"
      },
      "source": [
        "It seems that only the tailnum column has null values. You can do a mode imputation for those null values. The function `fillna() is handy for such operations."
      ]
    },
    {
      "cell_type": "code",
      "execution_count": null,
      "metadata": {
        "colab": {
          "base_uri": "https://localhost:8080/"
        },
        "id": "GQ-k3l57wBOM",
        "outputId": "e6c028db-7b84-4178-b0d6-a2f2fcf6eec1"
      },
      "outputs": [],
      "source": [
        "cat_df_flights.tailnum.value_counts()"
      ]
    },
    {
      "cell_type": "code",
      "execution_count": null,
      "metadata": {
        "id": "CWaKskU_vmYi"
      },
      "outputs": [],
      "source": [
        "cat_df_flights = cat_df_flights\\\n",
        "    .fillna(\n",
        "        cat_df_flights['tailnum'].value_counts().index[0]\n",
        "    )"
      ]
    },
    {
      "cell_type": "code",
      "execution_count": null,
      "metadata": {
        "colab": {
          "base_uri": "https://localhost:8080/"
        },
        "id": "CTvt3dKaw4Sb",
        "outputId": "937ec900-7a17-46b5-d555-d81271e8a55b"
      },
      "outputs": [],
      "source": [
        "print(cat_df_flights.isna().sum())"
      ]
    },
    {
      "cell_type": "markdown",
      "metadata": {
        "id": "trZ3tNsQw9l-"
      },
      "source": [
        "Another Exploratory Data Analysis (EDA) step that you might want to do on categorical features is the frequency distribution of categories within the feature, which can be done with the `.value_counts` method as described earlier."
      ]
    },
    {
      "cell_type": "code",
      "execution_count": null,
      "metadata": {
        "colab": {
          "base_uri": "https://localhost:8080/"
        },
        "id": "y5IXb3BNxMhk",
        "outputId": "dabe806c-543c-49bc-efcc-154e912a91dc"
      },
      "outputs": [],
      "source": [
        "cat_df_flights['carrier'].value_counts()"
      ]
    },
    {
      "cell_type": "markdown",
      "metadata": {
        "id": "CZmtyUInxSm_"
      },
      "source": [
        "Visual exploration is the most effective way to extract information between variables. \n",
        "\n",
        "Below is a basic template to plot a barplot of the frequency distribution of a categorical feature using the `seaborn` package, which shows the frequency distribution of the carrier column. "
      ]
    },
    {
      "cell_type": "code",
      "execution_count": null,
      "metadata": {
        "colab": {
          "base_uri": "https://localhost:8080/",
          "height": 520
        },
        "id": "_5PImlXFxehx",
        "outputId": "88304b05-40d8-40cd-deb0-53a2686a6830"
      },
      "outputs": [],
      "source": [
        "import seaborn as sns\n",
        "import matplotlib.pyplot as plt\n",
        "\n",
        "carrier_count = cat_df_flights['carrier'].value_counts()\n",
        "\n",
        "plt.figure(figsize=(10, 7))\n",
        "sns.set(style=\"darkgrid\")\n",
        "sns.barplot(x=carrier_count.index, y=carrier_count.values, alpha=0.9)\n",
        "\n",
        "plt.title('Frequency Distribution of Carriers')\n",
        "plt.ylabel('Number of Occurrences', fontsize=12)\n",
        "plt.xlabel('Carrier', fontsize=12)\n",
        "plt.show()"
      ]
    },
    {
      "cell_type": "markdown",
      "metadata": {
        "id": "cxZPWIJ1yRvW"
      },
      "source": [
        "## Encoding Categorical Data\n",
        "\n",
        "You will now learn different techniques to encode the categorical features to numeric quantities. To keep it simple, you will apply these encoding methods only on the carrier column. However, the same approach can be extended to all columns. The techniques that you'll cover are the following:\n",
        "\n",
        "- Replacing values\n",
        "- Encoding labels\n",
        "- One-Hot encoding\n",
        "- Binary encoding\n",
        "- Backward difference encoding\n",
        "- Miscellaneous features\n",
        " \n"
      ]
    },
    {
      "cell_type": "markdown",
      "metadata": {
        "id": "HB3zp0p_2EA3"
      },
      "source": [
        "### Replace Values\n",
        "\n",
        "Let's start with the most basic method, which is just replacing the categories with the desired numbers. This can be achieved with the help of the replace() function in pandas. The idea is that you have the liberty to choose whatever numbers you want to assign to the categories according to the business use case. You will now create a dictionary which contains mapping numbers for each category in the carrier column:"
      ]
    },
    {
      "cell_type": "code",
      "execution_count": null,
      "metadata": {
        "id": "kN_Vol6GynXL"
      },
      "outputs": [],
      "source": [
        "replace_map = {\n",
        "    'carrier': {\n",
        "        'AA': 1, 'AS': 2, 'B6': 3, 'DL': 4,\n",
        "        'F9': 5, 'HA': 6, 'OO': 7, 'UA': 8, \n",
        "        'US': 9, 'VX': 10, 'WN': 11\n",
        "    }\n",
        "}"
      ]
    },
    {
      "cell_type": "markdown",
      "metadata": {
        "id": "LFrGqSP0y8AQ"
      },
      "source": [
        "Note that defining a mapping via a hard coded dictionary is easy when the number of categories is low, like in this case which is 11. \n",
        "\n",
        "You can achieve the same mapping with the help of dictionary comprehensions as shown below. This will be useful when the categories count is high and you don't want to type out each mapping. \n",
        "\n",
        "You will store the category names in a list called labels and then zip it to a seqeunce of numbers and iterate over it."
      ]
    },
    {
      "cell_type": "code",
      "execution_count": null,
      "metadata": {
        "colab": {
          "base_uri": "https://localhost:8080/"
        },
        "id": "IWBXtYTXzKcW",
        "outputId": "953505b5-6df0-462c-f392-0bffd6377e4c"
      },
      "outputs": [],
      "source": [
        "labels = cat_df_flights['carrier']\\\n",
        "    .astype('category')\\\n",
        "    .cat.categories.tolist()\n",
        "\n",
        "\n",
        "replace_map_comp = {\n",
        "    'carrier' : {k: v for k,v in zip(labels, list(range(1, len(labels) + 1)))}\n",
        "}\n",
        "\n",
        "print(replace_map_comp)"
      ]
    },
    {
      "cell_type": "markdown",
      "metadata": {
        "id": "4UAmK6lVzvXO"
      },
      "source": [
        "Throughout this tutorial, you will be making a copy of the dataset via the `.copy()` method to practice each encoding technique to ensure that the original DataFrame stays intact and whatever changes you are doing happen only in the copied one."
      ]
    },
    {
      "cell_type": "code",
      "execution_count": null,
      "metadata": {
        "colab": {
          "base_uri": "https://localhost:8080/",
          "height": 351
        },
        "id": "bW9qfH_5z3I9",
        "outputId": "8ac21690-00da-4271-c99e-5ea1291025d8"
      },
      "outputs": [],
      "source": [
        "cat_df_flights_replace = cat_df_flights.copy()\n",
        "\n",
        "cat_df_flights_replace.replace(replace_map_comp, inplace=True)\n",
        "display(cat_df_flights_replace.head())\n",
        "\n",
        "print(\"\\nVamos a ver los tipos de las variables ahora\")\n",
        "display(cat_df_flights_replace.dtypes)"
      ]
    },
    {
      "cell_type": "markdown",
      "metadata": {
        "id": "Lwb-5Lfe0jk9"
      },
      "source": [
        "in Python, it's a good practice to typecast categorical features to a category dtype because they make the operations on such columns much faster than the object dtype. You can do the typecasting by using `.astype()` method on your columns like shown below:"
      ]
    },
    {
      "cell_type": "code",
      "execution_count": null,
      "metadata": {
        "colab": {
          "base_uri": "https://localhost:8080/"
        },
        "id": "bG9NMWDG0qTi",
        "outputId": "bcc33850-ec95-4e6e-9a09-877a02918d39"
      },
      "outputs": [],
      "source": [
        "cat_df_flights_lc = cat_df_flights.copy()\n",
        "\n",
        "cat_df_flights_lc['carrier'] = cat_df_flights_lc['carrier'].astype('category')\n",
        "cat_df_flights_lc['origin'] = cat_df_flights_lc['origin'].astype('category')                                                              \n",
        "\n",
        "cat_df_flights_lc.dtypes"
      ]
    },
    {
      "cell_type": "markdown",
      "metadata": {
        "id": "sDit70Eu1lGL"
      },
      "source": [
        "### Label Encoding\n",
        "\n",
        "Another approach is to encode categorical values with a technique called *label encoding*, which allows you to convert each value in a column to a number. \n",
        "\n",
        "Numerical labels are always between 0 and n_categories-1. You can do label encoding via attributes .cat.codes on your DataFrame's column."
      ]
    },
    {
      "cell_type": "code",
      "execution_count": null,
      "metadata": {
        "colab": {
          "base_uri": "https://localhost:8080/",
          "height": 228
        },
        "id": "Hz2CA4VZ2QL3",
        "outputId": "3d407d4c-87c9-488f-cdf4-f9396c821eab"
      },
      "outputs": [],
      "source": [
        "cat_df_flights_lc['carrier'] = cat_df_flights_lc['carrier'].cat.codes\n",
        "cat_df_flights_lc.head()"
      ]
    },
    {
      "cell_type": "markdown",
      "metadata": {
        "id": "uVE_pFHA2pef"
      },
      "source": [
        "Sometimes, you might just want to encode a bunch of categories within a feature to some numeric value and encode all the other categories to some other numeric value. \n",
        "\n",
        "You could do this by using numpy's `where()` function like shown below. You will encode all the US carrier flights to value 1 and other carriers to value 0. This will create a new column in your DataFrame with the encodings.`\n",
        "\n",
        "Later, if you want to drop the original column, you can do so by using the `drop()` function in pandas."
      ]
    },
    {
      "cell_type": "code",
      "execution_count": null,
      "metadata": {
        "colab": {
          "base_uri": "https://localhost:8080/",
          "height": 228
        },
        "id": "3n3tiCAI2x2F",
        "outputId": "bfa262c7-4930-4a37-9d1e-333deb398d1c"
      },
      "outputs": [],
      "source": [
        "cat_df_flights_specific = cat_df_flights.copy()\n",
        "\n",
        "cat_df_flights_specific['US_code'] = np.where(\n",
        "    cat_df_flights_specific['carrier'].str.contains('US'), 1, 0\n",
        ")\n",
        "\n",
        "cat_df_flights_specific.head()"
      ]
    },
    {
      "cell_type": "markdown",
      "metadata": {
        "id": "z_V3jr9o3AKa"
      },
      "source": [
        "You can achieve the same label encoding using scikit-learn's `LabelEncoder`:"
      ]
    },
    {
      "cell_type": "code",
      "execution_count": null,
      "metadata": {
        "colab": {
          "base_uri": "https://localhost:8080/",
          "height": 228
        },
        "id": "WQrw6afp3I5Z",
        "outputId": "4fdf5e05-c4f2-486c-b7ce-d5a56bf400d2"
      },
      "outputs": [],
      "source": [
        "from sklearn.preprocessing import LabelEncoder\n",
        "\n",
        "\n",
        "cat_df_flights_sklearn = cat_df_flights.copy()\n",
        "\n",
        "lb_make = LabelEncoder()\n",
        "cat_df_flights_sklearn['carrier_code'] = lb_make.fit_transform(cat_df_flights['carrier'])\n",
        "\n",
        "cat_df_flights_sklearn.head() "
      ]
    },
    {
      "cell_type": "markdown",
      "metadata": {
        "id": "Yko2kFVN3UVK"
      },
      "source": [
        "Label encoding is pretty much intuitive and straight-forward and may give you a good performance from your learning algorithm, but it has as disadvantage that the numerical values can be misinterpreted by the algorithm. Should the carrier US (encoded to 8) be given 8x more weight than the carrier AS (encoded to 1)? \n",
        "\n",
        "To solve this issue there is another popular way to encode the categories via something called one-hot encoding."
      ]
    },
    {
      "cell_type": "markdown",
      "metadata": {
        "id": "dCeOQ1KQ3bkK"
      },
      "source": [
        "### One-Hot encoding\n",
        "\n",
        "The basic strategy is to convert each category value into a new column and assign a 1 or 0 (True/False) value to the column. This has the benefit of not weighting a value improperly. \n",
        "\n",
        "There are many libraries out there that support one-hot encoding but the simplest one is using pandas' `.get_dummies()` method. \n",
        "\n",
        "This function is named this way because it creates dummy/indicator variables (1 or 0). \n",
        "\n",
        "There are mainly three arguments important here, the first one is the DataFrame you want to encode on, second being the columns argument which lets you specify the columns you want to do encoding on, and third, the prefix argument which lets you specify the prefix for the new columns that will be created after encoding."
      ]
    },
    {
      "cell_type": "code",
      "execution_count": null,
      "metadata": {
        "colab": {
          "base_uri": "https://localhost:8080/",
          "height": 272
        },
        "id": "mKO0wEaU3z40",
        "outputId": "b386704d-3b40-497f-85c1-b41dbababe04"
      },
      "outputs": [],
      "source": [
        "cat_df_flights_onehot = cat_df_flights.copy()\n",
        "\n",
        "cat_df_flights_onehot = pd.get_dummies(\n",
        "    cat_df_flights_onehot, \n",
        "    columns=['carrier'], \n",
        "    prefix = ['carrier']\n",
        ")\n",
        "\n",
        "cat_df_flights_onehot.head()"
      ]
    },
    {
      "cell_type": "markdown",
      "metadata": {
        "id": "RIkjgstX4BIj"
      },
      "source": [
        "As you can see, the column `carrier_AS` gets value 1 at the 0th and 4th observation points as those points had the AS category labeled in the original DataFrame. Likewise for other columns also. \n",
        "\n",
        "`scikit-learn` also supports one hot encoding via `LabelBinarizer` and `OneHotEncoder` in its preprocessing module (check out the details here). \n",
        "\n",
        "Just for the sake of practicing you will do the same encoding via `LabelBinarizer`:"
      ]
    },
    {
      "cell_type": "code",
      "execution_count": null,
      "metadata": {
        "colab": {
          "base_uri": "https://localhost:8080/",
          "height": 228
        },
        "id": "aHAPvGmI4Vrh",
        "outputId": "a4809eb2-bb45-45d1-d48f-65ee65e130fc"
      },
      "outputs": [],
      "source": [
        "cat_df_flights_onehot_sklearn = cat_df_flights.copy()\n",
        "\n",
        "from sklearn.preprocessing import LabelBinarizer\n",
        "\n",
        "lb = LabelBinarizer()\n",
        "\n",
        "lb_results = lb.fit_transform(\n",
        "    cat_df_flights_onehot_sklearn['carrier']\n",
        ")\n",
        "lb_results_df = pd.DataFrame(lb_results, columns=lb.classes_)\n",
        "\n",
        "lb_results_df.head()"
      ]
    },
    {
      "cell_type": "markdown",
      "metadata": {
        "id": "Rz9I-kjY4lPz"
      },
      "source": [
        "Note that this `lb_results_df` resulted in a new DataFrame with only the one hot encodings for the feature carrier. \n",
        "\n",
        "This needs to be concatenated back with the original DataFrame, which can be done via pandas' `.concat()` method. The axis argument is set to 1 as you want to merge on columns."
      ]
    },
    {
      "cell_type": "code",
      "execution_count": null,
      "metadata": {
        "colab": {
          "base_uri": "https://localhost:8080/",
          "height": 228
        },
        "id": "wPcA_A1v4vja",
        "outputId": "b9720abf-8951-425d-aeb9-d1be3c68e228"
      },
      "outputs": [],
      "source": [
        "result_df = pd.concat(\n",
        "    [\n",
        "        cat_df_flights_onehot_sklearn, \n",
        "        lb_results_df\n",
        "    ], \n",
        "    axis=1\n",
        ")\n",
        "\n",
        "result_df.head()"
      ]
    },
    {
      "cell_type": "markdown",
      "metadata": {
        "id": "iclCxrDR5G9j"
      },
      "source": [
        "While one-hot encoding solves the problem of unequal weights given to categories within a feature, it is not very useful when there are many categories, as that will result in formation of as many new columns, which can result in the curse of dimensionality. \n",
        "\n",
        "The concept of the *curse of dimensionality* discusses that in high-dimensional spaces some things just stop working properly."
      ]
    },
    {
      "cell_type": "markdown",
      "metadata": {
        "id": "YzGCWN9n5ZbE"
      },
      "source": [
        "### Binary Encoding\n",
        "\n",
        "This technique is not as intuitive as the previous ones. In this technique, first the categories are encoded as ordinal, then those integers are converted into binary code, then the digits from that binary string are split into separate columns. \n",
        "\n",
        "This encodes the data in fewer dimensions than one-hot. You can do binary encoding via a number of ways but the simplest one is using the [`category_encoders`](https://contrib.scikit-learn.org/category_encoders) library. You can install `category_encoders` via \n",
        "\n",
        "````bash\n",
        "pip install category_encoders \n",
        "````\n",
        "\n",
        "You have to first import the `category_encoders` library after installing it. Invoke the `BinaryEncoder` function by specifying the columns you want to encode and then call the `.fit_transform()` method on it with the DataFrame as the argument."
      ]
    },
    {
      "cell_type": "code",
      "execution_count": null,
      "metadata": {
        "colab": {
          "base_uri": "https://localhost:8080/"
        },
        "id": "B6CLMJDP6Jzh",
        "outputId": "f2d9e62d-d6a8-452b-f8a8-1e61930aeef7"
      },
      "outputs": [],
      "source": [
        "!pip install category_encoders "
      ]
    },
    {
      "cell_type": "code",
      "execution_count": null,
      "metadata": {
        "colab": {
          "base_uri": "https://localhost:8080/",
          "height": 228
        },
        "id": "bAPIgiyW6QDp",
        "outputId": "b3c11ce3-bf2d-4598-ef5f-5ea805365263"
      },
      "outputs": [],
      "source": [
        "import category_encoders as ce\n",
        "\n",
        "cat_df_flights_ce = cat_df_flights.copy()\n",
        "\n",
        "encoder = ce.BinaryEncoder(cols=['carrier'])\n",
        "\n",
        "df_binary = encoder.fit_transform(cat_df_flights_ce)\n",
        "\n",
        "df_binary.head()"
      ]
    },
    {
      "cell_type": "markdown",
      "metadata": {
        "id": "3oN3gkkN6wYy"
      },
      "source": [
        "Notice that four new columns are created in place of the carrier column with binary encoding for each category in the feature. \n",
        "\n",
        "Note that category_encoders is a very useful library for encoding categorical columns. Not only does it support one-hot, binary and label encoding, but also other advanced encoding methods like Helmert contrast, polynomial contrast, backward difference, etc."
      ]
    },
    {
      "cell_type": "markdown",
      "metadata": {
        "id": "Rs1yeqOx60XR"
      },
      "source": [
        "### Backward Difference Encoding\n",
        "\n",
        "This technique falls under the contrast coding system for categorical features. A feature of K categories, or levels, usually enters a regression as a sequence of K-1 dummy variables. \n",
        "\n",
        "In backward difference coding, the mean of the dependent variable for a level is compared with the mean of the dependent variable for the prior level. \n",
        "\n",
        "This type of coding may be useful for a nominal or an ordinal variable. If you want to learn other contrast coding methods you can check out [this resource](https://www.statsmodels.org/dev/contrasts.html). \n",
        "\n",
        "The code structure is pretty much the same as any method in the category_encoders library, just this time you will call `BackwardDifferenceEncoder` from it:"
      ]
    },
    {
      "cell_type": "code",
      "execution_count": null,
      "metadata": {
        "colab": {
          "base_uri": "https://localhost:8080/",
          "height": 272
        },
        "id": "CJVuiBTR7rn7",
        "outputId": "9e8c9046-f24f-47af-b7c6-836999c9f71f"
      },
      "outputs": [],
      "source": [
        "encoder = ce.BackwardDifferenceEncoder(cols=['carrier'])\n",
        "df_bd = encoder.fit_transform(cat_df_flights_ce)\n",
        "\n",
        "df_bd.head()"
      ]
    },
    {
      "cell_type": "markdown",
      "metadata": {
        "id": "OnhOWquf8Xn8"
      },
      "source": [
        "The interesting thing here is that you can see that the results are not the standard 1’s and 0’s you saw in the dummy encoding examples but rather regressed continuous values."
      ]
    },
    {
      "cell_type": "markdown",
      "metadata": {
        "id": "rmLI1fXG8ZAw"
      },
      "source": [
        "### Miscellaneous Features\n",
        "\n",
        "Sometimes you may encounter categorical feature columns which specify the ranges of values for observation points, for example, the age column might be described in the form of categories like 0-20, 20-40 and so on. \n",
        "\n",
        "While there can be a lot of ways to deal with such features, the most common ones are either split these ranges into two separate columns or replace them with some measure like the mean of that range. \n",
        "\n",
        "You will first create a dummy DataFrame which has just one feature age with ranges specified using the pandas DataFrame function. \n",
        "\n",
        "Then you will split the column on the delimeter - into two columns start and end using split() with a lambda() function. If you want to learn more about lambda functions, check out [this tutorial](https://www.datacamp.com/tutorial/functions-python-tutorial)."
      ]
    },
    {
      "cell_type": "code",
      "execution_count": null,
      "metadata": {
        "colab": {
          "base_uri": "https://localhost:8080/",
          "height": 196
        },
        "id": "g3H38Vo083Da",
        "outputId": "84a800a6-2648-4ae8-a093-7ab49bed722f"
      },
      "outputs": [],
      "source": [
        "dummy_df_age = pd.DataFrame({'age': ['0-20', '20-40', '40-60','60-80']})\n",
        "\n",
        "dummy_df_age['start'], dummy_df_age['end'] = zip(\n",
        "    *dummy_df_age['age'].map(lambda x: x.split('-'))\n",
        ")\n",
        "\n",
        "dummy_df_age.head()"
      ]
    },
    {
      "cell_type": "markdown",
      "metadata": {
        "id": "nHSHx87a9UeK"
      },
      "source": [
        "To replace the range with its mean, you will write a `split_mean()` function which basically takes one range at a time, splits it, then calculates the mean and returns it. To apply a certain function to all the entities of a column you will use the `.apply()` method:"
      ]
    },
    {
      "cell_type": "code",
      "execution_count": null,
      "metadata": {
        "colab": {
          "base_uri": "https://localhost:8080/",
          "height": 196
        },
        "id": "iOwoPTrQ9bhn",
        "outputId": "e04f5987-aed4-4410-9f05-016ad0a58b71"
      },
      "outputs": [],
      "source": [
        "dummy_df_age = pd.DataFrame({'age': ['0-20', '20-40', '40-60','60-80']})\n",
        "\n",
        "def split_mean(x):\n",
        "    split_list = x.split('-')\n",
        "    mean = (float(split_list[0]) + float(split_list[1])) / 2\n",
        "    return mean\n",
        "\n",
        "dummy_df_age['age_mean'] = dummy_df_age['age'].apply(lambda x: split_mean(x))\n",
        "\n",
        "dummy_df_age.head()"
      ]
    }
  ],
  "metadata": {
    "colab": {
      "provenance": []
    },
    "kernelspec": {
      "display_name": "base",
      "language": "python",
      "name": "python3"
    },
    "language_info": {
      "name": "python",
      "version": "3.8.13 | packaged by conda-forge | (default, Mar 25 2022, 06:05:47) \n[Clang 12.0.1 ]"
    },
    "vscode": {
      "interpreter": {
        "hash": "40d3a090f54c6569ab1632332b64b2c03c39dcf918b08424e98f38b5ae0af88f"
      }
    }
  },
  "nbformat": 4,
  "nbformat_minor": 0
}
