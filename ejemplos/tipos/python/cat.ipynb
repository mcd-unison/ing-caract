{
  "cells": [
    {
      "cell_type": "markdown",
      "metadata": {
        "id": "lTY-OM4ppC1i"
      },
      "source": [
        "<center>\n",
        "<p><img src=\"https://mcd.unison.mx/wp-content/themes/awaken/img/logo_mcd.png\" width=\"150\">\n",
        "</p>\n",
        "\n",
        "\n",
        "\n",
        "<h1>Curso Ingeniería de Características</h1>\n",
        "\n",
        "<h3>Datos categóricos</h3>\n",
        "\n",
        "\n",
        "\n",
        "<p> Julio Waissman Vilanova </p>\n",
        "\n",
        "\n",
        "<a target=\"_blank\" href=\"https://colab.research.google.com/github/mcd-unison/ing-caract/blob/main/ejemplos/tipos/python/cat.ipynb\"><img src=\"https://i.ibb.co/2P3SLwK/colab.png\"  style=\"padding-bottom:5px;\"  width=\"30\" /> Ejecuta en Colab</a>\n",
        "\n",
        "</center>"
      ]
    },
    {
      "cell_type": "markdown",
      "metadata": {},
      "source": [
        "## Tutorial para el manejo de datos categóricos en Pandas\n",
        "\n",
        "Pandas es una librería de Python que proporciona herramientas poderosas para trabajar con datos estructurados. Los datos categóricos son un tipo de datos que representan categorías o grupos, como género, color o estado civil. En este tutorial, exploraremos cómo manejar datos categóricos en Pandas."
      ]
    },
    {
      "cell_type": "markdown",
      "metadata": {},
      "source": [
        "### 1. Conversión a tipo categórico\n",
        "Pandas proporciona la clase Categorical para representar datos categóricos. Puedes convertir una columna de tu DataFrame a tipo categórico usando el método astype:"
      ]
    },
    {
      "cell_type": "code",
      "execution_count": null,
      "metadata": {},
      "outputs": [],
      "source": [
        "import numpy as np\n",
        "import pandas as pd\n",
        "\n",
        "data = {'genero': ['Masculino', 'Femenino', 'Masculino', 'Femenino'],\n",
        "        'edad': [25, 30, 28, 22],\n",
        "        'ciudad': ['Madrid', 'Barcelona', 'Madrid', 'Sevilla']}\n",
        "\n",
        "df = pd.DataFrame(data)\n",
        "\n",
        "df['genero'] = df['genero'].astype('category')\n",
        "print(df.dtypes)"
      ]
    },
    {
      "cell_type": "markdown",
      "metadata": {},
      "source": [
        "las `Series` de tipo categórico tienen un conjunto de funciones que se puden aplicar exclusivamente a ellas y se pueden consutar [en la documentación de `pandas.Series.cat](https://pandas.pydata.org/docs/reference/api/pandas.Series.cat.html)."
      ]
    },
    {
      "cell_type": "code",
      "execution_count": null,
      "metadata": {},
      "outputs": [],
      "source": [
        "df.genero.cat.categories"
      ]
    },
    {
      "cell_type": "markdown",
      "metadata": {},
      "source": [
        "Otra manera de generar categorias, es discretizando una variable numérica usando `cut()`, por ejemplo:"
      ]
    },
    {
      "cell_type": "code",
      "execution_count": null,
      "metadata": {},
      "outputs": [],
      "source": [
        "df = pd.DataFrame({\"value\": np.random.randint(0, 100, 20)})\n",
        "\n",
        "labels = [f\"{i} - {i + 9}\" for i in range(0, 100, 10)]\n",
        "\n",
        "df[\"group\"] = pd.cut(\n",
        "   df['value'], \n",
        "   bins=range(0, 105, 10), \n",
        "   right=False, \n",
        "   labels=labels\n",
        ")\n",
        "\n",
        "df.head(10)"
      ]
    },
    {
      "cell_type": "markdown",
      "metadata": {},
      "source": [
        "En este caso las categorias vienen ordenadas y se puede revisar su ordenamiento como:"
      ]
    },
    {
      "cell_type": "code",
      "execution_count": null,
      "metadata": {},
      "outputs": [],
      "source": [
        "df['¿viejo?'] = df['group'] > '40 - 49'\n",
        "df.head(10)"
      ]
    },
    {
      "cell_type": "markdown",
      "metadata": {},
      "source": [
        "Si queremos definir categorías ordenadas con valores pre establecidos, entonces se puede hacer usando `pandas.Categorical`"
      ]
    },
    {
      "cell_type": "code",
      "execution_count": null,
      "metadata": {},
      "outputs": [],
      "source": [
        "np.random.seed(42)\n",
        "df = pd.DataFrame(\n",
        "    {'A': np.random.choice(['a', 'b', 'c', 'd'], 10)}\n",
        ")\n",
        "df['B'] = pd.Categorical(df['A'], categories=['c', 'b', 'a'], ordered=True)\n",
        "df['C'] = df['A'] > 'b'\n",
        "df['D'] = df['B'] > 'b'\n",
        "df"
      ]
    },
    {
      "cell_type": "markdown",
      "metadata": {},
      "source": [
        "### 2. Operaciones en categorias\n",
        "\n",
        "Se puede ver una variable numérica asociada a una categoría con `Series.cat.code`. Los valores perdidos (categoría no encontrada) son tratados como -1.\n"
      ]
    },
    {
      "cell_type": "code",
      "execution_count": null,
      "metadata": {},
      "outputs": [],
      "source": [
        "df['B'].cat.codes"
      ]
    },
    {
      "cell_type": "markdown",
      "metadata": {},
      "source": [
        "Se pueden renombrar los valores de la variable categórica:"
      ]
    },
    {
      "cell_type": "code",
      "execution_count": null,
      "metadata": {},
      "outputs": [],
      "source": [
        "df['B'] = df['B'].cat.rename_categories(\n",
        "    {'a': 'A', 'b': 'B', 'c': 'C'}\n",
        ")\n",
        "df"
      ]
    },
    {
      "cell_type": "markdown",
      "metadata": {},
      "source": [
        "tambien se pueden agregar nuevos valores a la variable categórica, o reordenar las variables categóricas entre otras funciones."
      ]
    },
    {
      "cell_type": "code",
      "execution_count": null,
      "metadata": {},
      "outputs": [],
      "source": [
        "df['B'] = df['B'].cat.add_categories(['D'])"
      ]
    },
    {
      "cell_type": "code",
      "execution_count": null,
      "metadata": {},
      "outputs": [],
      "source": [
        "df['B'] = df['B'].cat.reorder_categories(['D', 'C', 'B', 'A'])"
      ]
    },
    {
      "cell_type": "markdown",
      "metadata": {},
      "source": [
        "### 3. Manipulación básica de categorías\n",
        "\n",
        "Si bien estos no son únicos para categorías, las dos operaciones básicas para inspeccionar variables categóricas son `unique` y `value_counts`. Evita usarlos en variables numéricas porque va a ser imposible de inspeccionar."
      ]
    },
    {
      "cell_type": "code",
      "execution_count": null,
      "metadata": {},
      "outputs": [],
      "source": [
        "df['B'].unique()"
      ]
    },
    {
      "cell_type": "code",
      "execution_count": null,
      "metadata": {},
      "outputs": [],
      "source": [
        "df['A'].unique()"
      ]
    },
    {
      "cell_type": "code",
      "execution_count": null,
      "metadata": {},
      "outputs": [],
      "source": [
        "df['B'].value_counts()"
      ]
    },
    {
      "cell_type": "code",
      "execution_count": null,
      "metadata": {},
      "outputs": [],
      "source": [
        "df['A'].value_counts()"
      ]
    },
    {
      "cell_type": "markdown",
      "metadata": {},
      "source": [
        "Veamos con un ejemplo propuesto en [este blog de DataCamp](https://www.datacamp.com/tutorial/categorical-data) con un conjunto de datos:"
      ]
    },
    {
      "cell_type": "code",
      "execution_count": null,
      "metadata": {},
      "outputs": [],
      "source": [
        "data = pd.read_csv('https://raw.githubusercontent.com/pycaret/pycaret/master/datasets/diamond.csv')\n",
        "data.head()"
      ]
    },
    {
      "cell_type": "code",
      "execution_count": null,
      "metadata": {},
      "outputs": [],
      "source": [
        "data['Cut'] = data['Cut'].astype('category')\n",
        "data['Cut'].value_counts()"
      ]
    },
    {
      "cell_type": "markdown",
      "metadata": {},
      "source": [
        "Igual así no se ve muy bien, así que se puede hacer una gráfica más suave de inspeccionar:"
      ]
    },
    {
      "cell_type": "code",
      "execution_count": null,
      "metadata": {},
      "outputs": [],
      "source": [
        "import plotly.express as px \n",
        "fig = px.bar(data['Cut'].value_counts())\n",
        "fig.show()"
      ]
    },
    {
      "cell_type": "markdown",
      "metadata": {},
      "source": [
        "y tambien se puede regrupar respecto a una variable categórica"
      ]
    },
    {
      "cell_type": "code",
      "execution_count": null,
      "metadata": {},
      "outputs": [],
      "source": [
        "data[['Cut', 'Carat Weight', 'Price']].groupby('Cut').mean()"
      ]
    },
    {
      "cell_type": "markdown",
      "metadata": {},
      "source": [
        "Con variables categóricas (o tipo `object`) se puede estudiar la relación entre dos variables usando `crosstab`:"
      ]
    },
    {
      "cell_type": "code",
      "execution_count": null,
      "metadata": {},
      "outputs": [],
      "source": [
        "pd.crosstab(index=data['Cut'], columns=data['Color'])"
      ]
    },
    {
      "cell_type": "markdown",
      "metadata": {},
      "source": [
        "O, si se busca combinarlo con otras variables de maneras más complejas, se puede usar la función `pivot_table` como se ve a continuación:"
      ]
    },
    {
      "cell_type": "code",
      "execution_count": null,
      "metadata": {},
      "outputs": [],
      "source": [
        "pd.pivot_table(\n",
        "    data, \n",
        "    values='Price', \n",
        "    index='Cut', \n",
        "    columns='Color', \n",
        "    aggfunc=np.mean\n",
        ")"
      ]
    }
  ],
  "metadata": {
    "colab": {
      "provenance": []
    },
    "kernelspec": {
      "display_name": "base",
      "language": "python",
      "name": "python3"
    },
    "language_info": {
      "codemirror_mode": {
        "name": "ipython",
        "version": 3
      },
      "file_extension": ".py",
      "mimetype": "text/x-python",
      "name": "python",
      "nbconvert_exporter": "python",
      "pygments_lexer": "ipython3",
      "version": "3.12.5"
    },
    "vscode": {
      "interpreter": {
        "hash": "40d3a090f54c6569ab1632332b64b2c03c39dcf918b08424e98f38b5ae0af88f"
      }
    }
  },
  "nbformat": 4,
  "nbformat_minor": 0
}
