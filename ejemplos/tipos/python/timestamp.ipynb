{
 "cells": [
  {
   "cell_type": "markdown",
   "id": "4f9a1bca",
   "metadata": {},
   "source": [
    "$$\n",
    "\\def\\CC{\\bf C}\n",
    "\\def\\QQ{\\bf Q}\n",
    "\\def\\RR{\\bf R}\n",
    "\\def\\ZZ{\\bf Z}\n",
    "\\def\\NN{\\bf N}\n",
    "$$\n",
    "\n",
    "# Time series / date functionality\n",
    "\n",
    "pandas contains extensive capabilities and features for working with\n",
    "time series data for all domains. Using the NumPy `datetime64` and\n",
    "`timedelta64` dtypes, pandas has consolidated a large number of features\n",
    "from other Python libraries like `scikits.timeseries` as well as created\n",
    "a tremendous amount of new functionality for manipulating time series\n",
    "data.\n",
    "\n",
    "For example, pandas supports:\n",
    "\n",
    "- Parsing time series information from various sources and formats\n",
    "\n",
    "\n"
   ]
  },
  {
   "cell_type": "code",
   "execution_count": 3,
   "id": "43e3f275",
   "metadata": {},
   "outputs": [
    {
     "data": {
      "text/plain": [
       "DatetimeIndex(['2018-01-01', '2018-01-01', '2018-01-01'], dtype='datetime64[ns]', freq=None)"
      ]
     },
     "execution_count": 3,
     "metadata": {},
     "output_type": "execute_result"
    }
   ],
   "source": [
    "import numpy as np\n",
    "import datetime\n",
    "import pandas as pd\n",
    "\n",
    "dti = pd.to_datetime( [\n",
    "    \"1/1/2018\", \n",
    "    np.datetime64(\"2018-01-01\"), \n",
    "    datetime.datetime(2018, 1, 1)\n",
    "]) \n",
    "\n",
    "dti"
   ]
  },
  {
   "cell_type": "markdown",
   "id": "128d6221",
   "metadata": {},
   "source": [
    "- Generate sequences of fixed-frequency dates and time spans"
   ]
  },
  {
   "cell_type": "code",
   "execution_count": 4,
   "id": "09ce5960",
   "metadata": {},
   "outputs": [
    {
     "data": {
      "text/plain": [
       "DatetimeIndex(['2018-01-01 00:00:00', '2018-01-01 01:00:00',\n",
       "               '2018-01-01 02:00:00'],\n",
       "              dtype='datetime64[ns]', freq='H')"
      ]
     },
     "execution_count": 4,
     "metadata": {},
     "output_type": "execute_result"
    }
   ],
   "source": [
    "dti = pd.date_range(\"2018-01-01\", periods=3, freq=\"H\") \n",
    "dti"
   ]
  },
  {
   "cell_type": "markdown",
   "id": "d61419db",
   "metadata": {},
   "source": [
    "- Manipulating and converting date times with timezone information"
   ]
  },
  {
   "cell_type": "code",
   "execution_count": 5,
   "id": "5f425cd9",
   "metadata": {},
   "outputs": [
    {
     "data": {
      "text/plain": [
       "DatetimeIndex(['2018-01-01 00:00:00+00:00', '2018-01-01 01:00:00+00:00',\n",
       "               '2018-01-01 02:00:00+00:00'],\n",
       "              dtype='datetime64[ns, UTC]', freq='H')"
      ]
     },
     "execution_count": 5,
     "metadata": {},
     "output_type": "execute_result"
    }
   ],
   "source": [
    "dti = dti.tz_localize(\"UTC\") \n",
    "dti "
   ]
  },
  {
   "cell_type": "code",
   "execution_count": 6,
   "id": "d526e3b7",
   "metadata": {},
   "outputs": [
    {
     "data": {
      "text/plain": [
       "DatetimeIndex(['2017-12-31 16:00:00-08:00', '2017-12-31 17:00:00-08:00',\n",
       "               '2017-12-31 18:00:00-08:00'],\n",
       "              dtype='datetime64[ns, US/Pacific]', freq='H')"
      ]
     },
     "execution_count": 6,
     "metadata": {},
     "output_type": "execute_result"
    }
   ],
   "source": [
    "dti.tz_convert(\"US/Pacific\")"
   ]
  },
  {
   "cell_type": "markdown",
   "id": "7e6a6a4b",
   "metadata": {},
   "source": [
    "- Resampling or converting a time series to a particular frequency"
   ]
  },
  {
   "cell_type": "code",
   "execution_count": 7,
   "id": "a6f6ecae",
   "metadata": {},
   "outputs": [
    {
     "data": {
      "text/plain": [
       "2018-01-01 00:00:00    0\n",
       "2018-01-01 01:00:00    1\n",
       "2018-01-01 02:00:00    2\n",
       "2018-01-01 03:00:00    3\n",
       "2018-01-01 04:00:00    4\n",
       "Freq: H, dtype: int64"
      ]
     },
     "execution_count": 7,
     "metadata": {},
     "output_type": "execute_result"
    }
   ],
   "source": [
    "idx = pd.date_range(\"2018-01-01\", periods=5, freq=\"H\") \n",
    "ts = pd.Series(range(len(idx)), index=idx) \n",
    "ts "
   ]
  },
  {
   "cell_type": "code",
   "execution_count": 8,
   "id": "173895a9",
   "metadata": {},
   "outputs": [
    {
     "data": {
      "text/plain": [
       "2018-01-01 00:00:00    0.5\n",
       "2018-01-01 02:00:00    2.5\n",
       "2018-01-01 04:00:00    4.0\n",
       "Freq: 2H, dtype: float64"
      ]
     },
     "execution_count": 8,
     "metadata": {},
     "output_type": "execute_result"
    }
   ],
   "source": [
    "ts.resample(\"2H\").mean()"
   ]
  },
  {
   "cell_type": "markdown",
   "id": "7861d090",
   "metadata": {},
   "source": [
    "- Performing date and time arithmetic with absolute or relative time\n",
    "increments"
   ]
  },
  {
   "cell_type": "code",
   "execution_count": 9,
   "id": "31252ab5",
   "metadata": {},
   "outputs": [
    {
     "name": "stdout",
     "output_type": "stream",
     "text": [
      "Friday\n",
      "Saturday\n",
      "Monday\n"
     ]
    }
   ],
   "source": [
    "friday = pd.Timestamp(\"2018-01-05\") \n",
    "print(friday.day_name())\n",
    "\n",
    "# Add 1 day\n",
    "saturday = friday + pd.Timedelta(\"1 day\") \n",
    "print(saturday.day_name())\n",
    "\n",
    "# Add 1 business day (Friday --\\> Monday) \n",
    "monday = friday + pd.offsets.BDay()\n",
    "print(monday.day_name())"
   ]
  },
  {
   "cell_type": "markdown",
   "id": "9cae071e",
   "metadata": {},
   "source": [
    "pandas provides a relatively compact and self-contained set of tools for\n",
    "performing the above tasks and more.\n",
    "\n",
    "## Overview\n",
    "\n",
    "pandas captures 4 general time related concepts:\n",
    "\n",
    "1.  Date times: A specific date and time with timezone support. Similar\n",
    "    to `datetime.datetime` from the standard library.\n",
    "2.  Time deltas: An absolute time duration. Similar to\n",
    "    `datetime.timedelta` from the standard library.\n",
    "3.  Time spans: A span of time defined by a point in time and its\n",
    "    associated frequency.\n",
    "4.  Date offsets: A relative time duration that respects calendar\n",
    "    arithmetic. Similar to `dateutil.relativedelta.relativedelta` from\n",
    "    the `dateutil` package.\n",
    "\n",
    "| Concept      | Scalar Class | Array Class | pandas Data Type | Primary Creation Method  |\n",
    "|--------------|--------------|-------------|------------------|--------------------------|\n",
    "| Date times   | `Timestamp`  | `DatetimeIndex`  | `datetime64[ns]` or `datetime64[ns, tz]` | `to_datetime` or `date_range`       |\n",
    "| Time deltas  | `Timedelta`  | `TimedeltaIndex` | `timedelta64[ns]`                        | `to_timedelta` or `timedelta_range` |\n",
    "| Time spans   | `Period`     | `PeriodIndex`    | `period[freq]`                           | `Period` or `period_range`          |\n",
    "| Date offsets | `DateOffset` | `None`           | `None`                                   | `DateOffset`                        |\n",
    "\n",
    "For time series data, it's conventional to represent the time component\n",
    "in the index of a `Series` or `DataFrame` so manipulations can be\n",
    "performed with respect to the time element.\n"
   ]
  },
  {
   "cell_type": "code",
   "execution_count": 10,
   "id": "18bc26ff",
   "metadata": {},
   "outputs": [
    {
     "data": {
      "text/plain": [
       "2000-01-01    0\n",
       "2000-01-02    1\n",
       "2000-01-03    2\n",
       "Freq: D, dtype: int64"
      ]
     },
     "execution_count": 10,
     "metadata": {},
     "output_type": "execute_result"
    }
   ],
   "source": [
    "pd.Series(range(3), index=pd.date_range(\"2000\", freq=\"D\", periods=3))"
   ]
  },
  {
   "cell_type": "markdown",
   "id": "073ca743",
   "metadata": {},
   "source": [
    "However, `Series` and `DataFrame` can directly also support the time\n",
    "component as data itself."
   ]
  },
  {
   "cell_type": "code",
   "execution_count": 12,
   "id": "073dff97",
   "metadata": {},
   "outputs": [
    {
     "data": {
      "text/plain": [
       "0   2000-01-01\n",
       "1   2000-01-02\n",
       "2   2000-01-03\n",
       "dtype: datetime64[ns]"
      ]
     },
     "execution_count": 12,
     "metadata": {},
     "output_type": "execute_result"
    }
   ],
   "source": [
    "pd.Series(pd.date_range(\"2000\", freq=\"D\", periods=3))"
   ]
  },
  {
   "cell_type": "markdown",
   "id": "ca84973f",
   "metadata": {},
   "source": [
    "`Series` and `DataFrame` have extended data type support and\n",
    "functionality for `datetime`, `timedelta` and `Period` data when passed\n",
    "into those constructors. `DateOffset` data however will be stored as\n",
    "`object` data."
   ]
  },
  {
   "cell_type": "code",
   "execution_count": 14,
   "id": "e7a6c19c",
   "metadata": {},
   "outputs": [
    {
     "name": "stdout",
     "output_type": "stream",
     "text": [
      "0    2011-01\n",
      "1    2011-02\n",
      "2    2011-03\n",
      "dtype: period[M]\n",
      "0         <DateOffset>\n",
      "1    <2 * DateOffsets>\n",
      "dtype: object\n",
      "0   2011-01-31\n",
      "1   2011-02-28\n",
      "2   2011-03-31\n",
      "dtype: datetime64[ns]\n"
     ]
    }
   ],
   "source": [
    "print(pd.Series(pd.period_range(\"1/1/2011\", freq=\"M\", periods=3)))\n",
    "print(pd.Series([pd.DateOffset(1), pd.DateOffset(2)]))\n",
    "print(pd.Series(pd.date_range(\"1/1/2011\", freq=\"M\", periods=3)))"
   ]
  },
  {
   "cell_type": "markdown",
   "id": "91771d25",
   "metadata": {},
   "source": [
    "Lastly, pandas represents null date times, time deltas, and time spans\n",
    "as `NaT` which is useful for representing missing or null date like\n",
    "values and behaves similar as `np.nan` does for float data.\n"
   ]
  },
  {
   "cell_type": "code",
   "execution_count": 25,
   "id": "282256f9",
   "metadata": {},
   "outputs": [
    {
     "name": "stdout",
     "output_type": "stream",
     "text": [
      "True\n",
      "False\n"
     ]
    }
   ],
   "source": [
    "# Equality acts as np.nan would pd.NaT == pd.NaT\n",
    "a = pd.Timestamp(pd.NaT) \n",
    "b = pd.Timedelta(pd.NaT) \n",
    "c = pd.Period(pd.NaT) \n",
    "\n",
    "print(pd.isna(a) == pd.isna(b) == pd.isna(c))\n",
    "print(a == b)"
   ]
  },
  {
   "cell_type": "markdown",
   "id": "597a1a0f",
   "metadata": {},
   "source": [
    "## Timestamps vs. time spans\n",
    "\n",
    "Timestamped data is the most basic type of time series data that\n",
    "associates values with points in time. For pandas objects it means using\n",
    "the points in time."
   ]
  },
  {
   "cell_type": "code",
   "execution_count": 26,
   "id": "ab3e33b6",
   "metadata": {},
   "outputs": [
    {
     "data": {
      "text/plain": [
       "Timestamp('2012-05-01 00:00:00')"
      ]
     },
     "execution_count": 26,
     "metadata": {},
     "output_type": "execute_result"
    }
   ],
   "source": [
    "pd.Timestamp(datetime.datetime(2012, 5, 1)) "
   ]
  },
  {
   "cell_type": "code",
   "execution_count": 27,
   "id": "34d905b5",
   "metadata": {},
   "outputs": [
    {
     "data": {
      "text/plain": [
       "Timestamp('2012-05-01 00:00:00')"
      ]
     },
     "execution_count": 27,
     "metadata": {},
     "output_type": "execute_result"
    }
   ],
   "source": [
    "pd.Timestamp(\"2012-05-01\")"
   ]
  },
  {
   "cell_type": "code",
   "execution_count": 28,
   "id": "a9c874e6",
   "metadata": {},
   "outputs": [
    {
     "data": {
      "text/plain": [
       "Timestamp('2012-05-01 00:00:00')"
      ]
     },
     "execution_count": 28,
     "metadata": {},
     "output_type": "execute_result"
    }
   ],
   "source": [
    "pd.Timestamp(2012, 5, 1)"
   ]
  },
  {
   "cell_type": "markdown",
   "id": "e16f515b",
   "metadata": {},
   "source": [
    "However, in many cases it is more natural to associate things like\n",
    "change variables with a time span instead. The span represented by\n",
    "`Period` can be specified explicitly, or inferred from datetime string\n",
    "format.\n",
    "\n",
    "For example:"
   ]
  },
  {
   "cell_type": "code",
   "execution_count": 29,
   "id": "9d22cf6c",
   "metadata": {},
   "outputs": [
    {
     "data": {
      "text/plain": [
       "Period('2011-01', 'M')"
      ]
     },
     "execution_count": 29,
     "metadata": {},
     "output_type": "execute_result"
    }
   ],
   "source": [
    "pd.Period(\"2011-01\")"
   ]
  },
  {
   "cell_type": "code",
   "execution_count": 30,
   "id": "5532594b",
   "metadata": {},
   "outputs": [
    {
     "data": {
      "text/plain": [
       "Period('2012-05-01', 'D')"
      ]
     },
     "execution_count": 30,
     "metadata": {},
     "output_type": "execute_result"
    }
   ],
   "source": [
    "pd.Period(\"2012-05\", freq=\"D\")"
   ]
  },
  {
   "cell_type": "markdown",
   "id": "8b05d7cd",
   "metadata": {},
   "source": [
    "`Timestamp` and `Period` can serve as an index. Lists of `Timestamp` and\n",
    "`Period` are automatically coerced to `DatetimeIndex` and `PeriodIndex`\n",
    "respectively."
   ]
  },
  {
   "cell_type": "code",
   "execution_count": 31,
   "id": "7a8fbfd1",
   "metadata": {},
   "outputs": [
    {
     "name": "stdout",
     "output_type": "stream",
     "text": [
      "<class 'pandas.core.indexes.datetimes.DatetimeIndex'>\n",
      "DatetimeIndex(['2012-05-01', '2012-05-02', '2012-05-03'], dtype='datetime64[ns]', freq=None)\n"
     ]
    },
    {
     "data": {
      "text/plain": [
       "2012-05-01    0.803858\n",
       "2012-05-02   -0.830597\n",
       "2012-05-03   -0.759139\n",
       "dtype: float64"
      ]
     },
     "execution_count": 31,
     "metadata": {},
     "output_type": "execute_result"
    }
   ],
   "source": [
    "dates = [  \n",
    "    pd.Timestamp(\"2012-05-01\"), \n",
    "    pd.Timestamp(\"2012-05-02\"),\n",
    "    pd.Timestamp(\"2012-05-03\"),\n",
    "] \n",
    "ts = pd.Series(np.random.randn(3), dates)\n",
    "\n",
    "print(type(ts.index)) \n",
    "print(ts.index)\n",
    "ts"
   ]
  },
  {
   "cell_type": "code",
   "execution_count": 32,
   "id": "a84e85ff",
   "metadata": {},
   "outputs": [
    {
     "name": "stdout",
     "output_type": "stream",
     "text": [
      "<class 'pandas.core.indexes.period.PeriodIndex'>\n",
      "PeriodIndex(['2012-01', '2012-02', '2012-03'], dtype='period[M]', freq='M')\n"
     ]
    },
    {
     "data": {
      "text/plain": [
       "2012-01   -1.264989\n",
       "2012-02    0.342363\n",
       "2012-03   -0.973316\n",
       "Freq: M, dtype: float64"
      ]
     },
     "execution_count": 32,
     "metadata": {},
     "output_type": "execute_result"
    }
   ],
   "source": [
    "periods = [\n",
    "    pd.Period(\"2012-01\"), \n",
    "    pd.Period(\"2012-02\"), \n",
    "    pd.Period(\"2012-03\")\n",
    "]\n",
    "ts = pd.Series(np.random.randn(3), periods)\n",
    "\n",
    "print(type(ts.index)) \n",
    "print(ts.index)\n",
    "ts"
   ]
  },
  {
   "cell_type": "markdown",
   "id": "d610eb54",
   "metadata": {},
   "source": [
    "pandas allows you to capture both representations and convert between\n",
    "them. Under the hood, pandas represents timestamps using instances of\n",
    "`Timestamp` and sequences of timestamps using instances of\n",
    "`DatetimeIndex`. For regular time spans, pandas uses `Period` objects\n",
    "for scalar values and `PeriodIndex` for sequences of spans. Better\n",
    "support for irregular intervals with arbitrary start and end points are\n",
    "forth-coming in future releases.\n",
    "\n",
    "## Converting to timestamps\n",
    "\n",
    "To convert a `Series` or list-like object of date-like objects e.g.\n",
    "strings, epochs, or a mixture, you can use the `to_datetime` function.\n",
    "When passed a `Series`, this returns a `Series` (with the same index),\n",
    "while a list-like is converted to a `DatetimeIndex` :"
   ]
  },
  {
   "cell_type": "code",
   "execution_count": 33,
   "id": "905214de",
   "metadata": {},
   "outputs": [
    {
     "data": {
      "text/plain": [
       "0   2009-07-31\n",
       "1   2010-01-10\n",
       "2          NaT\n",
       "dtype: datetime64[ns]"
      ]
     },
     "execution_count": 33,
     "metadata": {},
     "output_type": "execute_result"
    }
   ],
   "source": [
    "pd.to_datetime(pd.Series([\"Jul 31, 2009\", \"2010-01-10\", None]))"
   ]
  },
  {
   "cell_type": "code",
   "execution_count": 34,
   "id": "c7f3779b",
   "metadata": {},
   "outputs": [
    {
     "data": {
      "text/plain": [
       "DatetimeIndex(['2005-11-23', '2010-12-31'], dtype='datetime64[ns]', freq=None)"
      ]
     },
     "execution_count": 34,
     "metadata": {},
     "output_type": "execute_result"
    }
   ],
   "source": [
    "pd.to_datetime([\"2005/11/23\", \"2010.12.31\"])"
   ]
  },
  {
   "cell_type": "markdown",
   "id": "58c57aa6",
   "metadata": {},
   "source": [
    "If you use dates which start with the day first (i.e. European style),\n",
    "you can pass the `dayfirst` flag:"
   ]
  },
  {
   "cell_type": "code",
   "execution_count": 35,
   "id": "c5450079",
   "metadata": {},
   "outputs": [
    {
     "data": {
      "text/plain": [
       "DatetimeIndex(['2012-01-04 10:00:00'], dtype='datetime64[ns]', freq=None)"
      ]
     },
     "execution_count": 35,
     "metadata": {},
     "output_type": "execute_result"
    }
   ],
   "source": [
    "pd.to_datetime([\"04-01-2012 10:00\"], dayfirst=True)"
   ]
  },
  {
   "cell_type": "code",
   "execution_count": 36,
   "id": "6abd7c2f",
   "metadata": {},
   "outputs": [
    {
     "data": {
      "text/plain": [
       "DatetimeIndex(['2012-01-14', '2012-01-14'], dtype='datetime64[ns]', freq=None)"
      ]
     },
     "execution_count": 36,
     "metadata": {},
     "output_type": "execute_result"
    }
   ],
   "source": [
    "pd.to_datetime([\"14-01-2012\", \"01-14-2012\"], dayfirst=True)"
   ]
  },
  {
   "cell_type": "markdown",
   "id": "27a9e36e",
   "metadata": {},
   "source": [
    "*Warning*\n",
    "\n",
    "You see in the above example that `dayfirst` isn't strict. If a date\n",
    "can't be parsed with the day being first it will be parsed as if\n",
    "`dayfirst` were False, and in the case of parsing delimited date strings\n",
    "(e.g. `31-12-2012`) then a warning will also be raised.\n",
    "\n",
    "If you pass a single string to `to_datetime`, it returns a single\n",
    "`Timestamp`. `Timestamp` can also accept string input, but it doesn't\n",
    "accept string parsing options like `dayfirst` or `format`, so use\n",
    "`to_datetime` if these are required."
   ]
  },
  {
   "cell_type": "code",
   "execution_count": 37,
   "id": "453defbf",
   "metadata": {},
   "outputs": [
    {
     "data": {
      "text/plain": [
       "Timestamp('2010-11-12 00:00:00')"
      ]
     },
     "execution_count": 37,
     "metadata": {},
     "output_type": "execute_result"
    }
   ],
   "source": [
    "pd.to_datetime(\"2010/11/12\")"
   ]
  },
  {
   "cell_type": "code",
   "execution_count": 38,
   "id": "049ccfb3",
   "metadata": {},
   "outputs": [
    {
     "data": {
      "text/plain": [
       "Timestamp('2010-11-12 00:00:00')"
      ]
     },
     "execution_count": 38,
     "metadata": {},
     "output_type": "execute_result"
    }
   ],
   "source": [
    "pd.Timestamp(\"2010/11/12\")"
   ]
  },
  {
   "cell_type": "markdown",
   "id": "754cebb5",
   "metadata": {},
   "source": [
    "You can also use the `DatetimeIndex` constructor directly:"
   ]
  },
  {
   "cell_type": "code",
   "execution_count": 39,
   "id": "c44b6d96",
   "metadata": {},
   "outputs": [
    {
     "data": {
      "text/plain": [
       "DatetimeIndex(['2018-01-01', '2018-01-03', '2018-01-05'], dtype='datetime64[ns]', freq=None)"
      ]
     },
     "execution_count": 39,
     "metadata": {},
     "output_type": "execute_result"
    }
   ],
   "source": [
    "pd.DatetimeIndex([\"2018-01-01\", \"2018-01-03\", \"2018-01-05\"])"
   ]
  },
  {
   "cell_type": "markdown",
   "id": "d0b07f97",
   "metadata": {},
   "source": [
    "The string `infer` can be passed in order to set the frequency of the\n",
    "index as the inferred frequency upon creation:"
   ]
  },
  {
   "cell_type": "code",
   "execution_count": 40,
   "id": "37d1f0e4",
   "metadata": {},
   "outputs": [
    {
     "data": {
      "text/plain": [
       "DatetimeIndex(['2018-01-01', '2018-01-03', '2018-01-05'], dtype='datetime64[ns]', freq='2D')"
      ]
     },
     "execution_count": 40,
     "metadata": {},
     "output_type": "execute_result"
    }
   ],
   "source": [
    "pd.DatetimeIndex(\n",
    "    [\"2018-01-01\", \"2018-01-03\", \"2018-01-05\"],\n",
    "    freq=\"infer\"\n",
    ")\n"
   ]
  },
  {
   "cell_type": "markdown",
   "id": "8ab6263e",
   "metadata": {},
   "source": [
    "### Providing a format argument\n",
    "\n",
    "In addition to the required datetime string, a `format` argument can be\n",
    "passed to ensure specific parsing. This could also potentially speed up\n",
    "the conversion considerably.\n"
   ]
  },
  {
   "cell_type": "code",
   "execution_count": 42,
   "id": "089885a4",
   "metadata": {},
   "outputs": [
    {
     "data": {
      "text/plain": [
       "Timestamp('2010-11-12 00:00:00')"
      ]
     },
     "execution_count": 42,
     "metadata": {},
     "output_type": "execute_result"
    }
   ],
   "source": [
    "pd.to_datetime(\"2010/11/12\", format=\"%Y/%m/%d\")"
   ]
  },
  {
   "cell_type": "code",
   "execution_count": 41,
   "id": "0a4b6f7b",
   "metadata": {},
   "outputs": [
    {
     "data": {
      "text/plain": [
       "Timestamp('2010-11-12 00:00:00')"
      ]
     },
     "execution_count": 41,
     "metadata": {},
     "output_type": "execute_result"
    }
   ],
   "source": [
    "pd.to_datetime(\"12-11-2010 00:00\", format=\"%d-%m-%Y %H:%M\")"
   ]
  },
  {
   "cell_type": "markdown",
   "id": "8149c971",
   "metadata": {},
   "source": [
    "For more information on the choices available when specifying the\n",
    "`format` option, see the Python [datetime\n",
    "documentation](https://docs.python.org/3/library/datetime.html#strftime-and-strptime-behavior).\n",
    "\n",
    "### Assembling datetime from multiple DataFrame columns\n",
    "\n",
    "You can also pass a `DataFrame` of integer or string columns to assemble\n",
    "into a `Series` of `Timestamps`."
   ]
  },
  {
   "cell_type": "code",
   "execution_count": 45,
   "id": "5a7df6b0",
   "metadata": {},
   "outputs": [
    {
     "data": {
      "text/html": [
       "<div>\n",
       "<style scoped>\n",
       "    .dataframe tbody tr th:only-of-type {\n",
       "        vertical-align: middle;\n",
       "    }\n",
       "\n",
       "    .dataframe tbody tr th {\n",
       "        vertical-align: top;\n",
       "    }\n",
       "\n",
       "    .dataframe thead th {\n",
       "        text-align: right;\n",
       "    }\n",
       "</style>\n",
       "<table border=\"1\" class=\"dataframe\">\n",
       "  <thead>\n",
       "    <tr style=\"text-align: right;\">\n",
       "      <th></th>\n",
       "      <th>year</th>\n",
       "      <th>month</th>\n",
       "      <th>day</th>\n",
       "      <th>hour</th>\n",
       "    </tr>\n",
       "  </thead>\n",
       "  <tbody>\n",
       "    <tr>\n",
       "      <th>0</th>\n",
       "      <td>2015</td>\n",
       "      <td>2</td>\n",
       "      <td>4</td>\n",
       "      <td>2</td>\n",
       "    </tr>\n",
       "    <tr>\n",
       "      <th>1</th>\n",
       "      <td>2016</td>\n",
       "      <td>3</td>\n",
       "      <td>5</td>\n",
       "      <td>3</td>\n",
       "    </tr>\n",
       "  </tbody>\n",
       "</table>\n",
       "</div>"
      ],
      "text/plain": [
       "   year  month  day  hour\n",
       "0  2015      2    4     2\n",
       "1  2016      3    5     3"
      ]
     },
     "execution_count": 45,
     "metadata": {},
     "output_type": "execute_result"
    }
   ],
   "source": [
    "df = pd.DataFrame(\n",
    "    {\n",
    "        \"year\": [2015, 2016], \n",
    "        \"month\": [2, 3], \n",
    "        \"day\": [4, 5], \n",
    "        \"hour\": [2, 3]\n",
    "    }\n",
    ") \n",
    "df"
   ]
  },
  {
   "cell_type": "code",
   "execution_count": 46,
   "id": "7e57d35b",
   "metadata": {},
   "outputs": [
    {
     "data": {
      "text/plain": [
       "0   2015-02-04 02:00:00\n",
       "1   2016-03-05 03:00:00\n",
       "dtype: datetime64[ns]"
      ]
     },
     "execution_count": 46,
     "metadata": {},
     "output_type": "execute_result"
    }
   ],
   "source": [
    "pd.to_datetime(df)"
   ]
  },
  {
   "cell_type": "markdown",
   "id": "aa93ecfc",
   "metadata": {},
   "source": [
    "You can pass only the columns that you need to assemble."
   ]
  },
  {
   "cell_type": "code",
   "execution_count": 47,
   "id": "50417d0e",
   "metadata": {},
   "outputs": [
    {
     "data": {
      "text/plain": [
       "0   2015-02-04\n",
       "1   2016-03-05\n",
       "dtype: datetime64[ns]"
      ]
     },
     "execution_count": 47,
     "metadata": {},
     "output_type": "execute_result"
    }
   ],
   "source": [
    "pd.to_datetime(df[[\"year\", \"month\", \"day\"]])"
   ]
  },
  {
   "cell_type": "markdown",
   "id": "2a437c77",
   "metadata": {},
   "source": [
    "\n",
    "`pd.to_datetime` looks for standard designations of the datetime\n",
    "component in the column names, including:\n",
    "\n",
    "-   required: `year`, `month`, `day`\n",
    "-   optional: `hour`, `minute`, `second`, `millisecond`, `microsecond`,\n",
    "    `nanosecond`\n",
    "\n",
    "### Invalid data\n",
    "\n",
    "The default behavior, `errors='raise'`, is to raise when unparsable:"
   ]
  },
  {
   "cell_type": "code",
   "execution_count": null,
   "id": "29b57069",
   "metadata": {},
   "outputs": [],
   "source": [
    "pd.to_datetime(['2009/07/31', 'asd'], errors='raise')"
   ]
  },
  {
   "cell_type": "markdown",
   "id": "06c3bb8d",
   "metadata": {},
   "source": [
    "Pass `errors='ignore'` to return the original input when unparsable:"
   ]
  },
  {
   "cell_type": "code",
   "execution_count": 49,
   "id": "6f09f362",
   "metadata": {},
   "outputs": [
    {
     "data": {
      "text/plain": [
       "Index(['2009/07/31', 'asd'], dtype='object')"
      ]
     },
     "execution_count": 49,
     "metadata": {},
     "output_type": "execute_result"
    }
   ],
   "source": [
    "pd.to_datetime([\"2009/07/31\", \"asd\"], errors=\"ignore\")"
   ]
  },
  {
   "cell_type": "markdown",
   "id": "444d40f4",
   "metadata": {},
   "source": [
    "Pass `errors='coerce'` to convert unparsable data to `NaT` (not a time):"
   ]
  },
  {
   "cell_type": "code",
   "execution_count": 50,
   "id": "f724c2d2",
   "metadata": {},
   "outputs": [
    {
     "data": {
      "text/plain": [
       "DatetimeIndex(['2009-07-31', 'NaT'], dtype='datetime64[ns]', freq=None)"
      ]
     },
     "execution_count": 50,
     "metadata": {},
     "output_type": "execute_result"
    }
   ],
   "source": [
    "pd.to_datetime([\"2009/07/31\", \"asd\"], errors=\"coerce\")"
   ]
  },
  {
   "cell_type": "markdown",
   "id": "730c9023",
   "metadata": {},
   "source": [
    "### Epoch timestamps\n",
    "\n",
    "pandas supports converting integer or float epoch times to `Timestamp`\n",
    "and `DatetimeIndex`. The default unit is nanoseconds, since that is how\n",
    "`Timestamp` objects are stored internally. However, epochs are often\n",
    "stored in another `unit` which can be specified. These are computed from\n",
    "the starting point specified by the `origin` parameter."
   ]
  },
  {
   "cell_type": "code",
   "execution_count": 51,
   "id": "7384153b",
   "metadata": {},
   "outputs": [
    {
     "data": {
      "text/plain": [
       "DatetimeIndex(['2012-10-08 18:15:05', '2012-10-09 18:15:05',\n",
       "               '2012-10-10 18:15:05', '2012-10-11 18:15:05',\n",
       "               '2012-10-12 18:15:05'],\n",
       "              dtype='datetime64[ns]', freq=None)"
      ]
     },
     "execution_count": 51,
     "metadata": {},
     "output_type": "execute_result"
    }
   ],
   "source": [
    "pd.to_datetime(  \n",
    "    [1349720105, 1349806505, 1349892905, 1349979305, 1350065705], \n",
    "    unit=\"s\"\n",
    ")"
   ]
  },
  {
   "cell_type": "code",
   "execution_count": 52,
   "id": "28a0fe40",
   "metadata": {},
   "outputs": [
    {
     "data": {
      "text/plain": [
       "DatetimeIndex(['2012-10-08 18:15:05.100000', '2012-10-08 18:15:05.200000',\n",
       "               '2012-10-08 18:15:05.300000', '2012-10-08 18:15:05.400000',\n",
       "               '2012-10-08 18:15:05.500000'],\n",
       "              dtype='datetime64[ns]', freq=None)"
      ]
     },
     "execution_count": 52,
     "metadata": {},
     "output_type": "execute_result"
    }
   ],
   "source": [
    "pd.to_datetime(  \n",
    "    [1349720105100, 1349720105200, 1349720105300, 1349720105400, 1349720105500], \n",
    "    unit=\"ms\"\n",
    ")"
   ]
  },
  {
   "cell_type": "markdown",
   "id": "8be0929f",
   "metadata": {},
   "source": [
    "*Note*\n",
    "\n",
    "The `unit` parameter does not use the same strings as the `format`\n",
    "parameter that was discussed `above<timeseries.converting.format>`). The\n",
    "available units are listed on the documentation for\n",
    "`pandas.to_datetime`.\n",
    "\n",
    "Constructing a `Timestamp` or `DatetimeIndex` with an epoch timestamp\n",
    "with the `tz` argument specified will raise a ValueError. If you have\n",
    "epochs in wall time in another timezone, you can read the epochs as\n",
    "timezone-naive timestamps and then localize to the appropriate timezone:\n"
   ]
  },
  {
   "cell_type": "code",
   "execution_count": 53,
   "id": "d73829ca",
   "metadata": {},
   "outputs": [
    {
     "data": {
      "text/plain": [
       "Timestamp('2010-01-01 12:00:00-0800', tz='US/Pacific')"
      ]
     },
     "execution_count": 53,
     "metadata": {},
     "output_type": "execute_result"
    }
   ],
   "source": [
    "pd.Timestamp(1262347200000000000).tz_localize(\"US/Pacific\")"
   ]
  },
  {
   "cell_type": "code",
   "execution_count": 55,
   "id": "366474e8",
   "metadata": {},
   "outputs": [
    {
     "data": {
      "text/plain": [
       "DatetimeIndex(['2010-01-01 12:00:00-08:00'], dtype='datetime64[ns, US/Pacific]', freq=None)"
      ]
     },
     "execution_count": 55,
     "metadata": {},
     "output_type": "execute_result"
    }
   ],
   "source": [
    "pd.DatetimeIndex([1262347200000000000]).tz_localize(\"US/Pacific\")"
   ]
  },
  {
   "cell_type": "markdown",
   "id": "2444bea6",
   "metadata": {},
   "source": [
    "*Note*\n",
    "\n",
    "Epoch times will be rounded to the nearest nanosecond.\n",
    "\n",
    "*Warning*\n",
    "\n",
    "Conversion of float epoch times can lead to inaccurate and unexpected\n",
    "results. `Python floats <python:tut-fp-issues>` have about 15 digits\n",
    "precision in decimal. Rounding during conversion from float to high\n",
    "precision `Timestamp` is unavoidable. The only way to achieve exact\n",
    "precision is to use a fixed-width types (e.g. an int64)."
   ]
  },
  {
   "cell_type": "code",
   "execution_count": 56,
   "id": "1ac2da8b",
   "metadata": {},
   "outputs": [
    {
     "data": {
      "text/plain": [
       "DatetimeIndex(['2017-03-22 15:16:45.433000088', '2017-03-22 15:16:45.433502913'], dtype='datetime64[ns]', freq=None)"
      ]
     },
     "execution_count": 56,
     "metadata": {},
     "output_type": "execute_result"
    }
   ],
   "source": [
    "pd.to_datetime([1490195805.433, 1490195805.433502912], unit=\"s\")"
   ]
  },
  {
   "cell_type": "code",
   "execution_count": 57,
   "id": "82238ea2",
   "metadata": {},
   "outputs": [
    {
     "data": {
      "text/plain": [
       "Timestamp('2017-03-22 15:16:45.433502912')"
      ]
     },
     "execution_count": 57,
     "metadata": {},
     "output_type": "execute_result"
    }
   ],
   "source": [
    "pd.to_datetime(1490195805433502912, unit=\"ns\")"
   ]
  },
  {
   "cell_type": "markdown",
   "id": "887ae94f",
   "metadata": {},
   "source": [
    "### From timestamps to epoch\n",
    "\n",
    "To invert the operation from above, namely, to convert from a\n",
    "`Timestamp` to a 'unix' epoch:"
   ]
  },
  {
   "cell_type": "code",
   "execution_count": 58,
   "id": "92295f36",
   "metadata": {},
   "outputs": [
    {
     "data": {
      "text/plain": [
       "DatetimeIndex(['2012-10-08 18:15:05', '2012-10-09 18:15:05',\n",
       "               '2012-10-10 18:15:05', '2012-10-11 18:15:05'],\n",
       "              dtype='datetime64[ns]', freq='D')"
      ]
     },
     "execution_count": 58,
     "metadata": {},
     "output_type": "execute_result"
    }
   ],
   "source": [
    "stamps = pd.date_range(\"2012-10-08 18:15:05\", periods=4, freq=\"D\")\n",
    "stamps"
   ]
  },
  {
   "cell_type": "markdown",
   "id": "7136f5a2",
   "metadata": {},
   "source": [
    "We subtract the epoch (midnight at January 1, 1970 UTC) and then floor\n",
    "divide by the \"unit\" (1 second)."
   ]
  },
  {
   "cell_type": "code",
   "execution_count": 59,
   "id": "f7cd0632",
   "metadata": {},
   "outputs": [
    {
     "data": {
      "text/plain": [
       "Int64Index([1349720105, 1349806505, 1349892905, 1349979305], dtype='int64')"
      ]
     },
     "execution_count": 59,
     "metadata": {},
     "output_type": "execute_result"
    }
   ],
   "source": [
    "(stamps - pd.Timestamp(\"1970-01-01\")) // pd.Timedelta(\"1s\")"
   ]
  },
  {
   "cell_type": "markdown",
   "id": "827be30d",
   "metadata": {},
   "source": [
    "### Using the `origin` parameter\n",
    "\n",
    "Using the `origin` parameter, one can specify an alternative starting\n",
    "point for creation of a `DatetimeIndex`. For example, to use 1960-01-01\n",
    "as the starting date:"
   ]
  },
  {
   "cell_type": "code",
   "execution_count": 60,
   "id": "db21f412",
   "metadata": {},
   "outputs": [
    {
     "data": {
      "text/plain": [
       "DatetimeIndex(['1960-01-02', '1960-01-03', '1960-01-04'], dtype='datetime64[ns]', freq=None)"
      ]
     },
     "execution_count": 60,
     "metadata": {},
     "output_type": "execute_result"
    }
   ],
   "source": [
    "pd.to_datetime([1, 2, 3], unit=\"D\", origin=pd.Timestamp(\"1960-01-01\"))"
   ]
  },
  {
   "cell_type": "markdown",
   "id": "14992e86",
   "metadata": {},
   "source": [
    "The default is set at `origin='unix'`, which defaults to\n",
    "`1970-01-01 00:00:00`. Commonly called 'unix epoch' or POSIX time."
   ]
  },
  {
   "cell_type": "code",
   "execution_count": 61,
   "id": "050ff20f",
   "metadata": {},
   "outputs": [
    {
     "data": {
      "text/plain": [
       "DatetimeIndex(['1970-01-02', '1970-01-03', '1970-01-04'], dtype='datetime64[ns]', freq=None)"
      ]
     },
     "execution_count": 61,
     "metadata": {},
     "output_type": "execute_result"
    }
   ],
   "source": [
    "pd.to_datetime([1, 2, 3], unit=\"D\")"
   ]
  },
  {
   "cell_type": "markdown",
   "id": "b7c1ee89",
   "metadata": {},
   "source": [
    "## Generating ranges of timestamps\n",
    "\n",
    "To generate an index with timestamps, you can use either the\n",
    "`DatetimeIndex` or `Index` constructor and pass in a list of datetime\n",
    "objects:"
   ]
  },
  {
   "cell_type": "code",
   "execution_count": 62,
   "id": "c32d506a",
   "metadata": {},
   "outputs": [
    {
     "data": {
      "text/plain": [
       "DatetimeIndex(['2012-05-01', '2012-05-02', '2012-05-03'], dtype='datetime64[ns]', freq=None)"
      ]
     },
     "execution_count": 62,
     "metadata": {},
     "output_type": "execute_result"
    }
   ],
   "source": [
    "dates = [  \n",
    "    datetime.datetime(2012, 5, 1), \n",
    "    datetime.datetime(2012, 5, 2),\n",
    "    datetime.datetime(2012, 5, 3),\n",
    "]\n",
    "\n",
    "# Note the frequency information \n",
    "index = pd.DatetimeIndex(dates) \n",
    "index"
   ]
  },
  {
   "cell_type": "code",
   "execution_count": 63,
   "id": "e8e4970c",
   "metadata": {},
   "outputs": [
    {
     "data": {
      "text/plain": [
       "DatetimeIndex(['2012-05-01', '2012-05-02', '2012-05-03'], dtype='datetime64[ns]', freq=None)"
      ]
     },
     "execution_count": 63,
     "metadata": {},
     "output_type": "execute_result"
    }
   ],
   "source": [
    "# Automatically converted to DatetimeIndex \n",
    "index = pd.Index(dates)\n",
    "index"
   ]
  },
  {
   "cell_type": "markdown",
   "id": "95cdeda1",
   "metadata": {},
   "source": [
    "In practice this becomes very cumbersome because we often need a very\n",
    "long index with a large number of timestamps. If we need timestamps on a\n",
    "regular frequency, we can use the `date_range` and `bdate_range`\n",
    "functions to create a `DatetimeIndex`. The default frequency for\n",
    "`date_range` is a **calendar day** while the default for `bdate_range`\n",
    "is a **business day**:\n"
   ]
  },
  {
   "cell_type": "code",
   "execution_count": 64,
   "id": "4aa4bba9",
   "metadata": {},
   "outputs": [
    {
     "data": {
      "text/plain": [
       "DatetimeIndex(['2011-01-01', '2011-01-02', '2011-01-03', '2011-01-04',\n",
       "               '2011-01-05', '2011-01-06', '2011-01-07', '2011-01-08',\n",
       "               '2011-01-09', '2011-01-10',\n",
       "               ...\n",
       "               '2011-12-23', '2011-12-24', '2011-12-25', '2011-12-26',\n",
       "               '2011-12-27', '2011-12-28', '2011-12-29', '2011-12-30',\n",
       "               '2011-12-31', '2012-01-01'],\n",
       "              dtype='datetime64[ns]', length=366, freq='D')"
      ]
     },
     "execution_count": 64,
     "metadata": {},
     "output_type": "execute_result"
    }
   ],
   "source": [
    "start = datetime.datetime(2011, 1, 1) \n",
    "end = datetime.datetime(2012, 1, 1)\n",
    "\n",
    "index = pd.date_range(start, end) \n",
    "index"
   ]
  },
  {
   "cell_type": "code",
   "execution_count": 65,
   "id": "2effde69",
   "metadata": {},
   "outputs": [
    {
     "data": {
      "text/plain": [
       "DatetimeIndex(['2011-01-03', '2011-01-04', '2011-01-05', '2011-01-06',\n",
       "               '2011-01-07', '2011-01-10', '2011-01-11', '2011-01-12',\n",
       "               '2011-01-13', '2011-01-14',\n",
       "               ...\n",
       "               '2011-12-19', '2011-12-20', '2011-12-21', '2011-12-22',\n",
       "               '2011-12-23', '2011-12-26', '2011-12-27', '2011-12-28',\n",
       "               '2011-12-29', '2011-12-30'],\n",
       "              dtype='datetime64[ns]', length=260, freq='B')"
      ]
     },
     "execution_count": 65,
     "metadata": {},
     "output_type": "execute_result"
    }
   ],
   "source": [
    "index = pd.bdate_range(start, end) \n",
    "index"
   ]
  },
  {
   "cell_type": "markdown",
   "id": "c7cdd536",
   "metadata": {},
   "source": [
    "Convenience functions like `date_range` and `bdate_range` can utilize a\n",
    "variety of `frequency aliases <timeseries.offset_aliases>` :"
   ]
  },
  {
   "cell_type": "code",
   "execution_count": 66,
   "id": "d9749e07",
   "metadata": {},
   "outputs": [
    {
     "data": {
      "text/plain": [
       "DatetimeIndex(['2011-01-31', '2011-02-28', '2011-03-31', '2011-04-30',\n",
       "               '2011-05-31', '2011-06-30', '2011-07-31', '2011-08-31',\n",
       "               '2011-09-30', '2011-10-31',\n",
       "               ...\n",
       "               '2093-07-31', '2093-08-31', '2093-09-30', '2093-10-31',\n",
       "               '2093-11-30', '2093-12-31', '2094-01-31', '2094-02-28',\n",
       "               '2094-03-31', '2094-04-30'],\n",
       "              dtype='datetime64[ns]', length=1000, freq='M')"
      ]
     },
     "execution_count": 66,
     "metadata": {},
     "output_type": "execute_result"
    }
   ],
   "source": [
    "pd.date_range(start, periods=1000, freq=\"M\")"
   ]
  },
  {
   "cell_type": "code",
   "execution_count": 67,
   "id": "0b6a7ec4",
   "metadata": {},
   "outputs": [
    {
     "data": {
      "text/plain": [
       "DatetimeIndex(['2011-01-03', '2011-04-01', '2011-07-01', '2011-10-03',\n",
       "               '2012-01-02', '2012-04-02', '2012-07-02', '2012-10-01',\n",
       "               '2013-01-01', '2013-04-01',\n",
       "               ...\n",
       "               '2071-01-01', '2071-04-01', '2071-07-01', '2071-10-01',\n",
       "               '2072-01-01', '2072-04-01', '2072-07-01', '2072-10-03',\n",
       "               '2073-01-02', '2073-04-03'],\n",
       "              dtype='datetime64[ns]', length=250, freq='BQS-JAN')"
      ]
     },
     "execution_count": 67,
     "metadata": {},
     "output_type": "execute_result"
    }
   ],
   "source": [
    "pd.bdate_range(start, periods=250, freq=\"BQS\")"
   ]
  },
  {
   "cell_type": "markdown",
   "id": "8538df50",
   "metadata": {},
   "source": [
    "`date_range` and `bdate_range` make it easy to generate a range of dates\n",
    "using various combinations of parameters like `start`, `end`, `periods`,\n",
    "and `freq`. The start and end dates are strictly inclusive, so dates\n",
    "outside of those specified will not be generated:\n"
   ]
  },
  {
   "cell_type": "code",
   "execution_count": 68,
   "id": "21c9da56",
   "metadata": {},
   "outputs": [
    {
     "data": {
      "text/plain": [
       "DatetimeIndex(['2011-01-31', '2011-02-28', '2011-03-31', '2011-04-29',\n",
       "               '2011-05-31', '2011-06-30', '2011-07-29', '2011-08-31',\n",
       "               '2011-09-30', '2011-10-31', '2011-11-30', '2011-12-30'],\n",
       "              dtype='datetime64[ns]', freq='BM')"
      ]
     },
     "execution_count": 68,
     "metadata": {},
     "output_type": "execute_result"
    }
   ],
   "source": [
    "pd.date_range(start, end, freq=\"BM\")"
   ]
  },
  {
   "cell_type": "code",
   "execution_count": 69,
   "id": "66a30e79",
   "metadata": {},
   "outputs": [
    {
     "data": {
      "text/plain": [
       "DatetimeIndex(['2011-01-02', '2011-01-09', '2011-01-16', '2011-01-23',\n",
       "               '2011-01-30', '2011-02-06', '2011-02-13', '2011-02-20',\n",
       "               '2011-02-27', '2011-03-06', '2011-03-13', '2011-03-20',\n",
       "               '2011-03-27', '2011-04-03', '2011-04-10', '2011-04-17',\n",
       "               '2011-04-24', '2011-05-01', '2011-05-08', '2011-05-15',\n",
       "               '2011-05-22', '2011-05-29', '2011-06-05', '2011-06-12',\n",
       "               '2011-06-19', '2011-06-26', '2011-07-03', '2011-07-10',\n",
       "               '2011-07-17', '2011-07-24', '2011-07-31', '2011-08-07',\n",
       "               '2011-08-14', '2011-08-21', '2011-08-28', '2011-09-04',\n",
       "               '2011-09-11', '2011-09-18', '2011-09-25', '2011-10-02',\n",
       "               '2011-10-09', '2011-10-16', '2011-10-23', '2011-10-30',\n",
       "               '2011-11-06', '2011-11-13', '2011-11-20', '2011-11-27',\n",
       "               '2011-12-04', '2011-12-11', '2011-12-18', '2011-12-25',\n",
       "               '2012-01-01'],\n",
       "              dtype='datetime64[ns]', freq='W-SUN')"
      ]
     },
     "execution_count": 69,
     "metadata": {},
     "output_type": "execute_result"
    }
   ],
   "source": [
    "pd.date_range(start, end, freq=\"W\")"
   ]
  },
  {
   "cell_type": "code",
   "execution_count": 70,
   "id": "16732edb",
   "metadata": {},
   "outputs": [
    {
     "data": {
      "text/plain": [
       "DatetimeIndex(['2011-12-05', '2011-12-06', '2011-12-07', '2011-12-08',\n",
       "               '2011-12-09', '2011-12-12', '2011-12-13', '2011-12-14',\n",
       "               '2011-12-15', '2011-12-16', '2011-12-19', '2011-12-20',\n",
       "               '2011-12-21', '2011-12-22', '2011-12-23', '2011-12-26',\n",
       "               '2011-12-27', '2011-12-28', '2011-12-29', '2011-12-30'],\n",
       "              dtype='datetime64[ns]', freq='B')"
      ]
     },
     "execution_count": 70,
     "metadata": {},
     "output_type": "execute_result"
    }
   ],
   "source": [
    "pd.bdate_range(end=end, periods=20)"
   ]
  },
  {
   "cell_type": "code",
   "execution_count": 71,
   "id": "fe25dc40",
   "metadata": {},
   "outputs": [
    {
     "data": {
      "text/plain": [
       "DatetimeIndex(['2011-01-03', '2011-01-04', '2011-01-05', '2011-01-06',\n",
       "               '2011-01-07', '2011-01-10', '2011-01-11', '2011-01-12',\n",
       "               '2011-01-13', '2011-01-14', '2011-01-17', '2011-01-18',\n",
       "               '2011-01-19', '2011-01-20', '2011-01-21', '2011-01-24',\n",
       "               '2011-01-25', '2011-01-26', '2011-01-27', '2011-01-28'],\n",
       "              dtype='datetime64[ns]', freq='B')"
      ]
     },
     "execution_count": 71,
     "metadata": {},
     "output_type": "execute_result"
    }
   ],
   "source": [
    "pd.bdate_range(start=start, periods=20)"
   ]
  },
  {
   "cell_type": "markdown",
   "id": "d5c8cbf8",
   "metadata": {},
   "source": [
    "Specifying `start`, `end`, and `periods` will generate a range of evenly\n",
    "spaced dates from `start` to `end` inclusively, with `periods` number of\n",
    "elements in the resulting `DatetimeIndex` :"
   ]
  },
  {
   "cell_type": "code",
   "execution_count": 72,
   "id": "cf06e724",
   "metadata": {},
   "outputs": [
    {
     "data": {
      "text/plain": [
       "DatetimeIndex(['2018-01-01', '2018-01-02', '2018-01-03', '2018-01-04',\n",
       "               '2018-01-05'],\n",
       "              dtype='datetime64[ns]', freq=None)"
      ]
     },
     "execution_count": 72,
     "metadata": {},
     "output_type": "execute_result"
    }
   ],
   "source": [
    "pd.date_range(\"2018-01-01\", \"2018-01-05\", periods=5)"
   ]
  },
  {
   "cell_type": "code",
   "execution_count": 73,
   "id": "46625ab4",
   "metadata": {},
   "outputs": [
    {
     "data": {
      "text/plain": [
       "DatetimeIndex(['2018-01-01 00:00:00', '2018-01-01 10:40:00',\n",
       "               '2018-01-01 21:20:00', '2018-01-02 08:00:00',\n",
       "               '2018-01-02 18:40:00', '2018-01-03 05:20:00',\n",
       "               '2018-01-03 16:00:00', '2018-01-04 02:40:00',\n",
       "               '2018-01-04 13:20:00', '2018-01-05 00:00:00'],\n",
       "              dtype='datetime64[ns]', freq=None)"
      ]
     },
     "execution_count": 73,
     "metadata": {},
     "output_type": "execute_result"
    }
   ],
   "source": [
    "pd.date_range(\"2018-01-01\", \"2018-01-05\", periods=10)"
   ]
  },
  {
   "cell_type": "markdown",
   "id": "ada2c54f",
   "metadata": {},
   "source": [
    "### Custom frequency ranges\n",
    "\n",
    "`bdate_range` can also generate a range of custom frequency dates by\n",
    "using the `weekmask` and `holidays` parameters. These parameters will\n",
    "only be used if a custom frequency string is passed."
   ]
  },
  {
   "cell_type": "code",
   "execution_count": 74,
   "id": "3d856c5f",
   "metadata": {},
   "outputs": [
    {
     "data": {
      "text/plain": [
       "DatetimeIndex(['2011-01-03', '2011-01-07', '2011-01-10', '2011-01-12',\n",
       "               '2011-01-14', '2011-01-17', '2011-01-19', '2011-01-21',\n",
       "               '2011-01-24', '2011-01-26',\n",
       "               ...\n",
       "               '2011-12-09', '2011-12-12', '2011-12-14', '2011-12-16',\n",
       "               '2011-12-19', '2011-12-21', '2011-12-23', '2011-12-26',\n",
       "               '2011-12-28', '2011-12-30'],\n",
       "              dtype='datetime64[ns]', length=154, freq='C')"
      ]
     },
     "execution_count": 74,
     "metadata": {},
     "output_type": "execute_result"
    }
   ],
   "source": [
    "weekmask = \"Mon Wed Fri\"\n",
    "holidays = [\n",
    "    datetime.datetime(2011, 1, 5), \n",
    "    datetime.datetime(2011, 3, 14)\n",
    "]\n",
    "\n",
    "pd.bdate_range(\n",
    "    start, end, freq=\"C\", \n",
    "    weekmask=weekmask,\n",
    "    holidays=holidays\n",
    ")"
   ]
  },
  {
   "cell_type": "code",
   "execution_count": 75,
   "id": "1962cf99",
   "metadata": {},
   "outputs": [
    {
     "data": {
      "text/plain": [
       "DatetimeIndex(['2011-01-03', '2011-02-02', '2011-03-02', '2011-04-01',\n",
       "               '2011-05-02', '2011-06-01', '2011-07-01', '2011-08-01',\n",
       "               '2011-09-02', '2011-10-03', '2011-11-02', '2011-12-02'],\n",
       "              dtype='datetime64[ns]', freq='CBMS')"
      ]
     },
     "execution_count": 75,
     "metadata": {},
     "output_type": "execute_result"
    }
   ],
   "source": [
    "pd.bdate_range(start, end, freq=\"CBMS\", weekmask=weekmask)"
   ]
  },
  {
   "cell_type": "markdown",
   "id": "68f26c19",
   "metadata": {},
   "source": [
    "## Timestamp limitations\n",
    "\n",
    "Since pandas represents timestamps in nanosecond resolution, the time\n",
    "span that can be represented using a 64-bit integer is limited to\n",
    "approximately 584 years:"
   ]
  },
  {
   "cell_type": "code",
   "execution_count": 78,
   "id": "c7f71243",
   "metadata": {},
   "outputs": [
    {
     "name": "stdout",
     "output_type": "stream",
     "text": [
      "Desde 1677-09-21 00:12:43.145225, hasta 2262-04-11 23:47:16.854775807\n"
     ]
    }
   ],
   "source": [
    "print(f'Desde {pd.Timestamp.min}, hasta {pd.Timestamp.max}')"
   ]
  },
  {
   "cell_type": "markdown",
   "id": "4dfc1774",
   "metadata": {},
   "source": [
    "## Indexing\n",
    "\n",
    "One of the main uses for `DatetimeIndex` is as an index for pandas\n",
    "objects. The `DatetimeIndex` class contains many time series related\n",
    "optimizations:\n",
    "\n",
    "-   A large range of dates for various offsets are pre-computed and\n",
    "    cached under the hood in order to make generating subsequent date\n",
    "    ranges very fast (just have to grab a slice).\n",
    "-   Fast shifting using the `shift` method on pandas objects.\n",
    "-   Unioning of overlapping `DatetimeIndex` objects with the same\n",
    "    frequency is very fast (important for fast data alignment).\n",
    "-   Quick access to date fields via properties such as `year`, `month`,\n",
    "    etc.\n",
    "-   Regularization functions like `snap` and very fast `asof` logic.\n",
    "\n",
    "`DatetimeIndex` objects have all the basic functionality of regular\n",
    "`Index` objects, and a smorgasbord of advanced time series specific\n",
    "methods for easy frequency processing.\n",
    "\n",
    "*Note*\n",
    "\n",
    "While pandas does not force you to have a sorted date index, some of\n",
    "these methods may have unexpected or incorrect behavior if the dates are\n",
    "unsorted.\n",
    "\n",
    "`DatetimeIndex` can be used like a regular index and offers all of its\n",
    "intelligent functionality like selection, slicing, etc.\n"
   ]
  },
  {
   "cell_type": "code",
   "execution_count": 79,
   "id": "15f15f87",
   "metadata": {},
   "outputs": [
    {
     "name": "stdout",
     "output_type": "stream",
     "text": [
      "DatetimeIndex(['2011-01-31', '2011-02-28', '2011-03-31', '2011-04-29',\n",
      "               '2011-05-31', '2011-06-30', '2011-07-29', '2011-08-31',\n",
      "               '2011-09-30', '2011-10-31', '2011-11-30', '2011-12-30'],\n",
      "              dtype='datetime64[ns]', freq='BM')\n",
      "DatetimeIndex(['2011-01-31', '2011-02-28', '2011-03-31', '2011-04-29',\n",
      "               '2011-05-31'],\n",
      "              dtype='datetime64[ns]', freq='BM')\n",
      "DatetimeIndex(['2011-01-31', '2011-03-31', '2011-05-31', '2011-07-29',\n",
      "               '2011-09-30', '2011-11-30'],\n",
      "              dtype='datetime64[ns]', freq='2BM')\n"
     ]
    }
   ],
   "source": [
    "rng = pd.date_range(start, end, freq=\"BM\") \n",
    "ts = pd.Series(np.random.randn(len(rng)), index=rng) \n",
    "\n",
    "print(ts.index)\n",
    "print(ts[:5].index)\n",
    "print(ts[::2].index)"
   ]
  },
  {
   "cell_type": "markdown",
   "id": "30d0e017",
   "metadata": {},
   "source": [
    "### Partial string indexing\n",
    "\n",
    "Dates and strings that parse to timestamps can be passed as indexing\n",
    "parameters:"
   ]
  },
  {
   "cell_type": "code",
   "execution_count": 81,
   "id": "a5811420",
   "metadata": {},
   "outputs": [
    {
     "name": "stdout",
     "output_type": "stream",
     "text": [
      "0.3766549974854905\n",
      "----------\n",
      "2011-12-30   -0.052569\n",
      "Freq: BM, dtype: float64\n",
      "----------\n",
      "2011-10-31    2.304392\n",
      "2011-11-30   -0.831355\n",
      "2011-12-30   -0.052569\n",
      "Freq: BM, dtype: float64\n"
     ]
    }
   ],
   "source": [
    "print(ts[\"1/31/2011\"])\n",
    "print(10 * '-')\n",
    "print(ts[datetime.datetime(2011, 12, 25):])\n",
    "print(10 * '-')\n",
    "print(ts[\"10/31/2011\":\"12/31/2011\"])\n"
   ]
  },
  {
   "cell_type": "markdown",
   "id": "7df194d1",
   "metadata": {},
   "source": [
    "To provide convenience for accessing longer time series, you can also\n",
    "pass in the year or year and month as strings:"
   ]
  },
  {
   "cell_type": "code",
   "execution_count": 83,
   "id": "b4fd1d87",
   "metadata": {},
   "outputs": [
    {
     "name": "stdout",
     "output_type": "stream",
     "text": [
      "2011-01-31    0.376655\n",
      "2011-02-28   -0.681387\n",
      "2011-03-31   -0.192611\n",
      "2011-04-29    2.540847\n",
      "2011-05-31   -1.329689\n",
      "2011-06-30    0.666763\n",
      "2011-07-29   -0.349254\n",
      "2011-08-31    0.105110\n",
      "2011-09-30    0.618956\n",
      "2011-10-31    2.304392\n",
      "2011-11-30   -0.831355\n",
      "2011-12-30   -0.052569\n",
      "Freq: BM, dtype: float64\n",
      "----------\n",
      "2011-06-30    0.666763\n",
      "Freq: BM, dtype: float64\n"
     ]
    }
   ],
   "source": [
    "print(ts[\"2011\"])\n",
    "print(10 * '-')\n",
    "print(ts[\"2011-6\"])"
   ]
  },
  {
   "cell_type": "markdown",
   "id": "7e4be696",
   "metadata": {},
   "source": [
    "This type of slicing will work on a `DataFrame` with a `DatetimeIndex`\n",
    "as well. Since the partial string selection is a form of label slicing,\n",
    "the endpoints **will be** included. This would include matching times on\n",
    "an included date:\n",
    "\n",
    "*Warning*\n",
    "\n",
    "Indexing `DataFrame` rows with a *single* string with getitem (e.g.\n",
    "`frame[dtstring]`) is deprecated starting with pandas 1.2.0 (given the\n",
    "ambiguity whether it is indexing the rows or selecting a column) and\n",
    "will be removed in a future version. The equivalent with `.loc` (e.g.\n",
    "`frame.loc[dtstring]`) is still supported."
   ]
  },
  {
   "cell_type": "code",
   "execution_count": 84,
   "id": "d2a3f502",
   "metadata": {},
   "outputs": [
    {
     "data": {
      "text/html": [
       "<div>\n",
       "<style scoped>\n",
       "    .dataframe tbody tr th:only-of-type {\n",
       "        vertical-align: middle;\n",
       "    }\n",
       "\n",
       "    .dataframe tbody tr th {\n",
       "        vertical-align: top;\n",
       "    }\n",
       "\n",
       "    .dataframe thead th {\n",
       "        text-align: right;\n",
       "    }\n",
       "</style>\n",
       "<table border=\"1\" class=\"dataframe\">\n",
       "  <thead>\n",
       "    <tr style=\"text-align: right;\">\n",
       "      <th></th>\n",
       "      <th>A</th>\n",
       "    </tr>\n",
       "  </thead>\n",
       "  <tbody>\n",
       "    <tr>\n",
       "      <th>2013-01-01 00:00:00</th>\n",
       "      <td>0.249002</td>\n",
       "    </tr>\n",
       "    <tr>\n",
       "      <th>2013-01-01 00:01:00</th>\n",
       "      <td>-0.943064</td>\n",
       "    </tr>\n",
       "    <tr>\n",
       "      <th>2013-01-01 00:02:00</th>\n",
       "      <td>-1.055686</td>\n",
       "    </tr>\n",
       "    <tr>\n",
       "      <th>2013-01-01 00:03:00</th>\n",
       "      <td>0.205934</td>\n",
       "    </tr>\n",
       "    <tr>\n",
       "      <th>2013-01-01 00:04:00</th>\n",
       "      <td>1.632362</td>\n",
       "    </tr>\n",
       "    <tr>\n",
       "      <th>...</th>\n",
       "      <td>...</td>\n",
       "    </tr>\n",
       "    <tr>\n",
       "      <th>2013-03-11 10:35:00</th>\n",
       "      <td>-1.256779</td>\n",
       "    </tr>\n",
       "    <tr>\n",
       "      <th>2013-03-11 10:36:00</th>\n",
       "      <td>-0.694031</td>\n",
       "    </tr>\n",
       "    <tr>\n",
       "      <th>2013-03-11 10:37:00</th>\n",
       "      <td>-0.530773</td>\n",
       "    </tr>\n",
       "    <tr>\n",
       "      <th>2013-03-11 10:38:00</th>\n",
       "      <td>0.488829</td>\n",
       "    </tr>\n",
       "    <tr>\n",
       "      <th>2013-03-11 10:39:00</th>\n",
       "      <td>2.237826</td>\n",
       "    </tr>\n",
       "  </tbody>\n",
       "</table>\n",
       "<p>100000 rows × 1 columns</p>\n",
       "</div>"
      ],
      "text/plain": [
       "                            A\n",
       "2013-01-01 00:00:00  0.249002\n",
       "2013-01-01 00:01:00 -0.943064\n",
       "2013-01-01 00:02:00 -1.055686\n",
       "2013-01-01 00:03:00  0.205934\n",
       "2013-01-01 00:04:00  1.632362\n",
       "...                       ...\n",
       "2013-03-11 10:35:00 -1.256779\n",
       "2013-03-11 10:36:00 -0.694031\n",
       "2013-03-11 10:37:00 -0.530773\n",
       "2013-03-11 10:38:00  0.488829\n",
       "2013-03-11 10:39:00  2.237826\n",
       "\n",
       "[100000 rows x 1 columns]"
      ]
     },
     "execution_count": 84,
     "metadata": {},
     "output_type": "execute_result"
    }
   ],
   "source": [
    "dft = pd.DataFrame(\n",
    "    np.random.randn(100000, 1), \n",
    "    columns=[\"A\"],\n",
    "    index=pd.date_range(\"20130101\", periods=100000, freq=\"T\")\n",
    ") \n",
    "dft"
   ]
  },
  {
   "cell_type": "code",
   "execution_count": 85,
   "id": "e15de7c8",
   "metadata": {},
   "outputs": [
    {
     "data": {
      "text/html": [
       "<div>\n",
       "<style scoped>\n",
       "    .dataframe tbody tr th:only-of-type {\n",
       "        vertical-align: middle;\n",
       "    }\n",
       "\n",
       "    .dataframe tbody tr th {\n",
       "        vertical-align: top;\n",
       "    }\n",
       "\n",
       "    .dataframe thead th {\n",
       "        text-align: right;\n",
       "    }\n",
       "</style>\n",
       "<table border=\"1\" class=\"dataframe\">\n",
       "  <thead>\n",
       "    <tr style=\"text-align: right;\">\n",
       "      <th></th>\n",
       "      <th>A</th>\n",
       "    </tr>\n",
       "  </thead>\n",
       "  <tbody>\n",
       "    <tr>\n",
       "      <th>2013-01-01 00:00:00</th>\n",
       "      <td>0.249002</td>\n",
       "    </tr>\n",
       "    <tr>\n",
       "      <th>2013-01-01 00:01:00</th>\n",
       "      <td>-0.943064</td>\n",
       "    </tr>\n",
       "    <tr>\n",
       "      <th>2013-01-01 00:02:00</th>\n",
       "      <td>-1.055686</td>\n",
       "    </tr>\n",
       "    <tr>\n",
       "      <th>2013-01-01 00:03:00</th>\n",
       "      <td>0.205934</td>\n",
       "    </tr>\n",
       "    <tr>\n",
       "      <th>2013-01-01 00:04:00</th>\n",
       "      <td>1.632362</td>\n",
       "    </tr>\n",
       "    <tr>\n",
       "      <th>...</th>\n",
       "      <td>...</td>\n",
       "    </tr>\n",
       "    <tr>\n",
       "      <th>2013-03-11 10:35:00</th>\n",
       "      <td>-1.256779</td>\n",
       "    </tr>\n",
       "    <tr>\n",
       "      <th>2013-03-11 10:36:00</th>\n",
       "      <td>-0.694031</td>\n",
       "    </tr>\n",
       "    <tr>\n",
       "      <th>2013-03-11 10:37:00</th>\n",
       "      <td>-0.530773</td>\n",
       "    </tr>\n",
       "    <tr>\n",
       "      <th>2013-03-11 10:38:00</th>\n",
       "      <td>0.488829</td>\n",
       "    </tr>\n",
       "    <tr>\n",
       "      <th>2013-03-11 10:39:00</th>\n",
       "      <td>2.237826</td>\n",
       "    </tr>\n",
       "  </tbody>\n",
       "</table>\n",
       "<p>100000 rows × 1 columns</p>\n",
       "</div>"
      ],
      "text/plain": [
       "                            A\n",
       "2013-01-01 00:00:00  0.249002\n",
       "2013-01-01 00:01:00 -0.943064\n",
       "2013-01-01 00:02:00 -1.055686\n",
       "2013-01-01 00:03:00  0.205934\n",
       "2013-01-01 00:04:00  1.632362\n",
       "...                       ...\n",
       "2013-03-11 10:35:00 -1.256779\n",
       "2013-03-11 10:36:00 -0.694031\n",
       "2013-03-11 10:37:00 -0.530773\n",
       "2013-03-11 10:38:00  0.488829\n",
       "2013-03-11 10:39:00  2.237826\n",
       "\n",
       "[100000 rows x 1 columns]"
      ]
     },
     "execution_count": 85,
     "metadata": {},
     "output_type": "execute_result"
    }
   ],
   "source": [
    "dft.loc[\"2013\"]"
   ]
  },
  {
   "cell_type": "markdown",
   "id": "4a9aa1d0",
   "metadata": {},
   "source": [
    "This starts on the very first time in the month, and includes the last\n",
    "date and time for the month:"
   ]
  },
  {
   "cell_type": "code",
   "execution_count": 86,
   "id": "7ddc2c1c",
   "metadata": {},
   "outputs": [
    {
     "data": {
      "text/html": [
       "<div>\n",
       "<style scoped>\n",
       "    .dataframe tbody tr th:only-of-type {\n",
       "        vertical-align: middle;\n",
       "    }\n",
       "\n",
       "    .dataframe tbody tr th {\n",
       "        vertical-align: top;\n",
       "    }\n",
       "\n",
       "    .dataframe thead th {\n",
       "        text-align: right;\n",
       "    }\n",
       "</style>\n",
       "<table border=\"1\" class=\"dataframe\">\n",
       "  <thead>\n",
       "    <tr style=\"text-align: right;\">\n",
       "      <th></th>\n",
       "      <th>A</th>\n",
       "    </tr>\n",
       "  </thead>\n",
       "  <tbody>\n",
       "    <tr>\n",
       "      <th>2013-01-01 00:00:00</th>\n",
       "      <td>0.249002</td>\n",
       "    </tr>\n",
       "    <tr>\n",
       "      <th>2013-01-01 00:01:00</th>\n",
       "      <td>-0.943064</td>\n",
       "    </tr>\n",
       "    <tr>\n",
       "      <th>2013-01-01 00:02:00</th>\n",
       "      <td>-1.055686</td>\n",
       "    </tr>\n",
       "    <tr>\n",
       "      <th>2013-01-01 00:03:00</th>\n",
       "      <td>0.205934</td>\n",
       "    </tr>\n",
       "    <tr>\n",
       "      <th>2013-01-01 00:04:00</th>\n",
       "      <td>1.632362</td>\n",
       "    </tr>\n",
       "    <tr>\n",
       "      <th>...</th>\n",
       "      <td>...</td>\n",
       "    </tr>\n",
       "    <tr>\n",
       "      <th>2013-02-28 23:55:00</th>\n",
       "      <td>0.583118</td>\n",
       "    </tr>\n",
       "    <tr>\n",
       "      <th>2013-02-28 23:56:00</th>\n",
       "      <td>1.067548</td>\n",
       "    </tr>\n",
       "    <tr>\n",
       "      <th>2013-02-28 23:57:00</th>\n",
       "      <td>0.327690</td>\n",
       "    </tr>\n",
       "    <tr>\n",
       "      <th>2013-02-28 23:58:00</th>\n",
       "      <td>0.133064</td>\n",
       "    </tr>\n",
       "    <tr>\n",
       "      <th>2013-02-28 23:59:00</th>\n",
       "      <td>-1.077162</td>\n",
       "    </tr>\n",
       "  </tbody>\n",
       "</table>\n",
       "<p>84960 rows × 1 columns</p>\n",
       "</div>"
      ],
      "text/plain": [
       "                            A\n",
       "2013-01-01 00:00:00  0.249002\n",
       "2013-01-01 00:01:00 -0.943064\n",
       "2013-01-01 00:02:00 -1.055686\n",
       "2013-01-01 00:03:00  0.205934\n",
       "2013-01-01 00:04:00  1.632362\n",
       "...                       ...\n",
       "2013-02-28 23:55:00  0.583118\n",
       "2013-02-28 23:56:00  1.067548\n",
       "2013-02-28 23:57:00  0.327690\n",
       "2013-02-28 23:58:00  0.133064\n",
       "2013-02-28 23:59:00 -1.077162\n",
       "\n",
       "[84960 rows x 1 columns]"
      ]
     },
     "execution_count": 86,
     "metadata": {},
     "output_type": "execute_result"
    }
   ],
   "source": [
    "dft[\"2013-1\":\"2013-2\"]"
   ]
  },
  {
   "cell_type": "markdown",
   "id": "fa13dc3b",
   "metadata": {},
   "source": [
    "This specifies a stop time **that includes all of the times on the last\n",
    "day**:"
   ]
  },
  {
   "cell_type": "code",
   "execution_count": 87,
   "id": "a27c130f",
   "metadata": {},
   "outputs": [
    {
     "data": {
      "text/html": [
       "<div>\n",
       "<style scoped>\n",
       "    .dataframe tbody tr th:only-of-type {\n",
       "        vertical-align: middle;\n",
       "    }\n",
       "\n",
       "    .dataframe tbody tr th {\n",
       "        vertical-align: top;\n",
       "    }\n",
       "\n",
       "    .dataframe thead th {\n",
       "        text-align: right;\n",
       "    }\n",
       "</style>\n",
       "<table border=\"1\" class=\"dataframe\">\n",
       "  <thead>\n",
       "    <tr style=\"text-align: right;\">\n",
       "      <th></th>\n",
       "      <th>A</th>\n",
       "    </tr>\n",
       "  </thead>\n",
       "  <tbody>\n",
       "    <tr>\n",
       "      <th>2013-01-01 00:00:00</th>\n",
       "      <td>0.249002</td>\n",
       "    </tr>\n",
       "    <tr>\n",
       "      <th>2013-01-01 00:01:00</th>\n",
       "      <td>-0.943064</td>\n",
       "    </tr>\n",
       "    <tr>\n",
       "      <th>2013-01-01 00:02:00</th>\n",
       "      <td>-1.055686</td>\n",
       "    </tr>\n",
       "    <tr>\n",
       "      <th>2013-01-01 00:03:00</th>\n",
       "      <td>0.205934</td>\n",
       "    </tr>\n",
       "    <tr>\n",
       "      <th>2013-01-01 00:04:00</th>\n",
       "      <td>1.632362</td>\n",
       "    </tr>\n",
       "    <tr>\n",
       "      <th>...</th>\n",
       "      <td>...</td>\n",
       "    </tr>\n",
       "    <tr>\n",
       "      <th>2013-02-28 23:55:00</th>\n",
       "      <td>0.583118</td>\n",
       "    </tr>\n",
       "    <tr>\n",
       "      <th>2013-02-28 23:56:00</th>\n",
       "      <td>1.067548</td>\n",
       "    </tr>\n",
       "    <tr>\n",
       "      <th>2013-02-28 23:57:00</th>\n",
       "      <td>0.327690</td>\n",
       "    </tr>\n",
       "    <tr>\n",
       "      <th>2013-02-28 23:58:00</th>\n",
       "      <td>0.133064</td>\n",
       "    </tr>\n",
       "    <tr>\n",
       "      <th>2013-02-28 23:59:00</th>\n",
       "      <td>-1.077162</td>\n",
       "    </tr>\n",
       "  </tbody>\n",
       "</table>\n",
       "<p>84960 rows × 1 columns</p>\n",
       "</div>"
      ],
      "text/plain": [
       "                            A\n",
       "2013-01-01 00:00:00  0.249002\n",
       "2013-01-01 00:01:00 -0.943064\n",
       "2013-01-01 00:02:00 -1.055686\n",
       "2013-01-01 00:03:00  0.205934\n",
       "2013-01-01 00:04:00  1.632362\n",
       "...                       ...\n",
       "2013-02-28 23:55:00  0.583118\n",
       "2013-02-28 23:56:00  1.067548\n",
       "2013-02-28 23:57:00  0.327690\n",
       "2013-02-28 23:58:00  0.133064\n",
       "2013-02-28 23:59:00 -1.077162\n",
       "\n",
       "[84960 rows x 1 columns]"
      ]
     },
     "execution_count": 87,
     "metadata": {},
     "output_type": "execute_result"
    }
   ],
   "source": [
    "dft[\"2013-1\":\"2013-2-28\"]"
   ]
  },
  {
   "cell_type": "markdown",
   "id": "dd7f1076",
   "metadata": {},
   "source": [
    "This specifies an **exact** stop time (and is not the same as the\n",
    "above):"
   ]
  },
  {
   "cell_type": "code",
   "execution_count": 88,
   "id": "464a1f89",
   "metadata": {},
   "outputs": [
    {
     "data": {
      "text/html": [
       "<div>\n",
       "<style scoped>\n",
       "    .dataframe tbody tr th:only-of-type {\n",
       "        vertical-align: middle;\n",
       "    }\n",
       "\n",
       "    .dataframe tbody tr th {\n",
       "        vertical-align: top;\n",
       "    }\n",
       "\n",
       "    .dataframe thead th {\n",
       "        text-align: right;\n",
       "    }\n",
       "</style>\n",
       "<table border=\"1\" class=\"dataframe\">\n",
       "  <thead>\n",
       "    <tr style=\"text-align: right;\">\n",
       "      <th></th>\n",
       "      <th>A</th>\n",
       "    </tr>\n",
       "  </thead>\n",
       "  <tbody>\n",
       "    <tr>\n",
       "      <th>2013-01-01 00:00:00</th>\n",
       "      <td>0.249002</td>\n",
       "    </tr>\n",
       "    <tr>\n",
       "      <th>2013-01-01 00:01:00</th>\n",
       "      <td>-0.943064</td>\n",
       "    </tr>\n",
       "    <tr>\n",
       "      <th>2013-01-01 00:02:00</th>\n",
       "      <td>-1.055686</td>\n",
       "    </tr>\n",
       "    <tr>\n",
       "      <th>2013-01-01 00:03:00</th>\n",
       "      <td>0.205934</td>\n",
       "    </tr>\n",
       "    <tr>\n",
       "      <th>2013-01-01 00:04:00</th>\n",
       "      <td>1.632362</td>\n",
       "    </tr>\n",
       "    <tr>\n",
       "      <th>...</th>\n",
       "      <td>...</td>\n",
       "    </tr>\n",
       "    <tr>\n",
       "      <th>2013-02-27 23:56:00</th>\n",
       "      <td>0.521215</td>\n",
       "    </tr>\n",
       "    <tr>\n",
       "      <th>2013-02-27 23:57:00</th>\n",
       "      <td>1.067216</td>\n",
       "    </tr>\n",
       "    <tr>\n",
       "      <th>2013-02-27 23:58:00</th>\n",
       "      <td>0.795756</td>\n",
       "    </tr>\n",
       "    <tr>\n",
       "      <th>2013-02-27 23:59:00</th>\n",
       "      <td>-1.387336</td>\n",
       "    </tr>\n",
       "    <tr>\n",
       "      <th>2013-02-28 00:00:00</th>\n",
       "      <td>0.357076</td>\n",
       "    </tr>\n",
       "  </tbody>\n",
       "</table>\n",
       "<p>83521 rows × 1 columns</p>\n",
       "</div>"
      ],
      "text/plain": [
       "                            A\n",
       "2013-01-01 00:00:00  0.249002\n",
       "2013-01-01 00:01:00 -0.943064\n",
       "2013-01-01 00:02:00 -1.055686\n",
       "2013-01-01 00:03:00  0.205934\n",
       "2013-01-01 00:04:00  1.632362\n",
       "...                       ...\n",
       "2013-02-27 23:56:00  0.521215\n",
       "2013-02-27 23:57:00  1.067216\n",
       "2013-02-27 23:58:00  0.795756\n",
       "2013-02-27 23:59:00 -1.387336\n",
       "2013-02-28 00:00:00  0.357076\n",
       "\n",
       "[83521 rows x 1 columns]"
      ]
     },
     "execution_count": 88,
     "metadata": {},
     "output_type": "execute_result"
    }
   ],
   "source": [
    "dft[\"2013-1\":\"2013-2-28 00:00:00\"]"
   ]
  },
  {
   "cell_type": "markdown",
   "id": "384cb20c",
   "metadata": {},
   "source": [
    "We are stopping on the included end-point as it is part of the index:"
   ]
  },
  {
   "cell_type": "code",
   "execution_count": 89,
   "id": "fd4c468c",
   "metadata": {},
   "outputs": [
    {
     "data": {
      "text/html": [
       "<div>\n",
       "<style scoped>\n",
       "    .dataframe tbody tr th:only-of-type {\n",
       "        vertical-align: middle;\n",
       "    }\n",
       "\n",
       "    .dataframe tbody tr th {\n",
       "        vertical-align: top;\n",
       "    }\n",
       "\n",
       "    .dataframe thead th {\n",
       "        text-align: right;\n",
       "    }\n",
       "</style>\n",
       "<table border=\"1\" class=\"dataframe\">\n",
       "  <thead>\n",
       "    <tr style=\"text-align: right;\">\n",
       "      <th></th>\n",
       "      <th>A</th>\n",
       "    </tr>\n",
       "  </thead>\n",
       "  <tbody>\n",
       "    <tr>\n",
       "      <th>2013-01-15 00:00:00</th>\n",
       "      <td>-1.012363</td>\n",
       "    </tr>\n",
       "    <tr>\n",
       "      <th>2013-01-15 00:01:00</th>\n",
       "      <td>-1.290349</td>\n",
       "    </tr>\n",
       "    <tr>\n",
       "      <th>2013-01-15 00:02:00</th>\n",
       "      <td>-0.613637</td>\n",
       "    </tr>\n",
       "    <tr>\n",
       "      <th>2013-01-15 00:03:00</th>\n",
       "      <td>-0.069389</td>\n",
       "    </tr>\n",
       "    <tr>\n",
       "      <th>2013-01-15 00:04:00</th>\n",
       "      <td>-1.104575</td>\n",
       "    </tr>\n",
       "    <tr>\n",
       "      <th>...</th>\n",
       "      <td>...</td>\n",
       "    </tr>\n",
       "    <tr>\n",
       "      <th>2013-01-15 12:26:00</th>\n",
       "      <td>-0.463113</td>\n",
       "    </tr>\n",
       "    <tr>\n",
       "      <th>2013-01-15 12:27:00</th>\n",
       "      <td>-1.390793</td>\n",
       "    </tr>\n",
       "    <tr>\n",
       "      <th>2013-01-15 12:28:00</th>\n",
       "      <td>-0.365004</td>\n",
       "    </tr>\n",
       "    <tr>\n",
       "      <th>2013-01-15 12:29:00</th>\n",
       "      <td>-0.261519</td>\n",
       "    </tr>\n",
       "    <tr>\n",
       "      <th>2013-01-15 12:30:00</th>\n",
       "      <td>0.188584</td>\n",
       "    </tr>\n",
       "  </tbody>\n",
       "</table>\n",
       "<p>751 rows × 1 columns</p>\n",
       "</div>"
      ],
      "text/plain": [
       "                            A\n",
       "2013-01-15 00:00:00 -1.012363\n",
       "2013-01-15 00:01:00 -1.290349\n",
       "2013-01-15 00:02:00 -0.613637\n",
       "2013-01-15 00:03:00 -0.069389\n",
       "2013-01-15 00:04:00 -1.104575\n",
       "...                       ...\n",
       "2013-01-15 12:26:00 -0.463113\n",
       "2013-01-15 12:27:00 -1.390793\n",
       "2013-01-15 12:28:00 -0.365004\n",
       "2013-01-15 12:29:00 -0.261519\n",
       "2013-01-15 12:30:00  0.188584\n",
       "\n",
       "[751 rows x 1 columns]"
      ]
     },
     "execution_count": 89,
     "metadata": {},
     "output_type": "execute_result"
    }
   ],
   "source": [
    "dft[\"2013-1-15\":\"2013-1-15 12:30:00\"]"
   ]
  },
  {
   "cell_type": "markdown",
   "id": "a3d7443b",
   "metadata": {},
   "source": [
    "`DatetimeIndex` partial string indexing also works on a `DataFrame` with\n",
    "a `MultiIndex` :"
   ]
  },
  {
   "cell_type": "code",
   "execution_count": 90,
   "id": "5e8d4de8",
   "metadata": {},
   "outputs": [
    {
     "data": {
      "text/html": [
       "<div>\n",
       "<style scoped>\n",
       "    .dataframe tbody tr th:only-of-type {\n",
       "        vertical-align: middle;\n",
       "    }\n",
       "\n",
       "    .dataframe tbody tr th {\n",
       "        vertical-align: top;\n",
       "    }\n",
       "\n",
       "    .dataframe thead th {\n",
       "        text-align: right;\n",
       "    }\n",
       "</style>\n",
       "<table border=\"1\" class=\"dataframe\">\n",
       "  <thead>\n",
       "    <tr style=\"text-align: right;\">\n",
       "      <th></th>\n",
       "      <th></th>\n",
       "      <th>A</th>\n",
       "    </tr>\n",
       "  </thead>\n",
       "  <tbody>\n",
       "    <tr>\n",
       "      <th rowspan=\"2\" valign=\"top\">2013-01-01 00:00:00</th>\n",
       "      <th>a</th>\n",
       "      <td>1.513433</td>\n",
       "    </tr>\n",
       "    <tr>\n",
       "      <th>b</th>\n",
       "      <td>0.457619</td>\n",
       "    </tr>\n",
       "    <tr>\n",
       "      <th rowspan=\"2\" valign=\"top\">2013-01-01 12:00:00</th>\n",
       "      <th>a</th>\n",
       "      <td>0.162606</td>\n",
       "    </tr>\n",
       "    <tr>\n",
       "      <th>b</th>\n",
       "      <td>-1.022470</td>\n",
       "    </tr>\n",
       "    <tr>\n",
       "      <th rowspan=\"2\" valign=\"top\">2013-01-02 00:00:00</th>\n",
       "      <th>a</th>\n",
       "      <td>-0.339813</td>\n",
       "    </tr>\n",
       "    <tr>\n",
       "      <th>b</th>\n",
       "      <td>-0.302908</td>\n",
       "    </tr>\n",
       "    <tr>\n",
       "      <th rowspan=\"2\" valign=\"top\">2013-01-02 12:00:00</th>\n",
       "      <th>a</th>\n",
       "      <td>0.038389</td>\n",
       "    </tr>\n",
       "    <tr>\n",
       "      <th>b</th>\n",
       "      <td>-0.297076</td>\n",
       "    </tr>\n",
       "    <tr>\n",
       "      <th rowspan=\"2\" valign=\"top\">2013-01-03 00:00:00</th>\n",
       "      <th>a</th>\n",
       "      <td>1.260337</td>\n",
       "    </tr>\n",
       "    <tr>\n",
       "      <th>b</th>\n",
       "      <td>-0.931001</td>\n",
       "    </tr>\n",
       "    <tr>\n",
       "      <th rowspan=\"2\" valign=\"top\">2013-01-03 12:00:00</th>\n",
       "      <th>a</th>\n",
       "      <td>-1.072755</td>\n",
       "    </tr>\n",
       "    <tr>\n",
       "      <th>b</th>\n",
       "      <td>-0.519473</td>\n",
       "    </tr>\n",
       "    <tr>\n",
       "      <th rowspan=\"2\" valign=\"top\">2013-01-04 00:00:00</th>\n",
       "      <th>a</th>\n",
       "      <td>0.427307</td>\n",
       "    </tr>\n",
       "    <tr>\n",
       "      <th>b</th>\n",
       "      <td>-1.238217</td>\n",
       "    </tr>\n",
       "    <tr>\n",
       "      <th rowspan=\"2\" valign=\"top\">2013-01-04 12:00:00</th>\n",
       "      <th>a</th>\n",
       "      <td>-2.047481</td>\n",
       "    </tr>\n",
       "    <tr>\n",
       "      <th>b</th>\n",
       "      <td>0.615312</td>\n",
       "    </tr>\n",
       "    <tr>\n",
       "      <th rowspan=\"2\" valign=\"top\">2013-01-05 00:00:00</th>\n",
       "      <th>a</th>\n",
       "      <td>-2.254468</td>\n",
       "    </tr>\n",
       "    <tr>\n",
       "      <th>b</th>\n",
       "      <td>-0.214370</td>\n",
       "    </tr>\n",
       "    <tr>\n",
       "      <th rowspan=\"2\" valign=\"top\">2013-01-05 12:00:00</th>\n",
       "      <th>a</th>\n",
       "      <td>-0.019818</td>\n",
       "    </tr>\n",
       "    <tr>\n",
       "      <th>b</th>\n",
       "      <td>0.633096</td>\n",
       "    </tr>\n",
       "  </tbody>\n",
       "</table>\n",
       "</div>"
      ],
      "text/plain": [
       "                              A\n",
       "2013-01-01 00:00:00 a  1.513433\n",
       "                    b  0.457619\n",
       "2013-01-01 12:00:00 a  0.162606\n",
       "                    b -1.022470\n",
       "2013-01-02 00:00:00 a -0.339813\n",
       "                    b -0.302908\n",
       "2013-01-02 12:00:00 a  0.038389\n",
       "                    b -0.297076\n",
       "2013-01-03 00:00:00 a  1.260337\n",
       "                    b -0.931001\n",
       "2013-01-03 12:00:00 a -1.072755\n",
       "                    b -0.519473\n",
       "2013-01-04 00:00:00 a  0.427307\n",
       "                    b -1.238217\n",
       "2013-01-04 12:00:00 a -2.047481\n",
       "                    b  0.615312\n",
       "2013-01-05 00:00:00 a -2.254468\n",
       "                    b -0.214370\n",
       "2013-01-05 12:00:00 a -0.019818\n",
       "                    b  0.633096"
      ]
     },
     "execution_count": 90,
     "metadata": {},
     "output_type": "execute_result"
    }
   ],
   "source": [
    "dft2 = pd.DataFrame(\n",
    "    np.random.randn(20, 1), \n",
    "    columns=[\"A\"],\n",
    "    index=pd.MultiIndex.from_product(\n",
    "        [\n",
    "            pd.date_range(\"20130101\", periods=10, freq=\"12H\"), \n",
    "            [\"a\", \"b\"]\n",
    "        ] \n",
    "    )\n",
    ") \n",
    "dft2 "
   ]
  },
  {
   "cell_type": "code",
   "execution_count": 92,
   "id": "f4378f24",
   "metadata": {},
   "outputs": [
    {
     "data": {
      "text/html": [
       "<div>\n",
       "<style scoped>\n",
       "    .dataframe tbody tr th:only-of-type {\n",
       "        vertical-align: middle;\n",
       "    }\n",
       "\n",
       "    .dataframe tbody tr th {\n",
       "        vertical-align: top;\n",
       "    }\n",
       "\n",
       "    .dataframe thead th {\n",
       "        text-align: right;\n",
       "    }\n",
       "</style>\n",
       "<table border=\"1\" class=\"dataframe\">\n",
       "  <thead>\n",
       "    <tr style=\"text-align: right;\">\n",
       "      <th></th>\n",
       "      <th></th>\n",
       "      <th>A</th>\n",
       "    </tr>\n",
       "  </thead>\n",
       "  <tbody>\n",
       "    <tr>\n",
       "      <th rowspan=\"2\" valign=\"top\">a</th>\n",
       "      <th>2013-01-05 00:00:00</th>\n",
       "      <td>-2.254468</td>\n",
       "    </tr>\n",
       "    <tr>\n",
       "      <th>2013-01-05 12:00:00</th>\n",
       "      <td>-0.019818</td>\n",
       "    </tr>\n",
       "    <tr>\n",
       "      <th rowspan=\"2\" valign=\"top\">b</th>\n",
       "      <th>2013-01-05 00:00:00</th>\n",
       "      <td>-0.214370</td>\n",
       "    </tr>\n",
       "    <tr>\n",
       "      <th>2013-01-05 12:00:00</th>\n",
       "      <td>0.633096</td>\n",
       "    </tr>\n",
       "  </tbody>\n",
       "</table>\n",
       "</div>"
      ],
      "text/plain": [
       "                              A\n",
       "a 2013-01-05 00:00:00 -2.254468\n",
       "  2013-01-05 12:00:00 -0.019818\n",
       "b 2013-01-05 00:00:00 -0.214370\n",
       "  2013-01-05 12:00:00  0.633096"
      ]
     },
     "execution_count": 92,
     "metadata": {},
     "output_type": "execute_result"
    }
   ],
   "source": [
    "dft2.loc[\"2013-01-05\"] \n",
    "idx = pd.IndexSlice \n",
    "dft2 = dft2.swaplevel(0, 1).sort_index() \n",
    "dft2.loc[idx[:, \"2013-01-05\"], :]"
   ]
  },
  {
   "cell_type": "code",
   "execution_count": null,
   "id": "ac4c8b33",
   "metadata": {},
   "outputs": [],
   "source": [
    "Slicing with string indexing also honors UTC offset."
   ]
  },
  {
   "cell_type": "code",
   "execution_count": 93,
   "id": "3a2aad66",
   "metadata": {},
   "outputs": [
    {
     "data": {
      "text/html": [
       "<div>\n",
       "<style scoped>\n",
       "    .dataframe tbody tr th:only-of-type {\n",
       "        vertical-align: middle;\n",
       "    }\n",
       "\n",
       "    .dataframe tbody tr th {\n",
       "        vertical-align: top;\n",
       "    }\n",
       "\n",
       "    .dataframe thead th {\n",
       "        text-align: right;\n",
       "    }\n",
       "</style>\n",
       "<table border=\"1\" class=\"dataframe\">\n",
       "  <thead>\n",
       "    <tr style=\"text-align: right;\">\n",
       "      <th></th>\n",
       "      <th>0</th>\n",
       "    </tr>\n",
       "  </thead>\n",
       "  <tbody>\n",
       "    <tr>\n",
       "      <th>2019-01-01 00:00:00-08:00</th>\n",
       "      <td>0</td>\n",
       "    </tr>\n",
       "  </tbody>\n",
       "</table>\n",
       "</div>"
      ],
      "text/plain": [
       "                           0\n",
       "2019-01-01 00:00:00-08:00  0"
      ]
     },
     "execution_count": 93,
     "metadata": {},
     "output_type": "execute_result"
    }
   ],
   "source": [
    "df = pd.DataFrame(\n",
    "    [0], \n",
    "    index=pd.DatetimeIndex([\"2019-01-01\"], tz=\"US/Pacific\")\n",
    ") \n",
    "df "
   ]
  },
  {
   "cell_type": "code",
   "execution_count": 94,
   "id": "3c5939db",
   "metadata": {},
   "outputs": [
    {
     "data": {
      "text/html": [
       "<div>\n",
       "<style scoped>\n",
       "    .dataframe tbody tr th:only-of-type {\n",
       "        vertical-align: middle;\n",
       "    }\n",
       "\n",
       "    .dataframe tbody tr th {\n",
       "        vertical-align: top;\n",
       "    }\n",
       "\n",
       "    .dataframe thead th {\n",
       "        text-align: right;\n",
       "    }\n",
       "</style>\n",
       "<table border=\"1\" class=\"dataframe\">\n",
       "  <thead>\n",
       "    <tr style=\"text-align: right;\">\n",
       "      <th></th>\n",
       "      <th>0</th>\n",
       "    </tr>\n",
       "  </thead>\n",
       "  <tbody>\n",
       "    <tr>\n",
       "      <th>2019-01-01 00:00:00-08:00</th>\n",
       "      <td>0</td>\n",
       "    </tr>\n",
       "  </tbody>\n",
       "</table>\n",
       "</div>"
      ],
      "text/plain": [
       "                           0\n",
       "2019-01-01 00:00:00-08:00  0"
      ]
     },
     "execution_count": 94,
     "metadata": {},
     "output_type": "execute_result"
    }
   ],
   "source": [
    "df[\"2019-01-01 12:00:00+04:00\":\"2019-01-01 13:00:00+04:00\"]"
   ]
  },
  {
   "cell_type": "markdown",
   "id": "b74dba3c",
   "metadata": {},
   "source": [
    "### Slice vs. exact match\n",
    "\n",
    "The same string used as an indexing parameter can be treated either as a\n",
    "slice or as an exact match depending on the resolution of the index. If\n",
    "the string is less accurate than the index, it will be treated as a\n",
    "slice, otherwise as an exact match.\n",
    "\n",
    "Consider a `Series` object with a minute resolution index:"
   ]
  },
  {
   "cell_type": "code",
   "execution_count": 95,
   "id": "a1f925ec",
   "metadata": {},
   "outputs": [
    {
     "data": {
      "text/plain": [
       "'minute'"
      ]
     },
     "execution_count": 95,
     "metadata": {},
     "output_type": "execute_result"
    }
   ],
   "source": [
    "series_minute = pd.Series(\n",
    "    [1, 2, 3], \n",
    "    pd.DatetimeIndex( \n",
    "        [\"2011-12-31 23:59:00\", \"2012-01-01 00:00:00\", \"2012-01-01 00:02:00\"]\n",
    "    ),\n",
    ") \n",
    "series_minute.index.resolution"
   ]
  },
  {
   "cell_type": "markdown",
   "id": "6b7f6cd6",
   "metadata": {},
   "source": [
    "A timestamp string less accurate than a minute gives a `Series` object."
   ]
  },
  {
   "cell_type": "code",
   "execution_count": 96,
   "id": "cbfaeff3",
   "metadata": {},
   "outputs": [
    {
     "data": {
      "text/plain": [
       "2011-12-31 23:59:00    1\n",
       "dtype: int64"
      ]
     },
     "execution_count": 96,
     "metadata": {},
     "output_type": "execute_result"
    }
   ],
   "source": [
    "series_minute[\"2011-12-31 23\"]"
   ]
  },
  {
   "cell_type": "markdown",
   "id": "c11ed740",
   "metadata": {},
   "source": [
    "A timestamp string with minute resolution (or more accurate), gives a\n",
    "scalar instead, i.e. it is not casted to a slice."
   ]
  },
  {
   "cell_type": "code",
   "execution_count": 97,
   "id": "186ed688",
   "metadata": {},
   "outputs": [
    {
     "data": {
      "text/plain": [
       "1"
      ]
     },
     "execution_count": 97,
     "metadata": {},
     "output_type": "execute_result"
    }
   ],
   "source": [
    "series_minute[\"2011-12-31 23:59\"] "
   ]
  },
  {
   "cell_type": "code",
   "execution_count": 98,
   "id": "2c79e11b",
   "metadata": {},
   "outputs": [
    {
     "data": {
      "text/plain": [
       "1"
      ]
     },
     "execution_count": 98,
     "metadata": {},
     "output_type": "execute_result"
    }
   ],
   "source": [
    "series_minute[\"2011-12-31 23:59:00\"]"
   ]
  },
  {
   "cell_type": "markdown",
   "id": "84a074ea",
   "metadata": {},
   "source": [
    "If index resolution is second, then the minute-accurate timestamp gives\n",
    "a `Series`."
   ]
  },
  {
   "cell_type": "code",
   "execution_count": 99,
   "id": "9b214315",
   "metadata": {},
   "outputs": [
    {
     "name": "stdout",
     "output_type": "stream",
     "text": [
      "second\n",
      "2011-12-31 23:59:59    1\n",
      "dtype: int64\n"
     ]
    }
   ],
   "source": [
    "series_second = pd.Series(\n",
    "    [1, 2, 3], \n",
    "    pd.DatetimeIndex(\n",
    "        [\"2011-12-31 23:59:59\", \"2012-01-01 00:00:00\", \"2012-01-01 00:00:01\"] \n",
    "    )\n",
    ") \n",
    "\n",
    "print(series_second.index.resolution)\n",
    "print(series_second[\"2011-12-31 23:59\"])"
   ]
  },
  {
   "cell_type": "markdown",
   "id": "ab1837d1",
   "metadata": {},
   "source": [
    "If the timestamp string is treated as a slice, it can be used to index\n",
    "`DataFrame` with `.loc[]` as well."
   ]
  },
  {
   "cell_type": "code",
   "execution_count": 100,
   "id": "f24b525c",
   "metadata": {},
   "outputs": [
    {
     "data": {
      "text/html": [
       "<div>\n",
       "<style scoped>\n",
       "    .dataframe tbody tr th:only-of-type {\n",
       "        vertical-align: middle;\n",
       "    }\n",
       "\n",
       "    .dataframe tbody tr th {\n",
       "        vertical-align: top;\n",
       "    }\n",
       "\n",
       "    .dataframe thead th {\n",
       "        text-align: right;\n",
       "    }\n",
       "</style>\n",
       "<table border=\"1\" class=\"dataframe\">\n",
       "  <thead>\n",
       "    <tr style=\"text-align: right;\">\n",
       "      <th></th>\n",
       "      <th>a</th>\n",
       "      <th>b</th>\n",
       "    </tr>\n",
       "  </thead>\n",
       "  <tbody>\n",
       "    <tr>\n",
       "      <th>2011-12-31 23:59:00</th>\n",
       "      <td>1</td>\n",
       "      <td>4</td>\n",
       "    </tr>\n",
       "  </tbody>\n",
       "</table>\n",
       "</div>"
      ],
      "text/plain": [
       "                     a  b\n",
       "2011-12-31 23:59:00  1  4"
      ]
     },
     "execution_count": 100,
     "metadata": {},
     "output_type": "execute_result"
    }
   ],
   "source": [
    "dft_minute = pd.DataFrame(\n",
    "    {\n",
    "        \"a\": [1, 2, 3], \n",
    "        \"b\": [4, 5, 6]\n",
    "    }, \n",
    "    index=series_minute.index\n",
    ") \n",
    "\n",
    "dft_minute.loc[\"2011-12-31 23\"]"
   ]
  },
  {
   "cell_type": "markdown",
   "id": "82cb518d",
   "metadata": {},
   "source": [
    "*Warning*\n",
    "\n",
    "However, if the string is treated as an exact match, the selection in\n",
    "`DataFrame`'s `[]` will be column-wise and not row-wise, see\n",
    "`Indexing Basics <indexing.basics>`. For example\n",
    "`dft_minute['2011-12-31 23:59']` will raise `KeyError` as\n",
    "`'2012-12-31 23:59'` has the same resolution as the index and there is\n",
    "no column with such name:\n",
    "\n",
    "To *always* have unambiguous selection, whether the row is treated as a\n",
    "slice or a single selection, use `.loc`.\n"
   ]
  },
  {
   "cell_type": "code",
   "execution_count": 101,
   "id": "cc2195c7",
   "metadata": {},
   "outputs": [
    {
     "data": {
      "text/plain": [
       "a    1\n",
       "b    4\n",
       "Name: 2011-12-31 23:59:00, dtype: int64"
      ]
     },
     "execution_count": 101,
     "metadata": {},
     "output_type": "execute_result"
    }
   ],
   "source": [
    "dft_minute.loc[\"2011-12-31 23:59\"]"
   ]
  },
  {
   "cell_type": "markdown",
   "id": "8c803f07",
   "metadata": {},
   "source": [
    "Note also that `DatetimeIndex` resolution cannot be less precise than\n",
    "day."
   ]
  },
  {
   "cell_type": "code",
   "execution_count": 102,
   "id": "eb35ad7d",
   "metadata": {},
   "outputs": [
    {
     "name": "stdout",
     "output_type": "stream",
     "text": [
      "day\n"
     ]
    },
    {
     "data": {
      "text/plain": [
       "2011-12-01    1\n",
       "dtype: int64"
      ]
     },
     "execution_count": 102,
     "metadata": {},
     "output_type": "execute_result"
    }
   ],
   "source": [
    "series_monthly = pd.Series(\n",
    "    [1, 2, 3], \n",
    "    pd.DatetimeIndex([\"2011-12\", \"2012-01\", \"2012-02\"])\n",
    ") \n",
    "\n",
    "print(series_monthly.index.resolution) \n",
    "\n",
    "series_monthly[\"2011-12\"]"
   ]
  },
  {
   "cell_type": "markdown",
   "id": "93d8c78a",
   "metadata": {},
   "source": [
    "### Exact indexing\n",
    "\n",
    "As discussed in previous section, indexing a `DatetimeIndex` with a\n",
    "partial string depends on the \"accuracy\" of the period, in other words\n",
    "how specific the interval is in relation to the resolution of the index.\n",
    "In contrast, indexing with `Timestamp` or `datetime` objects is exact,\n",
    "because the objects have exact meaning. These also follow the semantics\n",
    "of *including both endpoints*.\n",
    "\n",
    "These `Timestamp` and `datetime` objects have exact `hours, minutes,`\n",
    "and `seconds`, even though they were not explicitly specified (they are\n",
    "`0`)."
   ]
  },
  {
   "cell_type": "code",
   "execution_count": 103,
   "id": "1435748a",
   "metadata": {},
   "outputs": [
    {
     "data": {
      "text/html": [
       "<div>\n",
       "<style scoped>\n",
       "    .dataframe tbody tr th:only-of-type {\n",
       "        vertical-align: middle;\n",
       "    }\n",
       "\n",
       "    .dataframe tbody tr th {\n",
       "        vertical-align: top;\n",
       "    }\n",
       "\n",
       "    .dataframe thead th {\n",
       "        text-align: right;\n",
       "    }\n",
       "</style>\n",
       "<table border=\"1\" class=\"dataframe\">\n",
       "  <thead>\n",
       "    <tr style=\"text-align: right;\">\n",
       "      <th></th>\n",
       "      <th>A</th>\n",
       "    </tr>\n",
       "  </thead>\n",
       "  <tbody>\n",
       "    <tr>\n",
       "      <th>2013-01-01 00:00:00</th>\n",
       "      <td>0.249002</td>\n",
       "    </tr>\n",
       "    <tr>\n",
       "      <th>2013-01-01 00:01:00</th>\n",
       "      <td>-0.943064</td>\n",
       "    </tr>\n",
       "    <tr>\n",
       "      <th>2013-01-01 00:02:00</th>\n",
       "      <td>-1.055686</td>\n",
       "    </tr>\n",
       "    <tr>\n",
       "      <th>2013-01-01 00:03:00</th>\n",
       "      <td>0.205934</td>\n",
       "    </tr>\n",
       "    <tr>\n",
       "      <th>2013-01-01 00:04:00</th>\n",
       "      <td>1.632362</td>\n",
       "    </tr>\n",
       "    <tr>\n",
       "      <th>...</th>\n",
       "      <td>...</td>\n",
       "    </tr>\n",
       "    <tr>\n",
       "      <th>2013-02-27 23:56:00</th>\n",
       "      <td>0.521215</td>\n",
       "    </tr>\n",
       "    <tr>\n",
       "      <th>2013-02-27 23:57:00</th>\n",
       "      <td>1.067216</td>\n",
       "    </tr>\n",
       "    <tr>\n",
       "      <th>2013-02-27 23:58:00</th>\n",
       "      <td>0.795756</td>\n",
       "    </tr>\n",
       "    <tr>\n",
       "      <th>2013-02-27 23:59:00</th>\n",
       "      <td>-1.387336</td>\n",
       "    </tr>\n",
       "    <tr>\n",
       "      <th>2013-02-28 00:00:00</th>\n",
       "      <td>0.357076</td>\n",
       "    </tr>\n",
       "  </tbody>\n",
       "</table>\n",
       "<p>83521 rows × 1 columns</p>\n",
       "</div>"
      ],
      "text/plain": [
       "                            A\n",
       "2013-01-01 00:00:00  0.249002\n",
       "2013-01-01 00:01:00 -0.943064\n",
       "2013-01-01 00:02:00 -1.055686\n",
       "2013-01-01 00:03:00  0.205934\n",
       "2013-01-01 00:04:00  1.632362\n",
       "...                       ...\n",
       "2013-02-27 23:56:00  0.521215\n",
       "2013-02-27 23:57:00  1.067216\n",
       "2013-02-27 23:58:00  0.795756\n",
       "2013-02-27 23:59:00 -1.387336\n",
       "2013-02-28 00:00:00  0.357076\n",
       "\n",
       "[83521 rows x 1 columns]"
      ]
     },
     "execution_count": 103,
     "metadata": {},
     "output_type": "execute_result"
    }
   ],
   "source": [
    "dft[datetime.datetime(2013, 1, 1): datetime.datetime(2013, 2, 28)]"
   ]
  },
  {
   "cell_type": "markdown",
   "id": "bd5638c0",
   "metadata": {},
   "source": [
    "With no defaults."
   ]
  },
  {
   "cell_type": "code",
   "execution_count": 104,
   "id": "252553ed",
   "metadata": {},
   "outputs": [
    {
     "data": {
      "text/html": [
       "<div>\n",
       "<style scoped>\n",
       "    .dataframe tbody tr th:only-of-type {\n",
       "        vertical-align: middle;\n",
       "    }\n",
       "\n",
       "    .dataframe tbody tr th {\n",
       "        vertical-align: top;\n",
       "    }\n",
       "\n",
       "    .dataframe thead th {\n",
       "        text-align: right;\n",
       "    }\n",
       "</style>\n",
       "<table border=\"1\" class=\"dataframe\">\n",
       "  <thead>\n",
       "    <tr style=\"text-align: right;\">\n",
       "      <th></th>\n",
       "      <th>A</th>\n",
       "    </tr>\n",
       "  </thead>\n",
       "  <tbody>\n",
       "    <tr>\n",
       "      <th>2013-01-01 10:12:00</th>\n",
       "      <td>0.076066</td>\n",
       "    </tr>\n",
       "    <tr>\n",
       "      <th>2013-01-01 10:13:00</th>\n",
       "      <td>0.047963</td>\n",
       "    </tr>\n",
       "    <tr>\n",
       "      <th>2013-01-01 10:14:00</th>\n",
       "      <td>-1.778599</td>\n",
       "    </tr>\n",
       "    <tr>\n",
       "      <th>2013-01-01 10:15:00</th>\n",
       "      <td>-1.041243</td>\n",
       "    </tr>\n",
       "    <tr>\n",
       "      <th>2013-01-01 10:16:00</th>\n",
       "      <td>0.312761</td>\n",
       "    </tr>\n",
       "    <tr>\n",
       "      <th>...</th>\n",
       "      <td>...</td>\n",
       "    </tr>\n",
       "    <tr>\n",
       "      <th>2013-02-28 10:08:00</th>\n",
       "      <td>-0.923967</td>\n",
       "    </tr>\n",
       "    <tr>\n",
       "      <th>2013-02-28 10:09:00</th>\n",
       "      <td>-0.608295</td>\n",
       "    </tr>\n",
       "    <tr>\n",
       "      <th>2013-02-28 10:10:00</th>\n",
       "      <td>0.901696</td>\n",
       "    </tr>\n",
       "    <tr>\n",
       "      <th>2013-02-28 10:11:00</th>\n",
       "      <td>1.907212</td>\n",
       "    </tr>\n",
       "    <tr>\n",
       "      <th>2013-02-28 10:12:00</th>\n",
       "      <td>0.966842</td>\n",
       "    </tr>\n",
       "  </tbody>\n",
       "</table>\n",
       "<p>83521 rows × 1 columns</p>\n",
       "</div>"
      ],
      "text/plain": [
       "                            A\n",
       "2013-01-01 10:12:00  0.076066\n",
       "2013-01-01 10:13:00  0.047963\n",
       "2013-01-01 10:14:00 -1.778599\n",
       "2013-01-01 10:15:00 -1.041243\n",
       "2013-01-01 10:16:00  0.312761\n",
       "...                       ...\n",
       "2013-02-28 10:08:00 -0.923967\n",
       "2013-02-28 10:09:00 -0.608295\n",
       "2013-02-28 10:10:00  0.901696\n",
       "2013-02-28 10:11:00  1.907212\n",
       "2013-02-28 10:12:00  0.966842\n",
       "\n",
       "[83521 rows x 1 columns]"
      ]
     },
     "execution_count": 104,
     "metadata": {},
     "output_type": "execute_result"
    }
   ],
   "source": [
    "dft[\n",
    "    datetime.datetime(2013, 1, 1, 10, 12, 0): datetime.datetime(2013, 2, 28, 10, 12, 0)\n",
    "]"
   ]
  },
  {
   "cell_type": "markdown",
   "id": "ec65a40d",
   "metadata": {},
   "source": [
    "### Truncating & fancy indexing\n",
    "\n",
    "A `~DataFrame.truncate` convenience function is provided that is similar\n",
    "to slicing. Note that `truncate` assumes a 0 value for any unspecified\n",
    "date component in a `DatetimeIndex` in contrast to slicing which returns\n",
    "any partially matching dates:"
   ]
  },
  {
   "cell_type": "code",
   "execution_count": 108,
   "id": "d37ea377",
   "metadata": {},
   "outputs": [
    {
     "data": {
      "text/plain": [
       "2011-11-06    2.032602\n",
       "2011-11-13   -0.534974\n",
       "2011-11-20   -0.196649\n",
       "2011-11-27    0.231508\n",
       "Freq: W-SUN, dtype: float64"
      ]
     },
     "execution_count": 108,
     "metadata": {},
     "output_type": "execute_result"
    }
   ],
   "source": [
    "rng2 = pd.date_range(\"2011-01-01\", \"2012-01-01\", freq=\"W\") \n",
    "ts2 = pd.Series(np.random.randn(len(rng2)), index=rng2)\n",
    "\n",
    "ts2.truncate(before=\"2011-11\", after=\"2011-12\")"
   ]
  },
  {
   "cell_type": "code",
   "execution_count": 109,
   "id": "205b2c67",
   "metadata": {},
   "outputs": [
    {
     "data": {
      "text/plain": [
       "2011-11-06    2.032602\n",
       "2011-11-13   -0.534974\n",
       "2011-11-20   -0.196649\n",
       "2011-11-27    0.231508\n",
       "2011-12-04    0.135291\n",
       "2011-12-11   -0.681097\n",
       "2011-12-18    1.467316\n",
       "2011-12-25   -1.361141\n",
       "Freq: W-SUN, dtype: float64"
      ]
     },
     "execution_count": 109,
     "metadata": {},
     "output_type": "execute_result"
    }
   ],
   "source": [
    "ts2[\"2011-11\":\"2011-12\"]"
   ]
  },
  {
   "cell_type": "markdown",
   "id": "0443948f",
   "metadata": {},
   "source": [
    "Even complicated fancy indexing that breaks the `DatetimeIndex`\n",
    "frequency regularity will result in a `DatetimeIndex`, although\n",
    "frequency is lost:"
   ]
  },
  {
   "cell_type": "code",
   "execution_count": 110,
   "id": "8f481918",
   "metadata": {},
   "outputs": [
    {
     "data": {
      "text/plain": [
       "DatetimeIndex(['2011-01-02', '2011-01-16', '2011-02-13'], dtype='datetime64[ns]', freq=None)"
      ]
     },
     "execution_count": 110,
     "metadata": {},
     "output_type": "execute_result"
    }
   ],
   "source": [
    "ts2[[0, 2, 6]].index"
   ]
  },
  {
   "cell_type": "markdown",
   "id": "087dd7d2",
   "metadata": {},
   "source": [
    "## Time/date components\n",
    "\n",
    "There are several time/date properties that one can access from\n",
    "`Timestamp` or a collection of timestamps like a `DatetimeIndex`.\n",
    "\n",
    "| Property         | Description                                                       |\n",
    "|--------------|----------------------------------------------------------|\n",
    "| year             | The year of the datetime                                          |\n",
    "| month            | The month of the datetime                                         |\n",
    "| day              | The days of the datetime                                          |\n",
    "| hour             | The hour of the datetime                                          |\n",
    "| minute           | The minutes of the datetime                                       |\n",
    "| second           | The seconds of the datetime                                       |\n",
    "| microsecond      | The microseconds of the datetime                                  |\n",
    "| nanosecond       | The nanoseconds of the datetime                                   |\n",
    "| date             | Returns datetime.date (does not contain timezone information)     |\n",
    "| time             | Returns datetime.time (does not contain timezone information)     |\n",
    "| timetz           | Returns datetime.time as local time with timezone information     |\n",
    "| dayofyear        | The ordinal day of year                                           |\n",
    "| day_of_year      | The ordinal day of year                                           |\n",
    "| weekofyear       | The week ordinal of the year                                      |\n",
    "| week             | The week ordinal of the year                                      |\n",
    "| dayofweek        | The number of the day of the week with Monday=0, Sunday=6         |\n",
    "| day_of_week      | The number of the day of the week with Monday=0, Sunday=6         |\n",
    "| weekday          | The number of the day of the week with Monday=0, Sunday=6         |\n",
    "| quarter          | Quarter of the date: Jan-Mar = 1, Apr-Jun = 2, etc.               |\n",
    "| days_in_month    | The number of days in the month of the datetime                   |\n",
    "| is_month_start   | Logical indicating if first day of month (defined by frequency)   |\n",
    "| is_month_end     | Logical indicating if last day of month (defined by frequency)    |\n",
    "| is_quarter_start | Logical indicating if first day of quarter (defined by frequency) |\n",
    "| is_quarter_end   | Logical indicating if last day of quarter (defined by frequency)  |\n",
    "| is_year_start    | Logical indicating if first day of year (defined by frequency)    |\n",
    "| is_year_end      | Logical indicating if last day of year (defined by frequency)     |\n",
    "| is_leap_year     | Logical indicating if the date belongs to a leap year             |\n",
    "\n",
    "Furthermore, if you have a `Series` with datetimelike values, then you\n",
    "can access these properties via the `.dt` accessor, as detailed in the\n",
    "section on `.dt accessors<basics.dt_accessors>`.\n",
    "\n",
    "You may obtain the year, week and day components of the ISO year from\n",
    "the ISO 8601 standard:\n"
   ]
  },
  {
   "cell_type": "code",
   "execution_count": 111,
   "id": "f52b5bcf",
   "metadata": {},
   "outputs": [
    {
     "data": {
      "text/html": [
       "<div>\n",
       "<style scoped>\n",
       "    .dataframe tbody tr th:only-of-type {\n",
       "        vertical-align: middle;\n",
       "    }\n",
       "\n",
       "    .dataframe tbody tr th {\n",
       "        vertical-align: top;\n",
       "    }\n",
       "\n",
       "    .dataframe thead th {\n",
       "        text-align: right;\n",
       "    }\n",
       "</style>\n",
       "<table border=\"1\" class=\"dataframe\">\n",
       "  <thead>\n",
       "    <tr style=\"text-align: right;\">\n",
       "      <th></th>\n",
       "      <th>year</th>\n",
       "      <th>week</th>\n",
       "      <th>day</th>\n",
       "    </tr>\n",
       "  </thead>\n",
       "  <tbody>\n",
       "    <tr>\n",
       "      <th>2019-12-29</th>\n",
       "      <td>2019</td>\n",
       "      <td>52</td>\n",
       "      <td>7</td>\n",
       "    </tr>\n",
       "    <tr>\n",
       "      <th>2019-12-30</th>\n",
       "      <td>2020</td>\n",
       "      <td>1</td>\n",
       "      <td>1</td>\n",
       "    </tr>\n",
       "    <tr>\n",
       "      <th>2019-12-31</th>\n",
       "      <td>2020</td>\n",
       "      <td>1</td>\n",
       "      <td>2</td>\n",
       "    </tr>\n",
       "    <tr>\n",
       "      <th>2020-01-01</th>\n",
       "      <td>2020</td>\n",
       "      <td>1</td>\n",
       "      <td>3</td>\n",
       "    </tr>\n",
       "  </tbody>\n",
       "</table>\n",
       "</div>"
      ],
      "text/plain": [
       "            year  week  day\n",
       "2019-12-29  2019    52    7\n",
       "2019-12-30  2020     1    1\n",
       "2019-12-31  2020     1    2\n",
       "2020-01-01  2020     1    3"
      ]
     },
     "execution_count": 111,
     "metadata": {},
     "output_type": "execute_result"
    }
   ],
   "source": [
    "idx = pd.date_range(start=\"2019-12-29\", freq=\"D\", periods=4)\n",
    "idx.isocalendar() "
   ]
  },
  {
   "cell_type": "code",
   "execution_count": 112,
   "id": "7394ebd2",
   "metadata": {},
   "outputs": [
    {
     "data": {
      "text/html": [
       "<div>\n",
       "<style scoped>\n",
       "    .dataframe tbody tr th:only-of-type {\n",
       "        vertical-align: middle;\n",
       "    }\n",
       "\n",
       "    .dataframe tbody tr th {\n",
       "        vertical-align: top;\n",
       "    }\n",
       "\n",
       "    .dataframe thead th {\n",
       "        text-align: right;\n",
       "    }\n",
       "</style>\n",
       "<table border=\"1\" class=\"dataframe\">\n",
       "  <thead>\n",
       "    <tr style=\"text-align: right;\">\n",
       "      <th></th>\n",
       "      <th>year</th>\n",
       "      <th>week</th>\n",
       "      <th>day</th>\n",
       "    </tr>\n",
       "  </thead>\n",
       "  <tbody>\n",
       "    <tr>\n",
       "      <th>2019-12-29</th>\n",
       "      <td>2019</td>\n",
       "      <td>52</td>\n",
       "      <td>7</td>\n",
       "    </tr>\n",
       "    <tr>\n",
       "      <th>2019-12-30</th>\n",
       "      <td>2020</td>\n",
       "      <td>1</td>\n",
       "      <td>1</td>\n",
       "    </tr>\n",
       "    <tr>\n",
       "      <th>2019-12-31</th>\n",
       "      <td>2020</td>\n",
       "      <td>1</td>\n",
       "      <td>2</td>\n",
       "    </tr>\n",
       "    <tr>\n",
       "      <th>2020-01-01</th>\n",
       "      <td>2020</td>\n",
       "      <td>1</td>\n",
       "      <td>3</td>\n",
       "    </tr>\n",
       "  </tbody>\n",
       "</table>\n",
       "</div>"
      ],
      "text/plain": [
       "            year  week  day\n",
       "2019-12-29  2019    52    7\n",
       "2019-12-30  2020     1    1\n",
       "2019-12-31  2020     1    2\n",
       "2020-01-01  2020     1    3"
      ]
     },
     "execution_count": 112,
     "metadata": {},
     "output_type": "execute_result"
    }
   ],
   "source": [
    "idx.to_series().dt.isocalendar()"
   ]
  },
  {
   "cell_type": "markdown",
   "id": "7c0cdaf8",
   "metadata": {},
   "source": [
    "## DateOffset objects\n",
    "\n",
    "In the preceding examples, frequency strings (e.g. `'D'`) were used to\n",
    "specify a frequency that defined:\n",
    "\n",
    "-   how the date times in `DatetimeIndex` were spaced when using\n",
    "    `date_range`\n",
    "-   the frequency of a `Period` or `PeriodIndex`\n",
    "\n",
    "These frequency strings map to a `DateOffset` object and its subclasses.\n",
    "A `DateOffset` is similar to a `Timedelta` that represents a duration of\n",
    "time but follows specific calendar duration rules. For example, a\n",
    "`Timedelta` day will always increment `datetimes` by 24 hours, while a\n",
    "`DateOffset` day will increment `datetimes` to the same time the next\n",
    "day whether a day represents 23, 24 or 25 hours due to daylight savings\n",
    "time. However, all `DateOffset` subclasses that are an hour or smaller\n",
    "(`Hour`, `Minute`, `Second`, `Milli`, `Micro`, `Nano`) behave like\n",
    "`Timedelta` and respect absolute time.\n",
    "\n",
    "The basic `DateOffset` acts similar to `dateutil.relativedelta`\n",
    "([relativedelta\n",
    "documentation](https://dateutil.readthedocs.io/en/stable/relativedelta.html))\n",
    "that shifts a date time by the corresponding calendar duration\n",
    "specified. The arithmetic operator (`+`) can be used to perform the\n",
    "shift."
   ]
  },
  {
   "cell_type": "code",
   "execution_count": 113,
   "id": "eb09e209",
   "metadata": {},
   "outputs": [],
   "source": [
    "# This particular day contains a day light savings time transition \n",
    "ts = pd.Timestamp(\"2016-10-30 00:00:00\", tz=\"Europe/Helsinki\") "
   ]
  },
  {
   "cell_type": "code",
   "execution_count": 114,
   "id": "ef832650",
   "metadata": {},
   "outputs": [
    {
     "data": {
      "text/plain": [
       "Timestamp('2016-10-30 23:00:00+0200', tz='Europe/Helsinki')"
      ]
     },
     "execution_count": 114,
     "metadata": {},
     "output_type": "execute_result"
    }
   ],
   "source": [
    "# Respects absolute time \n",
    "ts + pd.Timedelta(days=1) "
   ]
  },
  {
   "cell_type": "code",
   "execution_count": 115,
   "id": "0c64bdf8",
   "metadata": {},
   "outputs": [
    {
     "data": {
      "text/plain": [
       "Timestamp('2016-10-31 00:00:00+0200', tz='Europe/Helsinki')"
      ]
     },
     "execution_count": 115,
     "metadata": {},
     "output_type": "execute_result"
    }
   ],
   "source": [
    "# Respects calendar time \n",
    "ts + pd.DateOffset(days=1) "
   ]
  },
  {
   "cell_type": "code",
   "execution_count": 116,
   "id": "b9b70a4b",
   "metadata": {},
   "outputs": [
    {
     "data": {
      "text/plain": [
       "'Tuesday'"
      ]
     },
     "execution_count": 116,
     "metadata": {},
     "output_type": "execute_result"
    }
   ],
   "source": [
    "friday = pd.Timestamp(\"2018-01-05\")\n",
    "friday.day_name() \n",
    "\n",
    "# Add 2 business days (Friday --\\> Tuesday)\n",
    "two_business_days = 2 * pd.offsets.BDay() \n",
    "friday + two_business_days\n",
    "(friday + two_business_days).day_name()"
   ]
  },
  {
   "cell_type": "markdown",
   "id": "3a3a35e2",
   "metadata": {},
   "source": [
    "Most `DateOffsets` have associated frequencies strings, or offset\n",
    "aliases, that can be passed into `freq` keyword arguments. The available\n",
    "date offsets and associated frequency strings can be found below:\n",
    "\n",
    "| Date Offset | Frequency String  | Description |\n",
    "|-------------|-------------------|-------------|\n",
    "| `pandas.tseries.offsets.DateOffset`  | None   | Generic offset class, defaults to absolute 24 hours   |\n",
    "| `pandas.tseries.offsets.BDay` or `pandas.tseries.offsets.BusinessDay`                      | `'B'`             | business day (weekday)                                |\n",
    "| `pandas.tseries.offsets.CDay` or `pandas.tseries.offsets.CustomBusinessDay`                | `'C'`             | custom business day                                   |\n",
    "| `pandas.tseries.offsets.Week`                                                               | `'W'`             | one week, optionally anchored on a day of the week    |\n",
    "| `pandas.tseries.offsets.WeekOfMonth`                                                        | `'WOM'`           | the x-th day of the y-th week of each month           |\n",
    "| `pandas.tseries.offsets.LastWeekOfMonth`                                                    | `'LWOM'`          | the x-th day of the last week of each month           |\n",
    "| `pandas.tseries.offsets.MonthEnd`                                                           | `'M'`             | calendar month end                                    |\n",
    "| `pandas.tseries.offsets.MonthBegin`                                                         | `'MS'`            | calendar month begin                                  |\n",
    "| `pandas.tseries.offsets.BMonthEnd` or `pandas.tseries.offsets.BusinessMonthEnd`            | `'BM'`            | business month end                                    |\n",
    "| `pandas.tseries.offsets.BMonthBegin` or `pandas.tseries.offsets.BusinessMonthBegin`        | `'BMS'`           | business month begin                                  |\n",
    "| `pandas.tseries.offsets.CBMonthEnd` or `pandas.tseries.offsets.CustomBusinessMonthEnd`     | `'CBM'`           | custom business month end                             |\n",
    "| `pandas.tseries.offsets.CBMonthBegin` or `pandas.tseries.offsets.CustomBusinessMonthBegin` | `'CBMS'`          | custom business month begin                           |\n",
    "| `pandas.tseries.offsets.SemiMonthEnd`                                                       | `'SM'`            | 15th (or other day_of_month) and calendar month end   |\n",
    "| `pandas.tseries.offsets.SemiMonthBegin`                                                     | `'SMS'`           | 15th (or other day_of_month) and calendar month begin |\n",
    "| `pandas.tseries.offsets.QuarterEnd`                                                         | `'Q'`             | calendar quarter end                                  |\n",
    "| `pandas.tseries.offsets.QuarterBegin`                                                       | `'QS'`            | calendar quarter begin                                |\n",
    "| `pandas.tseries.offsets.BQuarterEnd`                                                        | `'BQ`             | business quarter end                                  |\n",
    "| `pandas.tseries.offsets.BQuarterBegin`                                                      | `'BQS'`           | business quarter begin                                |\n",
    "| `pandas.tseries.offsets.FY5253Quarter`                                                      | `'REQ'`           | retail (aka 52-53 week) quarter                       |\n",
    "| `pandas.tseries.offsets.YearEnd`                                                            | `'A'`             | calendar year end                                     |\n",
    "| `pandas.tseries.offsets.YearBegin`                                                          | `'AS'` or `'BYS'` | calendar year begin                                   |\n",
    "| `pandas.tseries.offsets.BYearEnd`                                                           | `'BA'`            | business year end                                     |\n",
    "| `pandas.tseries.offsets.BYearBegin`                                                         | `'BAS'`           | business year begin                                   |\n",
    "| `pandas.tseries.offsets.FY5253`                                                             | `'RE'`            | retail (aka 52-53 week) year                          |\n",
    "| `pandas.tseries.offsets.Easter`                                                             | None              | Easter holiday                                        |\n",
    "| `pandas.tseries.offsets.BusinessHour`                                                       | `'BH'`            | business hour                                         |\n",
    "| `pandas.tseries.offsets.CustomBusinessHour`                                                 | `'CBH'`           | custom business hour                                  |\n",
    "| `pandas.tseries.offsets.Day`                                                                | `'D'`             | one absolute day                                      |\n",
    "| `pandas.tseries.offsets.Hour`                                                               | `'H'`             | one hour                                              |\n",
    "| `pandas.tseries.offsets.Minute`                                                             | `'T'` or `'min'`  | one minute                                            |\n",
    "| `pandas.tseries.offsets.Second`                                                             | `'S'`             | one second                                            |\n",
    "| `pandas.tseries.offsets.Milli`                                                              | `'L'` or `'ms'`   | one millisecond                                       |\n",
    "| `pandas.tseries.offsets.Micro`                                                              | `'U'` or `'us'`   | one microsecond                                       |\n",
    "| `pandas.tseries.offsets.Nano`                                                               | `'N'`             | one nanosecond                                        |\n",
    "\n",
    "`DateOffsets` additionally have `rollforward` and `rollback` methods for\n",
    "moving a date forward or backward respectively to a valid offset date\n",
    "relative to the offset. For example, business offsets will roll dates\n",
    "that land on the weekends (Saturday and Sunday) forward to Monday since\n",
    "business offsets operate on the weekdays."
   ]
  },
  {
   "cell_type": "code",
   "execution_count": 117,
   "id": "ada97f8e",
   "metadata": {},
   "outputs": [
    {
     "data": {
      "text/plain": [
       "'Saturday'"
      ]
     },
     "execution_count": 117,
     "metadata": {},
     "output_type": "execute_result"
    }
   ],
   "source": [
    "ts = pd.Timestamp(\"2018-01-06 00:00:00\") \n",
    "ts.day_name() "
   ]
  },
  {
   "cell_type": "code",
   "execution_count": 118,
   "id": "733f086d",
   "metadata": {},
   "outputs": [
    {
     "data": {
      "text/plain": [
       "Timestamp('2018-01-08 09:00:00')"
      ]
     },
     "execution_count": 118,
     "metadata": {},
     "output_type": "execute_result"
    }
   ],
   "source": [
    "# BusinessHour's valid offset dates are Monday through Friday \n",
    "offset = pd.offsets.BusinessHour(start=\"09:00\") \n",
    "\n",
    "# Bring the date to the closest offset date (Monday) \n",
    "offset.rollforward(ts) "
   ]
  },
  {
   "cell_type": "code",
   "execution_count": 119,
   "id": "a2601922",
   "metadata": {},
   "outputs": [
    {
     "data": {
      "text/plain": [
       "Timestamp('2018-01-08 10:00:00')"
      ]
     },
     "execution_count": 119,
     "metadata": {},
     "output_type": "execute_result"
    }
   ],
   "source": [
    "# Date is brought to the closest offset date first and then the hour is added \n",
    "ts + offset"
   ]
  },
  {
   "cell_type": "markdown",
   "id": "4df79752",
   "metadata": {},
   "source": [
    "These operations preserve time (hour, minute, etc) information by\n",
    "default. To reset time to midnight, use `normalize` before or after\n",
    "applying the operation (depending on whether you want the time\n",
    "information included in the operation)."
   ]
  },
  {
   "cell_type": "code",
   "execution_count": 122,
   "id": "90c8c3ba",
   "metadata": {},
   "outputs": [
    {
     "name": "stdout",
     "output_type": "stream",
     "text": [
      "2014-01-02 09:00:00\n",
      "2014-01-02 00:00:00\n"
     ]
    }
   ],
   "source": [
    "ts = pd.Timestamp(\"2014-01-01 09:00\") \n",
    "day = pd.offsets.Day()\n",
    "print(day +ts)\n",
    "print((day + ts).normalize())"
   ]
  },
  {
   "cell_type": "code",
   "execution_count": 123,
   "id": "d4b04ab5",
   "metadata": {},
   "outputs": [
    {
     "name": "stdout",
     "output_type": "stream",
     "text": [
      "2014-01-01 23:00:00\n",
      "2014-01-01 00:00:00\n",
      "2014-01-02 00:00:00\n"
     ]
    }
   ],
   "source": [
    "ts = pd.Timestamp(\"2014-01-01 22:00\") \n",
    "hour = pd.offsets.Hour() \n",
    "\n",
    "print(hour + ts)\n",
    "print((hour + ts).normalize())\n",
    "print((hour + pd.Timestamp(\"2014-01-01 23:30\")).normalize())"
   ]
  },
  {
   "cell_type": "markdown",
   "id": "b92b8e7a",
   "metadata": {},
   "source": [
    "### Parametric offsets\n",
    "\n",
    "Some of the offsets can be \"parameterized\" when created to result in\n",
    "different behaviors. For example, the `Week` offset for generating\n",
    "weekly data accepts a `weekday` parameter which results in the generated\n",
    "dates always lying on a particular day of the week:"
   ]
  },
  {
   "cell_type": "code",
   "execution_count": 126,
   "id": "4fdcffc2",
   "metadata": {},
   "outputs": [
    {
     "name": "stdout",
     "output_type": "stream",
     "text": [
      "\n",
      "    2008-08-18 09:00:00\n",
      "    2008-08-25 09:00:00 \n",
      "    2008-08-22 09:00:00 \n",
      "    2008-08-11 09:00:00\n",
      "    4\n",
      "\n"
     ]
    }
   ],
   "source": [
    "d = datetime.datetime(2008, 8, 18, 9, 0) \n",
    "\n",
    "print(f'''\n",
    "    {d}\n",
    "    {d + pd.offsets.Week()} \n",
    "    {d + pd.offsets.Week(weekday=4)} \n",
    "    {d - pd.offsets.Week()}\n",
    "    {(d + pd.offsets.Week(weekday=4)).weekday()}\n",
    "''')"
   ]
  },
  {
   "cell_type": "markdown",
   "id": "1d26b07e",
   "metadata": {},
   "source": [
    "The `normalize` option will be effective for addition and subtraction."
   ]
  },
  {
   "cell_type": "code",
   "execution_count": 127,
   "id": "71153a22",
   "metadata": {},
   "outputs": [
    {
     "name": "stdout",
     "output_type": "stream",
     "text": [
      "2008-08-25 00:00:00\n",
      "2008-08-11 00:00:00\n"
     ]
    }
   ],
   "source": [
    "print(d + pd.offsets.Week(normalize=True)) \n",
    "print(d - pd.offsets.Week(normalize=True))"
   ]
  },
  {
   "cell_type": "markdown",
   "id": "1e19772d",
   "metadata": {},
   "source": [
    "Another example is parameterizing `YearEnd` with the specific ending\n",
    "month:"
   ]
  },
  {
   "cell_type": "code",
   "execution_count": 128,
   "id": "e5c719eb",
   "metadata": {},
   "outputs": [
    {
     "name": "stdout",
     "output_type": "stream",
     "text": [
      "2008-12-31 09:00:00\n",
      "2009-06-30 09:00:00\n"
     ]
    }
   ],
   "source": [
    "print(d + pd.offsets.YearEnd()) \n",
    "print(d + pd.offsets.YearEnd(month=6))"
   ]
  },
  {
   "cell_type": "markdown",
   "id": "82c05ea2",
   "metadata": {},
   "source": [
    "### Using offsets with `Series` / `DatetimeIndex`\n",
    "\n",
    "Offsets can be used with either a `Series` or `DatetimeIndex` to apply\n",
    "the offset to each element."
   ]
  },
  {
   "cell_type": "code",
   "execution_count": 130,
   "id": "9e08d23e",
   "metadata": {},
   "outputs": [
    {
     "name": "stdout",
     "output_type": "stream",
     "text": [
      "\n",
      "    DatetimeIndex(['2012-01-01', '2012-01-02', '2012-01-03'], dtype='datetime64[ns]', freq='D')\n",
      "    ----------\n",
      "    DatetimeIndex(['2012-03-01', '2012-03-02', '2012-03-03'], dtype='datetime64[ns]', freq=None)\n",
      "    ----------\n",
      "    0   2012-03-01\n",
      "1   2012-03-02\n",
      "2   2012-03-03\n",
      "dtype: datetime64[ns]\n",
      "    ----------\n",
      "    0   2011-11-01\n",
      "1   2011-11-02\n",
      "2   2011-11-03\n",
      "dtype: datetime64[ns]\n",
      "\n"
     ]
    }
   ],
   "source": [
    "rng = pd.date_range(\"2012-01-01\", \"2012-01-03\") \n",
    "s = pd.Series(rng) \n",
    "\n",
    "print(f'''\n",
    "    {rng}\n",
    "    {10 * '-'}\n",
    "    {rng + pd.DateOffset(months=2)}\n",
    "    {10 * '-'}\n",
    "    {s + pd.DateOffset(months=2)}\n",
    "    {10 * '-'}\n",
    "    {s - pd.DateOffset(months=2)}\n",
    "''')"
   ]
  },
  {
   "cell_type": "markdown",
   "id": "de907134",
   "metadata": {},
   "source": [
    "If the offset class maps directly to a `Timedelta` (`Day`, `Hour`,\n",
    "`Minute`, `Second`, `Micro`, `Milli`, `Nano`) it can be used exactly\n",
    "like a `Timedelta` - see the `Timedelta section<timedeltas.operations>`\n",
    "for more examples."
   ]
  },
  {
   "cell_type": "code",
   "execution_count": 131,
   "id": "8b601845",
   "metadata": {},
   "outputs": [
    {
     "name": "stdout",
     "output_type": "stream",
     "text": [
      "\n",
      "0   3 days\n",
      "1   3 days\n",
      "2   3 days\n",
      "dtype: timedelta64[ns] \n",
      "0   2011-12-30\n",
      "1   2011-12-31\n",
      "2   2012-01-01\n",
      "dtype: datetime64[ns] \n",
      "0   3 days 00:15:00\n",
      "1   3 days 00:15:00\n",
      "2   3 days 00:15:00\n",
      "dtype: timedelta64[ns]\n",
      "\n"
     ]
    }
   ],
   "source": [
    "td = s - pd.Series(pd.date_range(\"2011-12-29\", \"2011-12-31\")) \n",
    "\n",
    "print(f\"\"\"\n",
    "{td} \n",
    "{s - pd.offsets.Day(2)} \n",
    "{td + pd.offsets.Minute(15)}\n",
    "\"\"\")"
   ]
  },
  {
   "cell_type": "markdown",
   "id": "0fb9f051",
   "metadata": {},
   "source": [
    "Note that some offsets (such as `BQuarterEnd`) do not have a vectorized\n",
    "implementation. They can still be used but may calculate significantly\n",
    "slower and will show a `PerformanceWarning`"
   ]
  },
  {
   "cell_type": "code",
   "execution_count": 132,
   "id": "c9ef18dd",
   "metadata": {},
   "outputs": [
    {
     "data": {
      "text/plain": [
       "DatetimeIndex(['2012-03-30', '2012-03-30', '2012-03-30'], dtype='datetime64[ns]', freq=None)"
      ]
     },
     "execution_count": 132,
     "metadata": {},
     "output_type": "execute_result"
    }
   ],
   "source": [
    "rng + pd.offsets.BQuarterEnd()"
   ]
  },
  {
   "cell_type": "markdown",
   "id": "2c2f5e29",
   "metadata": {},
   "source": [
    "### Custom business days\n",
    "\n",
    "The `CDay` or `CustomBusinessDay` class provides a parametric\n",
    "`BusinessDay` class which can be used to create customized business day\n",
    "calendars which account for local holidays and local weekend\n",
    "conventions.\n",
    "\n",
    "As an interesting example, let's look at Egypt where a Friday-Saturday\n",
    "weekend is observed."
   ]
  },
  {
   "cell_type": "code",
   "execution_count": 135,
   "id": "233d5f0d",
   "metadata": {},
   "outputs": [
    {
     "data": {
      "text/plain": [
       "Timestamp('2013-05-05 00:00:00')"
      ]
     },
     "execution_count": 135,
     "metadata": {},
     "output_type": "execute_result"
    }
   ],
   "source": [
    "weekmask_egypt = \"Sun Mon Tue Wed Thu\"\n",
    "\n",
    "# They also observe International Workers' Day so let's \n",
    "# add that for a couple of years\n",
    "holidays = [\n",
    "    \"2012-05-01\", \n",
    "    datetime.datetime(2013, 5, 1),\n",
    "    np.datetime64(\"2014-05-01\")\n",
    "] \n",
    "\n",
    "bday_egypt = pd.offsets.CustomBusinessDay(\n",
    "    holidays=holidays,\n",
    "    weekmask=weekmask_egypt\n",
    ") \n",
    "\n",
    "dt = datetime.datetime(2013, 4, 30) \n",
    "\n",
    "dt + 2 * bday_egypt"
   ]
  },
  {
   "cell_type": "markdown",
   "id": "c7f658d4",
   "metadata": {},
   "source": [
    "Let's map to the weekday names:"
   ]
  },
  {
   "cell_type": "code",
   "execution_count": 137,
   "id": "fe7f0d30",
   "metadata": {},
   "outputs": [
    {
     "data": {
      "text/plain": [
       "2013-04-30     martes\n",
       "2013-05-02     jueves\n",
       "2013-05-05    domingo\n",
       "2013-05-06      lunes\n",
       "2013-05-07     martes\n",
       "Freq: C, dtype: object"
      ]
     },
     "execution_count": 137,
     "metadata": {},
     "output_type": "execute_result"
    }
   ],
   "source": [
    "dts = pd.date_range(dt, periods=5, freq=bday_egypt)\n",
    "\n",
    "pd.Series(dts.weekday, dts).map(\n",
    "    pd.Series(\"lunes martes miércoles jueves viernes sábado domingo\".split())\n",
    ")"
   ]
  },
  {
   "cell_type": "markdown",
   "id": "2d4e35eb",
   "metadata": {},
   "source": [
    "Holiday calendars can be used to provide the list of holidays. See the\n",
    "`holiday calendar<timeseries.holiday>` section for more information."
   ]
  },
  {
   "cell_type": "code",
   "execution_count": 138,
   "id": "9d48a252",
   "metadata": {},
   "outputs": [
    {
     "data": {
      "text/plain": [
       "Timestamp('2014-01-21 00:00:00')"
      ]
     },
     "execution_count": 138,
     "metadata": {},
     "output_type": "execute_result"
    }
   ],
   "source": [
    "from pandas.tseries.holiday import USFederalHolidayCalendar\n",
    "bday_us = pd.offsets.CustomBusinessDay(calendar=USFederalHolidayCalendar())\n",
    "\n",
    "# Friday before MLK Day \n",
    "dt = datetime.datetime(2014, 1, 17)\n",
    "\n",
    "# Tuesday after MLK Day (Monday is skipped because it's a holiday) \n",
    "dt + bday_us"
   ]
  },
  {
   "cell_type": "markdown",
   "id": "594e9af2",
   "metadata": {},
   "source": [
    "Monthly offsets that respect a certain holiday calendar can be defined\n",
    "in the usual way."
   ]
  },
  {
   "cell_type": "code",
   "execution_count": 139,
   "id": "627a6ac7",
   "metadata": {},
   "outputs": [
    {
     "name": "stdout",
     "output_type": "stream",
     "text": [
      "2014-01-02 00:00:00\n"
     ]
    },
    {
     "data": {
      "text/plain": [
       "DatetimeIndex(['2010-01-04', '2010-02-01', '2010-03-01', '2010-04-01',\n",
       "               '2010-05-03', '2010-06-01', '2010-07-01', '2010-08-02',\n",
       "               '2010-09-01', '2010-10-01', '2010-11-01', '2010-12-01',\n",
       "               '2011-01-03', '2011-02-01', '2011-03-01', '2011-04-01',\n",
       "               '2011-05-02', '2011-06-01', '2011-07-01', '2011-08-01',\n",
       "               '2011-09-01', '2011-10-03', '2011-11-01', '2011-12-01'],\n",
       "              dtype='datetime64[ns]', freq='CBMS')"
      ]
     },
     "execution_count": 139,
     "metadata": {},
     "output_type": "execute_result"
    }
   ],
   "source": [
    "bmth_us = pd.offsets.CustomBusinessMonthBegin(\n",
    "    calendar=USFederalHolidayCalendar()\n",
    ")\n",
    "\n",
    "# Skip new years \n",
    "dt = datetime.datetime(2013, 12, 17) \n",
    "print(dt + bmth_us)\n",
    "\n",
    "# Define date index with custom offset \n",
    "pd.date_range(start=\"20100101\", end=\"20120101\", freq=bmth_us)\n"
   ]
  },
  {
   "cell_type": "markdown",
   "id": "5fa459a0",
   "metadata": {},
   "source": [
    "*Note*\n",
    "\n",
    "The frequency string 'C' is used to indicate that a CustomBusinessDay\n",
    "DateOffset is used, it is important to note that since CustomBusinessDay\n",
    "is a parameterised type, instances of CustomBusinessDay may differ and\n",
    "this is not detectable from the 'C' frequency string. The user therefore\n",
    "needs to ensure that the 'C' frequency string is used consistently\n",
    "within the user's application.\n",
    "\n",
    "### Business hour\n",
    "\n",
    "The `BusinessHour` class provides a business hour representation on\n",
    "`BusinessDay`, allowing to use specific start and end times.\n",
    "\n",
    "By default, `BusinessHour` uses 9:00 - 17:00 as business hours. Adding\n",
    "`BusinessHour` will increment `Timestamp` by hourly frequency. If target\n",
    "`Timestamp` is out of business hours, move to the next business hour\n",
    "then increment it. If the result exceeds the business hours end, the\n",
    "remaining hours are added to the next business day.\n"
   ]
  },
  {
   "cell_type": "code",
   "execution_count": 140,
   "id": "2f869021",
   "metadata": {},
   "outputs": [
    {
     "name": "stdout",
     "output_type": "stream",
     "text": [
      "<BusinessHour: BH=09:00-17:00>\n",
      "4\n"
     ]
    }
   ],
   "source": [
    "bh = pd.offsets.BusinessHour() \n",
    "print(bh)\n",
    "\n",
    "# 2014-08-01 is Friday \n",
    "print(pd.Timestamp(\"2014-08-01 10:00\").weekday())"
   ]
  },
  {
   "cell_type": "code",
   "execution_count": 141,
   "id": "7d44a091",
   "metadata": {},
   "outputs": [
    {
     "data": {
      "text/plain": [
       "Timestamp('2014-08-01 11:00:00')"
      ]
     },
     "execution_count": 141,
     "metadata": {},
     "output_type": "execute_result"
    }
   ],
   "source": [
    "pd.Timestamp(\"2014-08-01 10:00\") + bh"
   ]
  },
  {
   "cell_type": "code",
   "execution_count": 142,
   "id": "91db390c",
   "metadata": {},
   "outputs": [
    {
     "data": {
      "text/plain": [
       "Timestamp('2014-08-01 10:00:00')"
      ]
     },
     "execution_count": 142,
     "metadata": {},
     "output_type": "execute_result"
    }
   ],
   "source": [
    "# Below example is the same as: pd.Timestamp('2014-08-01 09:00') + bh\n",
    "pd.Timestamp(\"2014-08-01 08:00\") + bh"
   ]
  },
  {
   "cell_type": "code",
   "execution_count": 143,
   "id": "3e012a02",
   "metadata": {},
   "outputs": [
    {
     "data": {
      "text/plain": [
       "Timestamp('2014-08-04 09:00:00')"
      ]
     },
     "execution_count": 143,
     "metadata": {},
     "output_type": "execute_result"
    }
   ],
   "source": [
    "# If the results is on the end time, move to the next business day\n",
    "pd.Timestamp(\"2014-08-01 16:00\") + bh"
   ]
  },
  {
   "cell_type": "code",
   "execution_count": 144,
   "id": "796dc2a1",
   "metadata": {},
   "outputs": [
    {
     "data": {
      "text/plain": [
       "Timestamp('2014-08-04 09:30:00')"
      ]
     },
     "execution_count": 144,
     "metadata": {},
     "output_type": "execute_result"
    }
   ],
   "source": [
    "# Remainings are added to the next day \n",
    "pd.Timestamp(\"2014-08-01 16:30\") + bh"
   ]
  },
  {
   "cell_type": "code",
   "execution_count": 145,
   "id": "14911b66",
   "metadata": {},
   "outputs": [
    {
     "data": {
      "text/plain": [
       "Timestamp('2014-08-01 12:00:00')"
      ]
     },
     "execution_count": 145,
     "metadata": {},
     "output_type": "execute_result"
    }
   ],
   "source": [
    "# Adding 2 business hours \n",
    "pd.Timestamp(\"2014-08-01 10:00\") + pd.offsets.BusinessHour(2)"
   ]
  },
  {
   "cell_type": "code",
   "execution_count": 146,
   "id": "5e90193e",
   "metadata": {},
   "outputs": [
    {
     "data": {
      "text/plain": [
       "Timestamp('2014-07-31 15:00:00')"
      ]
     },
     "execution_count": 146,
     "metadata": {},
     "output_type": "execute_result"
    }
   ],
   "source": [
    "# Subtracting 3 business hours \n",
    "pd.Timestamp(\"2014-08-01 10:00\") + pd.offsets.BusinessHour(-3)"
   ]
  },
  {
   "cell_type": "markdown",
   "id": "dbea7228",
   "metadata": {},
   "source": [
    "You can also specify `start` and `end` time by keywords. The argument\n",
    "must be a `str` with an `hour:minute` representation or a\n",
    "`datetime.time` instance. Specifying seconds, microseconds and\n",
    "nanoseconds as business hour results in `ValueError`."
   ]
  },
  {
   "cell_type": "code",
   "execution_count": 147,
   "id": "eee19073",
   "metadata": {},
   "outputs": [
    {
     "name": "stdout",
     "output_type": "stream",
     "text": [
      "\n",
      "<BusinessHour: BH=11:00-20:00>\n",
      "2014-08-01 14:00:00 \n",
      "2014-08-01 12:00:00 \n",
      "2014-08-01 19:00:00\n",
      "\n"
     ]
    }
   ],
   "source": [
    "bh = pd.offsets.BusinessHour(start=\"11:00\", end=datetime.time(20, 0)) \n",
    "\n",
    "print(f\"\"\"\n",
    "{bh}\n",
    "{pd.Timestamp(\"2014-08-01 13:00\") + bh} \n",
    "{pd.Timestamp(\"2014-08-01 09:00\") + bh} \n",
    "{pd.Timestamp(\"2014-08-01 18:00\") + bh}\n",
    "\"\"\")"
   ]
  },
  {
   "cell_type": "markdown",
   "id": "d0def3c8",
   "metadata": {},
   "source": [
    "Passing `start` time later than `end` represents midnight business hour.\n",
    "In this case, business hour exceeds midnight and overlap to the next\n",
    "day. Valid business hours are distinguished by whether it started from\n",
    "valid `BusinessDay`."
   ]
  },
  {
   "cell_type": "code",
   "execution_count": 148,
   "id": "8f6fefa4",
   "metadata": {},
   "outputs": [
    {
     "name": "stdout",
     "output_type": "stream",
     "text": [
      "\n",
      "<BusinessHour: BH=17:00-09:00>\n",
      "2014-08-01 18:00:00 \n",
      "2014-08-02 00:00:00\n",
      "\n"
     ]
    }
   ],
   "source": [
    "bh = pd.offsets.BusinessHour(start=\"17:00\", end=\"09:00\") \n",
    "\n",
    "print(f\"\"\"\n",
    "{bh}\n",
    "{pd.Timestamp(\"2014-08-01 17:00\") + bh} \n",
    "{pd.Timestamp(\"2014-08-01 23:00\") + bh}\n",
    "\"\"\")"
   ]
  },
  {
   "cell_type": "code",
   "execution_count": 149,
   "id": "e1441395",
   "metadata": {},
   "outputs": [
    {
     "data": {
      "text/plain": [
       "Timestamp('2014-08-02 05:00:00')"
      ]
     },
     "execution_count": 149,
     "metadata": {},
     "output_type": "execute_result"
    }
   ],
   "source": [
    "\n",
    "# Although 2014-08-02 is Saturday, \n",
    "# it is valid because it starts from 08-01 (Friday). \n",
    "pd.Timestamp(\"2014-08-02 04:00\") + bh"
   ]
  },
  {
   "cell_type": "code",
   "execution_count": 150,
   "id": "d7fae8f2",
   "metadata": {},
   "outputs": [
    {
     "data": {
      "text/plain": [
       "Timestamp('2014-08-04 18:00:00')"
      ]
     },
     "execution_count": 150,
     "metadata": {},
     "output_type": "execute_result"
    }
   ],
   "source": [
    "\n",
    "# Although 2014-08-04 is Monday, \n",
    "# it is out of business hours because it starts from 08-03 (Sunday). \n",
    "pd.Timestamp(\"2014-08-04 04:00\") + bh"
   ]
  },
  {
   "cell_type": "markdown",
   "id": "1c39c88a",
   "metadata": {},
   "source": [
    "Applying `BusinessHour.rollforward` and `rollback` to out of business\n",
    "hours results in the next business hour start or previous day's end.\n",
    "Different from other offsets, `BusinessHour.rollforward` may output\n",
    "different results from `apply` by definition.\n",
    "\n",
    "This is because one day's business hour end is equal to next day's\n",
    "business hour start. For example, under the default business hours\n",
    "(9:00 - 17:00), there is no gap (0 minutes) between `2014-08-01 17:00`\n",
    "and `2014-08-04 09:00`."
   ]
  },
  {
   "cell_type": "code",
   "execution_count": 151,
   "id": "d00e3c31",
   "metadata": {},
   "outputs": [
    {
     "data": {
      "text/plain": [
       "Timestamp('2014-08-04 09:00:00')"
      ]
     },
     "execution_count": 151,
     "metadata": {},
     "output_type": "execute_result"
    }
   ],
   "source": [
    "# This adjusts a Timestamp to business hour edge\n",
    "pd.offsets.BusinessHour().rollback(pd.Timestamp(\"2014-08-02 15:00\"))\n",
    "pd.offsets.BusinessHour().rollforward(pd.Timestamp(\"2014-08-02 15:00\"))"
   ]
  },
  {
   "cell_type": "code",
   "execution_count": 152,
   "id": "d8110b38",
   "metadata": {},
   "outputs": [
    {
     "data": {
      "text/plain": [
       "Timestamp('2014-08-04 10:00:00')"
      ]
     },
     "execution_count": 152,
     "metadata": {},
     "output_type": "execute_result"
    }
   ],
   "source": [
    "# It is the same as BusinessHour() + pd.Timestamp('2014-08-01 17:00').\n",
    "# And it is the same as BusinessHour() + pd.Timestamp('2014-08-04 09:00') \n",
    "pd.offsets.BusinessHour() + pd.Timestamp(\"2014-08-02 15:00\")"
   ]
  },
  {
   "cell_type": "code",
   "execution_count": 153,
   "id": "f5c3a6e8",
   "metadata": {},
   "outputs": [
    {
     "data": {
      "text/plain": [
       "Timestamp('2014-08-04 09:00:00')"
      ]
     },
     "execution_count": 153,
     "metadata": {},
     "output_type": "execute_result"
    }
   ],
   "source": [
    "# BusinessDay results (for reference)\n",
    "pd.offsets.BusinessHour().rollforward(pd.Timestamp(\"2014-08-02\"))"
   ]
  },
  {
   "cell_type": "code",
   "execution_count": 154,
   "id": "f720ac77",
   "metadata": {},
   "outputs": [
    {
     "data": {
      "text/plain": [
       "Timestamp('2014-08-04 10:00:00')"
      ]
     },
     "execution_count": 154,
     "metadata": {},
     "output_type": "execute_result"
    }
   ],
   "source": [
    "# It is the same as BusinessDay() + pd.Timestamp('2014-08-01') \n",
    "# The result is the same as rollworward because BusinessDay never overlap.\n",
    "pd.offsets.BusinessHour() + pd.Timestamp(\"2014-08-02\")"
   ]
  },
  {
   "cell_type": "markdown",
   "id": "ce714e18",
   "metadata": {},
   "source": [
    "`BusinessHour` regards Saturday and Sunday as holidays. To use arbitrary\n",
    "holidays, you can use `CustomBusinessHour` offset, as explained in the\n",
    "following subsection.\n",
    "\n",
    "### Custom business hour\n",
    "\n",
    "The `CustomBusinessHour` is a mixture of `BusinessHour` and\n",
    "`CustomBusinessDay` which allows you to specify arbitrary holidays.\n",
    "`CustomBusinessHour` works as the same as `BusinessHour` except that it\n",
    "skips specified custom holidays."
   ]
  },
  {
   "cell_type": "code",
   "execution_count": 155,
   "id": "37981c87",
   "metadata": {},
   "outputs": [
    {
     "name": "stdout",
     "output_type": "stream",
     "text": [
      "2014-01-17 16:00:00\n",
      "2014-01-21 09:00:00\n"
     ]
    }
   ],
   "source": [
    "from pandas.tseries.holiday import USFederalHolidayCalendar\n",
    "\n",
    "bhour_us = pd.offsets.CustomBusinessHour(\n",
    "    calendar=USFederalHolidayCalendar()\n",
    ") \n",
    "\n",
    "# Friday before MLK Day \n",
    "dt = datetime.datetime(2014, 1, 17, 15)\n",
    "\n",
    "print(dt + bhour_us)\n",
    "\n",
    "# Tuesday after MLK Day (Monday is skipped because it's a holiday) \n",
    "print(dt + bhour_us * 2)"
   ]
  },
  {
   "cell_type": "markdown",
   "id": "eb816bd2",
   "metadata": {},
   "source": [
    "You can use keyword arguments supported by either `BusinessHour` and\n",
    "`CustomBusinessDay`."
   ]
  },
  {
   "cell_type": "code",
   "execution_count": 156,
   "id": "39b06b85",
   "metadata": {},
   "outputs": [
    {
     "data": {
      "text/plain": [
       "Timestamp('2014-01-21 10:00:00')"
      ]
     },
     "execution_count": 156,
     "metadata": {},
     "output_type": "execute_result"
    }
   ],
   "source": [
    "bhour_mon = pd.offsets.CustomBusinessHour(\n",
    "    start=\"10:00\", \n",
    "    weekmask=\"Tue Wed Thu Fri\"\n",
    ")\n",
    "\n",
    "# Monday is skipped because it's a holiday, business hour starts from 10:00 \n",
    "dt + bhour_mon * 2\n"
   ]
  },
  {
   "cell_type": "markdown",
   "id": "acccf714",
   "metadata": {},
   "source": [
    "### Offset aliases\n",
    "\n",
    "A number of string aliases are given to useful common time series\n",
    "frequencies. We will refer to these aliases as *offset aliases*.\n",
    "\n",
    "| Alias    | Description                                      |\n",
    "|----------|--------------------------------------------------|\n",
    "| B        | business day frequency                           |\n",
    "| C        | custom business day frequency                    |\n",
    "| D        | calendar day frequency                           |\n",
    "| W        | weekly frequency                                 |\n",
    "| M        | month end frequency                              |\n",
    "| SM       | semi-month end frequency (15th and end of month) |\n",
    "| BM       | business month end frequency                     |\n",
    "| CBM      | custom business month end frequency              |\n",
    "| MS       | month start frequency                            |\n",
    "| SMS      | semi-month start frequency (1st and 15th)        |\n",
    "| BMS      | business month start frequency                   |\n",
    "| CBMS     | custom business month start frequency            |\n",
    "| Q        | quarter end frequency                            |\n",
    "| BQ       | business quarter end frequency                   |\n",
    "| QS       | quarter start frequency                          |\n",
    "| BQS      | business quarter start frequency                 |\n",
    "| A, Y     | year end frequency                               |\n",
    "| BA, BY   | business year end frequency                      |\n",
    "| AS, YS   | year start frequency                             |\n",
    "| BAS, BYS | business year start frequency                    |\n",
    "| BH       | business hour frequency                          |\n",
    "| H        | hourly frequency                                 |\n",
    "| T, min   | minutely frequency                               |\n",
    "| S        | secondly frequency                               |\n",
    "| L, ms    | milliseconds                                     |\n",
    "| U, us    | microseconds                                     |\n",
    "| N        | nanoseconds                                      |\n",
    "\n",
    "Note\n",
    "\n",
    "When using the offset aliases above, it should be noted that functions\n",
    "such as `date_range`, `bdate_range`, will only return timestamps that\n",
    "are in the interval defined by `start_date` and `end_date`. If the\n",
    "`start_date` does not correspond to the frequency, the returned\n",
    "timestamps will start at the next valid timestamp, same for `end_date`,\n",
    "the returned timestamps will stop at the previous valid timestamp.\n",
    "\n",
    "For example, for the offset `MS`, if the `start_date` is not the first\n",
    "of the month, the returned timestamps will start with the first day of\n",
    "the next month. If `end_date` is not the first day of a month, the last\n",
    "returned timestamp will be the first day of the corresponding month."
   ]
  },
  {
   "cell_type": "code",
   "execution_count": 157,
   "id": "63288790",
   "metadata": {},
   "outputs": [
    {
     "data": {
      "text/plain": [
       "DatetimeIndex(['2020-02-01', '2020-03-01', '2020-04-01'], dtype='datetime64[ns]', freq='MS')"
      ]
     },
     "execution_count": 157,
     "metadata": {},
     "output_type": "execute_result"
    }
   ],
   "source": [
    "dates_lst_1 = pd.date_range(\"2020-01-06\", \"2020-04-03\", freq=\"MS\")\n",
    "dates_lst_1"
   ]
  },
  {
   "cell_type": "code",
   "execution_count": 158,
   "id": "ca6be6e8",
   "metadata": {},
   "outputs": [
    {
     "data": {
      "text/plain": [
       "DatetimeIndex(['2020-01-01', '2020-02-01', '2020-03-01', '2020-04-01'], dtype='datetime64[ns]', freq='MS')"
      ]
     },
     "execution_count": 158,
     "metadata": {},
     "output_type": "execute_result"
    }
   ],
   "source": [
    "dates_lst_2 = pd.date_range(\"2020-01-01\", \"2020-04-01\", freq=\"MS\")\n",
    "dates_lst_2"
   ]
  },
  {
   "cell_type": "markdown",
   "id": "31fccac2",
   "metadata": {},
   "source": [
    "We can see in the above example `date_range` and `bdate_range` will only\n",
    "return the valid timestamps between the `start_date` and `end_date`. If\n",
    "these are not valid timestamps for the given frequency it will roll to\n",
    "the next value for `start_date` (respectively previous for the\n",
    "`end_date`)\n",
    "\n",
    "### Combining aliases\n",
    "\n",
    "As we have seen previously, the alias and the offset instance are\n",
    "fungible in most functions:"
   ]
  },
  {
   "cell_type": "code",
   "execution_count": 159,
   "id": "3f201bba",
   "metadata": {},
   "outputs": [
    {
     "name": "stdout",
     "output_type": "stream",
     "text": [
      "DatetimeIndex(['2011-01-03', '2011-01-04', '2011-01-05', '2011-01-06',\n",
      "               '2011-01-07'],\n",
      "              dtype='datetime64[ns]', freq='B')\n",
      "DatetimeIndex(['2011-01-03', '2011-01-04', '2011-01-05', '2011-01-06',\n",
      "               '2011-01-07'],\n",
      "              dtype='datetime64[ns]', freq='B')\n"
     ]
    }
   ],
   "source": [
    "print(pd.date_range(start, periods=5, freq=\"B\"))\n",
    "\n",
    "print(pd.date_range(start, periods=5, freq=pd.offsets.BDay()))"
   ]
  },
  {
   "cell_type": "markdown",
   "id": "b5daf6a9",
   "metadata": {},
   "source": [
    "You can combine together day and intraday offsets:"
   ]
  },
  {
   "cell_type": "code",
   "execution_count": 161,
   "id": "1a1e2b6c",
   "metadata": {},
   "outputs": [
    {
     "name": "stdout",
     "output_type": "stream",
     "text": [
      "\n",
      "DatetimeIndex(['2011-01-01 00:00:00', '2011-01-01 02:20:00',\n",
      "               '2011-01-01 04:40:00', '2011-01-01 07:00:00',\n",
      "               '2011-01-01 09:20:00', '2011-01-01 11:40:00',\n",
      "               '2011-01-01 14:00:00', '2011-01-01 16:20:00',\n",
      "               '2011-01-01 18:40:00', '2011-01-01 21:00:00'],\n",
      "              dtype='datetime64[ns]', freq='140T'),\n",
      "DatetimeIndex([       '2011-01-01 00:00:00', '2011-01-02 00:00:00.000010',\n",
      "               '2011-01-03 00:00:00.000020', '2011-01-04 00:00:00.000030',\n",
      "               '2011-01-05 00:00:00.000040', '2011-01-06 00:00:00.000050',\n",
      "               '2011-01-07 00:00:00.000060', '2011-01-08 00:00:00.000070',\n",
      "               '2011-01-09 00:00:00.000080', '2011-01-10 00:00:00.000090'],\n",
      "              dtype='datetime64[ns]', freq='86400000010U'),\n",
      "DatetimeIndex(['2011-01-01 00:00:00', '2011-01-01 02:20:00',\n",
      "               '2011-01-01 04:40:00', '2011-01-01 07:00:00',\n",
      "               '2011-01-01 09:20:00', '2011-01-01 11:40:00',\n",
      "               '2011-01-01 14:00:00', '2011-01-01 16:20:00',\n",
      "               '2011-01-01 18:40:00', '2011-01-01 21:00:00'],\n",
      "              dtype='datetime64[ns]', freq='140T'),\n",
      "DatetimeIndex([       '2011-01-01 00:00:00', '2011-01-02 00:00:00.000010',\n",
      "               '2011-01-03 00:00:00.000020', '2011-01-04 00:00:00.000030',\n",
      "               '2011-01-05 00:00:00.000040', '2011-01-06 00:00:00.000050',\n",
      "               '2011-01-07 00:00:00.000060', '2011-01-08 00:00:00.000070',\n",
      "               '2011-01-09 00:00:00.000080', '2011-01-10 00:00:00.000090'],\n",
      "              dtype='datetime64[ns]', freq='86400000010U')\n",
      "\n"
     ]
    }
   ],
   "source": [
    "print(f'''\n",
    "{pd.date_range(start, periods=10, freq=\"2h20min\")},\n",
    "{pd.date_range(start, periods=10, freq=\"1D10U\")},\n",
    "{pd.date_range(start, periods=10, freq=\"2h20min\")},\n",
    "{pd.date_range(start, periods=10, freq=\"1D10U\")}\n",
    "''')"
   ]
  },
  {
   "cell_type": "markdown",
   "id": "34b8bd01",
   "metadata": {},
   "source": [
    "### Anchored offsets\n",
    "\n",
    "For some frequencies you can specify an anchoring suffix:\n",
    "\n",
    "| Alias       | Description                                             |\n",
    "|-------------|---------------------------------------------------------|\n",
    "| W-SUN       | weekly frequency (Sundays). Same as 'W'                 |\n",
    "| W-MON       | weekly frequency (Mondays)                              |\n",
    "| W-TUE       | weekly frequency (Tuesdays)                             |\n",
    "| W-WED       | weekly frequency (Wednesdays)                           |\n",
    "| W-THU       | weekly frequency (Thursdays)                            |\n",
    "| W-FRI       | weekly frequency (Fridays)                              |\n",
    "| W-SAT       | weekly frequency (Saturdays)                            |\n",
    "| (B)Q(S)-DEC | quarterly frequency, year ends in December. Same as 'Q' |\n",
    "| (B)Q(S)-JAN | quarterly frequency, year ends in January               |\n",
    "| (B)Q(S)-FEB | quarterly frequency, year ends in February              |\n",
    "| (B)Q(S)-MAR | quarterly frequency, year ends in March                 |\n",
    "| (B)Q(S)-APR | quarterly frequency, year ends in April                 |\n",
    "| (B)Q(S)-MAY | quarterly frequency, year ends in May                   |\n",
    "| (B)Q(S)-JUN | quarterly frequency, year ends in June                  |\n",
    "| (B)Q(S)-JUL | quarterly frequency, year ends in July                  |\n",
    "| (B)Q(S)-AUG | quarterly frequency, year ends in August                |\n",
    "| (B)Q(S)-SEP | quarterly frequency, year ends in September             |\n",
    "| (B)Q(S)-OCT | quarterly frequency, year ends in October               |\n",
    "| (B)Q(S)-NOV | quarterly frequency, year ends in November              |\n",
    "| (B)A(S)-DEC | annual frequency, anchored end of December. Same as 'A' |\n",
    "| (B)A(S)-JAN | annual frequency, anchored end of January               |\n",
    "| (B)A(S)-FEB | annual frequency, anchored end of February              |\n",
    "| (B)A(S)-MAR | annual frequency, anchored end of March                 |\n",
    "| (B)A(S)-APR | annual frequency, anchored end of April                 |\n",
    "| (B)A(S)-MAY | annual frequency, anchored end of May                   |\n",
    "| (B)A(S)-JUN | annual frequency, anchored end of June                  |\n",
    "| (B)A(S)-JUL | annual frequency, anchored end of July                  |\n",
    "| (B)A(S)-AUG | annual frequency, anchored end of August                |\n",
    "| (B)A(S)-SEP | annual frequency, anchored end of September             |\n",
    "| (B)A(S)-OCT | annual frequency, anchored end of October               |\n",
    "| (B)A(S)-NOV | annual frequency, anchored end of November              |\n",
    "\n",
    "These can be used as arguments to `date_range`, `bdate_range`,\n",
    "constructors for `DatetimeIndex`, as well as various other\n",
    "timeseries-related functions in pandas.\n",
    "\n",
    "### Anchored offset semantics\n",
    "\n",
    "For those offsets that are anchored to the start or end of specific\n",
    "frequency (`MonthEnd`, `MonthBegin`, `WeekEnd`, etc), the following\n",
    "rules apply to rolling forward and backwards.\n",
    "\n",
    "When `n` is not 0, if the given date is not on an anchor point, it\n",
    "snapped to the next(previous) anchor point, and moved `|n|-1` additional\n",
    "steps forwards or backwards.\n"
   ]
  },
  {
   "cell_type": "markdown",
   "id": "dc2897f5",
   "metadata": {},
   "source": [
    "\n",
    "\n",
    "\n",
    "\n",
    "python\n",
    "\n",
    "pd.Timestamp(\"2014-01-02\") + pd.offsets.MonthBegin(n=1)\n",
    "pd.Timestamp(\"2014-01-02\") + pd.offsets.MonthEnd(n=1)\n",
    "\n",
    "pd.Timestamp(\"2014-01-02\") - pd.offsets.MonthBegin(n=1)\n",
    "pd.Timestamp(\"2014-01-02\") - pd.offsets.MonthEnd(n=1)\n",
    "\n",
    "pd.Timestamp(\"2014-01-02\") + pd.offsets.MonthBegin(n=4)\n",
    "pd.Timestamp(\"2014-01-02\") - pd.offsets.MonthBegin(n=4)\n",
    "\n",
    "If the given date *is* on an anchor point, it is moved `|n|` points\n",
    "forwards or backwards.\n",
    "\n",
    "python\n",
    "\n",
    "pd.Timestamp(\"2014-01-01\") + pd.offsets.MonthBegin(n=1)\n",
    "pd.Timestamp(\"2014-01-31\") + pd.offsets.MonthEnd(n=1)\n",
    "\n",
    "pd.Timestamp(\"2014-01-01\") - pd.offsets.MonthBegin(n=1)\n",
    "pd.Timestamp(\"2014-01-31\") - pd.offsets.MonthEnd(n=1)\n",
    "\n",
    "pd.Timestamp(\"2014-01-01\") + pd.offsets.MonthBegin(n=4)\n",
    "pd.Timestamp(\"2014-01-31\") - pd.offsets.MonthBegin(n=4)\n",
    "\n",
    "For the case when `n=0`, the date is not moved if on an anchor point,\n",
    "otherwise it is rolled forward to the next anchor point.\n",
    "\n",
    "python\n",
    "\n",
    "pd.Timestamp(\"2014-01-02\") + pd.offsets.MonthBegin(n=0)\n",
    "pd.Timestamp(\"2014-01-02\") + pd.offsets.MonthEnd(n=0)\n",
    "\n",
    "pd.Timestamp(\"2014-01-01\") + pd.offsets.MonthBegin(n=0)\n",
    "pd.Timestamp(\"2014-01-31\") + pd.offsets.MonthEnd(n=0)\n",
    "\n",
    "### Holidays / holiday calendars\n",
    "\n",
    "Holidays and calendars provide a simple way to define holiday rules to\n",
    "be used with `CustomBusinessDay` or in other analysis that requires a\n",
    "predefined set of holidays. The `AbstractHolidayCalendar` class provides\n",
    "all the necessary methods to return a list of holidays and only `rules`\n",
    "need to be defined in a specific holiday calendar class. Furthermore,\n",
    "the `start_date` and `end_date` class attributes determine over what\n",
    "date range holidays are generated. These should be overwritten on the\n",
    "`AbstractHolidayCalendar` class to have the range apply to all calendar\n",
    "subclasses. `USFederalHolidayCalendar` is the only calendar that exists\n",
    "and primarily serves as an example for developing other calendars.\n",
    "\n",
    "For holidays that occur on fixed dates (e.g., US Memorial Day or July\n",
    "4th) an observance rule determines when that holiday is observed if it\n",
    "falls on a weekend or some other non-observed day. Defined observance\n",
    "rules are:\n",
    "\n",
    "| Rule                   | Description                                          |\n",
    "|--------------|----------------------------------------------------------|\n",
    "| nearest_workday        | move Saturday to Friday and Sunday to Monday         |\n",
    "| sunday_to_monday       | move Sunday to following Monday                      |\n",
    "| next_monday_or_tuesday | move Saturday to Monday and Sunday/Monday to Tuesday |\n",
    "| previous_friday        | move Saturday and Sunday to previous Friday\"         |\n",
    "| next_monday            | move Saturday and Sunday to following Monday         |\n",
    "\n",
    "An example of how holidays and holiday calendars are defined:\n",
    "\n",
    "python\n",
    "\n",
    "from pandas.tseries.holiday import (  \n",
    "Holiday, USMemorialDay, AbstractHolidayCalendar, nearest_workday, MO,\n",
    "\n",
    ")\n",
    "\n",
    "class ExampleCalendar(AbstractHolidayCalendar):  \n",
    "rules = \\[  \n",
    "USMemorialDay, Holiday(\"July 4th\", month=7, day=4,\n",
    "observance=nearest_workday), Holiday( \"Columbus Day\", month=10, day=1,\n",
    "offset=pd.DateOffset(weekday=MO(2)), ),\n",
    "\n",
    "\\]\n",
    "\n",
    "cal = ExampleCalendar() cal.holidays(datetime.datetime(2012, 1, 1),\n",
    "datetime.datetime(2012, 12, 31))\n",
    "\n",
    "hint  \n",
    "**weekday=MO(2)** is same as **2 \\* Week(weekday=2)**\n",
    "\n",
    "Using this calendar, creating an index or doing offset arithmetic skips\n",
    "weekends and holidays (i.e., Memorial Day/July 4th). For example, the\n",
    "below defines a custom business day offset using the `ExampleCalendar`.\n",
    "Like any other offset, it can be used to create a `DatetimeIndex` or\n",
    "added to `datetime` or `Timestamp` objects.\n",
    "\n",
    "python\n",
    "\n",
    "pd.date_range(  \n",
    "start=\"7/1/2012\", end=\"7/10/2012\", freq=pd.offsets.CDay(calendar=cal)\n",
    "\n",
    ").to_pydatetime() offset = pd.offsets.CustomBusinessDay(calendar=cal)\n",
    "datetime.datetime(2012, 5, 25) + offset datetime.datetime(2012, 7, 3) +\n",
    "offset datetime.datetime(2012, 7, 3) + 2 \\* offset\n",
    "datetime.datetime(2012, 7, 6) + offset\n",
    "\n",
    "Ranges are defined by the `start_date` and `end_date` class attributes\n",
    "of `AbstractHolidayCalendar`. The defaults are shown below.\n",
    "\n",
    "python\n",
    "\n",
    "AbstractHolidayCalendar.start_date AbstractHolidayCalendar.end_date\n",
    "\n",
    "These dates can be overwritten by setting the attributes as\n",
    "datetime/Timestamp/string.\n",
    "\n",
    "python\n",
    "\n",
    "AbstractHolidayCalendar.start_date = datetime.datetime(2012, 1, 1)\n",
    "AbstractHolidayCalendar.end_date = datetime.datetime(2012, 12, 31)\n",
    "cal.holidays()\n",
    "\n",
    "Every calendar class is accessible by name using the `get_calendar`\n",
    "function which returns a holiday class instance. Any imported calendar\n",
    "class will automatically be available by this function. Also,\n",
    "`HolidayCalendarFactory` provides an easy interface to create calendars\n",
    "that are combinations of calendars or calendars with additional rules.\n",
    "\n",
    "python\n",
    "\n",
    "from pandas.tseries.holiday import get_calendar, HolidayCalendarFactory,\n",
    "USLaborDay\n",
    "\n",
    "cal = get_calendar(\"ExampleCalendar\") cal.rules new_cal =\n",
    "HolidayCalendarFactory(\"NewExampleCalendar\", cal, USLaborDay)\n",
    "new_cal.rules\n",
    "\n",
    "## Time Series-related instance methods\n",
    "\n",
    "### Shifting / lagging\n",
    "\n",
    "One may want to *shift* or *lag* the values in a time series back and\n",
    "forward in time. The method for this is `~Series.shift`, which is\n",
    "available on all of the pandas objects.\n",
    "\n",
    "python\n",
    "\n",
    "ts = pd.Series(range(len(rng)), index=rng) ts = ts\\[:5\\] ts.shift(1)\n",
    "\n",
    "The `shift` method accepts an `freq` argument which can accept a\n",
    "`DateOffset` class or other `timedelta`-like object or also an\n",
    "`offset alias <timeseries.offset_aliases>`.\n",
    "\n",
    "When `freq` is specified, `shift` method changes all the dates in the\n",
    "index rather than changing the alignment of the data and the index:\n",
    "\n",
    "python\n",
    "\n",
    "ts.shift(5, freq=\"D\") ts.shift(5, freq=pd.offsets.BDay()) ts.shift(5,\n",
    "freq=\"BM\")\n",
    "\n",
    "Note that with when `freq` is specified, the leading entry is no longer\n",
    "NaN because the data is not being realigned.\n",
    "\n",
    "### Frequency conversion\n",
    "\n",
    "The primary function for changing frequencies is the `~Series.asfreq`\n",
    "method. For a `DatetimeIndex`, this is basically just a thin, but\n",
    "convenient wrapper around `~Series.reindex` which generates a\n",
    "`date_range` and calls `reindex`.\n",
    "\n",
    "python\n",
    "\n",
    "dr = pd.date_range(\"1/1/2010\", periods=3, freq=3 \\* pd.offsets.BDay())\n",
    "ts = pd.Series(np.random.randn(3), index=dr) ts\n",
    "ts.asfreq(pd.offsets.BDay())\n",
    "\n",
    "`asfreq` provides a further convenience so you can specify an\n",
    "interpolation method for any gaps that may appear after the frequency\n",
    "conversion.\n",
    "\n",
    "python\n",
    "\n",
    "ts.asfreq(pd.offsets.BDay(), method=\"pad\")\n",
    "\n",
    "### Filling forward / backward\n",
    "\n",
    "Related to `asfreq` and `reindex` is `~Series.fillna`, which is\n",
    "documented in the `missing data section <missing_data.fillna>`.\n",
    "\n",
    "### Converting to Python datetimes\n",
    "\n",
    "`DatetimeIndex` can be converted to an array of Python native\n",
    ":py`datetime.datetime` objects using the `to_pydatetime` method.\n",
    "\n",
    "## Resampling\n",
    "\n",
    "pandas has a simple, powerful, and efficient functionality for\n",
    "performing resampling operations during frequency conversion (e.g.,\n",
    "converting secondly data into 5-minutely data). This is extremely common\n",
    "in, but not limited to, financial applications.\n",
    "\n",
    "`~Series.resample` is a time-based groupby, followed by a reduction\n",
    "method on each of its groups. See some\n",
    "`cookbook examples <cookbook.resample>` for some advanced strategies.\n",
    "\n",
    "The `resample()` method can be used directly from `DataFrameGroupBy`\n",
    "objects, see the `groupby docs <groupby.transform.window_resample>`.\n",
    "\n",
    "### Basics\n",
    "\n",
    "python\n",
    "\n",
    "rng = pd.date_range(\"1/1/2012\", periods=100, freq=\"S\")\n",
    "\n",
    "ts = pd.Series(np.random.randint(0, 500, len(rng)), index=rng)\n",
    "\n",
    "ts.resample(\"5Min\").sum()\n",
    "\n",
    "The `resample` function is very flexible and allows you to specify many\n",
    "different parameters to control the frequency conversion and resampling\n",
    "operation.\n",
    "\n",
    "Any function available via `dispatching <groupby.dispatch>` is available\n",
    "as a method of the returned object, including `sum`, `mean`, `std`,\n",
    "`sem`, `max`, `min`, `median`, `first`, `last`, `ohlc` :\n",
    "\n",
    "python\n",
    "\n",
    "ts.resample(\"5Min\").mean()\n",
    "\n",
    "ts.resample(\"5Min\").ohlc()\n",
    "\n",
    "ts.resample(\"5Min\").max()\n",
    "\n",
    "For downsampling, `closed` can be set to 'left' or 'right' to specify\n",
    "which end of the interval is closed:\n",
    "\n",
    "python\n",
    "\n",
    "ts.resample(\"5Min\", closed=\"right\").mean()\n",
    "\n",
    "ts.resample(\"5Min\", closed=\"left\").mean()\n",
    "\n",
    "Parameters like `label` are used to manipulate the resulting labels.\n",
    "`label` specifies whether the result is labeled with the beginning or\n",
    "the end of the interval.\n",
    "\n",
    "python\n",
    "\n",
    "ts.resample(\"5Min\").mean() \\# by default label='left'\n",
    "\n",
    "ts.resample(\"5Min\", label=\"left\").mean()\n",
    "\n",
    "Warning\n",
    "\n",
    "The default values for `label` and `closed` is '**left**' for all\n",
    "frequency offsets except for 'M', 'A', 'Q', 'BM', 'BA', 'BQ', and 'W'\n",
    "which all have a default of 'right'.\n",
    "\n",
    "This might unintendedly lead to looking ahead, where the value for a\n",
    "later time is pulled back to a previous time as in the following example\n",
    "with the `~pandas.tseries.offsets.BusinessDay` frequency:\n",
    "\n",
    "python\n",
    "\n",
    "s = pd.date_range(\"2000-01-01\", \"2000-01-05\").to_series() s.iloc\\[2\\] =\n",
    "pd.NaT s.dt.day_name()\n",
    "\n",
    "\\# default: label='left', closed='left'\n",
    "s.resample(\"B\").last().dt.day_name()\n",
    "\n",
    "Notice how the value for Sunday got pulled back to the previous Friday.\n",
    "To get the behavior where the value for Sunday is pushed to Monday, use\n",
    "instead\n",
    "\n",
    "python\n",
    "\n",
    "s.resample(\"B\", label=\"right\", closed=\"right\").last().dt.day_name()\n",
    "\n",
    "The `axis` parameter can be set to 0 or 1 and allows you to resample the\n",
    "specified axis for a `DataFrame`.\n",
    "\n",
    "`kind` can be set to 'timestamp' or 'period' to convert the resulting\n",
    "index to/from timestamp and time span representations. By default\n",
    "`resample` retains the input representation.\n",
    "\n",
    "`convention` can be set to 'start' or 'end' when resampling period data\n",
    "(detail below). It specifies how low frequency periods are converted to\n",
    "higher frequency periods.\n",
    "\n",
    "### Upsampling\n",
    "\n",
    "For upsampling, you can specify a way to upsample and the `limit`\n",
    "parameter to interpolate over the gaps that are created:\n",
    "\n",
    "python\n",
    "\n",
    "\\# from secondly to every 250 milliseconds\n",
    "\n",
    "ts\\[:2\\].resample(\"250L\").asfreq()\n",
    "\n",
    "ts\\[:2\\].resample(\"250L\").ffill()\n",
    "\n",
    "ts\\[:2\\].resample(\"250L\").ffill(limit=2)\n",
    "\n",
    "### Sparse resampling\n",
    "\n",
    "Sparse timeseries are the ones where you have a lot fewer points\n",
    "relative to the amount of time you are looking to resample. Naively\n",
    "upsampling a sparse series can potentially generate lots of intermediate\n",
    "values. When you don't want to use a method to fill these values, e.g.\n",
    "`fill_method` is `None`, then intermediate values will be filled with\n",
    "`NaN`.\n",
    "\n",
    "Since `resample` is a time-based groupby, the following is a method to\n",
    "efficiently resample only the groups that are not all `NaN`.\n",
    "\n",
    "python\n",
    "\n",
    "rng = pd.date_range(\"2014-1-1\", periods=100, freq=\"D\") +\n",
    "pd.Timedelta(\"1s\") ts = pd.Series(range(100), index=rng)\n",
    "\n",
    "If we want to resample to the full range of the series:\n",
    "\n",
    "python\n",
    "\n",
    "ts.resample(\"3T\").sum()\n",
    "\n",
    "We can instead only resample those groups where we have points as\n",
    "follows:\n",
    "\n",
    "python\n",
    "\n",
    "from functools import partial from pandas.tseries.frequencies import\n",
    "to_offset\n",
    "\n",
    "def round(t, freq):  \n",
    "\\# round a Timestamp to a specified freq freq = to_offset(freq) return\n",
    "pd.Timestamp((t.value // freq.delta.value) \\* freq.delta.value)\n",
    "\n",
    "ts.groupby(partial(round, freq=\"3T\")).sum()\n",
    "\n",
    "### Aggregation\n",
    "\n",
    "Similar to the `aggregating API <basics.aggregate>`,\n",
    "`groupby API <groupby.aggregate>`, and the\n",
    "`window API <window.overview>`, a `Resampler` can be selectively\n",
    "resampled.\n",
    "\n",
    "Resampling a `DataFrame`, the default will be to act on all columns with\n",
    "the same function.\n",
    "\n",
    "python\n",
    "\n",
    "df = pd.DataFrame(  \n",
    "np.random.randn(1000, 3), index=pd.date_range(\"1/1/2012\", freq=\"S\",\n",
    "periods=1000), columns=\\[\"A\", \"B\", \"C\"\\],\n",
    "\n",
    ") r = df.resample(\"3T\") r.mean()\n",
    "\n",
    "We can select a specific column or columns using standard getitem.\n",
    "\n",
    "python\n",
    "\n",
    "r\\[\"A\"\\].mean()\n",
    "\n",
    "r\\[\\[\"A\", \"B\"\\]\\].mean()\n",
    "\n",
    "You can pass a list or dict of functions to do aggregation with,\n",
    "outputting a `DataFrame` :\n",
    "\n",
    "python\n",
    "\n",
    "r\\[\"A\"\\].agg(\\[np.sum, np.mean, np.std\\])\n",
    "\n",
    "On a resampled `DataFrame`, you can pass a list of functions to apply to\n",
    "each column, which produces an aggregated result with a hierarchical\n",
    "index:\n",
    "\n",
    "python\n",
    "\n",
    "r.agg(\\[np.sum, np.mean\\])\n",
    "\n",
    "By passing a dict to `aggregate` you can apply a different aggregation\n",
    "to the columns of a `DataFrame` :\n",
    "\n",
    "python\n",
    "\n",
    "r.agg({\"A\": np.sum, \"B\": lambda x: np.std(x, ddof=1)})\n",
    "\n",
    "The function names can also be strings. In order for a string to be\n",
    "valid it must be implemented on the resampled object:\n",
    "\n",
    "python\n",
    "\n",
    "r.agg({\"A\": \"sum\", \"B\": \"std\"})\n",
    "\n",
    "Furthermore, you can also specify multiple aggregation functions for\n",
    "each column separately.\n",
    "\n",
    "python\n",
    "\n",
    "r.agg({\"A\": \\[\"sum\", \"std\"\\], \"B\": \\[\"mean\", \"std\"\\]})\n",
    "\n",
    "If a `DataFrame` does not have a datetimelike index, but instead you\n",
    "want to resample based on datetimelike column in the frame, it can\n",
    "passed to the `on` keyword.\n",
    "\n",
    "python\n",
    "\n",
    "df = pd.DataFrame(  \n",
    "{\"date\": pd.date_range(\"2015-01-01\", freq=\"W\", periods=5), \"a\":\n",
    "np.arange(5)}, index=pd.MultiIndex.from_arrays( \\[\\[1, 2, 3, 4, 5\\],\n",
    "pd.date_range(\"2015-01-01\", freq=\"W\", periods=5)\\], names=\\[\"v\", \"d\"\\],\n",
    "),\n",
    "\n",
    ") df df.resample(\"M\", on=\"date\")\\[\\[\"a\"\\]\\].sum()\n",
    "\n",
    "Similarly, if you instead want to resample by a datetimelike level of\n",
    "`MultiIndex`, its name or location can be passed to the `level` keyword.\n",
    "\n",
    "python\n",
    "\n",
    "df.resample(\"M\", level=\"d\")\\[\\[\"a\"\\]\\].sum()\n",
    "\n",
    "### Iterating through groups\n",
    "\n",
    "With the `Resampler` object in hand, iterating through the grouped data\n",
    "is very natural and functions similarly to :py`itertools.groupby` :\n",
    "\n",
    "python\n",
    "\n",
    "small = pd.Series(  \n",
    "range(6), index=pd.to_datetime( \\[ \"2017-01-01T00:00:00\",\n",
    "\"2017-01-01T00:30:00\", \"2017-01-01T00:31:00\", \"2017-01-01T01:00:00\",\n",
    "\"2017-01-01T03:00:00\", \"2017-01-01T03:05:00\", \\] ),\n",
    "\n",
    ") resampled = small.resample(\"H\")\n",
    "\n",
    "for name, group in resampled:  \n",
    "print(\"Group: \", name) print(\"-\" \\* 27) print(group, end=\"nn\")\n",
    "\n",
    "See `groupby.iterating-label` or `Resampler.__iter__` for more.\n",
    "\n",
    "### Use `origin` or `offset` to adjust the start of the bins\n",
    "\n",
    "1.1.0\n",
    "\n",
    "The bins of the grouping are adjusted based on the beginning of the day\n",
    "of the time series starting point. This works well with frequencies that\n",
    "are multiples of a day (like `30D`) or that divide a day evenly (like\n",
    "`90s` or `1min`). This can create inconsistencies with some frequencies\n",
    "that do not meet this criteria. To change this behavior you can specify\n",
    "a fixed Timestamp with the argument `origin`.\n",
    "\n",
    "For example:\n",
    "\n",
    "python\n",
    "\n",
    "start, end = \"2000-10-01 23:30:00\", \"2000-10-02 00:30:00\" middle =\n",
    "\"2000-10-02 00:00:00\" rng = pd.date_range(start, end, freq=\"7min\") ts =\n",
    "pd.Series(np.arange(len(rng)) \\* 3, index=rng) ts\n",
    "\n",
    "Here we can see that, when using `origin` with its default value\n",
    "(`'start_day'`), the result after `'2000-10-02 00:00:00'` are not\n",
    "identical depending on the start of time series:\n",
    "\n",
    "python\n",
    "\n",
    "ts.resample(\"17min\", origin=\"start_day\").sum()\n",
    "ts\\[middle:end\\].resample(\"17min\", origin=\"start_day\").sum()\n",
    "\n",
    "Here we can see that, when setting `origin` to `'epoch'`, the result\n",
    "after `'2000-10-02 00:00:00'` are identical depending on the start of\n",
    "time series:\n",
    "\n",
    "python\n",
    "\n",
    "ts.resample(\"17min\", origin=\"epoch\").sum()\n",
    "ts\\[middle:end\\].resample(\"17min\", origin=\"epoch\").sum()\n",
    "\n",
    "If needed you can use a custom timestamp for `origin` :\n",
    "\n",
    "python\n",
    "\n",
    "ts.resample(\"17min\", origin=\"2001-01-01\").sum()\n",
    "ts\\[middle:end\\].resample(\"17min\",\n",
    "origin=pd.Timestamp(\"2001-01-01\")).sum()\n",
    "\n",
    "If needed you can just adjust the bins with an `offset` Timedelta that\n",
    "would be added to the default `origin`. Those two examples are\n",
    "equivalent for this time series:\n",
    "\n",
    "python\n",
    "\n",
    "ts.resample(\"17min\", origin=\"start\").sum() ts.resample(\"17min\",\n",
    "offset=\"23h30min\").sum()\n",
    "\n",
    "Note the use of `'start'` for `origin` on the last example. In that\n",
    "case, `origin` will be set to the first value of the timeseries.\n",
    "\n",
    "### Backward resample\n",
    "\n",
    "1.3.0\n",
    "\n",
    "Instead of adjusting the beginning of bins, sometimes we need to fix the\n",
    "end of the bins to make a backward resample with a given `freq`. The\n",
    "backward resample sets `closed` to `'right'` by default since the last\n",
    "value should be considered as the edge point for the last bin.\n",
    "\n",
    "We can set `origin` to `'end'`. The value for a specific `Timestamp`\n",
    "index stands for the resample result from the current `Timestamp` minus\n",
    "`freq` to the current `Timestamp` with a right close.\n",
    "\n",
    "python\n",
    "\n",
    "ts.resample('17min', origin='end').sum()\n",
    "\n",
    "Besides, in contrast with the `'start_day'` option, `end_day` is\n",
    "supported. This will set the origin as the ceiling midnight of the\n",
    "largest `Timestamp`.\n",
    "\n",
    "python\n",
    "\n",
    "ts.resample('17min', origin='end_day').sum()\n",
    "\n",
    "The above result uses `2000-10-02 00:29:00` as the last bin's right edge\n",
    "since the following computation.\n",
    "\n",
    "python\n",
    "\n",
    "ceil_mid = rng.max().ceil('D') freq = pd.offsets.Minute(17) bin_res =\n",
    "ceil_mid - freq \\* ((ceil_mid - rng.max()) // freq) bin_res\n",
    "\n",
    "## Time span representation\n",
    "\n",
    "Regular intervals of time are represented by `Period` objects in pandas\n",
    "while sequences of `Period` objects are collected in a `PeriodIndex`,\n",
    "which can be created with the convenience function `period_range`.\n",
    "\n",
    "### Period\n",
    "\n",
    "A `Period` represents a span of time (e.g., a day, a month, a quarter,\n",
    "etc). You can specify the span via `freq` keyword using a frequency\n",
    "alias like below. Because `freq` represents a span of `Period`, it\n",
    "cannot be negative like \"-3D\".\n",
    "\n",
    "python\n",
    "\n",
    "pd.Period(\"2012\", freq=\"A-DEC\")\n",
    "\n",
    "pd.Period(\"2012-1-1\", freq=\"D\")\n",
    "\n",
    "pd.Period(\"2012-1-1 19:00\", freq=\"H\")\n",
    "\n",
    "pd.Period(\"2012-1-1 19:00\", freq=\"5H\")\n",
    "\n",
    "Adding and subtracting integers from periods shifts the period by its\n",
    "own frequency. Arithmetic is not allowed between `Period` with different\n",
    "`freq` (span).\n",
    "\n",
    "python\n",
    "\n",
    "p = pd.Period(\"2012\", freq=\"A-DEC\") p + 1 p - 3 p = pd.Period(\"2012-01\",\n",
    "freq=\"2M\") p + 2 p - 1 @okexcept p == pd.Period(\"2012-01\", freq=\"3M\")\n",
    "\n",
    "If `Period` freq is daily or higher (`D`, `H`, `T`, `S`, `L`, `U`, `N`),\n",
    "`offsets` and `timedelta`-like can be added if the result can have the\n",
    "same freq. Otherwise, `ValueError` will be raised.\n",
    "\n",
    "python\n",
    "\n",
    "p = pd.Period(\"2014-07-01 09:00\", freq=\"H\") p + pd.offsets.Hour(2) p +\n",
    "datetime.timedelta(minutes=120) p + np.timedelta64(7200, \"s\")"
   ]
  },
  {
   "cell_type": "code",
   "execution_count": null,
   "id": "ed213237",
   "metadata": {},
   "outputs": [],
   "source": [
    "In [1]: p + pd.offsets.Minute(5)\n",
    "Traceback\n",
    "   ...\n",
    "ValueError: Input has different freq from Period(freq=H)"
   ]
  },
  {
   "cell_type": "markdown",
   "id": "5ff9fb77",
   "metadata": {},
   "source": [
    "If `Period` has other frequencies, only the same `offsets` can be added.\n",
    "Otherwise, `ValueError` will be raised.\n",
    "\n",
    "python\n",
    "\n",
    "p = pd.Period(\"2014-07\", freq=\"M\") p + pd.offsets.MonthEnd(3)"
   ]
  },
  {
   "cell_type": "code",
   "execution_count": null,
   "id": "4aa9b355",
   "metadata": {},
   "outputs": [],
   "source": [
    "In [1]: p + pd.offsets.MonthBegin(3)\n",
    "Traceback\n",
    "   ...\n",
    "ValueError: Input has different freq from Period(freq=M)"
   ]
  },
  {
   "cell_type": "markdown",
   "id": "291198f7",
   "metadata": {},
   "source": [
    "Taking the difference of `Period` instances with the same frequency will\n",
    "return the number of frequency units between them:\n",
    "\n",
    "python\n",
    "\n",
    "pd.Period(\"2012\", freq=\"A-DEC\") - pd.Period(\"2002\", freq=\"A-DEC\")\n",
    "\n",
    "### PeriodIndex and period_range\n",
    "\n",
    "Regular sequences of `Period` objects can be collected in a\n",
    "`PeriodIndex`, which can be constructed using the `period_range`\n",
    "convenience function:\n",
    "\n",
    "python\n",
    "\n",
    "prng = pd.period_range(\"1/1/2011\", \"1/1/2012\", freq=\"M\") prng\n",
    "\n",
    "The `PeriodIndex` constructor can also be used directly:\n",
    "\n",
    "python\n",
    "\n",
    "pd.PeriodIndex(\\[\"2011-1\", \"2011-2\", \"2011-3\"\\], freq=\"M\")\n",
    "\n",
    "Passing multiplied frequency outputs a sequence of `Period` which has\n",
    "multiplied span.\n",
    "\n",
    "python\n",
    "\n",
    "pd.period_range(start=\"2014-01\", freq=\"3M\", periods=4)\n",
    "\n",
    "If `start` or `end` are `Period` objects, they will be used as anchor\n",
    "endpoints for a `PeriodIndex` with frequency matching that of the\n",
    "`PeriodIndex` constructor.\n",
    "\n",
    "python\n",
    "\n",
    "pd.period_range(  \n",
    "start=pd.Period(\"2017Q1\", freq=\"Q\"), end=pd.Period(\"2017Q2\", freq=\"Q\"),\n",
    "freq=\"M\"\n",
    "\n",
    ")\n",
    "\n",
    "Just like `DatetimeIndex`, a `PeriodIndex` can also be used to index\n",
    "pandas objects:\n",
    "\n",
    "python\n",
    "\n",
    "ps = pd.Series(np.random.randn(len(prng)), prng) ps\n",
    "\n",
    "`PeriodIndex` supports addition and subtraction with the same rule as\n",
    "`Period`.\n",
    "\n",
    "python\n",
    "\n",
    "idx = pd.period_range(\"2014-07-01 09:00\", periods=5, freq=\"H\") idx idx +\n",
    "pd.offsets.Hour(2)\n",
    "\n",
    "idx = pd.period_range(\"2014-07\", periods=5, freq=\"M\") idx idx +\n",
    "pd.offsets.MonthEnd(3)\n",
    "\n",
    "`PeriodIndex` has its own dtype named `period`, refer to\n",
    "`Period Dtypes <timeseries.period_dtype>`.\n",
    "\n",
    "### Period dtypes\n",
    "\n",
    "`PeriodIndex` has a custom `period` dtype. This is a pandas extension\n",
    "dtype similar to the `timezone aware dtype <timeseries.timezone_series>`\n",
    "(`datetime64[ns, tz]`).\n",
    "\n",
    "The `period` dtype holds the `freq` attribute and is represented with\n",
    "`period[freq]` like `period[D]` or `period[M]`, using\n",
    "`frequency strings <timeseries.offset_aliases>`.\n",
    "\n",
    "python\n",
    "\n",
    "pi = pd.period_range(\"2016-01-01\", periods=3, freq=\"M\") pi pi.dtype\n",
    "\n",
    "The `period` dtype can be used in `.astype(...)`. It allows one to\n",
    "change the `freq` of a `PeriodIndex` like `.asfreq()` and convert a\n",
    "`DatetimeIndex` to `PeriodIndex` like `to_period()` :\n",
    "\n",
    "python\n",
    "\n",
    "\\# change monthly freq to daily freq pi.astype(\"period\\[D\\]\")\n",
    "\n",
    "\\# convert to DatetimeIndex pi.astype(\"datetime64\\[ns\\]\")\n",
    "\n",
    "\\# convert to PeriodIndex dti = pd.date_range(\"2011-01-01\", freq=\"M\",\n",
    "periods=3) dti dti.astype(\"period\\[M\\]\")\n",
    "\n",
    "### PeriodIndex partial string indexing\n",
    "\n",
    "PeriodIndex now supports partial string slicing with non-monotonic\n",
    "indexes.\n",
    "\n",
    "1.1.0\n",
    "\n",
    "You can pass in dates and strings to `Series` and `DataFrame` with\n",
    "`PeriodIndex`, in the same manner as `DatetimeIndex`. For details, refer\n",
    "to `DatetimeIndex Partial String Indexing <timeseries.partialindexing>`.\n",
    "\n",
    "python\n",
    "\n",
    "ps\\[\"2011-01\"\\]\n",
    "\n",
    "ps\\[datetime.datetime(2011, 12, 25):\\]\n",
    "\n",
    "ps\\[\"10/31/2011\":\"12/31/2011\"\\]\n",
    "\n",
    "Passing a string representing a lower frequency than `PeriodIndex`\n",
    "returns partial sliced data.\n",
    "\n",
    "python\n",
    "\n",
    "ps\\[\"2011\"\\]\n",
    "\n",
    "dfp = pd.DataFrame(  \n",
    "np.random.randn(600, 1), columns=\\[\"A\"\\],\n",
    "index=pd.period_range(\"2013-01-01 9:00\", periods=600, freq=\"T\"),\n",
    "\n",
    ") dfp dfp.loc\\[\"2013-01-01 10H\"\\]\n",
    "\n",
    "As with `DatetimeIndex`, the endpoints will be included in the result.\n",
    "The example below slices data starting from 10:00 to 11:59.\n",
    "\n",
    "python\n",
    "\n",
    "dfp\\[\"2013-01-01 10H\":\"2013-01-01 11H\"\\]\n",
    "\n",
    "### Frequency conversion and resampling with PeriodIndex\n",
    "\n",
    "The frequency of `Period` and `PeriodIndex` can be converted via the\n",
    "`asfreq` method. Let's start with the fiscal year 2011, ending in\n",
    "December:\n",
    "\n",
    "python\n",
    "\n",
    "p = pd.Period(\"2011\", freq=\"A-DEC\") p\n",
    "\n",
    "We can convert it to a monthly frequency. Using the `how` parameter, we\n",
    "can specify whether to return the starting or ending month:\n",
    "\n",
    "python\n",
    "\n",
    "p.asfreq(\"M\", how=\"start\")\n",
    "\n",
    "p.asfreq(\"M\", how=\"end\")\n",
    "\n",
    "The shorthands 's' and 'e' are provided for convenience:\n",
    "\n",
    "python\n",
    "\n",
    "p.asfreq(\"M\", \"s\") p.asfreq(\"M\", \"e\")\n",
    "\n",
    "Converting to a \"super-period\" (e.g., annual frequency is a super-period\n",
    "of quarterly frequency) automatically returns the super-period that\n",
    "includes the input period:\n",
    "\n",
    "python\n",
    "\n",
    "p = pd.Period(\"2011-12\", freq=\"M\")\n",
    "\n",
    "p.asfreq(\"A-NOV\")\n",
    "\n",
    "Note that since we converted to an annual frequency that ends the year\n",
    "in November, the monthly period of December 2011 is actually in the 2012\n",
    "A-NOV period.\n",
    "\n",
    "Period conversions with anchored frequencies are particularly useful for\n",
    "working with various quarterly data common to economics, business, and\n",
    "other fields. Many organizations define quarters relative to the month\n",
    "in which their fiscal year starts and ends. Thus, first quarter of 2011\n",
    "could start in 2010 or a few months into 2011. Via anchored frequencies,\n",
    "pandas works for all quarterly frequencies `Q-JAN` through `Q-DEC`.\n",
    "\n",
    "`Q-DEC` define regular calendar quarters:\n",
    "\n",
    "python\n",
    "\n",
    "p = pd.Period(\"2012Q1\", freq=\"Q-DEC\")\n",
    "\n",
    "p.asfreq(\"D\", \"s\")\n",
    "\n",
    "p.asfreq(\"D\", \"e\")\n",
    "\n",
    "`Q-MAR` defines fiscal year end in March:\n",
    "\n",
    "python\n",
    "\n",
    "p = pd.Period(\"2011Q4\", freq=\"Q-MAR\")\n",
    "\n",
    "p.asfreq(\"D\", \"s\")\n",
    "\n",
    "p.asfreq(\"D\", \"e\")\n",
    "\n",
    "## Converting between representations\n",
    "\n",
    "Timestamped data can be converted to PeriodIndex-ed data using\n",
    "`to_period` and vice-versa using `to_timestamp` :\n",
    "\n",
    "python\n",
    "\n",
    "rng = pd.date_range(\"1/1/2012\", periods=5, freq=\"M\")\n",
    "\n",
    "ts = pd.Series(np.random.randn(len(rng)), index=rng)\n",
    "\n",
    "ts\n",
    "\n",
    "ps = ts.to_period()\n",
    "\n",
    "ps\n",
    "\n",
    "ps.to_timestamp()\n",
    "\n",
    "Remember that 's' and 'e' can be used to return the timestamps at the\n",
    "start or end of the period:\n",
    "\n",
    "python\n",
    "\n",
    "ps.to_timestamp(\"D\", how=\"s\")\n",
    "\n",
    "Converting between period and timestamp enables some convenient\n",
    "arithmetic functions to be used. In the following example, we convert a\n",
    "quarterly frequency with year ending in November to 9am of the end of\n",
    "the month following the quarter end:\n",
    "\n",
    "python\n",
    "\n",
    "prng = pd.period_range(\"1990Q1\", \"2000Q4\", freq=\"Q-NOV\")\n",
    "\n",
    "ts = pd.Series(np.random.randn(len(prng)), prng)\n",
    "\n",
    "ts.index = (prng.asfreq(\"M\", \"e\") + 1).asfreq(\"H\", \"s\") + 9\n",
    "\n",
    "ts.head()\n",
    "\n",
    "## Representing out-of-bounds spans\n",
    "\n",
    "If you have data that is outside of the `Timestamp` bounds, see\n",
    "`Timestamp limitations <timeseries.timestamp-limits>`, then you can use\n",
    "a `PeriodIndex` and/or `Series` of `Periods` to do computations.\n",
    "\n",
    "python\n",
    "\n",
    "span = pd.period_range(\"1215-01-01\", \"1381-01-01\", freq=\"D\") span\n",
    "\n",
    "To convert from an `int64` based YYYYMMDD representation.\n",
    "\n",
    "python\n",
    "\n",
    "s = pd.Series(\\[20121231, 20141130, 99991231\\]) s\n",
    "\n",
    "def conv(x):  \n",
    "return pd.Period(year=x // 10000, month=x // 100 % 100, day=x % 100,\n",
    "freq=\"D\")\n",
    "\n",
    "s.apply(conv) s.apply(conv)\\[2\\]\n",
    "\n",
    "These can easily be converted to a `PeriodIndex` :\n",
    "\n",
    "python\n",
    "\n",
    "span = pd.PeriodIndex(s.apply(conv)) span\n",
    "\n",
    "## Time zone handling\n",
    "\n",
    "pandas provides rich support for working with timestamps in different\n",
    "time zones using the `pytz` and `dateutil` libraries or\n",
    "`datetime.timezone` objects from the standard library.\n",
    "\n",
    "### Working with time zones\n",
    "\n",
    "By default, pandas objects are time zone unaware:\n",
    "\n",
    "python\n",
    "\n",
    "rng = pd.date_range(\"3/6/2012 00:00\", periods=15, freq=\"D\") rng.tz is\n",
    "None\n",
    "\n",
    "To localize these dates to a time zone (assign a particular time zone to\n",
    "a naive date), you can use the `tz_localize` method or the `tz` keyword\n",
    "argument in `date_range`, `Timestamp`, or `DatetimeIndex`. You can\n",
    "either pass `pytz` or `dateutil` time zone objects or Olson time zone\n",
    "database strings. Olson time zone strings will return `pytz` time zone\n",
    "objects by default. To return `dateutil` time zone objects, append\n",
    "`dateutil/` before the string.\n",
    "\n",
    "-   In `pytz` you can find a list of common (and less common) time zones\n",
    "    using `from pytz import common_timezones, all_timezones`.\n",
    "-   `dateutil` uses the OS time zones so there isn't a fixed list\n",
    "    available. For common zones, the names are the same as `pytz`.\n",
    "\n",
    "python\n",
    "\n",
    "import dateutil\n",
    "\n",
    "\\# pytz rng_pytz = pd.date_range(\"3/6/2012 00:00\", periods=3, freq=\"D\",\n",
    "tz=\"Europe/London\") rng_pytz.tz\n",
    "\n",
    "\\# dateutil rng_dateutil = pd.date_range(\"3/6/2012 00:00\", periods=3,\n",
    "freq=\"D\") rng_dateutil =\n",
    "rng_dateutil.tz_localize(\"dateutil/Europe/London\") rng_dateutil.tz\n",
    "\n",
    "\\# dateutil - utc special case rng_utc = pd.date_range( \"3/6/2012\n",
    "00:00\", periods=3, freq=\"D\", tz=dateutil.tz.tzutc(), ) rng_utc.tz\n",
    "\n",
    "0.25.0\n",
    "\n",
    "python\n",
    "\n",
    "\\# datetime.timezone rng_utc = pd.date_range( \"3/6/2012 00:00\",\n",
    "periods=3, freq=\"D\", tz=datetime.timezone.utc, ) rng_utc.tz\n",
    "\n",
    "Note that the `UTC` time zone is a special case in `dateutil` and should\n",
    "be constructed explicitly as an instance of `dateutil.tz.tzutc`. You can\n",
    "also construct other time zones objects explicitly first.\n",
    "\n",
    "python\n",
    "\n",
    "import pytz\n",
    "\n",
    "\\# pytz tz_pytz = pytz.timezone(\"Europe/London\") rng_pytz =\n",
    "pd.date_range(\"3/6/2012 00:00\", periods=3, freq=\"D\") rng_pytz =\n",
    "rng_pytz.tz_localize(tz_pytz) rng_pytz.tz == tz_pytz\n",
    "\n",
    "\\# dateutil tz_dateutil = dateutil.tz.gettz(\"Europe/London\")\n",
    "rng_dateutil = pd.date_range(\"3/6/2012 00:00\", periods=3, freq=\"D\",\n",
    "tz=tz_dateutil) rng_dateutil.tz == tz_dateutil\n",
    "\n",
    "To convert a time zone aware pandas object from one time zone to\n",
    "another, you can use the `tz_convert` method.\n",
    "\n",
    "python\n",
    "\n",
    "rng_pytz.tz_convert(\"US/Eastern\")\n",
    "\n",
    "Note\n",
    "\n",
    "When using `pytz` time zones, `DatetimeIndex` will construct a different\n",
    "time zone object than a `Timestamp` for the same time zone input. A\n",
    "`DatetimeIndex` can hold a collection of `Timestamp` objects that may\n",
    "have different UTC offsets and cannot be succinctly represented by one\n",
    "`pytz` time zone instance while one `Timestamp` represents one point in\n",
    "time with a specific UTC offset.\n",
    "\n",
    "python\n",
    "\n",
    "dti = pd.date_range(\"2019-01-01\", periods=3, freq=\"D\", tz=\"US/Pacific\")\n",
    "dti.tz ts = pd.Timestamp(\"2019-01-01\", tz=\"US/Pacific\") ts.tz\n",
    "\n",
    "Warning\n",
    "\n",
    "Be wary of conversions between libraries. For some time zones, `pytz`\n",
    "and `dateutil` have different definitions of the zone. This is more of a\n",
    "problem for unusual time zones than for 'standard' zones like\n",
    "`US/Eastern`.\n",
    "\n",
    "Warning\n",
    "\n",
    "Be aware that a time zone definition across versions of time zone\n",
    "libraries may not be considered equal. This may cause problems when\n",
    "working with stored data that is localized using one version and\n",
    "operated on with a different version. See `here<io.hdf5-notes>` for how\n",
    "to handle such a situation.\n",
    "\n",
    "Warning\n",
    "\n",
    "For `pytz` time zones, it is incorrect to pass a time zone object\n",
    "directly into the `datetime.datetime` constructor (e.g.,\n",
    "`datetime.datetime(2011, 1, 1, tzinfo=pytz.timezone('US/Eastern'))`.\n",
    "Instead, the datetime needs to be localized using the `localize` method\n",
    "on the `pytz` time zone object.\n",
    "\n",
    "Warning\n",
    "\n",
    "Be aware that for times in the future, correct conversion between time\n",
    "zones (and UTC) cannot be guaranteed by any time zone library because a\n",
    "timezone's offset from UTC may be changed by the respective government.\n",
    "\n",
    "Warning\n",
    "\n",
    "If you are using dates beyond 2038-01-18, due to current deficiencies in\n",
    "the underlying libraries caused by the year 2038 problem, daylight\n",
    "saving time (DST) adjustments to timezone aware dates will not be\n",
    "applied. If and when the underlying libraries are fixed, the DST\n",
    "transitions will be applied.\n",
    "\n",
    "For example, for two dates that are in British Summer Time (and so would\n",
    "normally be GMT+1), both the following asserts evaluate as true:\n",
    "\n",
    "python\n",
    "\n",
    "d_2037 = \"2037-03-31T010101\" d_2038 = \"2038-03-31T010101\" DST =\n",
    "\"Europe/London\" assert pd.Timestamp(d_2037, tz=DST) !=\n",
    "pd.Timestamp(d_2037, tz=\"GMT\") assert pd.Timestamp(d_2038, tz=DST) ==\n",
    "pd.Timestamp(d_2038, tz=\"GMT\")\n",
    "\n",
    "Under the hood, all timestamps are stored in UTC. Values from a time\n",
    "zone aware `DatetimeIndex` or `Timestamp` will have their fields (day,\n",
    "hour, minute, etc.) localized to the time zone. However, timestamps with\n",
    "the same UTC value are still considered to be equal even if they are in\n",
    "different time zones:\n",
    "\n",
    "python\n",
    "\n",
    "rng_eastern = rng_utc.tz_convert(\"US/Eastern\") rng_berlin =\n",
    "rng_utc.tz_convert(\"Europe/Berlin\")\n",
    "\n",
    "rng_eastern\\[2\\] rng_berlin\\[2\\] rng_eastern\\[2\\] == rng_berlin\\[2\\]\n",
    "\n",
    "Operations between `Series` in different time zones will yield UTC\n",
    "`Series`, aligning the data on the UTC timestamps:\n",
    "\n",
    "python\n",
    "\n",
    "ts_utc = pd.Series(range(3), pd.date_range(\"20130101\", periods=3,\n",
    "tz=\"UTC\")) eastern = ts_utc.tz_convert(\"US/Eastern\") berlin =\n",
    "ts_utc.tz_convert(\"Europe/Berlin\") result = eastern + berlin result\n",
    "result.index\n",
    "\n",
    "To remove time zone information, use `tz_localize(None)` or\n",
    "`tz_convert(None)`. `tz_localize(None)` will remove the time zone\n",
    "yielding the local time representation. `tz_convert(None)` will remove\n",
    "the time zone after converting to UTC time.\n",
    "\n",
    "python\n",
    "\n",
    "didx = pd.date_range(start=\"2014-08-01 09:00\", freq=\"H\", periods=3,\n",
    "tz=\"US/Eastern\") didx didx.tz_localize(None) didx.tz_convert(None)\n",
    "\n",
    "\\# tz_convert(None) is identical to tz_convert('UTC').tz_localize(None)\n",
    "didx.tz_convert(\"UTC\").tz_localize(None)\n",
    "\n",
    "### Fold\n",
    "\n",
    "1.1.0\n",
    "\n",
    "For ambiguous times, pandas supports explicitly specifying the\n",
    "keyword-only fold argument. Due to daylight saving time, one wall clock\n",
    "time can occur twice when shifting from summer to winter time; fold\n",
    "describes whether the datetime-like corresponds to the first (0) or the\n",
    "second time (1) the wall clock hits the ambiguous time. Fold is\n",
    "supported only for constructing from naive `datetime.datetime` (see\n",
    "[datetime\n",
    "documentation](https://docs.python.org/3/library/datetime.html) for\n",
    "details) or from `Timestamp` or for constructing from components (see\n",
    "below). Only `dateutil` timezones are supported (see [dateutil\n",
    "documentation](https://dateutil.readthedocs.io/en/stable/tz.html#dateutil.tz.enfold)\n",
    "for `dateutil` methods that deal with ambiguous datetimes) as `pytz`\n",
    "timezones do not support fold (see [pytz\n",
    "documentation](http://pytz.sourceforge.net/index.html) for details on\n",
    "how `pytz` deals with ambiguous datetimes). To localize an ambiguous\n",
    "datetime with `pytz`, please use `Timestamp.tz_localize`. In general, we\n",
    "recommend to rely on `Timestamp.tz_localize` when localizing ambiguous\n",
    "datetimes if you need direct control over how they are handled.\n",
    "\n",
    "python\n",
    "\n",
    "pd.Timestamp(  \n",
    "datetime.datetime(2019, 10, 27, 1, 30, 0, 0),\n",
    "tz=\"dateutil/Europe/London\", fold=0,\n",
    "\n",
    ") pd.Timestamp( year=2019, month=10, day=27, hour=1, minute=30,\n",
    "tz=\"dateutil/Europe/London\", fold=1, )\n",
    "\n",
    "### Ambiguous times when localizing\n",
    "\n",
    "`tz_localize` may not be able to determine the UTC offset of a timestamp\n",
    "because daylight savings time (DST) in a local time zone causes some\n",
    "times to occur twice within one day (\"clocks fall back\"). The following\n",
    "options are available:\n",
    "\n",
    "-   `'raise'` : Raises a `pytz.AmbiguousTimeError` (the default\n",
    "    behavior)\n",
    "-   `'infer'` : Attempt to determine the correct offset base on the\n",
    "    monotonicity of the timestamps\n",
    "-   `'NaT'` : Replaces ambiguous times with `NaT`\n",
    "-   `bool` : `True` represents a DST time, `False` represents non-DST\n",
    "    time. An array-like of `bool` values is supported for a sequence of\n",
    "    times.\n",
    "\n",
    "python\n",
    "\n",
    "rng_hourly = pd.DatetimeIndex(  \n",
    "\\[\"11/06/2011 00:00\", \"11/06/2011 01:00\", \"11/06/2011 01:00\",\n",
    "\"11/06/2011 02:00\"\\]\n",
    "\n",
    ")\n",
    "\n",
    "This will fail as there are ambiguous times (`'11/06/2011 01:00'`)"
   ]
  },
  {
   "cell_type": "code",
   "execution_count": null,
   "id": "ea27e1b6",
   "metadata": {},
   "outputs": [],
   "source": [
    "In [2]: rng_hourly.tz_localize('US/Eastern')\n",
    "AmbiguousTimeError: Cannot infer dst time from Timestamp('2011-11-06 01:00:00'), try using the 'ambiguous' argument"
   ]
  },
  {
   "cell_type": "markdown",
   "id": "a8622617",
   "metadata": {},
   "source": [
    "Handle these ambiguous times by specifying the following.\n",
    "\n",
    "python\n",
    "\n",
    "rng_hourly.tz_localize(\"US/Eastern\", ambiguous=\"infer\")\n",
    "rng_hourly.tz_localize(\"US/Eastern\", ambiguous=\"NaT\")\n",
    "rng_hourly.tz_localize(\"US/Eastern\", ambiguous=\\[True, True, False,\n",
    "False\\])\n",
    "\n",
    "### Nonexistent times when localizing\n",
    "\n",
    "A DST transition may also shift the local time ahead by 1 hour creating\n",
    "nonexistent local times (\"clocks spring forward\"). The behavior of\n",
    "localizing a timeseries with nonexistent times can be controlled by the\n",
    "`nonexistent` argument. The following options are available:\n",
    "\n",
    "-   `'raise'` : Raises a `pytz.NonExistentTimeError` (the default\n",
    "    behavior)\n",
    "-   `'NaT'` : Replaces nonexistent times with `NaT`\n",
    "-   `'shift_forward'` : Shifts nonexistent times forward to the closest\n",
    "    real time\n",
    "-   `'shift_backward'` : Shifts nonexistent times backward to the\n",
    "    closest real time\n",
    "-   timedelta object: Shifts nonexistent times by the timedelta duration\n",
    "\n",
    "python\n",
    "\n",
    "dti = pd.date_range(start=\"2015-03-29 02:30:00\", periods=3, freq=\"H\") \\#\n",
    "2:30 is a nonexistent time\n",
    "\n",
    "Localization of nonexistent times will raise an error by default."
   ]
  },
  {
   "cell_type": "code",
   "execution_count": null,
   "id": "87352cac",
   "metadata": {},
   "outputs": [],
   "source": [
    "In [2]: dti.tz_localize('Europe/Warsaw')\n",
    "NonExistentTimeError: 2015-03-29 02:30:00"
   ]
  },
  {
   "cell_type": "markdown",
   "id": "35a8e9ac",
   "metadata": {},
   "source": [
    "Transform nonexistent times to `NaT` or shift the times.\n",
    "\n",
    "python\n",
    "\n",
    "dti dti.tz_localize(\"Europe/Warsaw\", nonexistent=\"shift_forward\")\n",
    "dti.tz_localize(\"Europe/Warsaw\", nonexistent=\"shift_backward\")\n",
    "dti.tz_localize(\"Europe/Warsaw\", nonexistent=pd.Timedelta(1, unit=\"H\"))\n",
    "dti.tz_localize(\"Europe/Warsaw\", nonexistent=\"NaT\")\n",
    "\n",
    "### Time zone Series operations\n",
    "\n",
    "A `Series` with time zone **naive** values is represented with a dtype\n",
    "of `datetime64[ns]`.\n",
    "\n",
    "python\n",
    "\n",
    "s_naive = pd.Series(pd.date_range(\"20130101\", periods=3)) s_naive\n",
    "\n",
    "A `Series` with a time zone **aware** values is represented with a dtype\n",
    "of `datetime64[ns, tz]` where `tz` is the time zone\n",
    "\n",
    "python\n",
    "\n",
    "s_aware = pd.Series(pd.date_range(\"20130101\", periods=3,\n",
    "tz=\"US/Eastern\")) s_aware\n",
    "\n",
    "Both of these `Series` time zone information can be manipulated via the\n",
    "`.dt` accessor, see `the dt accessor section <basics.dt_accessors>`.\n",
    "\n",
    "For example, to localize and convert a naive stamp to time zone aware.\n",
    "\n",
    "python\n",
    "\n",
    "s_naive.dt.tz_localize(\"UTC\").dt.tz_convert(\"US/Eastern\")\n",
    "\n",
    "Time zone information can also be manipulated using the `astype` method.\n",
    "This method can convert between different timezone-aware dtypes.\n",
    "\n",
    "python\n",
    "\n",
    "\\# convert to a new time zone s_aware.astype(\"datetime64\\[ns, CET\\]\")\n",
    "\n",
    "Note\n",
    "\n",
    "Using `Series.to_numpy` on a `Series`, returns a NumPy array of the\n",
    "data. NumPy does not currently support time zones (even though it is\n",
    "*printing* in the local time zone!), therefore an object array of\n",
    "Timestamps is returned for time zone aware data:\n",
    "\n",
    "python\n",
    "\n",
    "s_naive.to_numpy() s_aware.to_numpy()\n",
    "\n",
    "By converting to an object array of Timestamps, it preserves the time\n",
    "zone information. For example, when converting back to a Series:\n",
    "\n",
    "python\n",
    "\n",
    "pd.Series(s_aware.to_numpy())\n",
    "\n",
    "However, if you want an actual NumPy `datetime64[ns]` array (with the\n",
    "values converted to UTC) instead of an array of objects, you can specify\n",
    "the `dtype` argument:\n",
    "\n",
    "python\n",
    "\n",
    "s_aware.to_numpy(dtype=\"datetime64\\[ns\\]\")"
   ]
  }
 ],
 "metadata": {
  "kernelspec": {
   "display_name": "Python 3.8.5 ('caract')",
   "language": "python",
   "name": "python3"
  },
  "language_info": {
   "codemirror_mode": {
    "name": "ipython",
    "version": 3
   },
   "file_extension": ".py",
   "mimetype": "text/x-python",
   "name": "python",
   "nbconvert_exporter": "python",
   "pygments_lexer": "ipython3",
   "version": "3.8.5"
  },
  "vscode": {
   "interpreter": {
    "hash": "266c02d0b88fb79ac68216b08bc6bf334e56f5daeb776843302a4ad1205260c4"
   }
  }
 },
 "nbformat": 4,
 "nbformat_minor": 5
}
