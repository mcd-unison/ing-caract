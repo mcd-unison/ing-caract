{
 "cells": [
  {
   "cell_type": "markdown",
   "metadata": {},
   "source": [
    "<center>\n",
    "<p><img src=\"https://mcd.unison.mx/wp-content/themes/awaken/img/logo_mcd.png\" width=\"150\">\n",
    "</p>\n",
    "\n",
    "\n",
    "\n",
    "<h1>Curso Ingeniería de Características</h1>\n",
    "\n",
    "<h3>Datos cualitativos</h3>\n",
    "\n",
    "\n",
    "<p> Julio Waissman Vilanova </p>\n",
    "<p>\n",
    "<img src=\"https://identidadbuho.unison.mx/wp-content/uploads/2019/06/letragrama-cmyk-72.jpg\" width=\"150\">\n",
    "</p>\n",
    "\n",
    "\n",
    "<a target=\"_blank\" href=\"https://colab.research.google.com/github/mcd-unison/ing-caract/blob/main/ejemplos/tipos/python/categoricos2.ipynb\"><img src=\"https://i.ibb.co/2P3SLwK/colab.png\"  style=\"padding-bottom:5px;\"  width=\"30\" /> Ejecuta en Colab</a>\n",
    "\n",
    "</center>"
   ]
  },
  {
   "cell_type": "markdown",
   "metadata": {},
   "source": [
    "Esta libreta es una modificación con el uso de `sci-kit learn`  de la libreta:\n",
    "\n",
    "[**A Guide for Applying Categorical Encoding Methods**](https://github.com/alteryx/categorical_encoding/blob/main/guides/notebooks/categorical-encoding-guide.ipynb)\n",
    "\n",
    "de la documentación del paquete [`categorical-encoding`](https://github.com/alteryx/categorical_encoding), software libre desarrollado y controlado por la empresa *Alteryx*, como parte de su suite de ingeniería de características conocida como [`Featuretools`](https://github.com/Featuretools/featuretools).\n",
    "\n",
    "Vamos a mantener el texto seleccionado tal cual como en las libretas originales, y una buena cantidad de código."
   ]
  },
  {
   "cell_type": "markdown",
   "metadata": {},
   "source": [
    "## Introduction\n",
    "\n",
    "In applied machine learning, the two most common types of structured data are numeric data (such as `age`: 10, 17, 25) and categorical data (such as `color`: red, blue, green). \n",
    "\n",
    "It is often easier to deal with numeric data compared to categorical data, because machine learning models typically handle mathematical vectors--numeric data can therefore be much more directly applied.\n",
    "\n",
    "However, machine learning algorithms cannot work directly with categorical data as they do not have intrinsic mathematical relations. As a result, we must do some amount of work on the data before being able to use it in machine learning--the methods of turning categorical data into usable, mathematical data is called categorical encoding.\n",
    "\n",
    "In this notebook, we will look at some of the most common approaches to categorical encoding."
   ]
  },
  {
   "cell_type": "markdown",
   "metadata": {},
   "source": [
    "## Categorical Encoding Flowchart\n",
    "\n",
    "Use the flowchart below as a general overview to the different types of categorical encoders and when to use them.\n",
    "\n",
    "![](./cat-flowchart.png)"
   ]
  },
  {
   "cell_type": "code",
   "execution_count": null,
   "metadata": {},
   "outputs": [],
   "source": [
    "import pandas as pd\n",
    "import matplotlib.pyplot as plt\n",
    "\n",
    "# Para la que sigue necesitas tener instalado scikit-learn\n",
    "from sklearn.preprocessing import OneHotEncoder, OrdinalEncoder, TargetEncoder\n",
    "\n",
    "# Y para lo siguiente necesitas tener instalado categorical_encoding\n",
    "# !conda install -c conda-forge category_encoders\n",
    "import categorical_encoding as ce\n",
    "\n",
    "# Vamos a mejorar la visualización\n",
    "pd.options.display.float_format = '{:.2f}'.format\n",
    "plt.style.use('ggplot')"
   ]
  }
 ],
 "metadata": {
  "language_info": {
   "name": "python"
  },
  "orig_nbformat": 4
 },
 "nbformat": 4,
 "nbformat_minor": 2
}
