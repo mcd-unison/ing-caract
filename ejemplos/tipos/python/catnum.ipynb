{
 "cells": [
  {
   "cell_type": "markdown",
   "metadata": {},
   "source": [
    "<center>\n",
    "<p><img src=\"https://mcd.unison.mx/wp-content/themes/awaken/img/logo_mcd.png\" width=\"150\">\n",
    "</p>\n",
    "\n",
    "\n",
    "\n",
    "<h1>Curso Ingeniería de Características</h1>\n",
    "\n",
    "<h3>Datos cualitativos y cuantitativos</h3>\n",
    "\n",
    "\n",
    "<p> Julio Waissman Vilanova </p>\n",
    "<p>\n",
    "<img src=\"https://identidadbuho.unison.mx/wp-content/uploads/2019/06/letragrama-cmyk-72.jpg\" width=\"150\">\n",
    "</p>\n",
    "\n",
    "\n",
    "<a target=\"_blank\" href=\"https://colab.research.google.com/github/mcd-unison/ing-caract/blob/main/ejemplos/tipos/python/catnum.ipynb\"><img src=\"https://i.ibb.co/2P3SLwK/colab.png\"  style=\"padding-bottom:5px;\"  width=\"30\" /> Ejecuta en Colab</a>\n",
    "\n",
    "</center>"
   ]
  },
  {
   "cell_type": "markdown",
   "metadata": {},
   "source": [
    "Esta libreta es una modificación del tutorial de `sklearn`:\n",
    "\n",
    "[**Comparing Target Encoder with Other Encoders**](https://scikit-learn.org/stable/auto_examples/preprocessing/plot_target_encoder.html#sphx-glr-auto-examples-preprocessing-plot-target-encoder-py)\n"
   ]
  },
  {
   "cell_type": "markdown",
   "metadata": {},
   "source": [
    "### 1. Cargando datos de OpenML\n",
    "\n",
    "Vamos a bajar datos del repositorio de datos `OpenML` (algo así como bajarlos de *Kaggle*) para buscar uno de los conjuntos de datos mas sobados en Ciencia de Datos. \n",
    "\n",
    "Así es, como imaginas, estamos hablando del conjunto de evaluaciones de Vinos."
   ]
  },
  {
   "cell_type": "code",
   "execution_count": null,
   "metadata": {},
   "outputs": [],
   "source": [
    "from sklearn.datasets import fetch_openml\n",
    "\n",
    "wine_reviews = fetch_openml(data_id=42074, as_frame=True, parser=\"pandas\")\n",
    "\n",
    "df = wine_reviews.frame\n",
    "df.head()"
   ]
  },
  {
   "cell_type": "markdown",
   "metadata": {},
   "source": [
    "### 2. Separando las características por tipo\n",
    "\n",
    "Vamos a separar la variable objetivo, las numéricas y las categóricas"
   ]
  },
  {
   "cell_type": "code",
   "execution_count": null,
   "metadata": {},
   "outputs": [],
   "source": [
    "import pandas as pd\n",
    "import matplotlib.pyplot as plt\n",
    "\n",
    "pd.options.display.float_format = '{:.2f}'.format # Se lee mejor\n",
    "plt.style.use('ggplot')\n",
    "\n",
    "numericas_c = [\"price\"]\n",
    "categoricas_c = [\n",
    "    \"country\",\n",
    "    \"province\",\n",
    "    \"region_1\",\n",
    "    \"region_2\",\n",
    "    \"variety\",\n",
    "    \"winery\",\n",
    "]\n",
    "target_c = \"points\"\n",
    "\n",
    "X = df[numericas_c + categoricas_c]\n",
    "y = df[target_c]\n",
    "\n",
    "y.plot(\n",
    "    kind='hist',\n",
    "    title='Distribución de la salida',\n",
    "    xlabel='points',\n",
    "    ylabel='accumulados'\n",
    ")\n",
    "\n",
    "X.head()"
   ]
  },
  {
   "cell_type": "markdown",
   "metadata": {},
   "source": [
    "### 3. Codificación sencilla de variables categoricas\n",
    "\n",
    "En esta celda vamos a codificar las variables categoricas solamente, y ver como se pueden juntar diferentes codificadores para hacer un solo objeto, el cual se podrá integrar en todos los modelos de `sklearn` usando un `pipeline`. \n",
    "\n",
    "Vamos a empezar definiendo un codificador muy sencillo."
   ]
  },
  {
   "cell_type": "code",
   "execution_count": null,
   "metadata": {},
   "outputs": [],
   "source": [
    "from sklearn.compose import ColumnTransformer\n",
    "from sklearn.preprocessing import OrdinalEncoder\n",
    "\n",
    "ordinal_encoder = OrdinalEncoder(\n",
    "    handle_unknown=\"use_encoded_value\", \n",
    "    unknown_value=-1\n",
    ")\n",
    "\n",
    "preprocessor = ColumnTransformer(\n",
    "    [\n",
    "        (\"numericas\", \"passthrough\", numericas_c),\n",
    "        (\"categorical\", ordinal_encoder, categoricas_c),\n",
    "    ]\n",
    ")\n",
    "\n",
    "preprocessor"
   ]
  },
  {
   "cell_type": "code",
   "execution_count": null,
   "metadata": {},
   "outputs": [],
   "source": [
    "X_codificada = preprocessor.fit_transform(X)\n",
    "\n",
    "X_cod = pd.DataFrame(\n",
    "    X_codificada, \n",
    "    columns=preprocessor.get_feature_names_out()\n",
    ")\n",
    "X_cod.head()\n"
   ]
  },
  {
   "cell_type": "code",
   "execution_count": null,
   "metadata": {},
   "outputs": [],
   "source": [
    "from sklearn.preprocessing import OneHotEncoder, MinMaxScaler\n",
    "\n",
    "minmax_scaler = MinMaxScaler(\n",
    "    feature_range=(-1, 1)\n",
    ")\n",
    "\n",
    "onehot_encoder = OneHotEncoder(\n",
    "    handle_unknown=\"ignore\", \n",
    "    max_categories=20, \n",
    "    sparse_output=False\n",
    ")\n",
    "\n",
    "preprocessor2 = ColumnTransformer(\n",
    "    [\n",
    "        (\"numericas\", minmax_scaler, numericas_c),\n",
    "        (\"categorical\", onehot_encoder, categoricas_c),\n",
    "    ]\n",
    ")\n",
    "\n",
    "preprocessor2"
   ]
  },
  {
   "cell_type": "code",
   "execution_count": null,
   "metadata": {},
   "outputs": [],
   "source": [
    "X_codificada = preprocessor2.fit_transform(X)\n",
    "\n",
    "X_cod = pd.DataFrame(\n",
    "    X_codificada, \n",
    "    columns=preprocessor2.get_feature_names_out()\n",
    ")\n",
    "X_cod"
   ]
  },
  {
   "cell_type": "markdown",
   "metadata": {},
   "source": [
    "### 4. Codificación de variables categóricas mas elaborada\n",
    "\n",
    "El siguiente diagrama da una buena idea de como tratar a los datos categóricos, ya una ves que decidamos que vamos a realizar un método de aprendizaje.\n",
    "\n",
    "![](./cat-flowchart.png)\n",
    "\n",
    "Y por lo que dice aqui, pues es importante saber cuales atributos tienen muchas categorias"
   ]
  },
  {
   "cell_type": "code",
   "execution_count": null,
   "metadata": {},
   "outputs": [],
   "source": [
    "n_unique_categories = (\n",
    "    df[categoricas_c]\n",
    "    .nunique()\n",
    "    .sort_values(ascending=False)\n",
    ")\n",
    "display(\"Numero de categorias diferentes por característica\")\n",
    "display(n_unique_categories)"
   ]
  },
  {
   "cell_type": "markdown",
   "metadata": {},
   "source": [
    "Por lo que vamos a separar las variables en `alta_cardinalidad`, `media_cardinalidad` y `baja_cardinalidad`"
   ]
  },
  {
   "cell_type": "code",
   "execution_count": null,
   "metadata": {},
   "outputs": [],
   "source": [
    "alta_cardinalidad = n_unique_categories[n_unique_categories > 255].index\n",
    "media_cardinalidad = n_unique_categories[\n",
    "    n_unique_categories[20 < n_unique_categories] & \n",
    "    n_unique_categories[n_unique_categories <= 255]\n",
    "].index\n",
    "baja_cardinalidad = n_unique_categories[n_unique_categories <= 20].index\n",
    "\n",
    "\n",
    "print(f'Variables de alta cardinalidad: {alta_cardinalidad.values}')\n",
    "print(f'Variables de media cardinalidad: {media_cardinalidad.values}')\n",
    "print(f'Variables de baja cardinalidad: {baja_cardinalidad.values}')"
   ]
  },
  {
   "cell_type": "markdown",
   "metadata": {},
   "source": [
    "Ahora si vamos a hacer algo mas macabron:"
   ]
  },
  {
   "cell_type": "code",
   "execution_count": null,
   "metadata": {},
   "outputs": [],
   "source": [
    "from sklearn.preprocessing import PowerTransformer, TargetEncoder\n",
    "\n",
    "normalizador = PowerTransformer(method=\"yeo-johnson\")\n",
    "\n",
    "onehot_encoder_2 = OneHotEncoder(\n",
    "    handle_unknown=\"ignore\", \n",
    "    sparse_output=False\n",
    ")\n",
    "target_encoder = TargetEncoder(target_type=\"continuous\")\n",
    "\n",
    "\n",
    "preprocessor3 = ColumnTransformer(\n",
    "    [\n",
    "        (\"numerical\", normalizador, numericas_c),\n",
    "        (\"alta_cardinalidad\", target_encoder, alta_cardinalidad),\n",
    "        (\"media_cardinalidad\", ordinal_encoder, media_cardinalidad),\n",
    "        (\"baja_cardinalidad\", onehot_encoder_2, baja_cardinalidad),\n",
    "    ],\n",
    ")\n",
    "preprocessor3"
   ]
  },
  {
   "cell_type": "code",
   "execution_count": null,
   "metadata": {},
   "outputs": [],
   "source": [
    "\n",
    "X_codificada = preprocessor3.fit_transform(X, y)\n",
    "\n",
    "X_cod = pd.DataFrame(\n",
    "    X_codificada, \n",
    "    columns=preprocessor3.get_feature_names_out()\n",
    ")\n",
    "X_cod"
   ]
  },
  {
   "cell_type": "markdown",
   "metadata": {},
   "source": [
    "### 5. Haciendo un clasificador con esto\n",
    "\n",
    "Ahora vamos a usar todo junto, la codificación con un modelo de aprendizaje, tal como se usa en `sklearn`"
   ]
  },
  {
   "cell_type": "code",
   "execution_count": null,
   "metadata": {},
   "outputs": [],
   "source": [
    "from sklearn.ensemble import HistGradientBoostingRegressor\n",
    "from sklearn.pipeline import make_pipeline\n",
    "\n",
    "regresor = HistGradientBoostingRegressor(\n",
    "    random_state=0, \n",
    "    max_iter=20, \n",
    ")\n",
    "\n",
    "modelo1 = make_pipeline(\n",
    "    preprocessor,\n",
    "    regresor,\n",
    ")\n",
    "modelo1"
   ]
  },
  {
   "cell_type": "code",
   "execution_count": null,
   "metadata": {},
   "outputs": [],
   "source": [
    "modelo2 = make_pipeline(\n",
    "    preprocessor2,\n",
    "    regresor,\n",
    ")\n",
    "modelo2"
   ]
  },
  {
   "cell_type": "code",
   "execution_count": null,
   "metadata": {},
   "outputs": [],
   "source": [
    "modelo3 = make_pipeline(\n",
    "    preprocessor2,\n",
    "    regresor,\n",
    ")\n",
    "modelo3"
   ]
  },
  {
   "cell_type": "code",
   "execution_count": null,
   "metadata": {},
   "outputs": [],
   "source": [
    "modelo1.fit(X, y)\n",
    "modelo2.fit(X, y)\n",
    "modelo3.fit(X, y)"
   ]
  },
  {
   "cell_type": "code",
   "execution_count": null,
   "metadata": {},
   "outputs": [],
   "source": [
    "scores = [\n",
    "    modelo1.score(X, y),\n",
    "    modelo2.score(X, y),\n",
    "    modelo3.score(X, y)\n",
    "]\n",
    "scores"
   ]
  }
 ],
 "metadata": {
  "kernelspec": {
   "display_name": "base",
   "language": "python",
   "name": "python3"
  },
  "language_info": {
   "codemirror_mode": {
    "name": "ipython",
    "version": 3
   },
   "file_extension": ".py",
   "mimetype": "text/x-python",
   "name": "python",
   "nbconvert_exporter": "python",
   "pygments_lexer": "ipython3",
   "version": "3.8.13"
  },
  "orig_nbformat": 4
 },
 "nbformat": 4,
 "nbformat_minor": 2
}
